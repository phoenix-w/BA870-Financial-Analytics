{
 "cells": [
  {
   "cell_type": "markdown",
   "metadata": {
    "id": "fDnXmYUGoeDN"
   },
   "source": [
    "# ANALYSIS OF U.S. STOCK MARKET FLUCTUATION IN 2020"
   ]
  },
  {
   "cell_type": "markdown",
   "metadata": {
    "id": "Ycbvn_HU-2PT"
   },
   "source": [
    "## Financial and Accounting Analysis of the Stock Market Plunge and Recovery in 2020 During Covid-19 Pandemic\n",
    "\n",
    "* A financial/accounting analysis of a large set of U.S. companies affected by the stock market shocks in 2020.\n",
    "\n",
    "* A predictive analytics exercise to explain what types of companies did the best/worst during the **initial COVID shock (January-March 2020)**.\n",
    "\n",
    "* A predictive analytics exercise to explain what types of companies did the best/worst during the **market recovery (April-December 2020)**."
   ]
  },
  {
   "cell_type": "markdown",
   "metadata": {
    "id": "WQv_bWQvNnVF"
   },
   "source": [
    "# Environment Setup"
   ]
  },
  {
   "cell_type": "code",
   "execution_count": 1,
   "metadata": {
    "colab": {
     "base_uri": "https://localhost:8080/"
    },
    "id": "FQRRGHsgOGKU",
    "outputId": "ffe11e7c-18e8-4823-82f0-bbff9722cf09"
   },
   "outputs": [
    {
     "name": "stdout",
     "output_type": "stream",
     "text": [
      "Mounted at /content/gdrive/\n"
     ]
    }
   ],
   "source": [
    "# Mount Google Drive\n",
    "from google.colab import drive\n",
    "drive.mount('/content/gdrive/')"
   ]
  },
  {
   "cell_type": "code",
   "execution_count": 2,
   "metadata": {
    "colab": {
     "base_uri": "https://localhost:8080/",
     "height": 35
    },
    "id": "jcWMny6NOGi4",
    "outputId": "37313738-aec5-45fa-82b2-2f26b6e53bf6"
   },
   "outputs": [
    {
     "data": {
      "application/vnd.google.colaboratory.intrinsic+json": {
       "type": "string"
      },
      "text/plain": [
       "'/content/gdrive/MyDrive/Colab Notebooks/BA870 Finance/Project'"
      ]
     },
     "execution_count": 2,
     "metadata": {
      "tags": []
     },
     "output_type": "execute_result"
    }
   ],
   "source": [
    "import os\n",
    "root_dir = \"/content/gdrive/MyDrive/Colab Notebooks/\"\n",
    "project_folder = \"BA870 Finance/Project\"\n",
    "# change the OS to use your project folder as the working directory\n",
    "os.chdir(root_dir + project_folder)\n",
    "# print current working directory\n",
    "os.getcwd()"
   ]
  },
  {
   "cell_type": "code",
   "execution_count": 3,
   "metadata": {
    "colab": {
     "base_uri": "https://localhost:8080/"
    },
    "id": "nsmUFcGuQWRD",
    "outputId": "50ca0501-b822-4524-cb6b-27a66e716328"
   },
   "outputs": [
    {
     "name": "stdout",
     "output_type": "stream",
     "text": [
      "Collecting yfinance\n",
      "  Downloading https://files.pythonhosted.org/packages/5e/4e/88d31f5509edcbc51bcbb7eeae72516b17ada1bc2ad5b496e2d05d62c696/yfinance-0.1.60.tar.gz\n",
      "Requirement already satisfied: pandas>=0.24 in /usr/local/lib/python3.7/dist-packages (from yfinance) (1.1.5)\n",
      "Requirement already satisfied: numpy>=1.15 in /usr/local/lib/python3.7/dist-packages (from yfinance) (1.19.5)\n",
      "Requirement already satisfied: requests>=2.20 in /usr/local/lib/python3.7/dist-packages (from yfinance) (2.23.0)\n",
      "Requirement already satisfied: multitasking>=0.0.7 in /usr/local/lib/python3.7/dist-packages (from yfinance) (0.0.9)\n",
      "Collecting lxml>=4.5.1\n",
      "\u001b[?25l  Downloading https://files.pythonhosted.org/packages/30/c0/d0526314971fc661b083ab135747dc68446a3022686da8c16d25fcf6ef07/lxml-4.6.3-cp37-cp37m-manylinux2014_x86_64.whl (6.3MB)\n",
      "\u001b[K     |████████████████████████████████| 6.3MB 29.1MB/s \n",
      "\u001b[?25hRequirement already satisfied: python-dateutil>=2.7.3 in /usr/local/lib/python3.7/dist-packages (from pandas>=0.24->yfinance) (2.8.1)\n",
      "Requirement already satisfied: pytz>=2017.2 in /usr/local/lib/python3.7/dist-packages (from pandas>=0.24->yfinance) (2018.9)\n",
      "Requirement already satisfied: idna<3,>=2.5 in /usr/local/lib/python3.7/dist-packages (from requests>=2.20->yfinance) (2.10)\n",
      "Requirement already satisfied: chardet<4,>=3.0.2 in /usr/local/lib/python3.7/dist-packages (from requests>=2.20->yfinance) (3.0.4)\n",
      "Requirement already satisfied: certifi>=2017.4.17 in /usr/local/lib/python3.7/dist-packages (from requests>=2.20->yfinance) (2021.5.30)\n",
      "Requirement already satisfied: urllib3!=1.25.0,!=1.25.1,<1.26,>=1.21.1 in /usr/local/lib/python3.7/dist-packages (from requests>=2.20->yfinance) (1.24.3)\n",
      "Requirement already satisfied: six>=1.5 in /usr/local/lib/python3.7/dist-packages (from python-dateutil>=2.7.3->pandas>=0.24->yfinance) (1.15.0)\n",
      "Building wheels for collected packages: yfinance\n",
      "  Building wheel for yfinance (setup.py) ... \u001b[?25l\u001b[?25hdone\n",
      "  Created wheel for yfinance: filename=yfinance-0.1.60-py2.py3-none-any.whl size=23819 sha256=b362b48df2161a83be73039b31ad3f77efa9083a1837bd42fece406b1c17fa1b\n",
      "  Stored in directory: /root/.cache/pip/wheels/f0/be/a4/846f02c5985562250917b0ab7b33fff737c8e6e8cd5209aa3b\n",
      "Successfully built yfinance\n",
      "Installing collected packages: lxml, yfinance\n",
      "  Found existing installation: lxml 4.2.6\n",
      "    Uninstalling lxml-4.2.6:\n",
      "      Successfully uninstalled lxml-4.2.6\n",
      "Successfully installed lxml-4.6.3 yfinance-0.1.60\n"
     ]
    }
   ],
   "source": [
    "!pip install yfinance"
   ]
  },
  {
   "cell_type": "code",
   "execution_count": 4,
   "metadata": {
    "colab": {
     "base_uri": "https://localhost:8080/"
    },
    "id": "giRgQYS2Omrd",
    "outputId": "05c38ff2-d78e-45b3-aaf6-37dd135416a1"
   },
   "outputs": [
    {
     "name": "stdout",
     "output_type": "stream",
     "text": [
      "Collecting transformers\n",
      "\u001b[?25l  Downloading https://files.pythonhosted.org/packages/fd/1a/41c644c963249fd7f3836d926afa1e3f1cc234a1c40d80c5f03ad8f6f1b2/transformers-4.8.2-py3-none-any.whl (2.5MB)\n",
      "\u001b[K     |████████████████████████████████| 2.5MB 25.6MB/s \n",
      "\u001b[?25hRequirement already satisfied: filelock in /usr/local/lib/python3.7/dist-packages (from transformers) (3.0.12)\n",
      "Collecting huggingface-hub==0.0.12\n",
      "  Downloading https://files.pythonhosted.org/packages/2f/ee/97e253668fda9b17e968b3f97b2f8e53aa0127e8807d24a547687423fe0b/huggingface_hub-0.0.12-py3-none-any.whl\n",
      "Requirement already satisfied: packaging in /usr/local/lib/python3.7/dist-packages (from transformers) (20.9)\n",
      "Requirement already satisfied: tqdm>=4.27 in /usr/local/lib/python3.7/dist-packages (from transformers) (4.41.1)\n",
      "Requirement already satisfied: numpy>=1.17 in /usr/local/lib/python3.7/dist-packages (from transformers) (1.19.5)\n",
      "Requirement already satisfied: regex!=2019.12.17 in /usr/local/lib/python3.7/dist-packages (from transformers) (2019.12.20)\n",
      "Requirement already satisfied: requests in /usr/local/lib/python3.7/dist-packages (from transformers) (2.23.0)\n",
      "Collecting sacremoses\n",
      "\u001b[?25l  Downloading https://files.pythonhosted.org/packages/75/ee/67241dc87f266093c533a2d4d3d69438e57d7a90abb216fa076e7d475d4a/sacremoses-0.0.45-py3-none-any.whl (895kB)\n",
      "\u001b[K     |████████████████████████████████| 901kB 28.9MB/s \n",
      "\u001b[?25hRequirement already satisfied: importlib-metadata; python_version < \"3.8\" in /usr/local/lib/python3.7/dist-packages (from transformers) (4.5.0)\n",
      "Collecting tokenizers<0.11,>=0.10.1\n",
      "\u001b[?25l  Downloading https://files.pythonhosted.org/packages/d4/e2/df3543e8ffdab68f5acc73f613de9c2b155ac47f162e725dcac87c521c11/tokenizers-0.10.3-cp37-cp37m-manylinux_2_5_x86_64.manylinux1_x86_64.manylinux_2_12_x86_64.manylinux2010_x86_64.whl (3.3MB)\n",
      "\u001b[K     |████████████████████████████████| 3.3MB 30.6MB/s \n",
      "\u001b[?25hRequirement already satisfied: pyyaml in /usr/local/lib/python3.7/dist-packages (from transformers) (3.13)\n",
      "Requirement already satisfied: typing-extensions in /usr/local/lib/python3.7/dist-packages (from huggingface-hub==0.0.12->transformers) (3.7.4.3)\n",
      "Requirement already satisfied: pyparsing>=2.0.2 in /usr/local/lib/python3.7/dist-packages (from packaging->transformers) (2.4.7)\n",
      "Requirement already satisfied: idna<3,>=2.5 in /usr/local/lib/python3.7/dist-packages (from requests->transformers) (2.10)\n",
      "Requirement already satisfied: certifi>=2017.4.17 in /usr/local/lib/python3.7/dist-packages (from requests->transformers) (2021.5.30)\n",
      "Requirement already satisfied: chardet<4,>=3.0.2 in /usr/local/lib/python3.7/dist-packages (from requests->transformers) (3.0.4)\n",
      "Requirement already satisfied: urllib3!=1.25.0,!=1.25.1,<1.26,>=1.21.1 in /usr/local/lib/python3.7/dist-packages (from requests->transformers) (1.24.3)\n",
      "Requirement already satisfied: joblib in /usr/local/lib/python3.7/dist-packages (from sacremoses->transformers) (1.0.1)\n",
      "Requirement already satisfied: six in /usr/local/lib/python3.7/dist-packages (from sacremoses->transformers) (1.15.0)\n",
      "Requirement already satisfied: click in /usr/local/lib/python3.7/dist-packages (from sacremoses->transformers) (7.1.2)\n",
      "Requirement already satisfied: zipp>=0.5 in /usr/local/lib/python3.7/dist-packages (from importlib-metadata; python_version < \"3.8\"->transformers) (3.4.1)\n",
      "Installing collected packages: huggingface-hub, sacremoses, tokenizers, transformers\n",
      "Successfully installed huggingface-hub-0.0.12 sacremoses-0.0.45 tokenizers-0.10.3 transformers-4.8.2\n"
     ]
    }
   ],
   "source": [
    "!pip install transformers"
   ]
  },
  {
   "cell_type": "code",
   "execution_count": 5,
   "metadata": {
    "colab": {
     "base_uri": "https://localhost:8080/"
    },
    "id": "3O_IhZF1Newa",
    "outputId": "3be0fec3-211e-4847-a65a-c6784b6cbc09"
   },
   "outputs": [
    {
     "name": "stderr",
     "output_type": "stream",
     "text": [
      "/usr/local/lib/python3.7/dist-packages/statsmodels/tools/_testing.py:19: FutureWarning: pandas.util.testing is deprecated. Use the functions in the public API at pandas.testing instead.\n",
      "  import pandas.util.testing as tm\n"
     ]
    }
   ],
   "source": [
    "import numpy as np\n",
    "import pandas as pd\n",
    "import matplotlib.pyplot as plt\n",
    "import seaborn as sns\n",
    "import yfinance as yf\n",
    "import requests\n",
    "from bs4 import BeautifulSoup\n",
    "import torch\n",
    "import transformers as ppb\n",
    "import statsmodels.api as sm\n",
    "from scipy.stats.mstats import winsorize\n",
    "from sklearn.model_selection import train_test_split, cross_val_score\n",
    "from sklearn.linear_model import LogisticRegression\n",
    "from sklearn.dummy import DummyClassifier\n",
    "from sklearn.metrics import confusion_matrix"
   ]
  },
  {
   "cell_type": "markdown",
   "metadata": {
    "id": "q8oejdJixr1T"
   },
   "source": [
    "# Preprocessing Stock Data"
   ]
  },
  {
   "cell_type": "markdown",
   "metadata": {
    "id": "QFfzIUj_nLPe"
   },
   "source": [
    "## Monthly Returns of Stocks and S&P 500 in 2020"
   ]
  },
  {
   "cell_type": "markdown",
   "metadata": {
    "id": "jfpwgjTqxr1c"
   },
   "source": [
    "`monthlystock.csv` contains the stock data for all the U.S. companies in WRDS CRSP database.\n",
    "* `PERMCO` is the unique identifier of a company in CRSP.\n",
    "* `date` is the date of the last trading day of each month in 2020.\n",
    "* `ticker` is the ticker for each stock.\n",
    "* `price` is the closing price on the last trading day in each month in 2020.\n",
    "* `ret` is the holding period (monthly) return for each stock."
   ]
  },
  {
   "cell_type": "code",
   "execution_count": 6,
   "metadata": {
    "id": "y1CuuyHExr1d"
   },
   "outputs": [],
   "source": [
    "stock = pd.read_csv('monthlystock.csv')"
   ]
  },
  {
   "cell_type": "code",
   "execution_count": 7,
   "metadata": {
    "id": "F4C_FDl1xr1d"
   },
   "outputs": [],
   "source": [
    "# clean up the columns\n",
    "stock.rename(columns={'TICKER': 'ticker', 'PRC': 'price', 'RET': 'ret'}, inplace=True)\n",
    "stock.date = pd.to_datetime(stock.date, format=\"%Y%m%d\")\n",
    "stock['month'] = pd.DatetimeIndex(stock.date).month"
   ]
  },
  {
   "cell_type": "markdown",
   "metadata": {
    "id": "eO0nTa5L3h_4"
   },
   "source": [
    "Use the data from Yahoo Finance to calculate the monthly return on S&P 500 in 2020."
   ]
  },
  {
   "cell_type": "code",
   "execution_count": 8,
   "metadata": {
    "colab": {
     "base_uri": "https://localhost:8080/"
    },
    "id": "PTELlIhCG5e5",
    "outputId": "09a9c3a2-d79b-48d8-dd2f-1347619f5a4a"
   },
   "outputs": [
    {
     "name": "stdout",
     "output_type": "stream",
     "text": [
      "\r",
      "[*********************100%***********************]  1 of 1 completed\n"
     ]
    }
   ],
   "source": [
    "# extract S&P 500 prices from Yahoo Finance\n",
    "df_yahoo = yf.download('^GSPC', start=\"2019-12-31\", end=\"2021-01-01\", group_by='ticker')\n",
    "dates = ['2019-12-31']\n",
    "dates.extend(list(stock.date.astype(str).unique()))\n",
    "prices = round(df_yahoo.loc[dates, 'Close'], 2).to_list()"
   ]
  },
  {
   "cell_type": "code",
   "execution_count": 9,
   "metadata": {
    "colab": {
     "base_uri": "https://localhost:8080/",
     "height": 79
    },
    "id": "pnUr5GXd1Bbm",
    "outputId": "ad08c505-7473-43cd-9d36-3578b7cc3984"
   },
   "outputs": [
    {
     "data": {
      "text/html": [
       "<div>\n",
       "<style scoped>\n",
       "    .dataframe tbody tr th:only-of-type {\n",
       "        vertical-align: middle;\n",
       "    }\n",
       "\n",
       "    .dataframe tbody tr th {\n",
       "        vertical-align: top;\n",
       "    }\n",
       "\n",
       "    .dataframe thead th {\n",
       "        text-align: right;\n",
       "    }\n",
       "</style>\n",
       "<table border=\"1\" class=\"dataframe\">\n",
       "  <thead>\n",
       "    <tr style=\"text-align: right;\">\n",
       "      <th></th>\n",
       "      <th>month</th>\n",
       "      <th>SPret</th>\n",
       "    </tr>\n",
       "  </thead>\n",
       "  <tbody>\n",
       "    <tr>\n",
       "      <th>0</th>\n",
       "      <td>1</td>\n",
       "      <td>-0.001628</td>\n",
       "    </tr>\n",
       "  </tbody>\n",
       "</table>\n",
       "</div>"
      ],
      "text/plain": [
       "   month     SPret\n",
       "0      1 -0.001628"
      ]
     },
     "execution_count": 9,
     "metadata": {
      "tags": []
     },
     "output_type": "execute_result"
    }
   ],
   "source": [
    "# calculate monthly returns in 2020\n",
    "returns = []\n",
    "\n",
    "for i, v in enumerate(prices[1:]):\n",
    "    this = v\n",
    "    last = prices[i]\n",
    "    ret = round((this-last)/last, 6)\n",
    "    returns.append(ret)\n",
    "\n",
    "sp = pd.DataFrame({'month': [i for i in range(1, 13)], 'SPret': returns})\n",
    "sp.head(1)"
   ]
  },
  {
   "cell_type": "markdown",
   "metadata": {
    "id": "g9l4AsGM30vh"
   },
   "source": [
    "Store the monthly returns on S&P 500 under `SPret` in the dataframe."
   ]
  },
  {
   "cell_type": "code",
   "execution_count": 10,
   "metadata": {
    "id": "5W6ICntM4MA-"
   },
   "outputs": [],
   "source": [
    "stock = stock.merge(sp, on='month', how='left')"
   ]
  },
  {
   "cell_type": "code",
   "execution_count": 11,
   "metadata": {
    "id": "xCPW8JzDzmGD"
   },
   "outputs": [],
   "source": [
    "# drop observations with missing values in ticker or monthly return\n",
    "stock.dropna(subset=['ticker', 'ret'], inplace=True)\n",
    "stock.reset_index(drop=True, inplace=True)"
   ]
  },
  {
   "cell_type": "markdown",
   "metadata": {
    "id": "v1Y5V3po0fvg"
   },
   "source": [
    "There are 1457 companies that do not have valid returns for all 12 months."
   ]
  },
  {
   "cell_type": "code",
   "execution_count": 12,
   "metadata": {
    "colab": {
     "base_uri": "https://localhost:8080/"
    },
    "id": "bf9R8D0l0cVr",
    "outputId": "9d622811-0700-4450-bde3-981ebe0edfa5"
   },
   "outputs": [
    {
     "data": {
      "text/plain": [
       "1457"
      ]
     },
     "execution_count": 12,
     "metadata": {
      "tags": []
     },
     "output_type": "execute_result"
    }
   ],
   "source": [
    "tmp = stock.ticker.value_counts()\n",
    "tmp.lt(12).sum()"
   ]
  },
  {
   "cell_type": "code",
   "execution_count": 13,
   "metadata": {
    "colab": {
     "base_uri": "https://localhost:8080/"
    },
    "id": "_76mJ2EK0cSS",
    "outputId": "7f3392ff-5a11-4216-fe3c-339725cf2fc4"
   },
   "outputs": [
    {
     "name": "stdout",
     "output_type": "stream",
     "text": [
      "Number of unique tickers: 8399\n",
      "Number of unique tickers: 6942\n"
     ]
    }
   ],
   "source": [
    "# remove 1457 observations\n",
    "print(\"Number of unique tickers:\", stock.ticker.nunique())\n",
    "stock = stock[stock.ticker.isin(tmp.index[tmp.lt(12)])==False]\n",
    "print(\"Number of unique tickers:\", stock.ticker.nunique())"
   ]
  },
  {
   "cell_type": "markdown",
   "metadata": {
    "id": "FRrA1A8B1DYX"
   },
   "source": [
    "There are 19 companies that have two sets (24) of monthly returns.\n"
   ]
  },
  {
   "cell_type": "code",
   "execution_count": 14,
   "metadata": {
    "colab": {
     "base_uri": "https://localhost:8080/"
    },
    "id": "RIN4vCSU0cPQ",
    "outputId": "4aae014c-fcda-422c-9e72-75ed729e0571"
   },
   "outputs": [
    {
     "data": {
      "text/plain": [
       "12    6923\n",
       "24      19\n",
       "Name: ticker, dtype: int64"
      ]
     },
     "execution_count": 14,
     "metadata": {
      "tags": []
     },
     "output_type": "execute_result"
    }
   ],
   "source": [
    "tmp = stock.ticker.value_counts()\n",
    "tmp.value_counts()"
   ]
  },
  {
   "cell_type": "markdown",
   "metadata": {
    "id": "CKR0p-JrQoXb"
   },
   "source": [
    "Cross examine two sets of stock prices from CRSP with those listed on Yahoo Finance and only keep the ones that match."
   ]
  },
  {
   "cell_type": "code",
   "execution_count": 15,
   "metadata": {
    "colab": {
     "base_uri": "https://localhost:8080/"
    },
    "id": "3qenegGMJnlL",
    "outputId": "24302b5b-4ef4-41c2-9464-1eee73f70988"
   },
   "outputs": [
    {
     "name": "stdout",
     "output_type": "stream",
     "text": [
      "[*********************100%***********************]  19 of 19 completed\n",
      "\n",
      "7 Failed downloads:\n",
      "- BF: No data found for this date range, symbol may be delisted\n",
      "- CRD: No data found for this date range, symbol may be delisted\n",
      "- LGF: No data found for this date range, symbol may be delisted\n",
      "- JW: No data found for this date range, symbol may be delisted\n",
      "- RDS: No data found for this date range, symbol may be delisted\n",
      "- BRK: No data found for this date range, symbol may be delisted\n",
      "- AKO: No data found for this date range, symbol may be delisted\n"
     ]
    }
   ],
   "source": [
    "tics = \" \".join(tmp.index[tmp.gt(12)].to_list())\n",
    "df_yahoo = yf.download(tics, start=\"2019-12-31\", end=\"2021-01-01\", group_by='ticker')\n",
    "dates = ['2020-01-31', '2020-02-28', '2020-03-31', '2020-04-30', '2020-05-29', '2020-06-30', \n",
    "         '2020-07-31', '2020-08-31', '2020-09-30', '2020-10-30', '2020-11-30', '2020-12-31']\n",
    "\n",
    "for i in tmp.index[tmp.gt(12)]:\n",
    "    if df_yahoo[i].dropna().empty:\n",
    "        continue\n",
    "    else:\n",
    "        try:\n",
    "            prices = round(df_yahoo[i].loc[dates, 'Close'], 2).to_list()\n",
    "            stock.loc[stock.ticker==i, 'price'] = stock[stock.ticker==i]['price'].apply(lambda x: x if round(x, 2) in prices else np.nan)\n",
    "            stock.dropna(subset=['price'], inplace=True)\n",
    "        except:\n",
    "            pass"
   ]
  },
  {
   "cell_type": "markdown",
   "metadata": {
    "id": "G6nA6jo_RWw4"
   },
   "source": [
    "There are still 7 companies with two sets of monthly data because their stock data cannot be found on Yahoo Finance. These companies will be dropped later when we merge the stock data with the accounting data."
   ]
  },
  {
   "cell_type": "code",
   "execution_count": 16,
   "metadata": {
    "colab": {
     "base_uri": "https://localhost:8080/"
    },
    "id": "WE1m3vvaRWRB",
    "outputId": "2c69a4a9-70ed-4642-b1f5-06de81742a56"
   },
   "outputs": [
    {
     "data": {
      "text/plain": [
       "12    6935\n",
       "24       7\n",
       "Name: ticker, dtype: int64"
      ]
     },
     "execution_count": 16,
     "metadata": {
      "tags": []
     },
     "output_type": "execute_result"
    }
   ],
   "source": [
    "tmp = stock.ticker.value_counts()\n",
    "tmp.value_counts()"
   ]
  },
  {
   "cell_type": "markdown",
   "metadata": {
    "id": "zCE9q-5Mnna5"
   },
   "source": [
    "## Market Betas in 2019"
   ]
  },
  {
   "cell_type": "markdown",
   "metadata": {
    "id": "uCYioerRf-Vl"
   },
   "source": [
    "`betas19.csv` contains the market beta for all the U.S. companies in WRDS CRSP database.\n",
    "* `PERMCO` is the unique identifier of a company in CRSP.\n",
    "* `beta19` is the market beta of a stock in 2019.\n"
   ]
  },
  {
   "cell_type": "code",
   "execution_count": 17,
   "metadata": {
    "id": "J2XkIQaqf-Vu"
   },
   "outputs": [],
   "source": [
    "betas = pd.read_csv('betas19.csv')"
   ]
  },
  {
   "cell_type": "code",
   "execution_count": 18,
   "metadata": {
    "colab": {
     "base_uri": "https://localhost:8080/",
     "height": 79
    },
    "id": "wt3BXN0UhfBg",
    "outputId": "be17c64d-784b-4d26-9eaa-d6d43cd0a62f"
   },
   "outputs": [
    {
     "data": {
      "text/html": [
       "<div>\n",
       "<style scoped>\n",
       "    .dataframe tbody tr th:only-of-type {\n",
       "        vertical-align: middle;\n",
       "    }\n",
       "\n",
       "    .dataframe tbody tr th {\n",
       "        vertical-align: top;\n",
       "    }\n",
       "\n",
       "    .dataframe thead th {\n",
       "        text-align: right;\n",
       "    }\n",
       "</style>\n",
       "<table border=\"1\" class=\"dataframe\">\n",
       "  <thead>\n",
       "    <tr style=\"text-align: right;\">\n",
       "      <th></th>\n",
       "      <th>PERMNO</th>\n",
       "      <th>beta19</th>\n",
       "    </tr>\n",
       "  </thead>\n",
       "  <tbody>\n",
       "    <tr>\n",
       "      <th>0</th>\n",
       "      <td>10028</td>\n",
       "      <td>0.24393</td>\n",
       "    </tr>\n",
       "  </tbody>\n",
       "</table>\n",
       "</div>"
      ],
      "text/plain": [
       "   PERMNO   beta19\n",
       "0   10028  0.24393"
      ]
     },
     "execution_count": 18,
     "metadata": {
      "tags": []
     },
     "output_type": "execute_result"
    }
   ],
   "source": [
    "# clean up the dataframe\n",
    "betas.rename(columns={'betav': 'beta19'}, inplace=True)\n",
    "betas.head(1)"
   ]
  },
  {
   "cell_type": "code",
   "execution_count": 19,
   "metadata": {
    "id": "mbp2EcbblS9y"
   },
   "outputs": [],
   "source": [
    "# drop duplicated observations\n",
    "betas.drop_duplicates(inplace=True)\n",
    "betas.reset_index(drop=True, inplace=True)"
   ]
  },
  {
   "cell_type": "markdown",
   "metadata": {
    "id": "IoQ01578y7le"
   },
   "source": [
    "There are 25 observations with two betas."
   ]
  },
  {
   "cell_type": "code",
   "execution_count": 20,
   "metadata": {
    "colab": {
     "base_uri": "https://localhost:8080/"
    },
    "id": "ro12q5vVy7Gn",
    "outputId": "20c4b777-f9a0-47ea-cfc7-e7dcf7019822"
   },
   "outputs": [
    {
     "data": {
      "text/plain": [
       "1    6097\n",
       "2      25\n",
       "Name: PERMNO, dtype: int64"
      ]
     },
     "execution_count": 20,
     "metadata": {
      "tags": []
     },
     "output_type": "execute_result"
    }
   ],
   "source": [
    "tmp = betas.PERMNO.value_counts()\n",
    "tmp.value_counts()"
   ]
  },
  {
   "cell_type": "markdown",
   "metadata": {
    "id": "d-utGRNZzCYv"
   },
   "source": [
    "After examining the betas of these 25 observations, we found that all the duplicated betas are equal to 0. Drop these 25 zero betas and keep the 25 non-zeros betas."
   ]
  },
  {
   "cell_type": "code",
   "execution_count": 21,
   "metadata": {
    "colab": {
     "base_uri": "https://localhost:8080/"
    },
    "id": "_YSb2Gn-yCRF",
    "outputId": "6c8cf7d0-b8e8-4831-c151-49f2d79d6506"
   },
   "outputs": [
    {
     "data": {
      "text/plain": [
       "(25, 2)"
      ]
     },
     "execution_count": 21,
     "metadata": {
      "tags": []
     },
     "output_type": "execute_result"
    }
   ],
   "source": [
    "betas[(betas.PERMNO.isin(tmp.index[tmp.gt(1)])) & (betas.beta19==0)].shape"
   ]
  },
  {
   "cell_type": "code",
   "execution_count": 22,
   "metadata": {
    "id": "92YS43tu0Bta"
   },
   "outputs": [],
   "source": [
    "# drop 25 zero betas\n",
    "tmp = betas[(betas.PERMNO.isin(tmp.index[tmp.gt(1)])) & (betas.beta19==0)].index\n",
    "betas = betas[~betas.index.isin(tmp)]"
   ]
  },
  {
   "cell_type": "code",
   "execution_count": 23,
   "metadata": {
    "id": "__4YoaQ6ixPf"
   },
   "outputs": [],
   "source": [
    "# merge the dataframes\n",
    "stock = stock.merge(betas, on='PERMNO', how='left')"
   ]
  },
  {
   "cell_type": "code",
   "execution_count": 24,
   "metadata": {
    "colab": {
     "base_uri": "https://localhost:8080/",
     "height": 127
    },
    "id": "2b8CEDeUhFct",
    "outputId": "eefa43c7-3065-4738-b12b-e32252620258"
   },
   "outputs": [
    {
     "name": "stdout",
     "output_type": "stream",
     "text": [
      "Number of unique tickers: 6942\n"
     ]
    },
    {
     "data": {
      "text/html": [
       "<div>\n",
       "<style scoped>\n",
       "    .dataframe tbody tr th:only-of-type {\n",
       "        vertical-align: middle;\n",
       "    }\n",
       "\n",
       "    .dataframe tbody tr th {\n",
       "        vertical-align: top;\n",
       "    }\n",
       "\n",
       "    .dataframe thead th {\n",
       "        text-align: right;\n",
       "    }\n",
       "</style>\n",
       "<table border=\"1\" class=\"dataframe\">\n",
       "  <thead>\n",
       "    <tr style=\"text-align: right;\">\n",
       "      <th></th>\n",
       "      <th>month</th>\n",
       "      <th>ticker</th>\n",
       "      <th>ret</th>\n",
       "      <th>SPret</th>\n",
       "      <th>beta19</th>\n",
       "    </tr>\n",
       "  </thead>\n",
       "  <tbody>\n",
       "    <tr>\n",
       "      <th>0</th>\n",
       "      <td>1</td>\n",
       "      <td>JJSF</td>\n",
       "      <td>-0.100016</td>\n",
       "      <td>-0.001628</td>\n",
       "      <td>0.01282</td>\n",
       "    </tr>\n",
       "    <tr>\n",
       "      <th>1</th>\n",
       "      <td>2</td>\n",
       "      <td>JJSF</td>\n",
       "      <td>-0.030270</td>\n",
       "      <td>-0.084110</td>\n",
       "      <td>0.01282</td>\n",
       "    </tr>\n",
       "  </tbody>\n",
       "</table>\n",
       "</div>"
      ],
      "text/plain": [
       "   month ticker       ret     SPret   beta19\n",
       "0      1   JJSF -0.100016 -0.001628  0.01282\n",
       "1      2   JJSF -0.030270 -0.084110  0.01282"
      ]
     },
     "execution_count": 24,
     "metadata": {
      "tags": []
     },
     "output_type": "execute_result"
    }
   ],
   "source": [
    "stock = stock[['month', 'ticker', 'ret', 'SPret', 'beta19']].reset_index(drop=True)\n",
    "print(\"Number of unique tickers:\", stock.ticker.nunique())\n",
    "stock.head(2)"
   ]
  },
  {
   "cell_type": "markdown",
   "metadata": {
    "id": "TBJmGhY6x02F"
   },
   "source": [
    "# Preprocessing Accounting Data"
   ]
  },
  {
   "cell_type": "markdown",
   "metadata": {
    "id": "m_f8yv71nbgT"
   },
   "source": [
    "Import data about all the U.S. companies in WRDS Compustat database.\n",
    "* `des` contains the descriptions of 2852 companies in the Russell 3000 Index scraped from Yahoo Finance.\n",
    "* `wrds` contains the company financial data downloaded from Compustat (Fiscal Year 2018 and 2019)."
   ]
  },
  {
   "cell_type": "code",
   "execution_count": 25,
   "metadata": {
    "id": "n_WK6DmwO4tY"
   },
   "outputs": [],
   "source": [
    "des = pd.read_csv('2-3 stock_des.csv')\n",
    "wrds = pd.read_csv('compustat1819.csv')"
   ]
  },
  {
   "cell_type": "code",
   "execution_count": 26,
   "metadata": {
    "colab": {
     "base_uri": "https://localhost:8080/"
    },
    "id": "y1JobDuycEau",
    "outputId": "a5ee9ef2-9897-46cc-e20d-590d6dd73dbf"
   },
   "outputs": [
    {
     "name": "stdout",
     "output_type": "stream",
     "text": [
      "Number of unique tickers: 8209\n",
      "Number of unique tickers: 4379\n"
     ]
    }
   ],
   "source": [
    "# keep 4379 companies that have stock data from CRSP\n",
    "print('Number of unique tickers:', wrds.tic.nunique())\n",
    "wrds = wrds[wrds.tic.isin(stock.ticker.unique())]\n",
    "print('Number of unique tickers:', wrds.tic.nunique())"
   ]
  },
  {
   "cell_type": "code",
   "execution_count": 27,
   "metadata": {
    "colab": {
     "base_uri": "https://localhost:8080/"
    },
    "id": "uE-hpBUxlbHi",
    "outputId": "496deafa-2c8e-435e-b023-ddf690a533be"
   },
   "outputs": [
    {
     "name": "stdout",
     "output_type": "stream",
     "text": [
      "Number of unique tickers: 4348\n"
     ]
    }
   ],
   "source": [
    "# keep 4348 companies that have accounting data from 2018 and 2019\n",
    "wrds = wrds.groupby('tic').filter(lambda x: x['fyear'].count() == 2)\n",
    "print('Number of unique tickers:', wrds.tic.nunique())"
   ]
  },
  {
   "cell_type": "code",
   "execution_count": 28,
   "metadata": {
    "id": "Ob9t-KBCheGD"
   },
   "outputs": [],
   "source": [
    "# clean up the columns\n",
    "wrds.rename(columns={'tic': 'ticker'}, inplace=True)\n",
    "wrds.fyear = wrds.fyear.astype(str)\n",
    "wrds[['gsector', 'ggroup', 'gind', 'gsubind']] = wrds[['gsector', 'ggroup', 'gind', 'gsubind']].astype(int)"
   ]
  },
  {
   "cell_type": "code",
   "execution_count": 29,
   "metadata": {
    "id": "n7_CG3LWiH0m"
   },
   "outputs": [],
   "source": [
    "# merge the dataframes\n",
    "df = wrds.merge(des, on='ticker', how='left')"
   ]
  },
  {
   "cell_type": "code",
   "execution_count": 30,
   "metadata": {
    "colab": {
     "base_uri": "https://localhost:8080/",
     "height": 151
    },
    "id": "5EC-YUhcla8U",
    "outputId": "89984000-5927-42b9-9dc7-b0c451ed9814"
   },
   "outputs": [
    {
     "data": {
      "text/html": [
       "<div>\n",
       "<style scoped>\n",
       "    .dataframe tbody tr th:only-of-type {\n",
       "        vertical-align: middle;\n",
       "    }\n",
       "\n",
       "    .dataframe tbody tr th {\n",
       "        vertical-align: top;\n",
       "    }\n",
       "\n",
       "    .dataframe thead th {\n",
       "        text-align: right;\n",
       "    }\n",
       "</style>\n",
       "<table border=\"1\" class=\"dataframe\">\n",
       "  <thead>\n",
       "    <tr style=\"text-align: right;\">\n",
       "      <th></th>\n",
       "      <th>ticker</th>\n",
       "      <th>gsector</th>\n",
       "      <th>ggroup</th>\n",
       "      <th>gind</th>\n",
       "      <th>gsubind</th>\n",
       "      <th>naics</th>\n",
       "      <th>sic</th>\n",
       "      <th>spcsrc</th>\n",
       "      <th>description</th>\n",
       "      <th>at18</th>\n",
       "      <th>at19</th>\n",
       "      <th>act18</th>\n",
       "      <th>act19</th>\n",
       "      <th>invt18</th>\n",
       "      <th>invt19</th>\n",
       "      <th>lt18</th>\n",
       "      <th>lt19</th>\n",
       "      <th>lct18</th>\n",
       "      <th>lct19</th>\n",
       "      <th>ap18</th>\n",
       "      <th>ap19</th>\n",
       "      <th>teq18</th>\n",
       "      <th>teq19</th>\n",
       "      <th>re18</th>\n",
       "      <th>re19</th>\n",
       "      <th>sale18</th>\n",
       "      <th>sale19</th>\n",
       "      <th>cogs18</th>\n",
       "      <th>cogs19</th>\n",
       "      <th>xopr18</th>\n",
       "      <th>xopr19</th>\n",
       "      <th>ni18</th>\n",
       "      <th>ni19</th>\n",
       "      <th>oancf18</th>\n",
       "      <th>oancf19</th>\n",
       "      <th>ivncf18</th>\n",
       "      <th>ivncf19</th>\n",
       "      <th>fincf18</th>\n",
       "      <th>fincf19</th>\n",
       "    </tr>\n",
       "  </thead>\n",
       "  <tbody>\n",
       "    <tr>\n",
       "      <th>0</th>\n",
       "      <td>A</td>\n",
       "      <td>35</td>\n",
       "      <td>3520</td>\n",
       "      <td>352030</td>\n",
       "      <td>35203010</td>\n",
       "      <td>334516.0</td>\n",
       "      <td>3826.0</td>\n",
       "      <td>B</td>\n",
       "      <td>Agilent Technologies, Inc. provides applicatio...</td>\n",
       "      <td>8541.0</td>\n",
       "      <td>9452.0</td>\n",
       "      <td>3848.0</td>\n",
       "      <td>3189.0</td>\n",
       "      <td>638.0</td>\n",
       "      <td>679.0</td>\n",
       "      <td>3970.0</td>\n",
       "      <td>4704.0</td>\n",
       "      <td>1171.0</td>\n",
       "      <td>2080.0</td>\n",
       "      <td>340.0</td>\n",
       "      <td>354.0</td>\n",
       "      <td>4571.0</td>\n",
       "      <td>4748.0</td>\n",
       "      <td>-744.0</td>\n",
       "      <td>-532.0</td>\n",
       "      <td>4914.0</td>\n",
       "      <td>5163.0</td>\n",
       "      <td>2036.0</td>\n",
       "      <td>2140.0</td>\n",
       "      <td>3713.0</td>\n",
       "      <td>3889.0</td>\n",
       "      <td>316.0</td>\n",
       "      <td>1071.0</td>\n",
       "      <td>1087.0</td>\n",
       "      <td>1021.0</td>\n",
       "      <td>-704.0</td>\n",
       "      <td>-1590.0</td>\n",
       "      <td>-797.0</td>\n",
       "      <td>-299.0</td>\n",
       "    </tr>\n",
       "  </tbody>\n",
       "</table>\n",
       "</div>"
      ],
      "text/plain": [
       "  ticker  gsector  ggroup    gind  ...  ivncf18  ivncf19  fincf18 fincf19\n",
       "0      A       35    3520  352030  ...   -704.0  -1590.0   -797.0  -299.0\n",
       "\n",
       "[1 rows x 39 columns]"
      ]
     },
     "execution_count": 30,
     "metadata": {
      "tags": []
     },
     "output_type": "execute_result"
    }
   ],
   "source": [
    "# organize the dataframe\n",
    "df = df.set_index(['ticker', 'gsector', 'ggroup', 'gind', 'gsubind', 'naics', 'sic', 'spcsrc', 'description', 'fyear']).unstack()\n",
    "# label the year in column names\n",
    "df.columns = [col[0]+col[1][2:] for col in df.columns]\n",
    "df.reset_index(inplace=True)\n",
    "df.head(1)"
   ]
  },
  {
   "cell_type": "markdown",
   "metadata": {
    "id": "UzhHw6fr7au7"
   },
   "source": [
    "## Organizing GICS Classification\n",
    "The GICS structure consists of 11 sectors, 24 industry groups, 69 industries."
   ]
  },
  {
   "cell_type": "code",
   "execution_count": 31,
   "metadata": {
    "colab": {
     "base_uri": "https://localhost:8080/"
    },
    "id": "aKOh-MtN7aKp",
    "outputId": "0a06ccf0-1fe4-431a-a2ae-bbc62bb2812b"
   },
   "outputs": [
    {
     "name": "stdout",
     "output_type": "stream",
     "text": [
      "200\n"
     ]
    }
   ],
   "source": [
    "# scrape GICS classification from Wikipedia\n",
    "wikiurl=\"https://en.wikipedia.org/wiki/Global_Industry_Classification_Standard#Classification[1]\"\n",
    "response=requests.get(wikiurl)\n",
    "print(response.status_code)"
   ]
  },
  {
   "cell_type": "code",
   "execution_count": 32,
   "metadata": {
    "colab": {
     "base_uri": "https://localhost:8080/",
     "height": 0
    },
    "id": "b2fOHlAC7vHJ",
    "outputId": "fe8d8adb-cab9-44a7-dc44-8ade6820d32e"
   },
   "outputs": [
    {
     "data": {
      "text/html": [
       "<div>\n",
       "<style scoped>\n",
       "    .dataframe tbody tr th:only-of-type {\n",
       "        vertical-align: middle;\n",
       "    }\n",
       "\n",
       "    .dataframe tbody tr th {\n",
       "        vertical-align: top;\n",
       "    }\n",
       "\n",
       "    .dataframe thead th {\n",
       "        text-align: right;\n",
       "    }\n",
       "</style>\n",
       "<table border=\"1\" class=\"dataframe\">\n",
       "  <thead>\n",
       "    <tr style=\"text-align: right;\">\n",
       "      <th></th>\n",
       "      <th>Sector</th>\n",
       "      <th>Sector.1</th>\n",
       "      <th>Industry Group</th>\n",
       "      <th>Industry Group.1</th>\n",
       "      <th>Industry</th>\n",
       "      <th>Industry.1</th>\n",
       "      <th>Sub-Industry</th>\n",
       "      <th>Sub-Industry.1</th>\n",
       "    </tr>\n",
       "  </thead>\n",
       "  <tbody>\n",
       "    <tr>\n",
       "      <th>0</th>\n",
       "      <td>10</td>\n",
       "      <td>Energy</td>\n",
       "      <td>1010</td>\n",
       "      <td>Energy</td>\n",
       "      <td>101010</td>\n",
       "      <td>Energy Equipment &amp; Services</td>\n",
       "      <td>10101010</td>\n",
       "      <td>Oil &amp; Gas Drilling</td>\n",
       "    </tr>\n",
       "  </tbody>\n",
       "</table>\n",
       "</div>"
      ],
      "text/plain": [
       "   Sector Sector.1  ...  Sub-Industry      Sub-Industry.1\n",
       "0      10   Energy  ...      10101010  Oil & Gas Drilling\n",
       "\n",
       "[1 rows x 8 columns]"
      ]
     },
     "execution_count": 32,
     "metadata": {
      "tags": []
     },
     "output_type": "execute_result"
    }
   ],
   "source": [
    "soup = BeautifulSoup(response.text, 'html.parser')\n",
    "indiatable = soup.find('table', {'class':\"wikitable\"})\n",
    "wiki = pd.read_html(str(indiatable))\n",
    "wiki = pd.DataFrame(wiki[0])\n",
    "wiki.head(1)"
   ]
  },
  {
   "cell_type": "markdown",
   "metadata": {
    "id": "x0axrVpr1385"
   },
   "source": [
    "Create a GICS sector dictionary `gsectors` where `{\"sector ID\": \"sector name\"}`."
   ]
  },
  {
   "cell_type": "code",
   "execution_count": 33,
   "metadata": {
    "id": "ro3kcD2U8Jja"
   },
   "outputs": [],
   "source": [
    "sectorID = wiki['Sector'].unique().tolist()\n",
    "sector = wiki['Sector.1'].unique().tolist()\n",
    "gsectors = {sectorID[i]: sector[i] for i in range(len(sectorID))}"
   ]
  },
  {
   "cell_type": "markdown",
   "metadata": {
    "id": "Z_A1hGCqBrVf"
   },
   "source": [
    "Create a GICS group dictionary `ggroups` where `{\"group ID\": \"group name\"}`."
   ]
  },
  {
   "cell_type": "code",
   "execution_count": 34,
   "metadata": {
    "id": "PrmFDSoS9z0S"
   },
   "outputs": [],
   "source": [
    "groupID = wiki['Industry Group'].unique().tolist()\n",
    "group = wiki['Industry Group.1'].unique().tolist()\n",
    "ggroups = {groupID[i]: group[i] for i in range(len(groupID))}"
   ]
  },
  {
   "cell_type": "markdown",
   "metadata": {
    "id": "AQRWNiIvBuUX"
   },
   "source": [
    "Create a GICS industry dictionary `ginds` where `{\"industry ID\": \"industry name\"}`."
   ]
  },
  {
   "cell_type": "code",
   "execution_count": 35,
   "metadata": {
    "id": "h7mY7f2gAcLo"
   },
   "outputs": [],
   "source": [
    "indID = wiki['Industry'].unique().tolist()\n",
    "industry = wiki['Industry.1'].unique().tolist()\n",
    "ginds = {indID[i]: industry[i] for i in range(len(indID))}"
   ]
  },
  {
   "cell_type": "markdown",
   "metadata": {
    "id": "hyrmRar0_sOA"
   },
   "source": [
    "Replace `gsector`, `ggroup` and `gind` IDs with sector names, group names and industry names."
   ]
  },
  {
   "cell_type": "code",
   "execution_count": 36,
   "metadata": {
    "id": "2qxRekDC_8Uo"
   },
   "outputs": [],
   "source": [
    "df.gsector = df.gsector.apply(lambda x: gsectors[x])\n",
    "df.ggroup = df.ggroup.apply(lambda x: ggroups[x])\n",
    "df.gind = df.gind.apply(lambda x: ginds[x])"
   ]
  },
  {
   "cell_type": "markdown",
   "metadata": {
    "id": "ApxupdRgfCFE"
   },
   "source": [
    "## Organizing NAICS Classification Code\n",
    "The NAICS codes can be grouped into 20 sectors using the first two digits."
   ]
  },
  {
   "cell_type": "code",
   "execution_count": 37,
   "metadata": {
    "colab": {
     "base_uri": "https://localhost:8080/"
    },
    "id": "qY1KkZqcfCFF",
    "outputId": "ed64c311-c0b1-4238-c9ae-2c282dc37505"
   },
   "outputs": [
    {
     "name": "stdout",
     "output_type": "stream",
     "text": [
      "200\n"
     ]
    }
   ],
   "source": [
    "# scrape SIC classification from Wikipedia\n",
    "import requests\n",
    "from bs4 import BeautifulSoup\n",
    "\n",
    "wikiurl=\"https://en.wikipedia.org/wiki/North_American_Industry_Classification_System#Codes\"\n",
    "response=requests.get(wikiurl)\n",
    "print(response.status_code)"
   ]
  },
  {
   "cell_type": "code",
   "execution_count": 38,
   "metadata": {
    "colab": {
     "base_uri": "https://localhost:8080/",
     "height": 0
    },
    "id": "lkUQc_mgfCFF",
    "outputId": "1db1b09f-4fb0-4202-be41-01e20de7eea3"
   },
   "outputs": [
    {
     "name": "stdout",
     "output_type": "stream",
     "text": [
      "(20, 3)\n"
     ]
    },
    {
     "data": {
      "text/html": [
       "<div>\n",
       "<style scoped>\n",
       "    .dataframe tbody tr th:only-of-type {\n",
       "        vertical-align: middle;\n",
       "    }\n",
       "\n",
       "    .dataframe tbody tr th {\n",
       "        vertical-align: top;\n",
       "    }\n",
       "\n",
       "    .dataframe thead th {\n",
       "        text-align: right;\n",
       "    }\n",
       "</style>\n",
       "<table border=\"1\" class=\"dataframe\">\n",
       "  <thead>\n",
       "    <tr style=\"text-align: right;\">\n",
       "      <th></th>\n",
       "      <th>Sector #</th>\n",
       "      <th>Description</th>\n",
       "      <th>Note</th>\n",
       "    </tr>\n",
       "  </thead>\n",
       "  <tbody>\n",
       "    <tr>\n",
       "      <th>0</th>\n",
       "      <td>11</td>\n",
       "      <td>Agriculture, Forestry, Fishing and Hunting</td>\n",
       "      <td>NaN</td>\n",
       "    </tr>\n",
       "  </tbody>\n",
       "</table>\n",
       "</div>"
      ],
      "text/plain": [
       "  Sector #                                 Description Note\n",
       "0       11  Agriculture, Forestry, Fishing and Hunting  NaN"
      ]
     },
     "execution_count": 38,
     "metadata": {
      "tags": []
     },
     "output_type": "execute_result"
    }
   ],
   "source": [
    "soup = BeautifulSoup(response.text, 'html.parser')\n",
    "indiatable = soup.find_all('table', {'class':\"wikitable\"})\n",
    "wiki = pd.read_html(str(indiatable))\n",
    "wiki = pd.DataFrame(wiki[2])\n",
    "print(wiki.shape)\n",
    "wiki.head(1)"
   ]
  },
  {
   "cell_type": "markdown",
   "metadata": {
    "id": "bN8ij2Q4fCFF"
   },
   "source": [
    "Create a NAICS sector dictionary `nsectors` where `{\"nsector ID\": \"nsector name\"}`."
   ]
  },
  {
   "cell_type": "code",
   "execution_count": 39,
   "metadata": {
    "id": "zpVgoGmRiz3C"
   },
   "outputs": [],
   "source": [
    "wiki['Sector #'] = wiki['Sector #'].apply(lambda x: x[:2])\n",
    "wiki['Sector #'] = wiki['Sector #'].astype(int)"
   ]
  },
  {
   "cell_type": "code",
   "execution_count": 40,
   "metadata": {
    "id": "Nzu4YuZtfCFG"
   },
   "outputs": [],
   "source": [
    "nsectorID = wiki['Sector #'].unique().tolist()\n",
    "nsector = wiki['Description'].unique().tolist()\n",
    "nsectors = {nsectorID[i]: nsector[i] for i in range(len(nsectorID))}"
   ]
  },
  {
   "cell_type": "markdown",
   "metadata": {
    "id": "CNfe1SbFfCFG"
   },
   "source": [
    "Create a new column `nsector` which stores the name of the NAICS sector that each company belongs to."
   ]
  },
  {
   "cell_type": "code",
   "execution_count": 41,
   "metadata": {
    "id": "EFVcBVxAfCFH"
   },
   "outputs": [],
   "source": [
    "df.insert(6, 'nsector', df.naics.astype(str))\n",
    "df.nsector = df.nsector.apply(lambda x: x[:2])\n",
    "df.nsector = np.where(df.nsector.astype(float)<21, '11', df.nsector)\n",
    "df.nsector = np.where(df.nsector.astype(float)==21, '21', df.nsector)\n",
    "df.nsector = np.where(df.nsector.astype(float)==22, '22', df.nsector)\n",
    "df.nsector = np.where(df.nsector.astype(float)==23, '23', df.nsector)\n",
    "df.nsector = np.where((df.nsector.astype(float)>=31)&(df.nsector.astype(float)<41), '31', df.nsector)\n",
    "df.nsector = np.where((df.nsector.astype(float)>=41)&(df.nsector.astype(float)<44), '41', df.nsector)\n",
    "df.nsector = np.where((df.nsector.astype(float)>=44)&(df.nsector.astype(float)<48), '44', df.nsector)\n",
    "df.nsector = np.where((df.nsector.astype(float)>=48)&(df.nsector.astype(float)<51), '48', df.nsector)\n",
    "df.nsector = np.where(df.nsector.astype(float)==51, '51', df.nsector)\n",
    "df.nsector = np.where(df.nsector.astype(float)==52, '52', df.nsector)\n",
    "df.nsector = np.where(df.nsector.astype(float)==53, '53', df.nsector)\n",
    "df.nsector = np.where(df.nsector.astype(float)==54, '54', df.nsector)\n",
    "df.nsector = np.where(df.nsector.astype(float)==55, '55', df.nsector)\n",
    "df.nsector = np.where(df.nsector.astype(float)==56, '56', df.nsector)\n",
    "df.nsector = np.where(df.nsector.astype(float)==61, '61', df.nsector)\n",
    "df.nsector = np.where(df.nsector.astype(float)==62, '62', df.nsector)\n",
    "df.nsector = np.where(df.nsector.astype(float)==71, '71', df.nsector)\n",
    "df.nsector = np.where(df.nsector.astype(float)==72, '72', df.nsector)\n",
    "df.nsector = np.where(df.nsector.astype(float)==81, '81', df.nsector)\n",
    "df.nsector = np.where(df.nsector.astype(float)>=91, '91', df.nsector)\n",
    "df.nsector = df.nsector.apply(lambda x: nsectors[int(x)])"
   ]
  },
  {
   "cell_type": "markdown",
   "metadata": {
    "id": "IeW9wMEvVFvx"
   },
   "source": [
    "## Organizing SIC Classification Code\n",
    "The SIC codes can be grouped into 12 industry groups."
   ]
  },
  {
   "cell_type": "code",
   "execution_count": 42,
   "metadata": {
    "colab": {
     "base_uri": "https://localhost:8080/"
    },
    "id": "sJa8_KXcWGNm",
    "outputId": "e9cf3cd5-c45e-4820-a8c3-50c24d7813ef"
   },
   "outputs": [
    {
     "name": "stdout",
     "output_type": "stream",
     "text": [
      "200\n"
     ]
    }
   ],
   "source": [
    "# scrape SIC classification from Wikipedia\n",
    "import requests\n",
    "from bs4 import BeautifulSoup\n",
    "\n",
    "wikiurl=\"https://en.wikipedia.org/wiki/Standard_Industrial_Classification#Range\"\n",
    "response=requests.get(wikiurl)\n",
    "print(response.status_code)"
   ]
  },
  {
   "cell_type": "code",
   "execution_count": 43,
   "metadata": {
    "colab": {
     "base_uri": "https://localhost:8080/",
     "height": 0
    },
    "id": "pd6OdqwIWGNp",
    "outputId": "d2272abc-2c4a-4625-99cc-fee98dc55edc"
   },
   "outputs": [
    {
     "name": "stdout",
     "output_type": "stream",
     "text": [
      "(12, 2)\n"
     ]
    },
    {
     "data": {
      "text/html": [
       "<div>\n",
       "<style scoped>\n",
       "    .dataframe tbody tr th:only-of-type {\n",
       "        vertical-align: middle;\n",
       "    }\n",
       "\n",
       "    .dataframe tbody tr th {\n",
       "        vertical-align: top;\n",
       "    }\n",
       "\n",
       "    .dataframe thead th {\n",
       "        text-align: right;\n",
       "    }\n",
       "</style>\n",
       "<table border=\"1\" class=\"dataframe\">\n",
       "  <thead>\n",
       "    <tr style=\"text-align: right;\">\n",
       "      <th></th>\n",
       "      <th>Range of SIC Codes</th>\n",
       "      <th>Division</th>\n",
       "    </tr>\n",
       "  </thead>\n",
       "  <tbody>\n",
       "    <tr>\n",
       "      <th>0</th>\n",
       "      <td>0100-0999</td>\n",
       "      <td>Agriculture, Forestry and Fishing</td>\n",
       "    </tr>\n",
       "  </tbody>\n",
       "</table>\n",
       "</div>"
      ],
      "text/plain": [
       "  Range of SIC Codes                           Division\n",
       "0          0100-0999  Agriculture, Forestry and Fishing"
      ]
     },
     "execution_count": 43,
     "metadata": {
      "tags": []
     },
     "output_type": "execute_result"
    }
   ],
   "source": [
    "soup = BeautifulSoup(response.text, 'html.parser')\n",
    "indiatable = soup.find('table', {'class':\"wikitable\"})\n",
    "wiki = pd.read_html(str(indiatable))\n",
    "wiki = pd.DataFrame(wiki[0])\n",
    "print(wiki.shape)\n",
    "wiki.head(1)"
   ]
  },
  {
   "cell_type": "markdown",
   "metadata": {
    "id": "9XZLekA-WGNp"
   },
   "source": [
    "Create a SIC industry group dictionary `sgroups` where `{\"sgroup ID\": \"sgroup name\"}`."
   ]
  },
  {
   "cell_type": "code",
   "execution_count": 44,
   "metadata": {
    "id": "X2Hl9ORFWGNp"
   },
   "outputs": [],
   "source": [
    "sgroupID = [1, 10, 15, 18, 20, 40, 50, 52, 60, 70, 91, 99]\n",
    "sgroup = wiki['Division'].unique().tolist()\n",
    "sgroups = {sgroupID[i]: sgroup[i] for i in range(len(sgroupID))}"
   ]
  },
  {
   "cell_type": "markdown",
   "metadata": {
    "id": "jhYz7qYCWGNq"
   },
   "source": [
    "Create a new column `sgroup` which stores the name of the SIC industry group that each company belongs to."
   ]
  },
  {
   "cell_type": "code",
   "execution_count": 45,
   "metadata": {
    "id": "9hbLjyedYgo4"
   },
   "outputs": [],
   "source": [
    "df.insert(8, 'sgroup', df.sic.astype(str))\n",
    "df.sgroup = np.where(df.sic<1000, '1', df.sgroup)\n",
    "df.sgroup = np.where(df.sic.between(1000, 1499), '10', df.sgroup)\n",
    "df.sgroup = np.where(df.sic.between(1500, 1799), '15', df.sgroup)\n",
    "df.sgroup = np.where(df.sic.between(1800, 1999), '18', df.sgroup)\n",
    "df.sgroup = np.where(df.sic.between(2000, 3999), '20', df.sgroup)\n",
    "df.sgroup = np.where(df.sic.between(4000, 4999), '40', df.sgroup)\n",
    "df.sgroup = np.where(df.sic.between(5000, 5199), '50', df.sgroup)\n",
    "df.sgroup = np.where(df.sic.between(5200, 5999), '52', df.sgroup)\n",
    "df.sgroup = np.where(df.sic.between(6000, 6799), '60', df.sgroup)\n",
    "df.sgroup = np.where(df.sic.between(7000, 8999), '70', df.sgroup)\n",
    "df.sgroup = np.where(df.sic.between(9100, 9729), '91', df.sgroup)\n",
    "df.sgroup = np.where(df.sic.between(9900, 9999), '99', df.sgroup)\n",
    "df.sgroup = df.sgroup.apply(lambda x: sgroups[int(x)])"
   ]
  },
  {
   "cell_type": "code",
   "execution_count": 46,
   "metadata": {
    "colab": {
     "base_uri": "https://localhost:8080/",
     "height": 0
    },
    "id": "mg6I6wTskVOR",
    "outputId": "d29bd7c5-cfb3-46f9-a670-f710f8ffea80"
   },
   "outputs": [
    {
     "name": "stdout",
     "output_type": "stream",
     "text": [
      "Shape: (4348, 41)\n",
      "Number of unique tickers: 4348\n"
     ]
    },
    {
     "data": {
      "text/html": [
       "<div>\n",
       "<style scoped>\n",
       "    .dataframe tbody tr th:only-of-type {\n",
       "        vertical-align: middle;\n",
       "    }\n",
       "\n",
       "    .dataframe tbody tr th {\n",
       "        vertical-align: top;\n",
       "    }\n",
       "\n",
       "    .dataframe thead th {\n",
       "        text-align: right;\n",
       "    }\n",
       "</style>\n",
       "<table border=\"1\" class=\"dataframe\">\n",
       "  <thead>\n",
       "    <tr style=\"text-align: right;\">\n",
       "      <th></th>\n",
       "      <th>ticker</th>\n",
       "      <th>gsector</th>\n",
       "      <th>ggroup</th>\n",
       "      <th>gind</th>\n",
       "      <th>gsubind</th>\n",
       "      <th>naics</th>\n",
       "      <th>nsector</th>\n",
       "      <th>sic</th>\n",
       "      <th>sgroup</th>\n",
       "      <th>spcsrc</th>\n",
       "      <th>description</th>\n",
       "      <th>at18</th>\n",
       "      <th>at19</th>\n",
       "      <th>act18</th>\n",
       "      <th>act19</th>\n",
       "      <th>invt18</th>\n",
       "      <th>invt19</th>\n",
       "      <th>lt18</th>\n",
       "      <th>lt19</th>\n",
       "      <th>lct18</th>\n",
       "      <th>lct19</th>\n",
       "      <th>ap18</th>\n",
       "      <th>ap19</th>\n",
       "      <th>teq18</th>\n",
       "      <th>teq19</th>\n",
       "      <th>re18</th>\n",
       "      <th>re19</th>\n",
       "      <th>sale18</th>\n",
       "      <th>sale19</th>\n",
       "      <th>cogs18</th>\n",
       "      <th>cogs19</th>\n",
       "      <th>xopr18</th>\n",
       "      <th>xopr19</th>\n",
       "      <th>ni18</th>\n",
       "      <th>ni19</th>\n",
       "      <th>oancf18</th>\n",
       "      <th>oancf19</th>\n",
       "      <th>ivncf18</th>\n",
       "      <th>ivncf19</th>\n",
       "      <th>fincf18</th>\n",
       "      <th>fincf19</th>\n",
       "    </tr>\n",
       "  </thead>\n",
       "  <tbody>\n",
       "    <tr>\n",
       "      <th>0</th>\n",
       "      <td>A</td>\n",
       "      <td>Health Care</td>\n",
       "      <td>Pharmaceuticals, Biotechnology &amp; Life Sciences</td>\n",
       "      <td>Life Sciences Tools &amp; Services</td>\n",
       "      <td>35203010</td>\n",
       "      <td>334516.0</td>\n",
       "      <td>Manufacturing</td>\n",
       "      <td>3826.0</td>\n",
       "      <td>Manufacturing</td>\n",
       "      <td>B</td>\n",
       "      <td>Agilent Technologies, Inc. provides applicatio...</td>\n",
       "      <td>8541.0</td>\n",
       "      <td>9452.0</td>\n",
       "      <td>3848.0</td>\n",
       "      <td>3189.0</td>\n",
       "      <td>638.0</td>\n",
       "      <td>679.0</td>\n",
       "      <td>3970.0</td>\n",
       "      <td>4704.0</td>\n",
       "      <td>1171.0</td>\n",
       "      <td>2080.0</td>\n",
       "      <td>340.0</td>\n",
       "      <td>354.0</td>\n",
       "      <td>4571.0</td>\n",
       "      <td>4748.0</td>\n",
       "      <td>-744.0</td>\n",
       "      <td>-532.0</td>\n",
       "      <td>4914.0</td>\n",
       "      <td>5163.0</td>\n",
       "      <td>2036.0</td>\n",
       "      <td>2140.0</td>\n",
       "      <td>3713.0</td>\n",
       "      <td>3889.0</td>\n",
       "      <td>316.0</td>\n",
       "      <td>1071.0</td>\n",
       "      <td>1087.0</td>\n",
       "      <td>1021.0</td>\n",
       "      <td>-704.0</td>\n",
       "      <td>-1590.0</td>\n",
       "      <td>-797.0</td>\n",
       "      <td>-299.0</td>\n",
       "    </tr>\n",
       "  </tbody>\n",
       "</table>\n",
       "</div>"
      ],
      "text/plain": [
       "  ticker      gsector  ... fincf18 fincf19\n",
       "0      A  Health Care  ...  -797.0  -299.0\n",
       "\n",
       "[1 rows x 41 columns]"
      ]
     },
     "execution_count": 46,
     "metadata": {
      "tags": []
     },
     "output_type": "execute_result"
    }
   ],
   "source": [
    "# take a look at the dataframe\n",
    "print('Shape:', df.shape)\n",
    "print('Number of unique tickers:', df.ticker.nunique())\n",
    "df.head(1)"
   ]
  },
  {
   "cell_type": "markdown",
   "metadata": {
    "id": "WT8vQBTEv8QQ"
   },
   "source": [
    "# Main Dataframe Setup"
   ]
  },
  {
   "cell_type": "markdown",
   "metadata": {
    "id": "c-Y3-Fbt4FUP"
   },
   "source": [
    "Calculate the 3-month and 9-month returns for the 4348 U.S. companies which we have accounting data for."
   ]
  },
  {
   "cell_type": "code",
   "execution_count": 47,
   "metadata": {
    "colab": {
     "base_uri": "https://localhost:8080/",
     "height": 127
    },
    "id": "TSfADyiwwuvf",
    "outputId": "59631a6a-2204-4956-b92e-482c6704c0b8"
   },
   "outputs": [
    {
     "name": "stdout",
     "output_type": "stream",
     "text": [
      "Number of unique tickers: 4348\n"
     ]
    },
    {
     "data": {
      "text/html": [
       "<div>\n",
       "<style scoped>\n",
       "    .dataframe tbody tr th:only-of-type {\n",
       "        vertical-align: middle;\n",
       "    }\n",
       "\n",
       "    .dataframe tbody tr th {\n",
       "        vertical-align: top;\n",
       "    }\n",
       "\n",
       "    .dataframe thead th {\n",
       "        text-align: right;\n",
       "    }\n",
       "</style>\n",
       "<table border=\"1\" class=\"dataframe\">\n",
       "  <thead>\n",
       "    <tr style=\"text-align: right;\">\n",
       "      <th></th>\n",
       "      <th>month</th>\n",
       "      <th>ticker</th>\n",
       "      <th>ret</th>\n",
       "      <th>SPret</th>\n",
       "      <th>beta19</th>\n",
       "    </tr>\n",
       "  </thead>\n",
       "  <tbody>\n",
       "    <tr>\n",
       "      <th>0</th>\n",
       "      <td>1</td>\n",
       "      <td>JJSF</td>\n",
       "      <td>-0.100016</td>\n",
       "      <td>-0.001628</td>\n",
       "      <td>0.01282</td>\n",
       "    </tr>\n",
       "    <tr>\n",
       "      <th>1</th>\n",
       "      <td>2</td>\n",
       "      <td>JJSF</td>\n",
       "      <td>-0.030270</td>\n",
       "      <td>-0.084110</td>\n",
       "      <td>0.01282</td>\n",
       "    </tr>\n",
       "  </tbody>\n",
       "</table>\n",
       "</div>"
      ],
      "text/plain": [
       "   month ticker       ret     SPret   beta19\n",
       "0      1   JJSF -0.100016 -0.001628  0.01282\n",
       "1      2   JJSF -0.030270 -0.084110  0.01282"
      ]
     },
     "execution_count": 47,
     "metadata": {
      "tags": []
     },
     "output_type": "execute_result"
    }
   ],
   "source": [
    "# keep only the companies that we have accounting data for\n",
    "stock = stock[stock.ticker.isin(df.ticker)]\n",
    "print('Number of unique tickers:', stock.ticker.nunique())\n",
    "stock.head(2)"
   ]
  },
  {
   "cell_type": "markdown",
   "metadata": {
    "id": "VJuuK8_Hab44"
   },
   "source": [
    "Split the `stock` dataframe into two dataframes to calculate:\n",
    "* `RetEarly2020` the 3-month return for each stock during the initial COVID shock (from January to March 2020).\n",
    "* `RetLate2020` the 9-month return for each stock during the market recovery (from April to December 2020).\n",
    "* `SPEarly2020` the 3-month return for S&P 500 during the initial COVID shock (from January to March 2020).\n",
    "* `SPLate2020` the 9-month return for S&P 500 during the market recovery (from April to December 2020)."
   ]
  },
  {
   "cell_type": "code",
   "execution_count": 48,
   "metadata": {
    "id": "zTY7n1jxabYG"
   },
   "outputs": [],
   "source": [
    "early = stock[stock.month.isin([1, 2, 3])].reset_index(drop=True)\n",
    "late = stock[stock.month.isin([1, 2, 3])==False].reset_index(drop=True)"
   ]
  },
  {
   "cell_type": "code",
   "execution_count": 49,
   "metadata": {
    "id": "Tj2xQIXvGSES"
   },
   "outputs": [],
   "source": [
    "# calculate 3-month and 9-month rolling returns for each stock\n",
    "early['RetEarly2020'] = early['ret'].rolling(3).agg(lambda x: (x+1).prod()-1)\n",
    "late['RetLate2020'] = late['ret'].rolling(9).agg(lambda x: (x+1).prod()-1)"
   ]
  },
  {
   "cell_type": "code",
   "execution_count": 50,
   "metadata": {
    "id": "LA2gEZcTzv1d"
   },
   "outputs": [],
   "source": [
    "# calculate 3-month and 9-month returns for S&P 500\n",
    "SPEarly2020 = (early.iloc[:3]['SPret']+1).prod()-1\n",
    "SPLate2020 = (late.iloc[:9]['SPret']+1).prod()-1"
   ]
  },
  {
   "cell_type": "code",
   "execution_count": 51,
   "metadata": {
    "id": "FJwcLwzegWgI"
   },
   "outputs": [],
   "source": [
    "# keep only the 3-month returns calculated in March and the 9-month returns calculated in December\n",
    "early = early[early.month==3].reset_index(drop=True)[['ticker', 'RetEarly2020']]\n",
    "late = late[late.month==12].reset_index(drop=True)[['ticker', 'RetLate2020']]"
   ]
  },
  {
   "cell_type": "code",
   "execution_count": 52,
   "metadata": {
    "colab": {
     "base_uri": "https://localhost:8080/",
     "height": 79
    },
    "id": "Zfjw_6dmiSdm",
    "outputId": "b9338b72-07fd-4420-8e0d-486525764a61"
   },
   "outputs": [
    {
     "data": {
      "text/html": [
       "<div>\n",
       "<style scoped>\n",
       "    .dataframe tbody tr th:only-of-type {\n",
       "        vertical-align: middle;\n",
       "    }\n",
       "\n",
       "    .dataframe tbody tr th {\n",
       "        vertical-align: top;\n",
       "    }\n",
       "\n",
       "    .dataframe thead th {\n",
       "        text-align: right;\n",
       "    }\n",
       "</style>\n",
       "<table border=\"1\" class=\"dataframe\">\n",
       "  <thead>\n",
       "    <tr style=\"text-align: right;\">\n",
       "      <th></th>\n",
       "      <th>ticker</th>\n",
       "      <th>RetEarly2020</th>\n",
       "    </tr>\n",
       "  </thead>\n",
       "  <tbody>\n",
       "    <tr>\n",
       "      <th>0</th>\n",
       "      <td>JJSF</td>\n",
       "      <td>-0.340234</td>\n",
       "    </tr>\n",
       "  </tbody>\n",
       "</table>\n",
       "</div>"
      ],
      "text/plain": [
       "  ticker  RetEarly2020\n",
       "0   JJSF     -0.340234"
      ]
     },
     "execution_count": 52,
     "metadata": {
      "tags": []
     },
     "output_type": "execute_result"
    }
   ],
   "source": [
    "early.head(1)"
   ]
  },
  {
   "cell_type": "code",
   "execution_count": 53,
   "metadata": {
    "colab": {
     "base_uri": "https://localhost:8080/",
     "height": 79
    },
    "id": "QIlvgeDEie9v",
    "outputId": "90211510-6f30-448d-d704-99db89b7fa90"
   },
   "outputs": [
    {
     "data": {
      "text/html": [
       "<div>\n",
       "<style scoped>\n",
       "    .dataframe tbody tr th:only-of-type {\n",
       "        vertical-align: middle;\n",
       "    }\n",
       "\n",
       "    .dataframe tbody tr th {\n",
       "        vertical-align: top;\n",
       "    }\n",
       "\n",
       "    .dataframe thead th {\n",
       "        text-align: right;\n",
       "    }\n",
       "</style>\n",
       "<table border=\"1\" class=\"dataframe\">\n",
       "  <thead>\n",
       "    <tr style=\"text-align: right;\">\n",
       "      <th></th>\n",
       "      <th>ticker</th>\n",
       "      <th>RetLate2020</th>\n",
       "    </tr>\n",
       "  </thead>\n",
       "  <tbody>\n",
       "    <tr>\n",
       "      <th>0</th>\n",
       "      <td>JJSF</td>\n",
       "      <td>0.30034</td>\n",
       "    </tr>\n",
       "  </tbody>\n",
       "</table>\n",
       "</div>"
      ],
      "text/plain": [
       "  ticker  RetLate2020\n",
       "0   JJSF      0.30034"
      ]
     },
     "execution_count": 53,
     "metadata": {
      "tags": []
     },
     "output_type": "execute_result"
    }
   ],
   "source": [
    "late.head(1)"
   ]
  },
  {
   "cell_type": "markdown",
   "metadata": {
    "id": "X3zZObAvhpeo"
   },
   "source": [
    "Merge the tickers, 3-month returns, and 9-month returns into one dataframe `stock2`."
   ]
  },
  {
   "cell_type": "code",
   "execution_count": 54,
   "metadata": {
    "colab": {
     "base_uri": "https://localhost:8080/",
     "height": 219
    },
    "id": "CfJPjx-06S36",
    "outputId": "c8d76164-da3d-45de-ec00-e0c8e61da3ff"
   },
   "outputs": [
    {
     "name": "stdout",
     "output_type": "stream",
     "text": [
      "(4348, 6)\n"
     ]
    },
    {
     "data": {
      "text/html": [
       "<div>\n",
       "<style scoped>\n",
       "    .dataframe tbody tr th:only-of-type {\n",
       "        vertical-align: middle;\n",
       "    }\n",
       "\n",
       "    .dataframe tbody tr th {\n",
       "        vertical-align: top;\n",
       "    }\n",
       "\n",
       "    .dataframe thead th {\n",
       "        text-align: right;\n",
       "    }\n",
       "</style>\n",
       "<table border=\"1\" class=\"dataframe\">\n",
       "  <thead>\n",
       "    <tr style=\"text-align: right;\">\n",
       "      <th></th>\n",
       "      <th>ticker</th>\n",
       "      <th>RetEarly2020</th>\n",
       "      <th>RetLate2020</th>\n",
       "      <th>SPEarly2020</th>\n",
       "      <th>SPLate2020</th>\n",
       "      <th>beta19</th>\n",
       "    </tr>\n",
       "  </thead>\n",
       "  <tbody>\n",
       "    <tr>\n",
       "      <th>0</th>\n",
       "      <td>JJSF</td>\n",
       "      <td>-0.340234</td>\n",
       "      <td>0.300340</td>\n",
       "      <td>-0.20001</td>\n",
       "      <td>0.453255</td>\n",
       "      <td>0.01282</td>\n",
       "    </tr>\n",
       "    <tr>\n",
       "      <th>1</th>\n",
       "      <td>ELA</td>\n",
       "      <td>0.866665</td>\n",
       "      <td>1.063494</td>\n",
       "      <td>-0.20001</td>\n",
       "      <td>0.453255</td>\n",
       "      <td>0.24393</td>\n",
       "    </tr>\n",
       "    <tr>\n",
       "      <th>2</th>\n",
       "      <td>PLXS</td>\n",
       "      <td>-0.290876</td>\n",
       "      <td>0.433469</td>\n",
       "      <td>-0.20001</td>\n",
       "      <td>0.453255</td>\n",
       "      <td>1.27923</td>\n",
       "    </tr>\n",
       "    <tr>\n",
       "      <th>3</th>\n",
       "      <td>RMCF</td>\n",
       "      <td>-0.471810</td>\n",
       "      <td>-0.156250</td>\n",
       "      <td>-0.20001</td>\n",
       "      <td>0.453255</td>\n",
       "      <td>-0.01815</td>\n",
       "    </tr>\n",
       "    <tr>\n",
       "      <th>4</th>\n",
       "      <td>HNGR</td>\n",
       "      <td>-0.435712</td>\n",
       "      <td>0.411425</td>\n",
       "      <td>-0.20001</td>\n",
       "      <td>0.453255</td>\n",
       "      <td>0.76976</td>\n",
       "    </tr>\n",
       "  </tbody>\n",
       "</table>\n",
       "</div>"
      ],
      "text/plain": [
       "  ticker  RetEarly2020  RetLate2020  SPEarly2020  SPLate2020   beta19\n",
       "0   JJSF     -0.340234     0.300340     -0.20001    0.453255  0.01282\n",
       "1    ELA      0.866665     1.063494     -0.20001    0.453255  0.24393\n",
       "2   PLXS     -0.290876     0.433469     -0.20001    0.453255  1.27923\n",
       "3   RMCF     -0.471810    -0.156250     -0.20001    0.453255 -0.01815\n",
       "4   HNGR     -0.435712     0.411425     -0.20001    0.453255  0.76976"
      ]
     },
     "execution_count": 54,
     "metadata": {
      "tags": []
     },
     "output_type": "execute_result"
    }
   ],
   "source": [
    "stock2 = early.merge(late, on='ticker')\n",
    "# insert the 3-month and 9-month returns for S&P 500\n",
    "stock2['SPEarly2020'] = SPEarly2020\n",
    "stock2['SPLate2020'] = SPLate2020\n",
    "stock2['beta19'] = list(stock.beta19)[::12]\n",
    "print(stock2.shape)\n",
    "stock2.head()"
   ]
  },
  {
   "cell_type": "markdown",
   "metadata": {
    "id": "n-cv3TwV2WU9"
   },
   "source": [
    "Merge the stock data and the accounting data."
   ]
  },
  {
   "cell_type": "code",
   "execution_count": 55,
   "metadata": {
    "colab": {
     "base_uri": "https://localhost:8080/",
     "height": 203
    },
    "id": "DuYw-kDq2V2h",
    "outputId": "3eaae669-b662-425e-c464-8a07bbac0fb2"
   },
   "outputs": [
    {
     "name": "stdout",
     "output_type": "stream",
     "text": [
      "Shape: (4348, 46)\n",
      "Number of unique tickers: 4348\n"
     ]
    },
    {
     "data": {
      "text/html": [
       "<div>\n",
       "<style scoped>\n",
       "    .dataframe tbody tr th:only-of-type {\n",
       "        vertical-align: middle;\n",
       "    }\n",
       "\n",
       "    .dataframe tbody tr th {\n",
       "        vertical-align: top;\n",
       "    }\n",
       "\n",
       "    .dataframe thead th {\n",
       "        text-align: right;\n",
       "    }\n",
       "</style>\n",
       "<table border=\"1\" class=\"dataframe\">\n",
       "  <thead>\n",
       "    <tr style=\"text-align: right;\">\n",
       "      <th></th>\n",
       "      <th>ticker</th>\n",
       "      <th>RetEarly2020</th>\n",
       "      <th>RetLate2020</th>\n",
       "      <th>SPEarly2020</th>\n",
       "      <th>SPLate2020</th>\n",
       "      <th>beta19</th>\n",
       "      <th>gsector</th>\n",
       "      <th>ggroup</th>\n",
       "      <th>gind</th>\n",
       "      <th>gsubind</th>\n",
       "      <th>naics</th>\n",
       "      <th>nsector</th>\n",
       "      <th>sic</th>\n",
       "      <th>sgroup</th>\n",
       "      <th>spcsrc</th>\n",
       "      <th>description</th>\n",
       "      <th>at18</th>\n",
       "      <th>at19</th>\n",
       "      <th>act18</th>\n",
       "      <th>act19</th>\n",
       "      <th>invt18</th>\n",
       "      <th>invt19</th>\n",
       "      <th>lt18</th>\n",
       "      <th>lt19</th>\n",
       "      <th>lct18</th>\n",
       "      <th>lct19</th>\n",
       "      <th>ap18</th>\n",
       "      <th>ap19</th>\n",
       "      <th>teq18</th>\n",
       "      <th>teq19</th>\n",
       "      <th>re18</th>\n",
       "      <th>re19</th>\n",
       "      <th>sale18</th>\n",
       "      <th>sale19</th>\n",
       "      <th>cogs18</th>\n",
       "      <th>cogs19</th>\n",
       "      <th>xopr18</th>\n",
       "      <th>xopr19</th>\n",
       "      <th>ni18</th>\n",
       "      <th>ni19</th>\n",
       "      <th>oancf18</th>\n",
       "      <th>oancf19</th>\n",
       "      <th>ivncf18</th>\n",
       "      <th>ivncf19</th>\n",
       "      <th>fincf18</th>\n",
       "      <th>fincf19</th>\n",
       "    </tr>\n",
       "  </thead>\n",
       "  <tbody>\n",
       "    <tr>\n",
       "      <th>0</th>\n",
       "      <td>JJSF</td>\n",
       "      <td>-0.340234</td>\n",
       "      <td>0.30034</td>\n",
       "      <td>-0.20001</td>\n",
       "      <td>0.453255</td>\n",
       "      <td>0.01282</td>\n",
       "      <td>Consumer Staples</td>\n",
       "      <td>Food, Beverage &amp; Tobacco</td>\n",
       "      <td>Food Products</td>\n",
       "      <td>30202030</td>\n",
       "      <td>311812.0</td>\n",
       "      <td>Manufacturing</td>\n",
       "      <td>2050.0</td>\n",
       "      <td>Manufacturing</td>\n",
       "      <td>A-</td>\n",
       "      <td>J &amp;amp; J Snack Foods Corp. manufactures, mark...</td>\n",
       "      <td>932.013</td>\n",
       "      <td>1019.339</td>\n",
       "      <td>382.797</td>\n",
       "      <td>506.357</td>\n",
       "      <td>112.884</td>\n",
       "      <td>116.165</td>\n",
       "      <td>172.922</td>\n",
       "      <td>185.588</td>\n",
       "      <td>117.899</td>\n",
       "      <td>121.234</td>\n",
       "      <td>69.592</td>\n",
       "      <td>72.029</td>\n",
       "      <td>759.091</td>\n",
       "      <td>833.751</td>\n",
       "      <td>731.751</td>\n",
       "      <td>788.007</td>\n",
       "      <td>1138.265</td>\n",
       "      <td>1186.487</td>\n",
       "      <td>755.53</td>\n",
       "      <td>787.541</td>\n",
       "      <td>981.041</td>\n",
       "      <td>1020.986</td>\n",
       "      <td>103.596</td>\n",
       "      <td>94.819</td>\n",
       "      <td>123.367</td>\n",
       "      <td>147.499</td>\n",
       "      <td>-73.139</td>\n",
       "      <td>-43.363</td>\n",
       "      <td>-27.336</td>\n",
       "      <td>-22.826</td>\n",
       "    </tr>\n",
       "  </tbody>\n",
       "</table>\n",
       "</div>"
      ],
      "text/plain": [
       "  ticker  RetEarly2020  RetLate2020  ...  ivncf19  fincf18  fincf19\n",
       "0   JJSF     -0.340234      0.30034  ...  -43.363  -27.336  -22.826\n",
       "\n",
       "[1 rows x 46 columns]"
      ]
     },
     "execution_count": 55,
     "metadata": {
      "tags": []
     },
     "output_type": "execute_result"
    }
   ],
   "source": [
    "df = stock2.merge(df, on='ticker')\n",
    "print('Shape:', df.shape)\n",
    "print('Number of unique tickers:', df.ticker.nunique())\n",
    "df.head(1)"
   ]
  },
  {
   "cell_type": "markdown",
   "metadata": {
    "id": "OliA8Fb6UI0b"
   },
   "source": [
    "## Calculating Financial Ratios"
   ]
  },
  {
   "cell_type": "markdown",
   "metadata": {
    "id": "-qldfCVGxOcB"
   },
   "source": [
    "We have the following data for 4348 U.S. companies.\n",
    "* `at`: Total Assets\n",
    "* `act`: Total Current Assets\n",
    "* `invt`: Total Inventories\n",
    "* `lt`: Total Liabilities\n",
    "* `lct`: Total Current Liabilities\n",
    "* `ap`: Accounts Payable\n",
    "* `teq`: Total Stockholders' Equity\n",
    "* `re`: Retained Earnings\n",
    "---\n",
    "* `sale`: Net Sales\n",
    "* `cogs`: Cost of Goods Sold\n",
    "* `xopr`: Total Operating Expenses\n",
    "* `ni`: Net Income\n",
    "---\n",
    "* `oancf`: Net Operating Activities Cash Flow\n",
    "* `ivncf`: Net Investing Activities Cash Flow\n",
    "* `fincf`: Net Financing Activities Cash Flow\n",
    "\n"
   ]
  },
  {
   "cell_type": "markdown",
   "metadata": {
    "id": "pnQ4oJ_p1SY2"
   },
   "source": [
    "Keep only `at` and `teq` from 2018 to calculate average assets and equity."
   ]
  },
  {
   "cell_type": "code",
   "execution_count": 56,
   "metadata": {
    "id": "Ggp9nTj31R5O"
   },
   "outputs": [],
   "source": [
    "df = df.drop(['act18', 'invt18', 'lt18', 'lct18', 'ap18', 're18', \\\n",
    "              'sale18', 'cogs18', 'xopr18', 'ni18', 'oancf18', 'ivncf18', 'fincf18'], axis=1)"
   ]
  },
  {
   "cell_type": "markdown",
   "metadata": {
    "id": "xZJeXjQBQ-Gf"
   },
   "source": [
    "Drop 217 companies with 0 in `sale` in 2019."
   ]
  },
  {
   "cell_type": "code",
   "execution_count": 57,
   "metadata": {
    "colab": {
     "base_uri": "https://localhost:8080/"
    },
    "id": "1iEDbpG7Q-Go",
    "outputId": "7541e712-495a-4204-c06d-1c0ba850d1f0"
   },
   "outputs": [
    {
     "name": "stdout",
     "output_type": "stream",
     "text": [
      "Number of unique tickers: 4131\n"
     ]
    }
   ],
   "source": [
    "df = df[df.sale19!=0]\n",
    "print('Number of unique tickers:', df.ticker.nunique())"
   ]
  },
  {
   "cell_type": "code",
   "execution_count": 58,
   "metadata": {
    "colab": {
     "base_uri": "https://localhost:8080/",
     "height": 79
    },
    "id": "GU0cOMAWGZb6",
    "outputId": "b3fb1269-2b07-4c4a-87a8-57936aa7828f"
   },
   "outputs": [
    {
     "data": {
      "text/html": [
       "<div>\n",
       "<style scoped>\n",
       "    .dataframe tbody tr th:only-of-type {\n",
       "        vertical-align: middle;\n",
       "    }\n",
       "\n",
       "    .dataframe tbody tr th {\n",
       "        vertical-align: top;\n",
       "    }\n",
       "\n",
       "    .dataframe thead th {\n",
       "        text-align: right;\n",
       "    }\n",
       "</style>\n",
       "<table border=\"1\" class=\"dataframe\">\n",
       "  <thead>\n",
       "    <tr style=\"text-align: right;\">\n",
       "      <th></th>\n",
       "      <th>description</th>\n",
       "      <th>spcsrc</th>\n",
       "      <th>act19</th>\n",
       "      <th>lct19</th>\n",
       "      <th>re19</th>\n",
       "      <th>beta19</th>\n",
       "      <th>invt19</th>\n",
       "      <th>ap19</th>\n",
       "      <th>ivncf19</th>\n",
       "      <th>fincf19</th>\n",
       "      <th>oancf19</th>\n",
       "      <th>sale19</th>\n",
       "      <th>cogs19</th>\n",
       "      <th>xopr19</th>\n",
       "      <th>ni19</th>\n",
       "    </tr>\n",
       "  </thead>\n",
       "  <tbody>\n",
       "    <tr>\n",
       "      <th>Number of companies with NA</th>\n",
       "      <td>1566</td>\n",
       "      <td>1553</td>\n",
       "      <td>926</td>\n",
       "      <td>923</td>\n",
       "      <td>107</td>\n",
       "      <td>92</td>\n",
       "      <td>54</td>\n",
       "      <td>26</td>\n",
       "      <td>12</td>\n",
       "      <td>12</td>\n",
       "      <td>12</td>\n",
       "      <td>1</td>\n",
       "      <td>1</td>\n",
       "      <td>1</td>\n",
       "      <td>1</td>\n",
       "    </tr>\n",
       "  </tbody>\n",
       "</table>\n",
       "</div>"
      ],
      "text/plain": [
       "                             description  spcsrc  act19  ...  cogs19  xopr19  ni19\n",
       "Number of companies with NA         1566    1553    926  ...       1       1     1\n",
       "\n",
       "[1 rows x 15 columns]"
      ]
     },
     "execution_count": 58,
     "metadata": {
      "tags": []
     },
     "output_type": "execute_result"
    }
   ],
   "source": [
    "# investigate missing values\n",
    "tmp = pd.DataFrame({'Number of companies with NA': (df.isna().sum()).sort_values(ascending=False)})\n",
    "tmp[tmp['Number of companies with NA']>0].T"
   ]
  },
  {
   "cell_type": "markdown",
   "metadata": {
    "id": "FBj59jekkQ8K"
   },
   "source": [
    "Calculate accounting ratios for 2019."
   ]
  },
  {
   "cell_type": "code",
   "execution_count": 59,
   "metadata": {
    "id": "AszVmfwSUyKe"
   },
   "outputs": [],
   "source": [
    "def calculate(year):\n",
    "    previous = str(int(year)-1)\n",
    "    df['avgat'+year] = (df['at'+previous] + df['at'+year])/2  # average assets\n",
    "    df['avgteq'+year] = (df['teq'+previous] + df['teq'+year])/2  # average equity\n",
    "\n",
    "    df['roa'+year] = df['ni'+year] / df['avgat'+year]  # return on assets\n",
    "    df['atr'+year] = df['sale'+year] / df['avgat'+year]  # asset turnover ratio\n",
    "    df['ros'+year] = df['ni'+year] / df['sale'+year]  # return on sales\n",
    "    \n",
    "    df['roe'+year] = df['ni'+year] / df['avgteq'+year]  # return on equity\n",
    "    df['emulti'+year] = df['avgat'+year] / df['avgteq'+year]  # equity multiplier\n",
    "\n",
    "    df['ai'+year] = df['at'+year] / df['sale'+year]  # asset intensity\n",
    "    df['gmargin'+year] = df['sale'+year] - df['cogs'+year]  # gross margin\n",
    "    \n",
    "calculate('19')"
   ]
  },
  {
   "cell_type": "code",
   "execution_count": 60,
   "metadata": {
    "colab": {
     "base_uri": "https://localhost:8080/",
     "height": 63
    },
    "id": "FZRctxuu0m15",
    "outputId": "4a77d487-2c13-4eb3-a2f8-2946d6af5620"
   },
   "outputs": [
    {
     "data": {
      "text/html": [
       "<div>\n",
       "<style scoped>\n",
       "    .dataframe tbody tr th:only-of-type {\n",
       "        vertical-align: middle;\n",
       "    }\n",
       "\n",
       "    .dataframe tbody tr th {\n",
       "        vertical-align: top;\n",
       "    }\n",
       "\n",
       "    .dataframe thead th {\n",
       "        text-align: right;\n",
       "    }\n",
       "</style>\n",
       "<table border=\"1\" class=\"dataframe\">\n",
       "  <thead>\n",
       "    <tr style=\"text-align: right;\">\n",
       "      <th></th>\n",
       "    </tr>\n",
       "  </thead>\n",
       "  <tbody>\n",
       "    <tr>\n",
       "      <th>INF #</th>\n",
       "    </tr>\n",
       "  </tbody>\n",
       "</table>\n",
       "</div>"
      ],
      "text/plain": [
       "Empty DataFrame\n",
       "Columns: []\n",
       "Index: [INF #]"
      ]
     },
     "execution_count": 60,
     "metadata": {
      "tags": []
     },
     "output_type": "execute_result"
    }
   ],
   "source": [
    "# investigate infinite values\n",
    "tmp = pd.DataFrame({'INF #': df.isin([np.inf, -np.inf]).sum().sort_values(ascending=False)})\n",
    "tmp[tmp['INF #']>0].T"
   ]
  },
  {
   "cell_type": "code",
   "execution_count": 61,
   "metadata": {
    "colab": {
     "base_uri": "https://localhost:8080/",
     "height": 186
    },
    "id": "X08PdcrV-24W",
    "outputId": "83c83059-3f56-4b2e-f3a5-b832da44d79a"
   },
   "outputs": [
    {
     "data": {
      "text/html": [
       "<div>\n",
       "<style scoped>\n",
       "    .dataframe tbody tr th:only-of-type {\n",
       "        vertical-align: middle;\n",
       "    }\n",
       "\n",
       "    .dataframe tbody tr th {\n",
       "        vertical-align: top;\n",
       "    }\n",
       "\n",
       "    .dataframe thead th {\n",
       "        text-align: right;\n",
       "    }\n",
       "</style>\n",
       "<table border=\"1\" class=\"dataframe\">\n",
       "  <thead>\n",
       "    <tr style=\"text-align: right;\">\n",
       "      <th></th>\n",
       "      <th>ticker</th>\n",
       "      <th>RetEarly2020</th>\n",
       "      <th>RetLate2020</th>\n",
       "      <th>SPEarly2020</th>\n",
       "      <th>SPLate2020</th>\n",
       "      <th>beta19</th>\n",
       "      <th>gsector</th>\n",
       "      <th>ggroup</th>\n",
       "      <th>gind</th>\n",
       "      <th>gsubind</th>\n",
       "      <th>naics</th>\n",
       "      <th>nsector</th>\n",
       "      <th>sic</th>\n",
       "      <th>sgroup</th>\n",
       "      <th>spcsrc</th>\n",
       "      <th>description</th>\n",
       "      <th>at18</th>\n",
       "      <th>at19</th>\n",
       "      <th>act19</th>\n",
       "      <th>invt19</th>\n",
       "      <th>lt19</th>\n",
       "      <th>lct19</th>\n",
       "      <th>ap19</th>\n",
       "      <th>teq18</th>\n",
       "      <th>teq19</th>\n",
       "      <th>re19</th>\n",
       "      <th>sale19</th>\n",
       "      <th>cogs19</th>\n",
       "      <th>xopr19</th>\n",
       "      <th>ni19</th>\n",
       "      <th>oancf19</th>\n",
       "      <th>ivncf19</th>\n",
       "      <th>fincf19</th>\n",
       "      <th>avgat19</th>\n",
       "      <th>avgteq19</th>\n",
       "      <th>roa19</th>\n",
       "      <th>atr19</th>\n",
       "      <th>ros19</th>\n",
       "      <th>roe19</th>\n",
       "      <th>emulti19</th>\n",
       "      <th>ai19</th>\n",
       "      <th>gmargin19</th>\n",
       "    </tr>\n",
       "  </thead>\n",
       "  <tbody>\n",
       "    <tr>\n",
       "      <th>999</th>\n",
       "      <td>GYRO</td>\n",
       "      <td>-0.225464</td>\n",
       "      <td>0.138697</td>\n",
       "      <td>-0.20001</td>\n",
       "      <td>0.453255</td>\n",
       "      <td>0.69856</td>\n",
       "      <td>Real Estate</td>\n",
       "      <td>Real Estate</td>\n",
       "      <td>Real Estate Management &amp; Development</td>\n",
       "      <td>60102020</td>\n",
       "      <td>531120.0</td>\n",
       "      <td>Real Estate and Rental and Leasing</td>\n",
       "      <td>6512.0</td>\n",
       "      <td>Finance, Insurance and Real Estate</td>\n",
       "      <td>B-</td>\n",
       "      <td>NaN</td>\n",
       "      <td>39.377</td>\n",
       "      <td>50.588</td>\n",
       "      <td>NaN</td>\n",
       "      <td>0.0</td>\n",
       "      <td>19.218</td>\n",
       "      <td>NaN</td>\n",
       "      <td>0.622</td>\n",
       "      <td>26.847</td>\n",
       "      <td>31.37</td>\n",
       "      <td>NaN</td>\n",
       "      <td>NaN</td>\n",
       "      <td>NaN</td>\n",
       "      <td>NaN</td>\n",
       "      <td>NaN</td>\n",
       "      <td>NaN</td>\n",
       "      <td>NaN</td>\n",
       "      <td>NaN</td>\n",
       "      <td>44.9825</td>\n",
       "      <td>29.1085</td>\n",
       "      <td>NaN</td>\n",
       "      <td>NaN</td>\n",
       "      <td>NaN</td>\n",
       "      <td>NaN</td>\n",
       "      <td>1.545339</td>\n",
       "      <td>NaN</td>\n",
       "      <td>NaN</td>\n",
       "    </tr>\n",
       "  </tbody>\n",
       "</table>\n",
       "</div>"
      ],
      "text/plain": [
       "    ticker  RetEarly2020  RetLate2020  ...  emulti19  ai19  gmargin19\n",
       "999   GYRO     -0.225464     0.138697  ...  1.545339   NaN        NaN\n",
       "\n",
       "[1 rows x 42 columns]"
      ]
     },
     "execution_count": 61,
     "metadata": {
      "tags": []
     },
     "output_type": "execute_result"
    }
   ],
   "source": [
    "# find companies that have missing values for any of the 9 ratios we calculated\n",
    "df[(df.avgat19.isna()) | (df.avgteq19.isna()) | (df.roa19.isna()) | (df.atr19.isna()) |\n",
    "   (df.ros19.isna()) | (df.roe19.isna()) | (df.emulti19.isna()) | (df.ai19.isna()) | (df.gmargin19.isna())]"
   ]
  },
  {
   "cell_type": "markdown",
   "metadata": {
    "id": "Y-f2OBsK_y3L"
   },
   "source": [
    "Drop this company from the dataframe because it has too many missing values."
   ]
  },
  {
   "cell_type": "code",
   "execution_count": 62,
   "metadata": {
    "id": "HJqDG3S6_4bO"
   },
   "outputs": [],
   "source": [
    "df.drop(999, inplace=True)\n",
    "df.reset_index(drop=True, inplace=True)"
   ]
  },
  {
   "cell_type": "code",
   "execution_count": 63,
   "metadata": {
    "colab": {
     "base_uri": "https://localhost:8080/",
     "height": 203
    },
    "id": "ayh3mda06ePA",
    "outputId": "abb5bc2b-c630-4e54-8903-6a9df995baf2"
   },
   "outputs": [
    {
     "name": "stdout",
     "output_type": "stream",
     "text": [
      "Shape: (4130, 42)\n",
      "Number of unique tickers: 4130\n"
     ]
    },
    {
     "data": {
      "text/html": [
       "<div>\n",
       "<style scoped>\n",
       "    .dataframe tbody tr th:only-of-type {\n",
       "        vertical-align: middle;\n",
       "    }\n",
       "\n",
       "    .dataframe tbody tr th {\n",
       "        vertical-align: top;\n",
       "    }\n",
       "\n",
       "    .dataframe thead th {\n",
       "        text-align: right;\n",
       "    }\n",
       "</style>\n",
       "<table border=\"1\" class=\"dataframe\">\n",
       "  <thead>\n",
       "    <tr style=\"text-align: right;\">\n",
       "      <th></th>\n",
       "      <th>ticker</th>\n",
       "      <th>RetEarly2020</th>\n",
       "      <th>RetLate2020</th>\n",
       "      <th>SPEarly2020</th>\n",
       "      <th>SPLate2020</th>\n",
       "      <th>beta19</th>\n",
       "      <th>gsector</th>\n",
       "      <th>ggroup</th>\n",
       "      <th>gind</th>\n",
       "      <th>gsubind</th>\n",
       "      <th>naics</th>\n",
       "      <th>nsector</th>\n",
       "      <th>sic</th>\n",
       "      <th>sgroup</th>\n",
       "      <th>spcsrc</th>\n",
       "      <th>description</th>\n",
       "      <th>at18</th>\n",
       "      <th>at19</th>\n",
       "      <th>act19</th>\n",
       "      <th>invt19</th>\n",
       "      <th>lt19</th>\n",
       "      <th>lct19</th>\n",
       "      <th>ap19</th>\n",
       "      <th>teq18</th>\n",
       "      <th>teq19</th>\n",
       "      <th>re19</th>\n",
       "      <th>sale19</th>\n",
       "      <th>cogs19</th>\n",
       "      <th>xopr19</th>\n",
       "      <th>ni19</th>\n",
       "      <th>oancf19</th>\n",
       "      <th>ivncf19</th>\n",
       "      <th>fincf19</th>\n",
       "      <th>avgat19</th>\n",
       "      <th>avgteq19</th>\n",
       "      <th>roa19</th>\n",
       "      <th>atr19</th>\n",
       "      <th>ros19</th>\n",
       "      <th>roe19</th>\n",
       "      <th>emulti19</th>\n",
       "      <th>ai19</th>\n",
       "      <th>gmargin19</th>\n",
       "    </tr>\n",
       "  </thead>\n",
       "  <tbody>\n",
       "    <tr>\n",
       "      <th>0</th>\n",
       "      <td>JJSF</td>\n",
       "      <td>-0.340234</td>\n",
       "      <td>0.30034</td>\n",
       "      <td>-0.20001</td>\n",
       "      <td>0.453255</td>\n",
       "      <td>0.01282</td>\n",
       "      <td>Consumer Staples</td>\n",
       "      <td>Food, Beverage &amp; Tobacco</td>\n",
       "      <td>Food Products</td>\n",
       "      <td>30202030</td>\n",
       "      <td>311812.0</td>\n",
       "      <td>Manufacturing</td>\n",
       "      <td>2050.0</td>\n",
       "      <td>Manufacturing</td>\n",
       "      <td>A-</td>\n",
       "      <td>J &amp;amp; J Snack Foods Corp. manufactures, mark...</td>\n",
       "      <td>932.013</td>\n",
       "      <td>1019.339</td>\n",
       "      <td>506.357</td>\n",
       "      <td>116.165</td>\n",
       "      <td>185.588</td>\n",
       "      <td>121.234</td>\n",
       "      <td>72.029</td>\n",
       "      <td>759.091</td>\n",
       "      <td>833.751</td>\n",
       "      <td>788.007</td>\n",
       "      <td>1186.487</td>\n",
       "      <td>787.541</td>\n",
       "      <td>1020.986</td>\n",
       "      <td>94.819</td>\n",
       "      <td>147.499</td>\n",
       "      <td>-43.363</td>\n",
       "      <td>-22.826</td>\n",
       "      <td>975.676</td>\n",
       "      <td>796.421</td>\n",
       "      <td>0.097183</td>\n",
       "      <td>1.216067</td>\n",
       "      <td>0.079916</td>\n",
       "      <td>0.119056</td>\n",
       "      <td>1.225076</td>\n",
       "      <td>0.859124</td>\n",
       "      <td>398.946</td>\n",
       "    </tr>\n",
       "  </tbody>\n",
       "</table>\n",
       "</div>"
      ],
      "text/plain": [
       "  ticker  RetEarly2020  RetLate2020  ...  emulti19      ai19  gmargin19\n",
       "0   JJSF     -0.340234      0.30034  ...  1.225076  0.859124    398.946\n",
       "\n",
       "[1 rows x 42 columns]"
      ]
     },
     "execution_count": 63,
     "metadata": {
      "tags": []
     },
     "output_type": "execute_result"
    }
   ],
   "source": [
    "# take a look at the dataframe\n",
    "print('Shape:', df.shape)\n",
    "print('Number of unique tickers:', df.ticker.nunique())\n",
    "df.head(1)"
   ]
  },
  {
   "cell_type": "code",
   "execution_count": 64,
   "metadata": {
    "id": "_AV0TP_Bd3Mc"
   },
   "outputs": [],
   "source": [
    "# # export into a csv file\n",
    "# df.to_csv('maindf.csv', index=False)"
   ]
  },
  {
   "cell_type": "markdown",
   "metadata": {
    "id": "DvCJM4gxy3lF"
   },
   "source": [
    "# 1. Explaining Fluctuation Using Industry Indicators"
   ]
  },
  {
   "cell_type": "markdown",
   "metadata": {
    "id": "lqrXYyo-zNN1"
   },
   "source": [
    "**Does industry or sector explain variation in stock returns for early and late 2020?**"
   ]
  },
  {
   "cell_type": "code",
   "execution_count": 65,
   "metadata": {
    "id": "N-1VE0r8M0n2"
   },
   "outputs": [],
   "source": [
    "df = pd.read_csv('maindf.csv')"
   ]
  },
  {
   "cell_type": "markdown",
   "metadata": {
    "id": "t_gOO28xB0pE"
   },
   "source": [
    "`RetEarly2020` and `RetLate2020` are the variables whose variation is what we're trying to explain.\n",
    "\n",
    "We have 8 types of industry classifications: `gsector`, `ggroup`, `gind`, `gsubind`, `naics`, `nsector`, `sic`, and `sgroup`."
   ]
  },
  {
   "cell_type": "code",
   "execution_count": 66,
   "metadata": {
    "colab": {
     "base_uri": "https://localhost:8080/",
     "height": 110
    },
    "id": "r3VicfAGB0Lt",
    "outputId": "7d372647-59ec-4fa4-f115-27575e8f2ded"
   },
   "outputs": [
    {
     "data": {
      "text/html": [
       "<div>\n",
       "<style scoped>\n",
       "    .dataframe tbody tr th:only-of-type {\n",
       "        vertical-align: middle;\n",
       "    }\n",
       "\n",
       "    .dataframe tbody tr th {\n",
       "        vertical-align: top;\n",
       "    }\n",
       "\n",
       "    .dataframe thead th {\n",
       "        text-align: right;\n",
       "    }\n",
       "</style>\n",
       "<table border=\"1\" class=\"dataframe\">\n",
       "  <thead>\n",
       "    <tr style=\"text-align: right;\">\n",
       "      <th></th>\n",
       "      <th>gsector</th>\n",
       "      <th>ggroup</th>\n",
       "      <th>gind</th>\n",
       "      <th>gsubind</th>\n",
       "      <th>naics</th>\n",
       "      <th>nsector</th>\n",
       "      <th>sic</th>\n",
       "      <th>sgroup</th>\n",
       "    </tr>\n",
       "  </thead>\n",
       "  <tbody>\n",
       "    <tr>\n",
       "      <th>Number of unique values</th>\n",
       "      <td>11</td>\n",
       "      <td>24</td>\n",
       "      <td>69</td>\n",
       "      <td>157</td>\n",
       "      <td>612</td>\n",
       "      <td>19</td>\n",
       "      <td>378</td>\n",
       "      <td>10</td>\n",
       "    </tr>\n",
       "    <tr>\n",
       "      <th>Number of companies with NA</th>\n",
       "      <td>0</td>\n",
       "      <td>0</td>\n",
       "      <td>0</td>\n",
       "      <td>0</td>\n",
       "      <td>0</td>\n",
       "      <td>0</td>\n",
       "      <td>0</td>\n",
       "      <td>0</td>\n",
       "    </tr>\n",
       "  </tbody>\n",
       "</table>\n",
       "</div>"
      ],
      "text/plain": [
       "                             gsector  ggroup  gind  ...  nsector  sic  sgroup\n",
       "Number of unique values           11      24    69  ...       19  378      10\n",
       "Number of companies with NA        0       0     0  ...        0    0       0\n",
       "\n",
       "[2 rows x 8 columns]"
      ]
     },
     "execution_count": 66,
     "metadata": {
      "tags": []
     },
     "output_type": "execute_result"
    }
   ],
   "source": [
    "# make sure there's no missing values\n",
    "pd.DataFrame({'Number of unique values': df[df.columns[6:14]].nunique(),\n",
    "              'Number of companies with NA': df[df.columns[6:14]].isna().sum()}).T"
   ]
  },
  {
   "cell_type": "markdown",
   "metadata": {
    "id": "LKyvQeA2Qr4N"
   },
   "source": [
    "## Using 11 GICS Sectors"
   ]
  },
  {
   "cell_type": "markdown",
   "metadata": {
    "id": "m2liwP31SCIZ"
   },
   "source": [
    "Create binary indicators for the 11 GICS Sectors."
   ]
  },
  {
   "cell_type": "code",
   "execution_count": 67,
   "metadata": {
    "colab": {
     "base_uri": "https://localhost:8080/",
     "height": 117
    },
    "id": "WSk4DQBeRYlT",
    "outputId": "29fb145d-1c0c-487a-a1d0-d29b12406b94"
   },
   "outputs": [
    {
     "data": {
      "text/html": [
       "<div>\n",
       "<style scoped>\n",
       "    .dataframe tbody tr th:only-of-type {\n",
       "        vertical-align: middle;\n",
       "    }\n",
       "\n",
       "    .dataframe tbody tr th {\n",
       "        vertical-align: top;\n",
       "    }\n",
       "\n",
       "    .dataframe thead th {\n",
       "        text-align: right;\n",
       "    }\n",
       "</style>\n",
       "<table border=\"1\" class=\"dataframe\">\n",
       "  <thead>\n",
       "    <tr style=\"text-align: right;\">\n",
       "      <th></th>\n",
       "      <th>ticker</th>\n",
       "      <th>RetEarly2020</th>\n",
       "      <th>RetLate2020</th>\n",
       "      <th>Communication Services</th>\n",
       "      <th>Consumer Discretionary</th>\n",
       "      <th>Consumer Staples</th>\n",
       "      <th>Energy</th>\n",
       "      <th>Financials</th>\n",
       "      <th>Health Care</th>\n",
       "      <th>Industrials</th>\n",
       "      <th>Information Technology</th>\n",
       "      <th>Materials</th>\n",
       "      <th>Real Estate</th>\n",
       "      <th>Utilities</th>\n",
       "    </tr>\n",
       "  </thead>\n",
       "  <tbody>\n",
       "    <tr>\n",
       "      <th>0</th>\n",
       "      <td>JJSF</td>\n",
       "      <td>-0.340234</td>\n",
       "      <td>0.30034</td>\n",
       "      <td>0</td>\n",
       "      <td>0</td>\n",
       "      <td>1</td>\n",
       "      <td>0</td>\n",
       "      <td>0</td>\n",
       "      <td>0</td>\n",
       "      <td>0</td>\n",
       "      <td>0</td>\n",
       "      <td>0</td>\n",
       "      <td>0</td>\n",
       "      <td>0</td>\n",
       "    </tr>\n",
       "  </tbody>\n",
       "</table>\n",
       "</div>"
      ],
      "text/plain": [
       "  ticker  RetEarly2020  RetLate2020  ...  Materials  Real Estate  Utilities\n",
       "0   JJSF     -0.340234      0.30034  ...          0            0          0\n",
       "\n",
       "[1 rows x 14 columns]"
      ]
     },
     "execution_count": 67,
     "metadata": {
      "tags": []
     },
     "output_type": "execute_result"
    }
   ],
   "source": [
    "# extract relevant data from the main dataframe\n",
    "df2 = df[['ticker', 'RetEarly2020', 'RetLate2020', 'gsector']].copy()\n",
    "df2 = pd.get_dummies(df2, columns=['gsector'], prefix='', prefix_sep='')\n",
    "df2.head(1)"
   ]
  },
  {
   "cell_type": "code",
   "execution_count": 68,
   "metadata": {
    "colab": {
     "base_uri": "https://localhost:8080/"
    },
    "id": "Noftps6eQrZl",
    "outputId": "1d19d641-1ff1-4013-a3df-fa044f4ba8c5"
   },
   "outputs": [
    {
     "name": "stdout",
     "output_type": "stream",
     "text": [
      "                            OLS Regression Results                            \n",
      "==============================================================================\n",
      "Dep. Variable:           RetEarly2020   R-squared:                       0.077\n",
      "Model:                            OLS   Adj. R-squared:                  0.075\n",
      "Method:                 Least Squares   F-statistic:                     34.37\n",
      "Date:                Mon, 05 Jul 2021   Prob (F-statistic):           5.62e-65\n",
      "Time:                        23:00:26   Log-Likelihood:                -1778.5\n",
      "No. Observations:                4130   AIC:                             3579.\n",
      "Df Residuals:                    4119   BIC:                             3649.\n",
      "Df Model:                          10                                         \n",
      "Covariance Type:            nonrobust                                         \n",
      "==========================================================================================\n",
      "                             coef    std err          t      P>|t|      [0.025      0.975]\n",
      "------------------------------------------------------------------------------------------\n",
      "Communication Services    -0.2678      0.027     -9.931      0.000      -0.321      -0.215\n",
      "Consumer Discretionary    -0.3811      0.017    -22.050      0.000      -0.415      -0.347\n",
      "Consumer Staples          -0.1920      0.030     -6.393      0.000      -0.251      -0.133\n",
      "Energy                    -0.5521      0.022    -24.697      0.000      -0.596      -0.508\n",
      "Financials                -0.3459      0.014    -25.381      0.000      -0.373      -0.319\n",
      "Health Care               -0.1375      0.014     -9.556      0.000      -0.166      -0.109\n",
      "Industrials               -0.3307      0.016    -20.368      0.000      -0.363      -0.299\n",
      "Information Technology    -0.2290      0.016    -14.617      0.000      -0.260      -0.198\n",
      "Materials                 -0.3581      0.025    -14.185      0.000      -0.408      -0.309\n",
      "Real Estate               -0.3344      0.025    -13.216      0.000      -0.384      -0.285\n",
      "Utilities                 -0.1787      0.038     -4.674      0.000      -0.254      -0.104\n",
      "==============================================================================\n",
      "Omnibus:                     8211.017   Durbin-Watson:                   1.950\n",
      "Prob(Omnibus):                  0.000   Jarque-Bera (JB):         39694157.648\n",
      "Skew:                          15.596   Prob(JB):                         0.00\n",
      "Kurtosis:                     482.265   Cond. No.                         2.81\n",
      "==============================================================================\n",
      "\n",
      "Warnings:\n",
      "[1] Standard Errors assume that the covariance matrix of the errors is correctly specified.\n"
     ]
    }
   ],
   "source": [
    "# regress RetEarly2020 on 11 indicators\n",
    "Y = df2['RetEarly2020']\n",
    "X = df2.drop(columns=['ticker', 'RetEarly2020', 'RetLate2020'])\n",
    "reg1 = sm.OLS(Y, X).fit()\n",
    "print(reg1.summary())"
   ]
  },
  {
   "cell_type": "code",
   "execution_count": 69,
   "metadata": {
    "colab": {
     "base_uri": "https://localhost:8080/"
    },
    "id": "wSQ5em7NwLQR",
    "outputId": "57aa78b6-b2fe-4460-b158-acdc7bd0b8d5"
   },
   "outputs": [
    {
     "name": "stdout",
     "output_type": "stream",
     "text": [
      "Highest: Health Care -0.13749028355529064\n",
      "Lowest: Energy -0.5520537609263416\n"
     ]
    }
   ],
   "source": [
    "# find the highest and lowest returns\n",
    "print(\"Highest:\", reg1.params.idxmax(), reg1.params.max())\n",
    "print(\"Lowest:\", reg1.params.idxmin(), reg1.params.min())"
   ]
  },
  {
   "cell_type": "code",
   "execution_count": 70,
   "metadata": {
    "colab": {
     "base_uri": "https://localhost:8080/"
    },
    "id": "lGnFKSfuSa30",
    "outputId": "1cd7b269-6a0d-4cd6-f8ef-c2fdf6166a9c"
   },
   "outputs": [
    {
     "name": "stdout",
     "output_type": "stream",
     "text": [
      "                            OLS Regression Results                            \n",
      "==============================================================================\n",
      "Dep. Variable:            RetLate2020   R-squared:                       0.058\n",
      "Model:                            OLS   Adj. R-squared:                  0.055\n",
      "Method:                 Least Squares   F-statistic:                     25.18\n",
      "Date:                Mon, 05 Jul 2021   Prob (F-statistic):           7.27e-47\n",
      "Time:                        23:00:26   Log-Likelihood:                -7624.8\n",
      "No. Observations:                4130   AIC:                         1.527e+04\n",
      "Df Residuals:                    4119   BIC:                         1.534e+04\n",
      "Df Model:                          10                                         \n",
      "Covariance Type:            nonrobust                                         \n",
      "==========================================================================================\n",
      "                             coef    std err          t      P>|t|      [0.025      0.975]\n",
      "------------------------------------------------------------------------------------------\n",
      "Communication Services     0.7275      0.111      6.549      0.000       0.510       0.945\n",
      "Consumer Discretionary     1.7427      0.071     24.480      0.000       1.603       1.882\n",
      "Consumer Staples           0.5762      0.124      4.658      0.000       0.334       0.819\n",
      "Energy                     0.9329      0.092     10.133      0.000       0.752       1.113\n",
      "Financials                 0.5348      0.056      9.527      0.000       0.425       0.645\n",
      "Health Care                0.7444      0.059     12.561      0.000       0.628       0.861\n",
      "Industrials                1.0005      0.067     14.962      0.000       0.869       1.132\n",
      "Information Technology     1.1785      0.065     18.265      0.000       1.052       1.305\n",
      "Materials                  1.0635      0.104     10.229      0.000       0.860       1.267\n",
      "Real Estate                0.4483      0.104      4.302      0.000       0.244       0.653\n",
      "Utilities                  0.3768      0.157      2.393      0.017       0.068       0.686\n",
      "==============================================================================\n",
      "Omnibus:                     5419.211   Durbin-Watson:                   1.952\n",
      "Prob(Omnibus):                  0.000   Jarque-Bera (JB):          1329661.474\n",
      "Skew:                           7.241   Prob(JB):                         0.00\n",
      "Kurtosis:                      89.701   Cond. No.                         2.81\n",
      "==============================================================================\n",
      "\n",
      "Warnings:\n",
      "[1] Standard Errors assume that the covariance matrix of the errors is correctly specified.\n"
     ]
    }
   ],
   "source": [
    "# regress RetLate2020 on 11 indicators\n",
    "Y = df2['RetLate2020']\n",
    "X = df2.drop(columns=['ticker', 'RetEarly2020', 'RetLate2020'])\n",
    "reg2 = sm.OLS(Y, X).fit()\n",
    "print(reg2.summary())"
   ]
  },
  {
   "cell_type": "code",
   "execution_count": 71,
   "metadata": {
    "colab": {
     "base_uri": "https://localhost:8080/"
    },
    "id": "Qb3-bJScwOkr",
    "outputId": "6dc6f1c3-9a88-4976-db71-87b2abe5e2fe"
   },
   "outputs": [
    {
     "name": "stdout",
     "output_type": "stream",
     "text": [
      "Highest: Consumer Discretionary 1.7427338131777348\n",
      "Lowest: Utilities 0.37683366165013943\n"
     ]
    }
   ],
   "source": [
    "# find the highest and lowest returns\n",
    "print(\"Highest:\", reg2.params.idxmax(), reg2.params.max())\n",
    "print(\"Lowest:\", reg2.params.idxmin(), reg2.params.min())"
   ]
  },
  {
   "cell_type": "markdown",
   "metadata": {
    "id": "1xzR2y4_TAcr"
   },
   "source": [
    "## Using 24 GICS Groups"
   ]
  },
  {
   "cell_type": "markdown",
   "metadata": {
    "id": "UZVk04cDTAcs"
   },
   "source": [
    "Create binary indicators for the 24 GICS Groups."
   ]
  },
  {
   "cell_type": "code",
   "execution_count": 72,
   "metadata": {
    "colab": {
     "base_uri": "https://localhost:8080/",
     "height": 169
    },
    "id": "ywbfCXHiTAcr",
    "outputId": "2a54ce78-52a6-4047-de03-f807b99d1dfc"
   },
   "outputs": [
    {
     "data": {
      "text/html": [
       "<div>\n",
       "<style scoped>\n",
       "    .dataframe tbody tr th:only-of-type {\n",
       "        vertical-align: middle;\n",
       "    }\n",
       "\n",
       "    .dataframe tbody tr th {\n",
       "        vertical-align: top;\n",
       "    }\n",
       "\n",
       "    .dataframe thead th {\n",
       "        text-align: right;\n",
       "    }\n",
       "</style>\n",
       "<table border=\"1\" class=\"dataframe\">\n",
       "  <thead>\n",
       "    <tr style=\"text-align: right;\">\n",
       "      <th></th>\n",
       "      <th>ticker</th>\n",
       "      <th>RetEarly2020</th>\n",
       "      <th>RetLate2020</th>\n",
       "      <th>Automobiles &amp; Components</th>\n",
       "      <th>Banks</th>\n",
       "      <th>Capital Goods</th>\n",
       "      <th>Commercial &amp; Professional Services</th>\n",
       "      <th>Communication Services</th>\n",
       "      <th>Consumer Durables &amp; Apparel</th>\n",
       "      <th>Consumer Services</th>\n",
       "      <th>Diversified Financials</th>\n",
       "      <th>Energy</th>\n",
       "      <th>Food &amp; Staples Retailing</th>\n",
       "      <th>Food, Beverage &amp; Tobacco</th>\n",
       "      <th>Health Care Equipment &amp; Services</th>\n",
       "      <th>Household &amp; Personal Products</th>\n",
       "      <th>Insurance</th>\n",
       "      <th>Materials</th>\n",
       "      <th>Media &amp; Entertainment</th>\n",
       "      <th>Pharmaceuticals, Biotechnology &amp; Life Sciences</th>\n",
       "      <th>Real Estate</th>\n",
       "      <th>Retailing</th>\n",
       "      <th>Semiconductors &amp; Semiconductor Equipment</th>\n",
       "      <th>Software &amp; Services</th>\n",
       "      <th>Technology Hardware &amp; Equipment</th>\n",
       "      <th>Transportation</th>\n",
       "      <th>Utilities</th>\n",
       "    </tr>\n",
       "  </thead>\n",
       "  <tbody>\n",
       "    <tr>\n",
       "      <th>0</th>\n",
       "      <td>JJSF</td>\n",
       "      <td>-0.340234</td>\n",
       "      <td>0.30034</td>\n",
       "      <td>0</td>\n",
       "      <td>0</td>\n",
       "      <td>0</td>\n",
       "      <td>0</td>\n",
       "      <td>0</td>\n",
       "      <td>0</td>\n",
       "      <td>0</td>\n",
       "      <td>0</td>\n",
       "      <td>0</td>\n",
       "      <td>0</td>\n",
       "      <td>1</td>\n",
       "      <td>0</td>\n",
       "      <td>0</td>\n",
       "      <td>0</td>\n",
       "      <td>0</td>\n",
       "      <td>0</td>\n",
       "      <td>0</td>\n",
       "      <td>0</td>\n",
       "      <td>0</td>\n",
       "      <td>0</td>\n",
       "      <td>0</td>\n",
       "      <td>0</td>\n",
       "      <td>0</td>\n",
       "      <td>0</td>\n",
       "    </tr>\n",
       "  </tbody>\n",
       "</table>\n",
       "</div>"
      ],
      "text/plain": [
       "  ticker  RetEarly2020  ...  Transportation  Utilities\n",
       "0   JJSF     -0.340234  ...               0          0\n",
       "\n",
       "[1 rows x 27 columns]"
      ]
     },
     "execution_count": 72,
     "metadata": {
      "tags": []
     },
     "output_type": "execute_result"
    }
   ],
   "source": [
    "df2 = df[['ticker', 'RetEarly2020', 'RetLate2020', 'ggroup']].copy()\n",
    "df2 = pd.get_dummies(df2, columns=['ggroup'], prefix='', prefix_sep='')\n",
    "df2.head(1)"
   ]
  },
  {
   "cell_type": "code",
   "execution_count": 73,
   "metadata": {
    "colab": {
     "base_uri": "https://localhost:8080/"
    },
    "id": "DhL29VVOTAct",
    "outputId": "7347644b-f189-4116-e5d0-d4085a6015ec"
   },
   "outputs": [
    {
     "name": "stdout",
     "output_type": "stream",
     "text": [
      "                            OLS Regression Results                            \n",
      "==============================================================================\n",
      "Dep. Variable:           RetEarly2020   R-squared:                       0.083\n",
      "Model:                            OLS   Adj. R-squared:                  0.078\n",
      "Method:                 Least Squares   F-statistic:                     16.23\n",
      "Date:                Mon, 05 Jul 2021   Prob (F-statistic):           6.78e-62\n",
      "Time:                        23:00:26   Log-Likelihood:                -1764.3\n",
      "No. Observations:                4130   AIC:                             3577.\n",
      "Df Residuals:                    4106   BIC:                             3728.\n",
      "Df Model:                          23                                         \n",
      "Covariance Type:            nonrobust                                         \n",
      "==================================================================================================================\n",
      "                                                     coef    std err          t      P>|t|      [0.025      0.975]\n",
      "------------------------------------------------------------------------------------------------------------------\n",
      "Automobiles & Components                          -0.4113      0.053     -7.739      0.000      -0.515      -0.307\n",
      "Banks                                             -0.3593      0.018    -19.509      0.000      -0.395      -0.323\n",
      "Capital Goods                                     -0.3240      0.021    -15.386      0.000      -0.365      -0.283\n",
      "Commercial & Professional Services                -0.3219      0.033     -9.714      0.000      -0.387      -0.257\n",
      "Communication Services                            -0.1765      0.055     -3.218      0.001      -0.284      -0.069\n",
      "Consumer Durables & Apparel                       -0.3872      0.034    -11.305      0.000      -0.454      -0.320\n",
      "Consumer Services                                 -0.3969      0.031    -12.893      0.000      -0.457      -0.337\n",
      "Diversified Financials                            -0.3698      0.024    -15.240      0.000      -0.417      -0.322\n",
      "Energy                                            -0.5521      0.022    -24.743      0.000      -0.596      -0.508\n",
      "Food & Staples Retailing                          -0.0557      0.072     -0.778      0.436      -0.196       0.085\n",
      "Food, Beverage & Tobacco                          -0.2354      0.039     -6.036      0.000      -0.312      -0.159\n",
      "Health Care Equipment & Services                  -0.1251      0.023     -5.401      0.000      -0.170      -0.080\n",
      "Household & Personal Products                     -0.1845      0.062     -2.976      0.003      -0.306      -0.063\n",
      "Insurance                                         -0.2401      0.036     -6.613      0.000      -0.311      -0.169\n",
      "Materials                                         -0.3581      0.025    -14.212      0.000      -0.407      -0.309\n",
      "Media & Entertainment                             -0.2968      0.031     -9.606      0.000      -0.357      -0.236\n",
      "Pharmaceuticals, Biotechnology & Life Sciences    -0.1452      0.018     -7.934      0.000      -0.181      -0.109\n",
      "Real Estate                                       -0.3344      0.025    -13.241      0.000      -0.384      -0.285\n",
      "Retailing                                         -0.3515      0.030    -11.648      0.000      -0.411      -0.292\n",
      "Semiconductors & Semiconductor Equipment          -0.2201      0.037     -5.917      0.000      -0.293      -0.147\n",
      "Software & Services                               -0.1956      0.022     -8.892      0.000      -0.239      -0.152\n",
      "Technology Hardware & Equipment                   -0.2870      0.028    -10.349      0.000      -0.341      -0.233\n",
      "Transportation                                    -0.3664      0.039     -9.291      0.000      -0.444      -0.289\n",
      "Utilities                                         -0.1787      0.038     -4.683      0.000      -0.254      -0.104\n",
      "==============================================================================\n",
      "Omnibus:                     8234.527   Durbin-Watson:                   1.951\n",
      "Prob(Omnibus):                  0.000   Jarque-Bera (JB):         40472003.429\n",
      "Skew:                          15.695   Prob(JB):                         0.00\n",
      "Kurtosis:                     486.945   Cond. No.                         3.91\n",
      "==============================================================================\n",
      "\n",
      "Warnings:\n",
      "[1] Standard Errors assume that the covariance matrix of the errors is correctly specified.\n"
     ]
    }
   ],
   "source": [
    "# regress RetEarly2020 on 24 indicators\n",
    "Y = df2['RetEarly2020']\n",
    "X = df2.drop(columns=['ticker', 'RetEarly2020', 'RetLate2020'])\n",
    "reg1 = sm.OLS(Y, X).fit()\n",
    "print(reg1.summary())"
   ]
  },
  {
   "cell_type": "code",
   "execution_count": 74,
   "metadata": {
    "colab": {
     "base_uri": "https://localhost:8080/"
    },
    "id": "FMT1VujCymN9",
    "outputId": "e6c66b1d-f56d-4590-b639-fc1956c2e36e"
   },
   "outputs": [
    {
     "name": "stdout",
     "output_type": "stream",
     "text": [
      "Highest: Food & Staples Retailing -0.055730434846246284\n",
      "Lowest: Energy -0.5520537609263416\n"
     ]
    }
   ],
   "source": [
    "# find the highest and lowest returns\n",
    "print(\"Highest:\", reg1.params.idxmax(), reg1.params.max())\n",
    "print(\"Lowest:\", reg1.params.idxmin(), reg1.params.min())"
   ]
  },
  {
   "cell_type": "code",
   "execution_count": 75,
   "metadata": {
    "colab": {
     "base_uri": "https://localhost:8080/"
    },
    "id": "WOLAYDH4TAct",
    "outputId": "85793c48-e300-4e26-ef6a-d8b75481b815"
   },
   "outputs": [
    {
     "name": "stdout",
     "output_type": "stream",
     "text": [
      "                            OLS Regression Results                            \n",
      "==============================================================================\n",
      "Dep. Variable:            RetLate2020   R-squared:                       0.077\n",
      "Model:                            OLS   Adj. R-squared:                  0.072\n",
      "Method:                 Least Squares   F-statistic:                     14.87\n",
      "Date:                Mon, 05 Jul 2021   Prob (F-statistic):           5.11e-56\n",
      "Time:                        23:00:27   Log-Likelihood:                -7582.1\n",
      "No. Observations:                4130   AIC:                         1.521e+04\n",
      "Df Residuals:                    4106   BIC:                         1.536e+04\n",
      "Df Model:                          23                                         \n",
      "Covariance Type:            nonrobust                                         \n",
      "==================================================================================================================\n",
      "                                                     coef    std err          t      P>|t|      [0.025      0.975]\n",
      "------------------------------------------------------------------------------------------------------------------\n",
      "Automobiles & Components                           2.2748      0.217     10.464      0.000       1.849       2.701\n",
      "Banks                                              0.4198      0.075      5.573      0.000       0.272       0.568\n",
      "Capital Goods                                      1.1853      0.086     13.758      0.000       1.016       1.354\n",
      "Commercial & Professional Services                 0.7080      0.136      5.223      0.000       0.442       0.974\n",
      "Communication Services                             0.3781      0.224      1.685      0.092      -0.062       0.818\n",
      "Consumer Durables & Apparel                        1.7160      0.140     12.249      0.000       1.441       1.991\n",
      "Consumer Services                                  1.0347      0.126      8.216      0.000       0.788       1.282\n",
      "Diversified Financials                             0.8089      0.099      8.149      0.000       0.614       1.004\n",
      "Energy                                             0.9329      0.091     10.222      0.000       0.754       1.112\n",
      "Food & Staples Retailing                           0.3189      0.293      1.089      0.276      -0.255       0.893\n",
      "Food, Beverage & Tobacco                           0.6017      0.160      3.772      0.000       0.289       0.914\n",
      "Health Care Equipment & Services                   0.6937      0.095      7.322      0.000       0.508       0.879\n",
      "Household & Personal Products                      0.7045      0.254      2.778      0.005       0.207       1.202\n",
      "Insurance                                          0.3677      0.149      2.476      0.013       0.077       0.659\n",
      "Materials                                          1.0635      0.103     10.319      0.000       0.861       1.266\n",
      "Media & Entertainment                              0.8383      0.126      6.634      0.000       0.591       1.086\n",
      "Pharmaceuticals, Biotechnology & Life Sciences     0.7760      0.075     10.364      0.000       0.629       0.923\n",
      "Real Estate                                        0.4483      0.103      4.340      0.000       0.246       0.651\n",
      "Retailing                                          2.2721      0.123     18.408      0.000       2.030       2.514\n",
      "Semiconductors & Semiconductor Equipment           1.3906      0.152      9.138      0.000       1.092       1.689\n",
      "Software & Services                                1.1507      0.090     12.788      0.000       0.974       1.327\n",
      "Technology Hardware & Equipment                    1.1050      0.113      9.742      0.000       0.883       1.327\n",
      "Transportation                                     0.7669      0.161      4.754      0.000       0.451       1.083\n",
      "Utilities                                          0.3768      0.156      2.414      0.016       0.071       0.683\n",
      "==============================================================================\n",
      "Omnibus:                     5425.911   Durbin-Watson:                   1.943\n",
      "Prob(Omnibus):                  0.000   Jarque-Bera (JB):          1372805.310\n",
      "Skew:                           7.244   Prob(JB):                         0.00\n",
      "Kurtosis:                      91.134   Cond. No.                         3.91\n",
      "==============================================================================\n",
      "\n",
      "Warnings:\n",
      "[1] Standard Errors assume that the covariance matrix of the errors is correctly specified.\n"
     ]
    }
   ],
   "source": [
    "# regress RetLate2020 on 24 indicators\n",
    "Y = df2['RetLate2020']\n",
    "X = df2.drop(columns=['ticker', 'RetEarly2020', 'RetLate2020'])\n",
    "reg2 = sm.OLS(Y, X).fit()\n",
    "print(reg2.summary())"
   ]
  },
  {
   "cell_type": "code",
   "execution_count": 76,
   "metadata": {
    "colab": {
     "base_uri": "https://localhost:8080/"
    },
    "id": "gFlD0Bl6yyt9",
    "outputId": "29123801-1d8f-4907-b17c-e5ccb1007d9f"
   },
   "outputs": [
    {
     "name": "stdout",
     "output_type": "stream",
     "text": [
      "Highest: Automobiles & Components 2.2747520438955586\n",
      "Lowest: Food & Staples Retailing 0.31888394333019504\n"
     ]
    }
   ],
   "source": [
    "# find the highest and lowest returns\n",
    "print(\"Highest:\", reg2.params.idxmax(), reg2.params.max())\n",
    "print(\"Lowest:\", reg2.params.idxmin(), reg2.params.min())"
   ]
  },
  {
   "cell_type": "markdown",
   "metadata": {
    "id": "_5MpCsceoAg9"
   },
   "source": [
    "## Using 69 GICS Industries"
   ]
  },
  {
   "cell_type": "markdown",
   "metadata": {
    "id": "-LH2OJ2GoAg9"
   },
   "source": [
    "Create binary indicators for the 69 GICS Industries."
   ]
  },
  {
   "cell_type": "code",
   "execution_count": 77,
   "metadata": {
    "colab": {
     "base_uri": "https://localhost:8080/",
     "height": 186
    },
    "id": "aoZuJnZeoAg-",
    "outputId": "ec77bd86-9e90-43f2-8942-a78ac83f3f2d"
   },
   "outputs": [
    {
     "data": {
      "text/html": [
       "<div>\n",
       "<style scoped>\n",
       "    .dataframe tbody tr th:only-of-type {\n",
       "        vertical-align: middle;\n",
       "    }\n",
       "\n",
       "    .dataframe tbody tr th {\n",
       "        vertical-align: top;\n",
       "    }\n",
       "\n",
       "    .dataframe thead th {\n",
       "        text-align: right;\n",
       "    }\n",
       "</style>\n",
       "<table border=\"1\" class=\"dataframe\">\n",
       "  <thead>\n",
       "    <tr style=\"text-align: right;\">\n",
       "      <th></th>\n",
       "      <th>ticker</th>\n",
       "      <th>RetEarly2020</th>\n",
       "      <th>RetLate2020</th>\n",
       "      <th>Aerospace &amp; Defense</th>\n",
       "      <th>Air Freight &amp; Logistics</th>\n",
       "      <th>Airlines</th>\n",
       "      <th>Auto Components</th>\n",
       "      <th>Automobiles</th>\n",
       "      <th>Banks</th>\n",
       "      <th>Beverages</th>\n",
       "      <th>Biotechnology</th>\n",
       "      <th>Building Products</th>\n",
       "      <th>Capital Markets</th>\n",
       "      <th>Chemicals</th>\n",
       "      <th>Commercial Services &amp; Supplies</th>\n",
       "      <th>Communications Equipment</th>\n",
       "      <th>Construction &amp; Engineering</th>\n",
       "      <th>Construction Materials</th>\n",
       "      <th>Consumer Finance</th>\n",
       "      <th>Containers &amp; Packaging</th>\n",
       "      <th>Distributors</th>\n",
       "      <th>Diversified Consumer Services</th>\n",
       "      <th>Diversified Financial Services</th>\n",
       "      <th>Diversified Telecommunication Services</th>\n",
       "      <th>Electric Utilities</th>\n",
       "      <th>Electrical Equipment</th>\n",
       "      <th>Electronic Equipment, Instruments &amp; Components</th>\n",
       "      <th>Energy Equipment &amp; Services</th>\n",
       "      <th>Entertainment</th>\n",
       "      <th>Equity Real Estate Investment Trusts (REITs)</th>\n",
       "      <th>Food &amp; Staples Retailing</th>\n",
       "      <th>Food Products</th>\n",
       "      <th>Gas Utilities</th>\n",
       "      <th>Health Care Equipment &amp; Supplies</th>\n",
       "      <th>Health Care Providers &amp; Services</th>\n",
       "      <th>Health Care Technology</th>\n",
       "      <th>Hotels, Restaurants &amp; Leisure</th>\n",
       "      <th>Household Durables</th>\n",
       "      <th>Household Products</th>\n",
       "      <th>IT Services</th>\n",
       "      <th>Independent Power and Renewable Electricity Producers</th>\n",
       "      <th>Industrial Conglomerates</th>\n",
       "      <th>Insurance</th>\n",
       "      <th>Interactive Media &amp; Services</th>\n",
       "      <th>Internet &amp; Direct Marketing Retail</th>\n",
       "      <th>Leisure Products</th>\n",
       "      <th>Life Sciences Tools &amp; Services</th>\n",
       "      <th>Machinery</th>\n",
       "      <th>Marine</th>\n",
       "      <th>Media</th>\n",
       "      <th>Metals &amp; Mining</th>\n",
       "      <th>Mortgage Real Estate Investment Trusts (REITs)</th>\n",
       "      <th>Multi-Utilities</th>\n",
       "      <th>Multiline Retail</th>\n",
       "      <th>Oil, Gas &amp; Consumable Fuels</th>\n",
       "      <th>Paper &amp; Forest Products</th>\n",
       "      <th>Personal Products</th>\n",
       "      <th>Pharmaceuticals</th>\n",
       "      <th>Professional Services</th>\n",
       "      <th>Real Estate Management &amp; Development</th>\n",
       "      <th>Road &amp; Rail</th>\n",
       "      <th>Semiconductors &amp; Semiconductor Equipment</th>\n",
       "      <th>Software</th>\n",
       "      <th>Specialty Retail</th>\n",
       "      <th>Technology Hardware, Storage &amp; Peripherals</th>\n",
       "      <th>Textiles, Apparel &amp; Luxury Goods</th>\n",
       "      <th>Thrifts &amp; Mortgage Finance</th>\n",
       "      <th>Tobacco</th>\n",
       "      <th>Trading Companies &amp; Distributors</th>\n",
       "      <th>Transportation Infrastructure</th>\n",
       "      <th>Water Utilities</th>\n",
       "      <th>Wireless Telecommunication Services</th>\n",
       "    </tr>\n",
       "  </thead>\n",
       "  <tbody>\n",
       "    <tr>\n",
       "      <th>0</th>\n",
       "      <td>JJSF</td>\n",
       "      <td>-0.340234</td>\n",
       "      <td>0.30034</td>\n",
       "      <td>0</td>\n",
       "      <td>0</td>\n",
       "      <td>0</td>\n",
       "      <td>0</td>\n",
       "      <td>0</td>\n",
       "      <td>0</td>\n",
       "      <td>0</td>\n",
       "      <td>0</td>\n",
       "      <td>0</td>\n",
       "      <td>0</td>\n",
       "      <td>0</td>\n",
       "      <td>0</td>\n",
       "      <td>0</td>\n",
       "      <td>0</td>\n",
       "      <td>0</td>\n",
       "      <td>0</td>\n",
       "      <td>0</td>\n",
       "      <td>0</td>\n",
       "      <td>0</td>\n",
       "      <td>0</td>\n",
       "      <td>0</td>\n",
       "      <td>0</td>\n",
       "      <td>0</td>\n",
       "      <td>0</td>\n",
       "      <td>0</td>\n",
       "      <td>0</td>\n",
       "      <td>0</td>\n",
       "      <td>0</td>\n",
       "      <td>1</td>\n",
       "      <td>0</td>\n",
       "      <td>0</td>\n",
       "      <td>0</td>\n",
       "      <td>0</td>\n",
       "      <td>0</td>\n",
       "      <td>0</td>\n",
       "      <td>0</td>\n",
       "      <td>0</td>\n",
       "      <td>0</td>\n",
       "      <td>0</td>\n",
       "      <td>0</td>\n",
       "      <td>0</td>\n",
       "      <td>0</td>\n",
       "      <td>0</td>\n",
       "      <td>0</td>\n",
       "      <td>0</td>\n",
       "      <td>0</td>\n",
       "      <td>0</td>\n",
       "      <td>0</td>\n",
       "      <td>0</td>\n",
       "      <td>0</td>\n",
       "      <td>0</td>\n",
       "      <td>0</td>\n",
       "      <td>0</td>\n",
       "      <td>0</td>\n",
       "      <td>0</td>\n",
       "      <td>0</td>\n",
       "      <td>0</td>\n",
       "      <td>0</td>\n",
       "      <td>0</td>\n",
       "      <td>0</td>\n",
       "      <td>0</td>\n",
       "      <td>0</td>\n",
       "      <td>0</td>\n",
       "      <td>0</td>\n",
       "      <td>0</td>\n",
       "      <td>0</td>\n",
       "      <td>0</td>\n",
       "      <td>0</td>\n",
       "      <td>0</td>\n",
       "    </tr>\n",
       "  </tbody>\n",
       "</table>\n",
       "</div>"
      ],
      "text/plain": [
       "  ticker  RetEarly2020  ...  Water Utilities  Wireless Telecommunication Services\n",
       "0   JJSF     -0.340234  ...                0                                    0\n",
       "\n",
       "[1 rows x 72 columns]"
      ]
     },
     "execution_count": 77,
     "metadata": {
      "tags": []
     },
     "output_type": "execute_result"
    }
   ],
   "source": [
    "df2 = df[['ticker', 'RetEarly2020', 'RetLate2020', 'gind']].copy()\n",
    "df2 = pd.get_dummies(df2, columns=['gind'], prefix='', prefix_sep='')\n",
    "df2.head(1)"
   ]
  },
  {
   "cell_type": "code",
   "execution_count": 78,
   "metadata": {
    "colab": {
     "base_uri": "https://localhost:8080/"
    },
    "id": "pNKbVHfXoAg_",
    "outputId": "f2738c31-8eb3-4c38-9b45-283cac22f6eb"
   },
   "outputs": [
    {
     "name": "stdout",
     "output_type": "stream",
     "text": [
      "                            OLS Regression Results                            \n",
      "==============================================================================\n",
      "Dep. Variable:           RetEarly2020   R-squared:                       0.110\n",
      "Model:                            OLS   Adj. R-squared:                  0.095\n",
      "Method:                 Least Squares   F-statistic:                     7.361\n",
      "Date:                Mon, 05 Jul 2021   Prob (F-statistic):           1.68e-62\n",
      "Time:                        23:00:27   Log-Likelihood:                -1704.0\n",
      "No. Observations:                4130   AIC:                             3546.\n",
      "Df Residuals:                    4061   BIC:                             3982.\n",
      "Df Model:                          68                                         \n",
      "Covariance Type:            nonrobust                                         \n",
      "=========================================================================================================================\n",
      "                                                            coef    std err          t      P>|t|      [0.025      0.975]\n",
      "-------------------------------------------------------------------------------------------------------------------------\n",
      "Aerospace & Defense                                      -0.3166      0.056     -5.632      0.000      -0.427      -0.206\n",
      "Air Freight & Logistics                                  -0.1790      0.099     -1.817      0.069      -0.372       0.014\n",
      "Airlines                                                 -0.5370      0.092     -5.827      0.000      -0.718      -0.356\n",
      "Auto Components                                          -0.4500      0.064     -7.012      0.000      -0.576      -0.324\n",
      "Automobiles                                              -0.3314      0.092     -3.596      0.000      -0.512      -0.151\n",
      "Banks                                                    -0.3694      0.020    -18.259      0.000      -0.409      -0.330\n",
      "Beverages                                                -0.2993      0.077     -3.893      0.000      -0.450      -0.149\n",
      "Biotechnology                                            -0.1032      0.022     -4.610      0.000      -0.147      -0.059\n",
      "Building Products                                        -0.2599      0.065     -3.988      0.000      -0.388      -0.132\n",
      "Capital Markets                                          -0.3223      0.031    -10.528      0.000      -0.382      -0.262\n",
      "Chemicals                                                -0.3652      0.041     -8.915      0.000      -0.445      -0.285\n",
      "Commercial Services & Supplies                           -0.3526      0.045     -7.888      0.000      -0.440      -0.265\n",
      "Communications Equipment                                 -0.2576      0.048     -5.368      0.000      -0.352      -0.164\n",
      "Construction & Engineering                               -0.2379      0.066     -3.593      0.000      -0.368      -0.108\n",
      "Construction Materials                                   -0.3741      0.102     -3.659      0.000      -0.575      -0.174\n",
      "Consumer Finance                                         -0.3895      0.058     -6.765      0.000      -0.502      -0.277\n",
      "Containers & Packaging                                   -0.2514      0.085     -2.972      0.003      -0.417      -0.086\n",
      "Distributors                                             -0.2919      0.123     -2.376      0.018      -0.533      -0.051\n",
      "Diversified Consumer Services                            -0.1957      0.054     -3.640      0.000      -0.301      -0.090\n",
      "Diversified Financial Services                           -0.2570      0.106     -2.415      0.016      -0.466      -0.048\n",
      "Diversified Telecommunication Services                   -0.1660      0.070     -2.383      0.017      -0.303      -0.029\n",
      "Electric Utilities                                       -0.2192      0.061     -3.567      0.000      -0.340      -0.099\n",
      "Electrical Equipment                                     -0.3137      0.056     -5.645      0.000      -0.423      -0.205\n",
      "Electronic Equipment, Instruments & Components           -0.2808      0.038     -7.345      0.000      -0.356      -0.206\n",
      "Energy Equipment & Services                              -0.6482      0.046    -13.957      0.000      -0.739      -0.557\n",
      "Entertainment                                            -0.2123      0.058     -3.642      0.000      -0.327      -0.098\n",
      "Equity Real Estate Investment Trusts (REITs)             -0.3344      0.028    -12.000      0.000      -0.389      -0.280\n",
      "Food & Staples Retailing                                 -0.0557      0.071     -0.786      0.432      -0.195       0.083\n",
      "Food Products                                            -0.2122      0.047     -4.497      0.000      -0.305      -0.120\n",
      "Gas Utilities                                            -0.1682      0.102     -1.645      0.100      -0.369       0.032\n",
      "Health Care Equipment & Supplies                         -0.0874      0.030     -2.941      0.003      -0.146      -0.029\n",
      "Health Care Providers & Services                         -0.2086      0.041     -5.030      0.000      -0.290      -0.127\n",
      "Health Care Technology                                   -0.0934      0.074     -1.267      0.205      -0.238       0.051\n",
      "Hotels, Restaurants & Leisure                            -0.4925      0.037    -13.292      0.000      -0.565      -0.420\n",
      "Household Durables                                       -0.4089      0.049     -8.301      0.000      -0.506      -0.312\n",
      "Household Products                                       -0.0613      0.111     -0.552      0.581      -0.279       0.157\n",
      "IT Services                                              -0.2576      0.037     -6.918      0.000      -0.331      -0.185\n",
      "Independent Power and Renewable Electricity Producers    -0.1834      0.092     -1.990      0.047      -0.364      -0.003\n",
      "Industrial Conglomerates                                 -0.2752      0.130     -2.111      0.035      -0.531      -0.020\n",
      "Insurance                                                -0.2401      0.036     -6.674      0.000      -0.311      -0.170\n",
      "Interactive Media & Services                             -0.2909      0.056     -5.175      0.000      -0.401      -0.181\n",
      "Internet & Direct Marketing Retail                       -0.1593      0.052     -3.056      0.002      -0.262      -0.057\n",
      "Leisure Products                                         -0.2721      0.082     -3.301      0.001      -0.434      -0.110\n",
      "Life Sciences Tools & Services                           -0.1761      0.063     -2.785      0.005      -0.300      -0.052\n",
      "Machinery                                                -0.3385      0.035     -9.630      0.000      -0.407      -0.270\n",
      "Marine                                                   -0.4855      0.075     -6.452      0.000      -0.633      -0.338\n",
      "Media                                                    -0.3554      0.047     -7.591      0.000      -0.447      -0.264\n",
      "Metals & Mining                                          -0.3681      0.038     -9.682      0.000      -0.443      -0.294\n",
      "Mortgage Real Estate Investment Trusts (REITs)           -0.5709      0.061     -9.420      0.000      -0.690      -0.452\n",
      "Multi-Utilities                                          -0.1570      0.087     -1.807      0.071      -0.327       0.013\n",
      "Multiline Retail                                         -0.4428      0.117     -3.798      0.000      -0.671      -0.214\n",
      "Oil, Gas & Consumable Fuels                              -0.5239      0.025    -20.837      0.000      -0.573      -0.475\n",
      "Paper & Forest Products                                  -0.3852      0.111     -3.466      0.001      -0.603      -0.167\n",
      "Personal Products                                        -0.2388      0.074     -3.238      0.001      -0.383      -0.094\n",
      "Pharmaceuticals                                          -0.2409      0.035     -6.792      0.000      -0.310      -0.171\n",
      "Professional Services                                    -0.2859      0.048     -5.907      0.000      -0.381      -0.191\n",
      "Real Estate Management & Development                     -0.3343      0.057     -5.877      0.000      -0.446      -0.223\n",
      "Road & Rail                                              -0.2415      0.068     -3.527      0.000      -0.376      -0.107\n",
      "Semiconductors & Semiconductor Equipment                 -0.2201      0.037     -5.971      0.000      -0.292      -0.148\n",
      "Software                                                 -0.1633      0.027     -6.074      0.000      -0.216      -0.111\n",
      "Specialty Retail                                         -0.4627      0.040    -11.434      0.000      -0.542      -0.383\n",
      "Technology Hardware, Storage & Peripherals               -0.3693      0.070     -5.300      0.000      -0.506      -0.233\n",
      "Textiles, Apparel & Luxury Goods                         -0.4130      0.057     -7.260      0.000      -0.524      -0.301\n",
      "Thrifts & Mortgage Finance                               -0.3151      0.042     -7.453      0.000      -0.398      -0.232\n",
      "Tobacco                                                  -0.2271      0.139     -1.630      0.103      -0.500       0.046\n",
      "Trading Companies & Distributors                         -0.4217      0.056     -7.589      0.000      -0.531      -0.313\n",
      "Transportation Infrastructure                            -0.4759      0.150     -3.162      0.002      -0.771      -0.181\n",
      "Water Utilities                                          -0.0953      0.106     -0.896      0.370      -0.304       0.113\n",
      "Wireless Telecommunication Services                      -0.1928      0.087     -2.219      0.027      -0.363      -0.022\n",
      "==============================================================================\n",
      "Omnibus:                     8337.693   Durbin-Watson:                   1.950\n",
      "Prob(Omnibus):                  0.000   Jarque-Bera (JB):         44261418.235\n",
      "Skew:                          16.133   Prob(JB):                         0.00\n",
      "Kurtosis:                     509.131   Cond. No.                         7.44\n",
      "==============================================================================\n",
      "\n",
      "Warnings:\n",
      "[1] Standard Errors assume that the covariance matrix of the errors is correctly specified.\n"
     ]
    }
   ],
   "source": [
    "# regress RetEarly2020 on 69 indicators\n",
    "Y = df2['RetEarly2020']\n",
    "X = df2.drop(columns=['ticker', 'RetEarly2020', 'RetLate2020'])\n",
    "reg1 = sm.OLS(Y, X).fit()\n",
    "print(reg1.summary())"
   ]
  },
  {
   "cell_type": "code",
   "execution_count": 79,
   "metadata": {
    "colab": {
     "base_uri": "https://localhost:8080/"
    },
    "id": "FXB_UAJMy1k1",
    "outputId": "53ba6667-a893-43b5-ddb2-3bda6ee21d31"
   },
   "outputs": [
    {
     "name": "stdout",
     "output_type": "stream",
     "text": [
      "Highest: Food & Staples Retailing -0.055730434846246284\n",
      "Lowest: Energy Equipment & Services -0.648216098869443\n"
     ]
    }
   ],
   "source": [
    "# find the highest and lowest returns\n",
    "print(\"Highest:\", reg1.params.idxmax(), reg1.params.max())\n",
    "print(\"Lowest:\", reg1.params.idxmin(), reg1.params.min())"
   ]
  },
  {
   "cell_type": "code",
   "execution_count": 80,
   "metadata": {
    "colab": {
     "base_uri": "https://localhost:8080/"
    },
    "id": "3xlgpoCJoAg_",
    "outputId": "45129311-77a8-4762-c630-5bc637586011"
   },
   "outputs": [
    {
     "name": "stdout",
     "output_type": "stream",
     "text": [
      "                            OLS Regression Results                            \n",
      "==============================================================================\n",
      "Dep. Variable:            RetLate2020   R-squared:                       0.108\n",
      "Model:                            OLS   Adj. R-squared:                  0.094\n",
      "Method:                 Least Squares   F-statistic:                     7.264\n",
      "Date:                Mon, 05 Jul 2021   Prob (F-statistic):           2.17e-61\n",
      "Time:                        23:00:27   Log-Likelihood:                -7510.3\n",
      "No. Observations:                4130   AIC:                         1.516e+04\n",
      "Df Residuals:                    4061   BIC:                         1.560e+04\n",
      "Df Model:                          68                                         \n",
      "Covariance Type:            nonrobust                                         \n",
      "=========================================================================================================================\n",
      "                                                            coef    std err          t      P>|t|      [0.025      0.975]\n",
      "-------------------------------------------------------------------------------------------------------------------------\n",
      "Aerospace & Defense                                       0.5823      0.229      2.539      0.011       0.133       1.032\n",
      "Air Freight & Logistics                                   0.6081      0.402      1.513      0.130      -0.180       1.396\n",
      "Airlines                                                  0.7710      0.376      2.051      0.040       0.034       1.508\n",
      "Auto Components                                           1.5563      0.262      5.945      0.000       1.043       2.069\n",
      "Automobiles                                               3.7566      0.376      9.993      0.000       3.020       4.494\n",
      "Banks                                                     0.4110      0.083      4.980      0.000       0.249       0.573\n",
      "Beverages                                                 0.9561      0.314      3.049      0.002       0.341       1.571\n",
      "Biotechnology                                             0.8759      0.091      9.589      0.000       0.697       1.055\n",
      "Building Products                                         0.9424      0.266      3.545      0.000       0.421       1.464\n",
      "Capital Markets                                           0.8089      0.125      6.477      0.000       0.564       1.054\n",
      "Chemicals                                                 1.0605      0.167      6.347      0.000       0.733       1.388\n",
      "Commercial Services & Supplies                            0.7888      0.182      4.325      0.000       0.431       1.146\n",
      "Communications Equipment                                  0.7421      0.196      3.791      0.000       0.358       1.126\n",
      "Construction & Engineering                                1.3734      0.270      5.085      0.000       0.844       1.903\n",
      "Construction Materials                                    0.7973      0.417      1.912      0.056      -0.020       1.615\n",
      "Consumer Finance                                          0.7741      0.235      3.296      0.001       0.314       1.235\n",
      "Containers & Packaging                                    0.5840      0.345      1.693      0.091      -0.092       1.260\n",
      "Distributors                                              0.9169      0.501      1.829      0.067      -0.066       1.900\n",
      "Diversified Consumer Services                             0.5550      0.219      2.530      0.011       0.125       0.985\n",
      "Diversified Financial Services                            0.5066      0.434      1.167      0.243      -0.344       1.358\n",
      "Diversified Telecommunication Services                    0.3643      0.284      1.282      0.200      -0.193       0.921\n",
      "Electric Utilities                                        0.2062      0.251      0.823      0.411      -0.285       0.698\n",
      "Electrical Equipment                                      2.3106      0.227     10.192      0.000       1.866       2.755\n",
      "Electronic Equipment, Instruments & Components            1.2866      0.156      8.251      0.000       0.981       1.592\n",
      "Energy Equipment & Services                               1.0587      0.189      5.588      0.000       0.687       1.430\n",
      "Entertainment                                             0.7716      0.238      3.245      0.001       0.305       1.238\n",
      "Equity Real Estate Investment Trusts (REITs)              0.3900      0.114      3.431      0.001       0.167       0.613\n",
      "Food & Staples Retailing                                  0.3189      0.289      1.102      0.271      -0.248       0.886\n",
      "Food Products                                             0.4715      0.193      2.449      0.014       0.094       0.849\n",
      "Gas Utilities                                             0.0363      0.417      0.087      0.931      -0.781       0.854\n",
      "Health Care Equipment & Supplies                          0.6517      0.121      5.378      0.000       0.414       0.889\n",
      "Health Care Providers & Services                          0.7400      0.169      4.374      0.000       0.408       1.072\n",
      "Health Care Technology                                    0.8060      0.301      2.680      0.007       0.216       1.396\n",
      "Hotels, Restaurants & Leisure                             1.2624      0.151      8.353      0.000       0.966       1.559\n",
      "Household Durables                                        2.2537      0.201     11.215      0.000       1.860       2.648\n",
      "Household Products                                        0.4950      0.453      1.092      0.275      -0.394       1.384\n",
      "IT Services                                               1.1199      0.152      7.373      0.000       0.822       1.418\n",
      "Independent Power and Renewable Electricity Producers     1.5159      0.376      4.032      0.000       0.779       2.253\n",
      "Industrial Conglomerates                                  0.4603      0.532      0.866      0.387      -0.582       1.503\n",
      "Insurance                                                 0.3677      0.147      2.506      0.012       0.080       0.655\n",
      "Interactive Media & Services                              1.1230      0.229      4.897      0.000       0.673       1.573\n",
      "Internet & Direct Marketing Retail                        2.0563      0.213      9.669      0.000       1.639       2.473\n",
      "Leisure Products                                          1.8269      0.336      5.433      0.000       1.168       2.486\n",
      "Life Sciences Tools & Services                            1.1981      0.258      4.646      0.000       0.693       1.704\n",
      "Machinery                                                 0.9775      0.143      6.817      0.000       0.696       1.259\n",
      "Marine                                                    0.7274      0.307      2.370      0.018       0.126       1.329\n",
      "Media                                                     0.6840      0.191      3.582      0.000       0.310       1.058\n",
      "Metals & Mining                                           1.2073      0.155      7.784      0.000       0.903       1.511\n",
      "Mortgage Real Estate Investment Trusts (REITs)            0.9456      0.247      3.825      0.000       0.461       1.430\n",
      "Multi-Utilities                                           0.1353      0.354      0.382      0.703      -0.560       0.830\n",
      "Multiline Retail                                          1.2158      0.476      2.557      0.011       0.284       2.148\n",
      "Oil, Gas & Consumable Fuels                               0.8961      0.103      8.737      0.000       0.695       1.097\n",
      "Paper & Forest Products                                   0.9994      0.453      2.204      0.028       0.111       1.888\n",
      "Personal Products                                         0.7967      0.301      2.649      0.008       0.207       1.386\n",
      "Pharmaceuticals                                           0.3925      0.145      2.713      0.007       0.109       0.676\n",
      "Professional Services                                     0.6134      0.197      3.107      0.002       0.226       1.001\n",
      "Real Estate Management & Development                      0.6911      0.232      2.979      0.003       0.236       1.146\n",
      "Road & Rail                                               0.8776      0.279      3.143      0.002       0.330       1.425\n",
      "Semiconductors & Semiconductor Equipment                  1.3906      0.150      9.248      0.000       1.096       1.685\n",
      "Software                                                  1.1667      0.110     10.638      0.000       0.952       1.382\n",
      "Specialty Retail                                          2.6764      0.165     16.215      0.000       2.353       3.000\n",
      "Technology Hardware, Storage & Peripherals                1.2662      0.284      4.455      0.000       0.709       1.823\n",
      "Textiles, Apparel & Luxury Goods                          0.9463      0.232      4.078      0.000       0.491       1.401\n",
      "Thrifts & Mortgage Finance                                0.4584      0.172      2.657      0.008       0.120       0.797\n",
      "Tobacco                                                   0.5722      0.568      1.007      0.314      -0.542       1.687\n",
      "Trading Companies & Distributors                          1.3445      0.227      5.931      0.000       0.900       1.789\n",
      "Transportation Infrastructure                             0.7497      0.614      1.221      0.222      -0.454       1.953\n",
      "Water Utilities                                           0.1012      0.434      0.233      0.816      -0.750       0.952\n",
      "Wireless Telecommunication Services                       0.3994      0.354      1.127      0.260      -0.295       1.094\n",
      "==============================================================================\n",
      "Omnibus:                     5392.900   Durbin-Watson:                   1.946\n",
      "Prob(Omnibus):                  0.000   Jarque-Bera (JB):          1392755.810\n",
      "Skew:                           7.147   Prob(JB):                         0.00\n",
      "Kurtosis:                      91.821   Cond. No.                         7.44\n",
      "==============================================================================\n",
      "\n",
      "Warnings:\n",
      "[1] Standard Errors assume that the covariance matrix of the errors is correctly specified.\n"
     ]
    }
   ],
   "source": [
    "# regress RetLate2020 on 69 indicators\n",
    "Y = df2['RetLate2020']\n",
    "X = df2.drop(columns=['ticker', 'RetEarly2020', 'RetLate2020'])\n",
    "reg2 = sm.OLS(Y, X).fit()\n",
    "print(reg2.summary())"
   ]
  },
  {
   "cell_type": "code",
   "execution_count": 81,
   "metadata": {
    "colab": {
     "base_uri": "https://localhost:8080/"
    },
    "id": "KkCihWHYy238",
    "outputId": "a6b3a984-9053-4512-aa7b-e622672ddb14"
   },
   "outputs": [
    {
     "name": "stdout",
     "output_type": "stream",
     "text": [
      "Highest: Automobiles 3.756618195786346\n",
      "Lowest: Gas Utilities 0.03626746453508181\n"
     ]
    }
   ],
   "source": [
    "# find the highest and lowest returns\n",
    "print(\"Highest:\", reg2.params.idxmax(), reg2.params.max())\n",
    "print(\"Lowest:\", reg2.params.idxmin(), reg2.params.min())"
   ]
  },
  {
   "cell_type": "markdown",
   "metadata": {
    "id": "NTMHeFNbszBb"
   },
   "source": [
    "## Using 20 NAICS Sectors"
   ]
  },
  {
   "cell_type": "markdown",
   "metadata": {
    "id": "5cvC82fRszBl"
   },
   "source": [
    "Althought there are 20 NAICS sectors, only 19 are presented in our dataframe (no \"Management of Companies and Enterprises\"). \n",
    "\n",
    "Create binary indicators for the 19 NAICS Sectors."
   ]
  },
  {
   "cell_type": "code",
   "execution_count": 82,
   "metadata": {
    "colab": {
     "base_uri": "https://localhost:8080/",
     "height": 186
    },
    "id": "xYMUs87oszBl",
    "outputId": "c3648a5a-283e-405e-d0f4-230eafa809d7"
   },
   "outputs": [
    {
     "data": {
      "text/html": [
       "<div>\n",
       "<style scoped>\n",
       "    .dataframe tbody tr th:only-of-type {\n",
       "        vertical-align: middle;\n",
       "    }\n",
       "\n",
       "    .dataframe tbody tr th {\n",
       "        vertical-align: top;\n",
       "    }\n",
       "\n",
       "    .dataframe thead th {\n",
       "        text-align: right;\n",
       "    }\n",
       "</style>\n",
       "<table border=\"1\" class=\"dataframe\">\n",
       "  <thead>\n",
       "    <tr style=\"text-align: right;\">\n",
       "      <th></th>\n",
       "      <th>ticker</th>\n",
       "      <th>RetEarly2020</th>\n",
       "      <th>RetLate2020</th>\n",
       "      <th>Accommodation and Food Services</th>\n",
       "      <th>Administrative and Support and Waste Management and Remediation Services</th>\n",
       "      <th>Agriculture, Forestry, Fishing and Hunting</th>\n",
       "      <th>Arts, Entertainment, and Recreation</th>\n",
       "      <th>Construction</th>\n",
       "      <th>Educational Services</th>\n",
       "      <th>Finance and Insurance</th>\n",
       "      <th>Health Care and Social Assistance</th>\n",
       "      <th>Information</th>\n",
       "      <th>Manufacturing</th>\n",
       "      <th>Mining, Quarrying, and Oil and Gas Extraction</th>\n",
       "      <th>Other Services</th>\n",
       "      <th>Professional, Scientific, and Technical Services</th>\n",
       "      <th>Public Administration</th>\n",
       "      <th>Real Estate and Rental and Leasing</th>\n",
       "      <th>Retail Trade</th>\n",
       "      <th>Transportation and Warehousing</th>\n",
       "      <th>Utilities</th>\n",
       "      <th>Wholesale Trade</th>\n",
       "    </tr>\n",
       "  </thead>\n",
       "  <tbody>\n",
       "    <tr>\n",
       "      <th>0</th>\n",
       "      <td>JJSF</td>\n",
       "      <td>-0.340234</td>\n",
       "      <td>0.30034</td>\n",
       "      <td>0</td>\n",
       "      <td>0</td>\n",
       "      <td>0</td>\n",
       "      <td>0</td>\n",
       "      <td>0</td>\n",
       "      <td>0</td>\n",
       "      <td>0</td>\n",
       "      <td>0</td>\n",
       "      <td>0</td>\n",
       "      <td>1</td>\n",
       "      <td>0</td>\n",
       "      <td>0</td>\n",
       "      <td>0</td>\n",
       "      <td>0</td>\n",
       "      <td>0</td>\n",
       "      <td>0</td>\n",
       "      <td>0</td>\n",
       "      <td>0</td>\n",
       "      <td>0</td>\n",
       "    </tr>\n",
       "  </tbody>\n",
       "</table>\n",
       "</div>"
      ],
      "text/plain": [
       "  ticker  RetEarly2020  ...  Utilities  Wholesale Trade\n",
       "0   JJSF     -0.340234  ...          0                0\n",
       "\n",
       "[1 rows x 22 columns]"
      ]
     },
     "execution_count": 82,
     "metadata": {
      "tags": []
     },
     "output_type": "execute_result"
    }
   ],
   "source": [
    "df2 = df[['ticker', 'RetEarly2020', 'RetLate2020', 'nsector']].copy()\n",
    "df2 = pd.get_dummies(df2, columns=['nsector'], prefix='', prefix_sep='')\n",
    "df2.head(1)"
   ]
  },
  {
   "cell_type": "code",
   "execution_count": 83,
   "metadata": {
    "colab": {
     "base_uri": "https://localhost:8080/"
    },
    "id": "iPRuS9soszBm",
    "outputId": "f0720edc-f2c1-4ea6-acd9-fb551fd9b300"
   },
   "outputs": [
    {
     "name": "stdout",
     "output_type": "stream",
     "text": [
      "                            OLS Regression Results                            \n",
      "==============================================================================\n",
      "Dep. Variable:           RetEarly2020   R-squared:                       0.044\n",
      "Model:                            OLS   Adj. R-squared:                  0.040\n",
      "Method:                 Least Squares   F-statistic:                     10.58\n",
      "Date:                Mon, 05 Jul 2021   Prob (F-statistic):           4.97e-30\n",
      "Time:                        23:00:27   Log-Likelihood:                -1850.5\n",
      "No. Observations:                4130   AIC:                             3739.\n",
      "Df Residuals:                    4111   BIC:                             3859.\n",
      "Df Model:                          18                                         \n",
      "Covariance Type:            nonrobust                                         \n",
      "============================================================================================================================================\n",
      "                                                                               coef    std err          t      P>|t|      [0.025      0.975]\n",
      "--------------------------------------------------------------------------------------------------------------------------------------------\n",
      "Accommodation and Food Services                                             -0.4525      0.046     -9.902      0.000      -0.542      -0.363\n",
      "Administrative and Support and Waste Management and Remediation Services    -0.3502      0.044     -7.882      0.000      -0.437      -0.263\n",
      "Agriculture, Forestry, Fishing and Hunting                                  -0.2129      0.120     -1.774      0.076      -0.448       0.022\n",
      "Arts, Entertainment, and Recreation                                         -0.4372      0.081     -5.402      0.000      -0.596      -0.279\n",
      "Construction                                                                -0.3893      0.053     -7.395      0.000      -0.493      -0.286\n",
      "Educational Services                                                        -0.1231      0.063     -1.945      0.052      -0.247       0.001\n",
      "Finance and Insurance                                                       -0.3444      0.014    -24.864      0.000      -0.372      -0.317\n",
      "Health Care and Social Assistance                                           -0.2270      0.052     -4.353      0.000      -0.329      -0.125\n",
      "Information                                                                 -0.2120      0.018    -12.006      0.000      -0.247      -0.177\n",
      "Manufacturing                                                               -0.2504      0.010    -25.786      0.000      -0.269      -0.231\n",
      "Mining, Quarrying, and Oil and Gas Extraction                               -0.5372      0.027    -19.609      0.000      -0.591      -0.484\n",
      "Other Services                                                              -0.4131      0.127     -3.265      0.001      -0.661      -0.165\n",
      "Professional, Scientific, and Technical Services                            -0.2669      0.035     -7.605      0.000      -0.336      -0.198\n",
      "Public Administration                                                       -0.3726      0.170     -2.195      0.028      -0.705      -0.040\n",
      "Real Estate and Rental and Leasing                                          -0.3408      0.023    -14.613      0.000      -0.387      -0.295\n",
      "Retail Trade                                                                -0.3354      0.032    -10.564      0.000      -0.398      -0.273\n",
      "Transportation and Warehousing                                              -0.4049      0.032    -12.666      0.000      -0.468      -0.342\n",
      "Utilities                                                                   -0.1909      0.039     -4.928      0.000      -0.267      -0.115\n",
      "Wholesale Trade                                                             -0.3366      0.037     -9.129      0.000      -0.409      -0.264\n",
      "==============================================================================\n",
      "Omnibus:                     8132.646   Durbin-Watson:                   1.956\n",
      "Prob(Omnibus):                  0.000   Jarque-Bera (JB):         37151715.592\n",
      "Skew:                          15.270   Prob(JB):                         0.00\n",
      "Kurtosis:                     466.639   Cond. No.                         17.5\n",
      "==============================================================================\n",
      "\n",
      "Warnings:\n",
      "[1] Standard Errors assume that the covariance matrix of the errors is correctly specified.\n"
     ]
    }
   ],
   "source": [
    "# regress RetEarly2020 on 19 indicators\n",
    "Y = df2['RetEarly2020']\n",
    "X = df2.drop(columns=['ticker', 'RetEarly2020', 'RetLate2020'])\n",
    "reg1 = sm.OLS(Y, X).fit()\n",
    "print(reg1.summary())"
   ]
  },
  {
   "cell_type": "code",
   "execution_count": 84,
   "metadata": {
    "colab": {
     "base_uri": "https://localhost:8080/"
    },
    "id": "PVKY3Nc6y4bM",
    "outputId": "6ad3cb0c-042f-4fa8-8c31-bf0971843a44"
   },
   "outputs": [
    {
     "name": "stdout",
     "output_type": "stream",
     "text": [
      "Highest: Educational Services -0.12306387186084192\n",
      "Lowest: Mining, Quarrying, and Oil and Gas Extraction -0.5372280583538552\n"
     ]
    }
   ],
   "source": [
    "# find the highest and lowest returns\n",
    "print(\"Highest:\", reg1.params.idxmax(), reg1.params.max())\n",
    "print(\"Lowest:\", reg1.params.idxmin(), reg1.params.min())"
   ]
  },
  {
   "cell_type": "code",
   "execution_count": 85,
   "metadata": {
    "colab": {
     "base_uri": "https://localhost:8080/"
    },
    "id": "JcZ7WOqxszBm",
    "outputId": "3a03a01e-8d09-4111-e18c-a5b1ba9986fe"
   },
   "outputs": [
    {
     "name": "stdout",
     "output_type": "stream",
     "text": [
      "                            OLS Regression Results                            \n",
      "==============================================================================\n",
      "Dep. Variable:            RetLate2020   R-squared:                       0.044\n",
      "Model:                            OLS   Adj. R-squared:                  0.040\n",
      "Method:                 Least Squares   F-statistic:                     10.53\n",
      "Date:                Mon, 05 Jul 2021   Prob (F-statistic):           7.39e-30\n",
      "Time:                        23:00:27   Log-Likelihood:                -7654.3\n",
      "No. Observations:                4130   AIC:                         1.535e+04\n",
      "Df Residuals:                    4111   BIC:                         1.547e+04\n",
      "Df Model:                          18                                         \n",
      "Covariance Type:            nonrobust                                         \n",
      "============================================================================================================================================\n",
      "                                                                               coef    std err          t      P>|t|      [0.025      0.975]\n",
      "--------------------------------------------------------------------------------------------------------------------------------------------\n",
      "Accommodation and Food Services                                              1.1749      0.186      6.306      0.000       0.810       1.540\n",
      "Administrative and Support and Waste Management and Remediation Services     0.8573      0.181      4.733      0.000       0.502       1.212\n",
      "Agriculture, Forestry, Fishing and Hunting                                   0.5553      0.489      1.135      0.257      -0.404       1.515\n",
      "Arts, Entertainment, and Recreation                                          1.1178      0.330      3.388      0.001       0.471       1.765\n",
      "Construction                                                                 1.3564      0.215      6.320      0.000       0.936       1.777\n",
      "Educational Services                                                         0.3130      0.258      1.214      0.225      -0.193       0.819\n",
      "Finance and Insurance                                                        0.5362      0.056      9.496      0.000       0.426       0.647\n",
      "Health Care and Social Assistance                                            0.8497      0.213      3.997      0.000       0.433       1.266\n",
      "Information                                                                  1.0529      0.072     14.624      0.000       0.912       1.194\n",
      "Manufacturing                                                                1.0501      0.040     26.524      0.000       0.972       1.128\n",
      "Mining, Quarrying, and Oil and Gas Extraction                                1.1648      0.112     10.429      0.000       0.946       1.384\n",
      "Other Services                                                               3.3817      0.516      6.555      0.000       2.370       4.393\n",
      "Professional, Scientific, and Technical Services                             0.7151      0.143      4.998      0.000       0.435       0.996\n",
      "Public Administration                                                        0.3963      0.692      0.573      0.567      -0.961       1.753\n",
      "Real Estate and Rental and Leasing                                           0.5619      0.095      5.911      0.000       0.376       0.748\n",
      "Retail Trade                                                                 1.8607      0.129     14.377      0.000       1.607       2.114\n",
      "Transportation and Warehousing                                               0.6201      0.130      4.758      0.000       0.365       0.876\n",
      "Utilities                                                                    0.3355      0.158      2.124      0.034       0.026       0.645\n",
      "Wholesale Trade                                                              0.8243      0.150      5.483      0.000       0.530       1.119\n",
      "==============================================================================\n",
      "Omnibus:                     5361.376   Durbin-Watson:                   1.955\n",
      "Prob(Omnibus):                  0.000   Jarque-Bera (JB):          1266193.827\n",
      "Skew:                           7.107   Prob(JB):                         0.00\n",
      "Kurtosis:                      87.593   Cond. No.                         17.5\n",
      "==============================================================================\n",
      "\n",
      "Warnings:\n",
      "[1] Standard Errors assume that the covariance matrix of the errors is correctly specified.\n"
     ]
    }
   ],
   "source": [
    "# regress RetLate2020 on 19 indicators\n",
    "Y = df2['RetLate2020']\n",
    "X = df2.drop(columns=['ticker', 'RetEarly2020', 'RetLate2020'])\n",
    "reg2 = sm.OLS(Y, X).fit()\n",
    "print(reg2.summary())"
   ]
  },
  {
   "cell_type": "code",
   "execution_count": 86,
   "metadata": {
    "colab": {
     "base_uri": "https://localhost:8080/"
    },
    "id": "5yGzdRg0zBeX",
    "outputId": "1d838bbd-40bf-439d-f5fc-26fed2043140"
   },
   "outputs": [
    {
     "name": "stdout",
     "output_type": "stream",
     "text": [
      "Highest: Other Services 3.381705505613294\n",
      "Lowest: Educational Services 0.31300909334690385\n"
     ]
    }
   ],
   "source": [
    "# find the highest and lowest returns\n",
    "print(\"Highest:\", reg2.params.idxmax(), reg2.params.max())\n",
    "print(\"Lowest:\", reg2.params.idxmin(), reg2.params.min())"
   ]
  },
  {
   "cell_type": "markdown",
   "metadata": {
    "id": "7bsxl0qaszBm"
   },
   "source": [
    "## Using 10 SIC Industry Groups"
   ]
  },
  {
   "cell_type": "markdown",
   "metadata": {
    "id": "zZJ9whYBszBm"
   },
   "source": [
    "Create binary indicators for the 10 SIC Industry Groups."
   ]
  },
  {
   "cell_type": "code",
   "execution_count": 87,
   "metadata": {
    "colab": {
     "base_uri": "https://localhost:8080/",
     "height": 169
    },
    "id": "i6QYqKwRszBm",
    "outputId": "6a268770-6b9d-423b-816f-ec91b678aa24"
   },
   "outputs": [
    {
     "data": {
      "text/html": [
       "<div>\n",
       "<style scoped>\n",
       "    .dataframe tbody tr th:only-of-type {\n",
       "        vertical-align: middle;\n",
       "    }\n",
       "\n",
       "    .dataframe tbody tr th {\n",
       "        vertical-align: top;\n",
       "    }\n",
       "\n",
       "    .dataframe thead th {\n",
       "        text-align: right;\n",
       "    }\n",
       "</style>\n",
       "<table border=\"1\" class=\"dataframe\">\n",
       "  <thead>\n",
       "    <tr style=\"text-align: right;\">\n",
       "      <th></th>\n",
       "      <th>ticker</th>\n",
       "      <th>RetEarly2020</th>\n",
       "      <th>RetLate2020</th>\n",
       "      <th>Agriculture, Forestry and Fishing</th>\n",
       "      <th>Construction</th>\n",
       "      <th>Finance, Insurance and Real Estate</th>\n",
       "      <th>Manufacturing</th>\n",
       "      <th>Mining</th>\n",
       "      <th>Nonclassifiable</th>\n",
       "      <th>Retail Trade</th>\n",
       "      <th>Services</th>\n",
       "      <th>Transportation, Communications, Electric, Gas and Sanitary service</th>\n",
       "      <th>Wholesale Trade</th>\n",
       "    </tr>\n",
       "  </thead>\n",
       "  <tbody>\n",
       "    <tr>\n",
       "      <th>0</th>\n",
       "      <td>JJSF</td>\n",
       "      <td>-0.340234</td>\n",
       "      <td>0.30034</td>\n",
       "      <td>0</td>\n",
       "      <td>0</td>\n",
       "      <td>0</td>\n",
       "      <td>1</td>\n",
       "      <td>0</td>\n",
       "      <td>0</td>\n",
       "      <td>0</td>\n",
       "      <td>0</td>\n",
       "      <td>0</td>\n",
       "      <td>0</td>\n",
       "    </tr>\n",
       "  </tbody>\n",
       "</table>\n",
       "</div>"
      ],
      "text/plain": [
       "  ticker  ...  Wholesale Trade\n",
       "0   JJSF  ...                0\n",
       "\n",
       "[1 rows x 13 columns]"
      ]
     },
     "execution_count": 87,
     "metadata": {
      "tags": []
     },
     "output_type": "execute_result"
    }
   ],
   "source": [
    "df2 = df[['ticker', 'RetEarly2020', 'RetLate2020', 'sgroup']].copy()\n",
    "df2 = pd.get_dummies(df2, columns=['sgroup'], prefix='', prefix_sep='')\n",
    "df2.head(1)"
   ]
  },
  {
   "cell_type": "code",
   "execution_count": 88,
   "metadata": {
    "colab": {
     "base_uri": "https://localhost:8080/"
    },
    "id": "Qo74kn6iszBn",
    "outputId": "aaeeefdf-e144-4bce-8fc7-3447da640dc2"
   },
   "outputs": [
    {
     "name": "stdout",
     "output_type": "stream",
     "text": [
      "                            OLS Regression Results                            \n",
      "==============================================================================\n",
      "Dep. Variable:           RetEarly2020   R-squared:                       0.032\n",
      "Model:                            OLS   Adj. R-squared:                  0.030\n",
      "Method:                 Least Squares   F-statistic:                     15.29\n",
      "Date:                Mon, 05 Jul 2021   Prob (F-statistic):           8.85e-25\n",
      "Time:                        23:00:28   Log-Likelihood:                -1876.2\n",
      "No. Observations:                4130   AIC:                             3772.\n",
      "Df Residuals:                    4120   BIC:                             3836.\n",
      "Df Model:                           9                                         \n",
      "Covariance Type:            nonrobust                                         \n",
      "======================================================================================================================================\n",
      "                                                                         coef    std err          t      P>|t|      [0.025      0.975]\n",
      "--------------------------------------------------------------------------------------------------------------------------------------\n",
      "Agriculture, Forestry and Fishing                                     -0.2249      0.115     -1.955      0.051      -0.450       0.001\n",
      "Construction                                                          -0.3731      0.058     -6.411      0.000      -0.487      -0.259\n",
      "Finance, Insurance and Real Estate                                    -0.3410      0.012    -28.207      0.000      -0.365      -0.317\n",
      "Manufacturing                                                         -0.2513      0.010    -25.831      0.000      -0.270      -0.232\n",
      "Mining                                                                -0.5427      0.027    -19.758      0.000      -0.597      -0.489\n",
      "Nonclassifiable                                                       -0.3505      0.156     -2.250      0.024      -0.656      -0.045\n",
      "Retail Trade                                                          -0.3622      0.028    -13.051      0.000      -0.417      -0.308\n",
      "Services                                                              -0.2445      0.014    -16.890      0.000      -0.273      -0.216\n",
      "Transportation, Communications, Electric, Gas and Sanitary service    -0.3071      0.020    -15.101      0.000      -0.347      -0.267\n",
      "Wholesale Trade                                                       -0.3366      0.037     -9.083      0.000      -0.409      -0.264\n",
      "==============================================================================\n",
      "Omnibus:                     8070.000   Durbin-Watson:                   1.952\n",
      "Prob(Omnibus):                  0.000   Jarque-Bera (JB):         35389119.992\n",
      "Skew:                          15.012   Prob(JB):                         0.00\n",
      "Kurtosis:                     455.493   Cond. No.                         16.0\n",
      "==============================================================================\n",
      "\n",
      "Warnings:\n",
      "[1] Standard Errors assume that the covariance matrix of the errors is correctly specified.\n"
     ]
    }
   ],
   "source": [
    "# regress RetEarly2020 on 10 indicators\n",
    "Y = df2['RetEarly2020']\n",
    "X = df2.drop(columns=['ticker', 'RetEarly2020', 'RetLate2020'])\n",
    "reg1 = sm.OLS(Y, X).fit()\n",
    "print(reg1.summary())"
   ]
  },
  {
   "cell_type": "code",
   "execution_count": 89,
   "metadata": {
    "colab": {
     "base_uri": "https://localhost:8080/"
    },
    "id": "pew9-0GYy5v8",
    "outputId": "a6a6b0a7-a439-40ab-e22b-27b435b7e93e"
   },
   "outputs": [
    {
     "name": "stdout",
     "output_type": "stream",
     "text": [
      "Highest: Agriculture, Forestry and Fishing -0.22489510749355432\n",
      "Lowest: Mining -0.5426667053652766\n"
     ]
    }
   ],
   "source": [
    "# find the highest and lowest returns\n",
    "print(\"Highest:\", reg1.params.idxmax(), reg1.params.max())\n",
    "print(\"Lowest:\", reg1.params.idxmin(), reg1.params.min())"
   ]
  },
  {
   "cell_type": "code",
   "execution_count": 90,
   "metadata": {
    "colab": {
     "base_uri": "https://localhost:8080/"
    },
    "id": "dTMqIdhPszBn",
    "outputId": "ae46168f-bc68-4457-f5c8-409142c60a16"
   },
   "outputs": [
    {
     "name": "stdout",
     "output_type": "stream",
     "text": [
      "                            OLS Regression Results                            \n",
      "==============================================================================\n",
      "Dep. Variable:            RetLate2020   R-squared:                       0.038\n",
      "Model:                            OLS   Adj. R-squared:                  0.036\n",
      "Method:                 Least Squares   F-statistic:                     18.32\n",
      "Date:                Mon, 05 Jul 2021   Prob (F-statistic):           3.12e-30\n",
      "Time:                        23:00:28   Log-Likelihood:                -7666.3\n",
      "No. Observations:                4130   AIC:                         1.535e+04\n",
      "Df Residuals:                    4120   BIC:                         1.542e+04\n",
      "Df Model:                           9                                         \n",
      "Covariance Type:            nonrobust                                         \n",
      "======================================================================================================================================\n",
      "                                                                         coef    std err          t      P>|t|      [0.025      0.975]\n",
      "--------------------------------------------------------------------------------------------------------------------------------------\n",
      "Agriculture, Forestry and Fishing                                      0.5382      0.467      1.151      0.250      -0.378       1.455\n",
      "Construction                                                           1.5181      0.236      6.421      0.000       1.055       1.982\n",
      "Finance, Insurance and Real Estate                                     0.5191      0.049     10.567      0.000       0.423       0.615\n",
      "Manufacturing                                                          1.0478      0.040     26.513      0.000       0.970       1.125\n",
      "Mining                                                                 1.1643      0.112     10.433      0.000       0.945       1.383\n",
      "Nonclassifiable                                                        0.4329      0.633      0.684      0.494      -0.808       1.674\n",
      "Retail Trade                                                           1.7065      0.113     15.131      0.000       1.485       1.928\n",
      "Services                                                               1.0499      0.059     17.852      0.000       0.935       1.165\n",
      "Transportation, Communications, Electric, Gas and Sanitary service     0.5352      0.083      6.477      0.000       0.373       0.697\n",
      "Wholesale Trade                                                        0.8243      0.151      5.474      0.000       0.529       1.119\n",
      "==============================================================================\n",
      "Omnibus:                     5439.207   Durbin-Watson:                   1.960\n",
      "Prob(Omnibus):                  0.000   Jarque-Bera (JB):          1361178.145\n",
      "Skew:                           7.285   Prob(JB):                         0.00\n",
      "Kurtosis:                      90.737   Cond. No.                         16.0\n",
      "==============================================================================\n",
      "\n",
      "Warnings:\n",
      "[1] Standard Errors assume that the covariance matrix of the errors is correctly specified.\n"
     ]
    }
   ],
   "source": [
    "# regress RetLate2020 on 10 indicators\n",
    "Y = df2['RetLate2020']\n",
    "X = df2.drop(columns=['ticker', 'RetEarly2020', 'RetLate2020'])\n",
    "reg2 = sm.OLS(Y, X).fit()\n",
    "print(reg2.summary())"
   ]
  },
  {
   "cell_type": "code",
   "execution_count": 91,
   "metadata": {
    "colab": {
     "base_uri": "https://localhost:8080/"
    },
    "id": "5xS__5vBy69c",
    "outputId": "48708530-3de1-4cee-8187-46f87d36e77e"
   },
   "outputs": [
    {
     "name": "stdout",
     "output_type": "stream",
     "text": [
      "Highest: Retail Trade 1.7064742888387123\n",
      "Lowest: Nonclassifiable 0.4328781953493601\n"
     ]
    }
   ],
   "source": [
    "# find the highest and lowest returns\n",
    "print(\"Highest:\", reg2.params.idxmax(), reg2.params.max())\n",
    "print(\"Lowest:\", reg2.params.idxmin(), reg2.params.min())"
   ]
  },
  {
   "cell_type": "markdown",
   "metadata": {
    "id": "QLlsVul74vMt"
   },
   "source": [
    "## Interpretation for `RetEarly2020`\n",
    "* **What are the average returns for each industry?**\n",
    "* **Do the highest and lowest return industries make economic sense?**\n",
    "* **What is the explanatory power of these regressions using different types of industry variables?**"
   ]
  },
  {
   "cell_type": "markdown",
   "metadata": {
    "id": "K2LySVnomjCH"
   },
   "source": [
    "In the industry-fixed effect regression models above, the coefficients represent the average 3-month returns for each industry. \n",
    "* The models built on GICS indicators have higher explanatory power - at least 8% of the variation in `RetEarly2020` can be explained by these models. \n",
    "* The models built on NAICS and SIC indicators have lower explanatory power - they can only explain around 3% to 4% of the variation in `RetEarly2020`."
   ]
  },
  {
   "cell_type": "markdown",
   "metadata": {
    "id": "BDapOh7B-zOp"
   },
   "source": [
    "In all the models, all the industries suffered from negative returns in early 2020. However, the Service industry (especially Health Care Services) was the least impacted by the initial COVID shock, as indicated by the models. It makes economic sense because health care services were essential and growing, particularly in midst of a pandemic. On the other hand, the Energy industry took the strongest hit when the stay-at-home orders went into effect. This also makes economic sense. Since fewer people were commuting to work or traveling, the demand for transportation and energy declined significantly."
   ]
  },
  {
   "cell_type": "markdown",
   "metadata": {
    "id": "Pub3tugy48vN"
   },
   "source": [
    "## Interpretation for `RetLate2020`\n"
   ]
  },
  {
   "cell_type": "markdown",
   "metadata": {
    "id": "iGrnGGzyCA06"
   },
   "source": [
    "In the industry-fixed effect regression models above, the coefficients represent the average 9-month returns for each industry.\n",
    "* The models built on GICS indicators again have higher explanatory power - around 6% to 9% of the variation in `RetLate2020` can be explained by these models. \n",
    "* The models built on NAICS and SIC indicators have similarly low explanatory power as before - they can only explain around 4% of the variation in `RetLate2020`."
   ]
  },
  {
   "cell_type": "markdown",
   "metadata": {
    "id": "r4cbG4V_CA06"
   },
   "source": [
    "In all the models, all the industries have positive 9-month returns. Among them, consumer-facing industries (such as Automobiles and Retail) saw the largest rebound from April to December 2020. This makes economic sense. Some reasons behind the surge include: 1) while staying at home, consumers shopping online had increased significantly, 2) people turned to purchasing vehicles to avoid taking public transportation, and 3) the dramatic rise of Tesla (TSLA). On the other hand, the Utilities and Insurance industries had a slower recovery. This also makes economic sense. One reason could be that comparing to stocks in other industries, these stocks are usually less volatile. Additionally, these industries did not see a drastic fall in early 2020, so a major rebound was not anticipated either."
   ]
  },
  {
   "cell_type": "markdown",
   "metadata": {
    "id": "jtEi6DJz5Xcp"
   },
   "source": [
    "# 2. Explaining Fluctuation Using Financial Ratios"
   ]
  },
  {
   "cell_type": "code",
   "execution_count": 92,
   "metadata": {
    "id": "_O8SG4wK5t8-"
   },
   "outputs": [],
   "source": [
    "df = pd.read_csv('maindf.csv')"
   ]
  },
  {
   "cell_type": "markdown",
   "metadata": {
    "id": "TrhypwcFt4DM"
   },
   "source": [
    "`wrds_additional.csv` contains additional 2019 accounting data downloaded from WRDS Compustat.\n",
    "* `ch`: Cash\n",
    "* `tie`: Total Interest Expense\n",
    "* `dltt`: Total Long-Term Debt\n",
    "* `ebit`: Earnings Before Interest and Taxes\n",
    "* `fatd`: Fixed Assets\n",
    "* `emp`: Number of Employees"
   ]
  },
  {
   "cell_type": "code",
   "execution_count": 93,
   "metadata": {
    "id": "d8tzMdKdt3oZ"
   },
   "outputs": [],
   "source": [
    "wrds = pd.read_csv('wrds_additional.csv')\n",
    "wrds.rename(columns={'tic':'ticker', 'ch':'ch19', 'dltt':'dltt19', 'ebit':'ebit19',\n",
    "                     'emp':'emp19', 'fatd':'fatd19', 'tie':'tie19'}, inplace=True)"
   ]
  },
  {
   "cell_type": "code",
   "execution_count": 94,
   "metadata": {
    "id": "OjqUOi99xBVO"
   },
   "outputs": [],
   "source": [
    "# only keep companies that are already in the main dataframe\n",
    "wrds = wrds[wrds.ticker.isin(df.ticker)]"
   ]
  },
  {
   "cell_type": "markdown",
   "metadata": {
    "id": "tRHyZewHzysf"
   },
   "source": [
    "Drop `fatd` because there's no data in it. Drop `tie` because there's data for only 390 companies."
   ]
  },
  {
   "cell_type": "code",
   "execution_count": 95,
   "metadata": {
    "id": "ve5pBCWI0Vhm"
   },
   "outputs": [],
   "source": [
    "wrds = wrds.drop(columns=['fatd19', 'tie19'])"
   ]
  },
  {
   "cell_type": "code",
   "execution_count": 96,
   "metadata": {
    "colab": {
     "base_uri": "https://localhost:8080/"
    },
    "id": "t_AgeT45xrhn",
    "outputId": "a0ebe202-a273-475f-d555-853f50fbf293"
   },
   "outputs": [
    {
     "name": "stdout",
     "output_type": "stream",
     "text": [
      "(4130, 46)\n"
     ]
    }
   ],
   "source": [
    "# merge the dataframes\n",
    "df = df.merge(wrds, on='ticker', how='left')\n",
    "print(df.shape)"
   ]
  },
  {
   "cell_type": "markdown",
   "metadata": {
    "id": "K6-gqLpzSC5N"
   },
   "source": [
    "Fill in missing values with data from Yahoo Finance."
   ]
  },
  {
   "cell_type": "code",
   "execution_count": null,
   "metadata": {
    "id": "sgbeFIb2dl27"
   },
   "outputs": [],
   "source": [
    "# # WARNING!! - Don't run these loops. The results are already saved in 'df_ratios.csv'\n",
    "# # fill in missing ch19\n",
    "# tickers = df[df['ch19'].isnull()].ticker.unique()\n",
    "\n",
    "# for i in tickers:\n",
    "#     tic = yf.Ticker(i)\n",
    "#     try:\n",
    "#         if df.loc[df.ticker==i, 'ch19'].isna().any():\n",
    "#             df.loc[df.ticker==i, 'ch19'] = tic.info['totalCash']/1000000\n",
    "#     except:\n",
    "#         continue"
   ]
  },
  {
   "cell_type": "code",
   "execution_count": null,
   "metadata": {
    "id": "jjwefkCidqAU"
   },
   "outputs": [],
   "source": [
    "# # fill in missing lct19\n",
    "# tickers = df[df['lct19'].isnull()].ticker.unique()\n",
    "\n",
    "# def findinx(columns):\n",
    "#     for i, v in enumerate(columns):\n",
    "#         if v[:4]=='2019':\n",
    "#             return i\n",
    "#         else:\n",
    "#             continue\n",
    "\n",
    "# for i in tickers:\n",
    "#     tic = yf.Ticker(i)\n",
    "#     try:\n",
    "#         if df.loc[df.ticker==i, 'lct19'].isna().any():\n",
    "#             columns = tic.balance_sheet.columns.astype(str)\n",
    "#             col = findinx(columns)\n",
    "#             df.loc[df.ticker==i, 'lct19'] = tic.balance_sheet.loc['Total Current Liabilities'][col]/1000000\n",
    "#     except:\n",
    "#         continue"
   ]
  },
  {
   "cell_type": "code",
   "execution_count": null,
   "metadata": {
    "id": "n4moShpLhTFx"
   },
   "outputs": [],
   "source": [
    "# # fill in missing act19\n",
    "# tickers = df[df['act19'].isnull()].ticker.unique()\n",
    "\n",
    "# for i in tickers:\n",
    "#     tic = yf.Ticker(i)\n",
    "#     try:\n",
    "#         if df.loc[df.ticker==i, 'lct19'].isna().any():\n",
    "#             columns = tic.balance_sheet.columns.astype(str)\n",
    "#             col = findinx(columns)\n",
    "#             df.loc[df.ticker==i, 'lct19'] = tic.balance_sheet.loc['Total Current Assets'][col]/1000000\n",
    "#     except:\n",
    "#         continue"
   ]
  },
  {
   "cell_type": "code",
   "execution_count": null,
   "metadata": {
    "id": "rFGmdxxZd9Sk"
   },
   "outputs": [],
   "source": [
    "# # fill in missing dltt19\n",
    "# tickers = df[df['dltt19'].isnull()].ticker.unique()\n",
    "\n",
    "# for i in tickers:\n",
    "#     tic = yf.Ticker(i)\n",
    "#     try:\n",
    "#         if df.loc[df.ticker==i, 'dltt19'].isna().any():\n",
    "#             columns = tic.balance_sheet.columns.astype(str)\n",
    "#             col = findinx(columns)\n",
    "#             df.loc[df.ticker==i, 'dltt19'] = tic.balance_sheet.loc['Long Term Debt'][col]/1000000\n",
    "#     except:\n",
    "#         continue"
   ]
  },
  {
   "cell_type": "code",
   "execution_count": null,
   "metadata": {
    "id": "xfPL02jqd9Zw"
   },
   "outputs": [],
   "source": [
    "# # fill in missing emp19\n",
    "# tickers = df[df['emp19'].isnull()].ticker.unique()\n",
    "\n",
    "# for i in tickers:\n",
    "#     tic = yf.Ticker(i)\n",
    "#     try:\n",
    "#         if df.loc[df.ticker==i, 'emp19'].isna().any():\n",
    "#             df.loc[df.ticker==i, 'emp19'] = tic.info['fullTimeEmployees']/1000\n",
    "#     except:\n",
    "#         continue"
   ]
  },
  {
   "cell_type": "code",
   "execution_count": null,
   "metadata": {
    "id": "HAc82E3C1nn4"
   },
   "outputs": [],
   "source": [
    "# # fill in missing re19\n",
    "# tickers = df[df['re19'].isnull()].ticker.unique()\n",
    "\n",
    "# for i in tickers:\n",
    "#     tic = yf.Ticker(i)\n",
    "#     try:\n",
    "#         if df.loc[df.ticker==i, 're19'].isna().any():\n",
    "#             columns = tic.balance_sheet.columns.astype(str)\n",
    "#             col = findinx(columns)\n",
    "#             df.loc[df.ticker==i, 're19'] = tic.balance_sheet.loc['Retained Earnings'][col]/1000000\n",
    "#     except:\n",
    "#         continue"
   ]
  },
  {
   "cell_type": "code",
   "execution_count": null,
   "metadata": {
    "id": "3aFrs7_01eXI"
   },
   "outputs": [],
   "source": [
    "# # fill in missing ebit19\n",
    "# tickers = df[df['ebit19'].isnull()].ticker.unique()\n",
    "\n",
    "# for i in tickers:\n",
    "#     tic = yf.Ticker(i)\n",
    "#     try:\n",
    "#         if df.loc[df.ticker==i, 'ebit19'].isna().any():\n",
    "#             columns = tic.balance_sheet.columns.astype(str)\n",
    "#             col = findinx(columns)\n",
    "#             df.loc[df.ticker==i, 'ebit19'] = tic.financials.loc['Ebit'][col]/1000000\n",
    "#     except:\n",
    "#         continue"
   ]
  },
  {
   "cell_type": "markdown",
   "metadata": {
    "id": "OYsrWbLhO06_"
   },
   "source": [
    "Calculate additional financial ratios."
   ]
  },
  {
   "cell_type": "code",
   "execution_count": null,
   "metadata": {
    "id": "fvkMaJrDIAvP"
   },
   "outputs": [],
   "source": [
    "df['cta19'] = df['ch19'] / df['at19'] \n",
    "df['cash19'] = df['ch19'] / df['lct19'] \n",
    "df['quick19'] = (df['act19']-df['invt19']) / df['lct19']\n",
    "df['lda19'] = df['dltt19'] / df['at19']\n",
    "df['se19'] = df['sale19'] / df['emp19']\n",
    "\n",
    "df['T1'] = (df['act19']-df['lct19']) / df['at19']\n",
    "df['T2'] = df['re19'] / df['at19']\n",
    "df['T3'] = df['ebit19'] / df['at19']"
   ]
  },
  {
   "cell_type": "code",
   "execution_count": null,
   "metadata": {
    "id": "G9c4VarKVklL"
   },
   "outputs": [],
   "source": [
    "# # fill in missing quick19 with data from yahoo finance\n",
    "# for i in df[df['quick19'].isnull()].ticker.unique():\n",
    "#     try:\n",
    "#         tic = yf.Ticker(i)\n",
    "#         if df.loc[df.ticker==i, 'quick19'].isna().any():\n",
    "#             df.loc[df.ticker==i, 'quick19'] = tic.info['quickRatio']\n",
    "#     except:\n",
    "#         continue"
   ]
  },
  {
   "cell_type": "code",
   "execution_count": null,
   "metadata": {
    "id": "p350aEvQe7Ip"
   },
   "outputs": [],
   "source": [
    "# # export into a csv file\n",
    "# df.to_csv('df_ratios.csv', index=False)"
   ]
  },
  {
   "cell_type": "markdown",
   "metadata": {
    "id": "blbI1JihIaQG"
   },
   "source": [
    "We now have the following financial ratios.\n",
    "* `roa`: Return on Assets\n",
    "* `atr`: Asset Turnover Ratio\n",
    "* `ros`: Return on Sales\n",
    "* `roe`: Return on Equity\n",
    "* `emulti`: Equity Multiplier\n",
    "* `ai`: Asset Intensity\n",
    "* `gmargin`: Gross Margin\n",
    "* `cta`: Cash to Total Assets\n",
    "* `cash`: Cash Ratio\n",
    "* `quick`: Quick Ratio\n",
    "* `lda`: Long-Term Debt to Total Assets\n",
    "* `se`: Sales per Employee\n",
    "* `T1`: Working Capital to Assets (used in Altman's Z-score)\n",
    "* `T2`: Retained Earnings to Assets (used in Altman's Z-score)\n",
    "* `T3`: EBIT Return on Assets (used in Altman's Z-score)"
   ]
  },
  {
   "cell_type": "code",
   "execution_count": 97,
   "metadata": {
    "id": "dlTL2sfDe8Ur"
   },
   "outputs": [],
   "source": [
    "df = pd.read_csv('df_ratios.csv')"
   ]
  },
  {
   "cell_type": "code",
   "execution_count": 98,
   "metadata": {
    "id": "gIg76KK4LS20"
   },
   "outputs": [],
   "source": [
    "# a list of ratios we might use\n",
    "ratios = ['roa19', 'atr19', 'ros19', 'roe19', 'emulti19', 'ai19', 'gmargin19', \n",
    "          'cta19', 'cash19', 'quick19', 'lda19', 'se19', 'T1', 'T2', 'T3']"
   ]
  },
  {
   "cell_type": "markdown",
   "metadata": {
    "id": "23AGc9_WknxL"
   },
   "source": [
    "Visualize  the distribution of each ratio to look for outliers."
   ]
  },
  {
   "cell_type": "code",
   "execution_count": 99,
   "metadata": {
    "colab": {
     "base_uri": "https://localhost:8080/",
     "height": 90
    },
    "id": "oDsh-owj01R3",
    "outputId": "5718aed4-4618-4067-f47e-8ec600277a65"
   },
   "outputs": [
    {
     "data": {
      "image/png": "[encoded data removed]",
      "text/plain": [
       "<Figure size 6480x360 with 15 Axes>"
      ]
     },
     "metadata": {
      "needs_background": "light",
      "tags": []
     },
     "output_type": "display_data"
    }
   ],
   "source": [
    "fig, axs = plt.subplots(1, 15, figsize=(90, 5))\n",
    "for i, v in enumerate(ratios):\n",
    "    sns.scatterplot(data=df, x=v, y='RetEarly2020', ax=axs[i])"
   ]
  },
  {
   "cell_type": "code",
   "execution_count": 100,
   "metadata": {
    "colab": {
     "base_uri": "https://localhost:8080/"
    },
    "id": "TuxsX8rx2jIv",
    "outputId": "471c4d3b-04e0-4802-e6f3-fa078229a370"
   },
   "outputs": [
    {
     "name": "stdout",
     "output_type": "stream",
     "text": [
      "(4130, 54)\n",
      "(4085, 54)\n"
     ]
    }
   ],
   "source": [
    "# remove outliers for each ratio\n",
    "print(df.shape)\n",
    "df = df[~(df.roa19>10)]\n",
    "df = df[~(df.atr19>10)]\n",
    "df = df[~(df.ros19<-2000)]\n",
    "df = df[~(abs(df.roe19)>100)]\n",
    "df = df[~(abs(df.emulti19)>250)]\n",
    "df = df[~(df.ai19>2000)]\n",
    "df = df[~(df.gmargin19>80000)]\n",
    "df = df[~(df.cta19>10)]\n",
    "df = df[~(df.cash19>100)]\n",
    "df = df[~(df.quick19>10000)]\n",
    "df = df[~(df.lda19>2.5)]\n",
    "df = df[~(df.se19>100000)]\n",
    "df = df[~(df.T1<-100)]\n",
    "df = df[~(df.T2<-60)]\n",
    "df = df[~(df.T3>10)]\n",
    "df.reset_index(drop=True, inplace=True)\n",
    "print(df.shape)"
   ]
  },
  {
   "cell_type": "markdown",
   "metadata": {
    "id": "dVqyzrcxo8pC"
   },
   "source": [
    "Winsorize each ratio at 3% and 97% values."
   ]
  },
  {
   "cell_type": "code",
   "execution_count": 101,
   "metadata": {
    "id": "r2aTiVTrd-I-"
   },
   "outputs": [],
   "source": [
    "for i in ratios:\n",
    "    df[i] = pd.Series(winsorize(df[i], limits=[0.03, 0.03]))"
   ]
  },
  {
   "cell_type": "markdown",
   "metadata": {
    "id": "Rw60rfO-5KrY"
   },
   "source": [
    "Replace missing ratios with the average of the GICS industry group a stock belongs to."
   ]
  },
  {
   "cell_type": "code",
   "execution_count": 102,
   "metadata": {
    "colab": {
     "base_uri": "https://localhost:8080/",
     "height": 79
    },
    "id": "Zk8Y0GMQ5OxD",
    "outputId": "18e5e11a-dc81-4d2e-c171-cd0f3589eb4f"
   },
   "outputs": [
    {
     "data": {
      "text/html": [
       "<div>\n",
       "<style scoped>\n",
       "    .dataframe tbody tr th:only-of-type {\n",
       "        vertical-align: middle;\n",
       "    }\n",
       "\n",
       "    .dataframe tbody tr th {\n",
       "        vertical-align: top;\n",
       "    }\n",
       "\n",
       "    .dataframe thead th {\n",
       "        text-align: right;\n",
       "    }\n",
       "</style>\n",
       "<table border=\"1\" class=\"dataframe\">\n",
       "  <thead>\n",
       "    <tr style=\"text-align: right;\">\n",
       "      <th></th>\n",
       "      <th>quick19</th>\n",
       "      <th>se19</th>\n",
       "      <th>T3</th>\n",
       "      <th>T2</th>\n",
       "      <th>T1</th>\n",
       "      <th>lda19</th>\n",
       "      <th>cash19</th>\n",
       "      <th>cta19</th>\n",
       "      <th>gmargin19</th>\n",
       "      <th>ai19</th>\n",
       "      <th>emulti19</th>\n",
       "      <th>roe19</th>\n",
       "      <th>ros19</th>\n",
       "      <th>atr19</th>\n",
       "      <th>roa19</th>\n",
       "    </tr>\n",
       "  </thead>\n",
       "  <tbody>\n",
       "    <tr>\n",
       "      <th>Number of companies with NA</th>\n",
       "      <td>419</td>\n",
       "      <td>153</td>\n",
       "      <td>0</td>\n",
       "      <td>0</td>\n",
       "      <td>0</td>\n",
       "      <td>0</td>\n",
       "      <td>0</td>\n",
       "      <td>0</td>\n",
       "      <td>0</td>\n",
       "      <td>0</td>\n",
       "      <td>0</td>\n",
       "      <td>0</td>\n",
       "      <td>0</td>\n",
       "      <td>0</td>\n",
       "      <td>0</td>\n",
       "    </tr>\n",
       "  </tbody>\n",
       "</table>\n",
       "</div>"
      ],
      "text/plain": [
       "                             quick19  se19  T3  T2  ...  roe19  ros19  atr19  roa19\n",
       "Number of companies with NA      419   153   0   0  ...      0      0      0      0\n",
       "\n",
       "[1 rows x 15 columns]"
      ]
     },
     "execution_count": 102,
     "metadata": {
      "tags": []
     },
     "output_type": "execute_result"
    }
   ],
   "source": [
    "# examine missing values\n",
    "pd.DataFrame({'Number of companies with NA':(df[ratios].isna().sum()).sort_values(ascending=False)}).T"
   ]
  },
  {
   "cell_type": "code",
   "execution_count": 103,
   "metadata": {
    "colab": {
     "base_uri": "https://localhost:8080/"
    },
    "id": "arVNdJIU6fb8",
    "outputId": "decd5475-b82a-4e04-fa6f-cc4e7c3b984f"
   },
   "outputs": [
    {
     "name": "stdout",
     "output_type": "stream",
     "text": [
      "ggroup\n",
      "Banks                       14\n",
      "Food & Staples Retailing    26\n",
      "Name: quick19, dtype: int64\n",
      "ggroup\n",
      "Food & Staples Retailing         26\n",
      "Household & Personal Products    36\n",
      "Name: se19, dtype: int64\n"
     ]
    }
   ],
   "source": [
    "# check if there's any industry group without any quick19 or se19\n",
    "print(df.groupby('ggroup').quick19.count().sort_values()[:2])\n",
    "print(df.groupby('ggroup').se19.count().sort_values()[:2])"
   ]
  },
  {
   "cell_type": "code",
   "execution_count": 104,
   "metadata": {
    "id": "FDsGIJdn5dSU"
   },
   "outputs": [],
   "source": [
    "# replace missing ratios with GICS industry group average\n",
    "qmeans = df.groupby('ggroup').quick19.mean()\n",
    "smeans = df.groupby('ggroup').se19.mean()\n",
    "df['quick19'] = np.where(df['quick19'].isna(), qmeans[df['ggroup']], df['quick19'])\n",
    "df['se19'] = np.where(df['se19'].isna(), smeans[df['ggroup']], df['se19'])"
   ]
  },
  {
   "cell_type": "code",
   "execution_count": 105,
   "metadata": {
    "colab": {
     "base_uri": "https://localhost:8080/",
     "height": 79
    },
    "id": "O9LBUed17NT3",
    "outputId": "3f1a24b5-efa2-459a-81c6-39a8f9692fb1"
   },
   "outputs": [
    {
     "data": {
      "text/html": [
       "<div>\n",
       "<style scoped>\n",
       "    .dataframe tbody tr th:only-of-type {\n",
       "        vertical-align: middle;\n",
       "    }\n",
       "\n",
       "    .dataframe tbody tr th {\n",
       "        vertical-align: top;\n",
       "    }\n",
       "\n",
       "    .dataframe thead th {\n",
       "        text-align: right;\n",
       "    }\n",
       "</style>\n",
       "<table border=\"1\" class=\"dataframe\">\n",
       "  <thead>\n",
       "    <tr style=\"text-align: right;\">\n",
       "      <th></th>\n",
       "      <th>roa19</th>\n",
       "      <th>atr19</th>\n",
       "      <th>ros19</th>\n",
       "      <th>roe19</th>\n",
       "      <th>emulti19</th>\n",
       "      <th>ai19</th>\n",
       "      <th>gmargin19</th>\n",
       "      <th>cta19</th>\n",
       "      <th>cash19</th>\n",
       "      <th>quick19</th>\n",
       "      <th>lda19</th>\n",
       "      <th>se19</th>\n",
       "      <th>T1</th>\n",
       "      <th>T2</th>\n",
       "      <th>T3</th>\n",
       "    </tr>\n",
       "  </thead>\n",
       "  <tbody>\n",
       "    <tr>\n",
       "      <th>Number of companies with NA</th>\n",
       "      <td>0</td>\n",
       "      <td>0</td>\n",
       "      <td>0</td>\n",
       "      <td>0</td>\n",
       "      <td>0</td>\n",
       "      <td>0</td>\n",
       "      <td>0</td>\n",
       "      <td>0</td>\n",
       "      <td>0</td>\n",
       "      <td>0</td>\n",
       "      <td>0</td>\n",
       "      <td>0</td>\n",
       "      <td>0</td>\n",
       "      <td>0</td>\n",
       "      <td>0</td>\n",
       "    </tr>\n",
       "  </tbody>\n",
       "</table>\n",
       "</div>"
      ],
      "text/plain": [
       "                             roa19  atr19  ros19  roe19  ...  se19  T1  T2  T3\n",
       "Number of companies with NA      0      0      0      0  ...     0   0   0   0\n",
       "\n",
       "[1 rows x 15 columns]"
      ]
     },
     "execution_count": 105,
     "metadata": {
      "tags": []
     },
     "output_type": "execute_result"
    }
   ],
   "source": [
    "# double check that there's no missing value anymore\n",
    "pd.DataFrame({'Number of companies with NA':(df[ratios].isna().sum())}).T"
   ]
  },
  {
   "cell_type": "code",
   "execution_count": 106,
   "metadata": {
    "id": "pA01FuMbizeX"
   },
   "outputs": [],
   "source": [
    "# # export into a csv file\n",
    "# df.to_csv('df_ratios_cleaned.csv', index=False)"
   ]
  },
  {
   "cell_type": "markdown",
   "metadata": {
    "id": "7ttsL6SbtAEK"
   },
   "source": [
    "## Single-Variable Regressions\n",
    "We will first examine the explanatory power of the single regression models built on different financial ratios.\n"
   ]
  },
  {
   "cell_type": "code",
   "execution_count": 107,
   "metadata": {
    "id": "dnRVbRskMF6F"
   },
   "outputs": [],
   "source": [
    "df = pd.read_csv('df_ratios_cleaned.csv')"
   ]
  },
  {
   "cell_type": "code",
   "execution_count": 108,
   "metadata": {
    "id": "oMtyU4oV1pGP"
   },
   "outputs": [],
   "source": [
    "cols = ['ticker', 'RetEarly2020', 'RetLate2020']\n",
    "cols.extend(ratios)\n",
    "df2 = df.dropna(subset=ratios)[cols].copy()\n",
    "df2['intercept'] = 1"
   ]
  },
  {
   "cell_type": "code",
   "execution_count": 109,
   "metadata": {
    "colab": {
     "base_uri": "https://localhost:8080/"
    },
    "id": "CwW3hKbkpoc1",
    "outputId": "f1ef6a6f-0025-46ee-8f48-032d4d5ec8d7"
   },
   "outputs": [
    {
     "name": "stdout",
     "output_type": "stream",
     "text": [
      "                            OLS Regression Results                            \n",
      "==============================================================================\n",
      "Dep. Variable:           RetEarly2020   R-squared:                       0.014\n",
      "Model:                            OLS   Adj. R-squared:                  0.014\n",
      "Method:                 Least Squares   F-statistic:                     58.73\n",
      "Date:                Mon, 05 Jul 2021   Prob (F-statistic):           2.24e-14\n",
      "Time:                        23:02:14   Log-Likelihood:                -1895.0\n",
      "No. Observations:                4085   AIC:                             3794.\n",
      "Df Residuals:                    4083   BIC:                             3807.\n",
      "Df Model:                           1                                         \n",
      "Covariance Type:            nonrobust                                         \n",
      "==============================================================================\n",
      "                 coef    std err          t      P>|t|      [0.025      0.975]\n",
      "------------------------------------------------------------------------------\n",
      "intercept     -0.3089      0.006    -50.145      0.000      -0.321      -0.297\n",
      "roa19         -0.2249      0.029     -7.664      0.000      -0.282      -0.167\n",
      "==============================================================================\n",
      "Omnibus:                     7872.843   Durbin-Watson:                   1.935\n",
      "Prob(Omnibus):                  0.000   Jarque-Bera (JB):         33069834.660\n",
      "Skew:                          14.545   Prob(JB):                         0.00\n",
      "Kurtosis:                     442.823   Cond. No.                         4.88\n",
      "==============================================================================\n",
      "\n",
      "Warnings:\n",
      "[1] Standard Errors assume that the covariance matrix of the errors is correctly specified.\n",
      "                            OLS Regression Results                            \n",
      "==============================================================================\n",
      "Dep. Variable:           RetEarly2020   R-squared:                       0.000\n",
      "Model:                            OLS   Adj. R-squared:                 -0.000\n",
      "Method:                 Least Squares   F-statistic:                    0.1357\n",
      "Date:                Mon, 05 Jul 2021   Prob (F-statistic):              0.713\n",
      "Time:                        23:02:14   Log-Likelihood:                -1924.1\n",
      "No. Observations:                4085   AIC:                             3852.\n",
      "Df Residuals:                    4083   BIC:                             3865.\n",
      "Df Model:                           1                                         \n",
      "Covariance Type:            nonrobust                                         \n",
      "==============================================================================\n",
      "                 coef    std err          t      P>|t|      [0.025      0.975]\n",
      "------------------------------------------------------------------------------\n",
      "intercept     -0.2964      0.009    -32.374      0.000      -0.314      -0.278\n",
      "atr19         -0.0039      0.011     -0.368      0.713      -0.025       0.017\n",
      "==============================================================================\n",
      "Omnibus:                     7888.656   Durbin-Watson:                   1.935\n",
      "Prob(Omnibus):                  0.000   Jarque-Bera (JB):         32360182.646\n",
      "Skew:                          14.626   Prob(JB):                         0.00\n",
      "Kurtosis:                     438.046   Cond. No.                         2.68\n",
      "==============================================================================\n",
      "\n",
      "Warnings:\n",
      "[1] Standard Errors assume that the covariance matrix of the errors is correctly specified.\n",
      "                            OLS Regression Results                            \n",
      "==============================================================================\n",
      "Dep. Variable:           RetEarly2020   R-squared:                       0.018\n",
      "Model:                            OLS   Adj. R-squared:                  0.018\n",
      "Method:                 Least Squares   F-statistic:                     76.22\n",
      "Date:                Mon, 05 Jul 2021   Prob (F-statistic):           3.65e-18\n",
      "Time:                        23:02:14   Log-Likelihood:                -1886.4\n",
      "No. Observations:                4085   AIC:                             3777.\n",
      "Df Residuals:                    4083   BIC:                             3789.\n",
      "Df Model:                           1                                         \n",
      "Covariance Type:            nonrobust                                         \n",
      "==============================================================================\n",
      "                 coef    std err          t      P>|t|      [0.025      0.975]\n",
      "------------------------------------------------------------------------------\n",
      "intercept     -0.3119      0.006    -50.392      0.000      -0.324      -0.300\n",
      "ros19         -0.0219      0.003     -8.730      0.000      -0.027      -0.017\n",
      "==============================================================================\n",
      "Omnibus:                     7897.400   Durbin-Watson:                   1.939\n",
      "Prob(Omnibus):                  0.000   Jarque-Bera (JB):         33897408.288\n",
      "Skew:                          14.642   Prob(JB):                         0.00\n",
      "Kurtosis:                     448.303   Cond. No.                         2.57\n",
      "==============================================================================\n",
      "\n",
      "Warnings:\n",
      "[1] Standard Errors assume that the covariance matrix of the errors is correctly specified.\n",
      "                            OLS Regression Results                            \n",
      "==============================================================================\n",
      "Dep. Variable:           RetEarly2020   R-squared:                       0.008\n",
      "Model:                            OLS   Adj. R-squared:                  0.008\n",
      "Method:                 Least Squares   F-statistic:                     33.65\n",
      "Date:                Mon, 05 Jul 2021   Prob (F-statistic):           7.10e-09\n",
      "Time:                        23:02:14   Log-Likelihood:                -1907.4\n",
      "No. Observations:                4085   AIC:                             3819.\n",
      "Df Residuals:                    4083   BIC:                             3831.\n",
      "Df Model:                           1                                         \n",
      "Covariance Type:            nonrobust                                         \n",
      "==============================================================================\n",
      "                 coef    std err          t      P>|t|      [0.025      0.975]\n",
      "------------------------------------------------------------------------------\n",
      "intercept     -0.3041      0.006    -49.811      0.000      -0.316      -0.292\n",
      "roe19         -0.0676      0.012     -5.801      0.000      -0.091      -0.045\n",
      "==============================================================================\n",
      "Omnibus:                     7872.387   Durbin-Watson:                   1.934\n",
      "Prob(Omnibus):                  0.000   Jarque-Bera (JB):         32676675.314\n",
      "Skew:                          14.549   Prob(JB):                         0.00\n",
      "Kurtosis:                     440.189   Cond. No.                         1.95\n",
      "==============================================================================\n",
      "\n",
      "Warnings:\n",
      "[1] Standard Errors assume that the covariance matrix of the errors is correctly specified.\n",
      "                            OLS Regression Results                            \n",
      "==============================================================================\n",
      "Dep. Variable:           RetEarly2020   R-squared:                       0.005\n",
      "Model:                            OLS   Adj. R-squared:                  0.005\n",
      "Method:                 Least Squares   F-statistic:                     20.78\n",
      "Date:                Mon, 05 Jul 2021   Prob (F-statistic):           5.31e-06\n",
      "Time:                        23:02:14   Log-Likelihood:                -1913.8\n",
      "No. Observations:                4085   AIC:                             3832.\n",
      "Df Residuals:                    4083   BIC:                             3844.\n",
      "Df Model:                           1                                         \n",
      "Covariance Type:            nonrobust                                         \n",
      "==============================================================================\n",
      "                 coef    std err          t      P>|t|      [0.025      0.975]\n",
      "------------------------------------------------------------------------------\n",
      "intercept     -0.2688      0.009    -29.998      0.000      -0.286      -0.251\n",
      "emulti19      -0.0090      0.002     -4.558      0.000      -0.013      -0.005\n",
      "==============================================================================\n",
      "Omnibus:                     7897.477   Durbin-Watson:                   1.938\n",
      "Prob(Omnibus):                  0.000   Jarque-Bera (JB):         32659850.117\n",
      "Skew:                          14.661   Prob(JB):                         0.00\n",
      "Kurtosis:                     440.060   Cond. No.                         6.91\n",
      "==============================================================================\n",
      "\n",
      "Warnings:\n",
      "[1] Standard Errors assume that the covariance matrix of the errors is correctly specified.\n",
      "                            OLS Regression Results                            \n",
      "==============================================================================\n",
      "Dep. Variable:           RetEarly2020   R-squared:                       0.001\n",
      "Model:                            OLS   Adj. R-squared:                  0.000\n",
      "Method:                 Least Squares   F-statistic:                     2.167\n",
      "Date:                Mon, 05 Jul 2021   Prob (F-statistic):              0.141\n",
      "Time:                        23:02:14   Log-Likelihood:                -1923.1\n",
      "No. Observations:                4085   AIC:                             3850.\n",
      "Df Residuals:                    4083   BIC:                             3863.\n",
      "Df Model:                           1                                         \n",
      "Covariance Type:            nonrobust                                         \n",
      "==============================================================================\n",
      "                 coef    std err          t      P>|t|      [0.025      0.975]\n",
      "------------------------------------------------------------------------------\n",
      "intercept     -0.3054      0.007    -40.891      0.000      -0.320      -0.291\n",
      "ai19           0.0011      0.001      1.472      0.141      -0.000       0.003\n",
      "==============================================================================\n",
      "Omnibus:                     7889.102   Durbin-Watson:                   1.935\n",
      "Prob(Omnibus):                  0.000   Jarque-Bera (JB):         32413597.468\n",
      "Skew:                          14.627   Prob(JB):                         0.00\n",
      "Kurtosis:                     438.407   Cond. No.                         12.6\n",
      "==============================================================================\n",
      "\n",
      "Warnings:\n",
      "[1] Standard Errors assume that the covariance matrix of the errors is correctly specified.\n",
      "                            OLS Regression Results                            \n",
      "==============================================================================\n",
      "Dep. Variable:           RetEarly2020   R-squared:                       0.000\n",
      "Model:                            OLS   Adj. R-squared:                 -0.000\n",
      "Method:                 Least Squares   F-statistic:                   0.03822\n",
      "Date:                Mon, 05 Jul 2021   Prob (F-statistic):              0.845\n",
      "Time:                        23:02:14   Log-Likelihood:                -1924.1\n",
      "No. Observations:                4085   AIC:                             3852.\n",
      "Df Residuals:                    4083   BIC:                             3865.\n",
      "Df Model:                           1                                         \n",
      "Covariance Type:            nonrobust                                         \n",
      "==============================================================================\n",
      "                 coef    std err          t      P>|t|      [0.025      0.975]\n",
      "------------------------------------------------------------------------------\n",
      "intercept     -0.2995      0.007    -44.618      0.000      -0.313      -0.286\n",
      "gmargin19   4.481e-07   2.29e-06      0.196      0.845   -4.05e-06    4.94e-06\n",
      "==============================================================================\n",
      "Omnibus:                     7887.124   Durbin-Watson:                   1.935\n",
      "Prob(Omnibus):                  0.000   Jarque-Bera (JB):         32296777.898\n",
      "Skew:                          14.620   Prob(JB):                         0.00\n",
      "Kurtosis:                     437.619   Cond. No.                     3.24e+03\n",
      "==============================================================================\n",
      "\n",
      "Warnings:\n",
      "[1] Standard Errors assume that the covariance matrix of the errors is correctly specified.\n",
      "[2] The condition number is large, 3.24e+03. This might indicate that there are\n",
      "strong multicollinearity or other numerical problems.\n",
      "                            OLS Regression Results                            \n",
      "==============================================================================\n",
      "Dep. Variable:           RetEarly2020   R-squared:                       0.020\n",
      "Model:                            OLS   Adj. R-squared:                  0.019\n",
      "Method:                 Least Squares   F-statistic:                     82.09\n",
      "Date:                Mon, 05 Jul 2021   Prob (F-statistic):           1.98e-19\n",
      "Time:                        23:02:14   Log-Likelihood:                -1883.5\n",
      "No. Observations:                4085   AIC:                             3771.\n",
      "Df Residuals:                    4083   BIC:                             3784.\n",
      "Df Model:                           1                                         \n",
      "Covariance Type:            nonrobust                                         \n",
      "==============================================================================\n",
      "                 coef    std err          t      P>|t|      [0.025      0.975]\n",
      "------------------------------------------------------------------------------\n",
      "intercept     -0.3431      0.008    -44.363      0.000      -0.358      -0.328\n",
      "cta19          0.3404      0.038      9.060      0.000       0.267       0.414\n",
      "==============================================================================\n",
      "Omnibus:                     7977.884   Durbin-Watson:                   1.935\n",
      "Prob(Omnibus):                  0.000   Jarque-Bera (JB):         35268167.734\n",
      "Skew:                          14.984   Prob(JB):                         0.00\n",
      "Kurtosis:                     457.211   Cond. No.                         6.36\n",
      "==============================================================================\n",
      "\n",
      "Warnings:\n",
      "[1] Standard Errors assume that the covariance matrix of the errors is correctly specified.\n",
      "                            OLS Regression Results                            \n",
      "==============================================================================\n",
      "Dep. Variable:           RetEarly2020   R-squared:                       0.010\n",
      "Model:                            OLS   Adj. R-squared:                  0.010\n",
      "Method:                 Least Squares   F-statistic:                     42.39\n",
      "Date:                Mon, 05 Jul 2021   Prob (F-statistic):           8.38e-11\n",
      "Time:                        23:02:14   Log-Likelihood:                -1903.1\n",
      "No. Observations:                4085   AIC:                             3810.\n",
      "Df Residuals:                    4083   BIC:                             3823.\n",
      "Df Model:                           1                                         \n",
      "Covariance Type:            nonrobust                                         \n",
      "==============================================================================\n",
      "                 coef    std err          t      P>|t|      [0.025      0.975]\n",
      "------------------------------------------------------------------------------\n",
      "intercept     -0.3250      0.007    -44.890      0.000      -0.339      -0.311\n",
      "cash19         0.0294      0.005      6.511      0.000       0.021       0.038\n",
      "==============================================================================\n",
      "Omnibus:                     7937.829   Durbin-Watson:                   1.936\n",
      "Prob(Omnibus):                  0.000   Jarque-Bera (JB):         33859540.399\n",
      "Skew:                          14.824   Prob(JB):                         0.00\n",
      "Kurtosis:                     448.029   Cond. No.                         2.22\n",
      "==============================================================================\n",
      "\n",
      "Warnings:\n",
      "[1] Standard Errors assume that the covariance matrix of the errors is correctly specified.\n",
      "                            OLS Regression Results                            \n",
      "==============================================================================\n",
      "Dep. Variable:           RetEarly2020   R-squared:                       0.000\n",
      "Model:                            OLS   Adj. R-squared:                 -0.000\n",
      "Method:                 Least Squares   F-statistic:                    0.9123\n",
      "Date:                Mon, 05 Jul 2021   Prob (F-statistic):              0.340\n",
      "Time:                        23:02:14   Log-Likelihood:                -1923.7\n",
      "No. Observations:                4085   AIC:                             3851.\n",
      "Df Residuals:                    4083   BIC:                             3864.\n",
      "Df Model:                           1                                         \n",
      "Covariance Type:            nonrobust                                         \n",
      "==============================================================================\n",
      "                 coef    std err          t      P>|t|      [0.025      0.975]\n",
      "------------------------------------------------------------------------------\n",
      "intercept     -0.3006      0.006    -47.579      0.000      -0.313      -0.288\n",
      "quick19        0.0006      0.001      0.955      0.340      -0.001       0.002\n",
      "==============================================================================\n",
      "Omnibus:                     7887.959   Durbin-Watson:                   1.935\n",
      "Prob(Omnibus):                  0.000   Jarque-Bera (JB):         32327782.832\n",
      "Skew:                          14.624   Prob(JB):                         0.00\n",
      "Kurtosis:                     437.828   Cond. No.                         11.3\n",
      "==============================================================================\n",
      "\n",
      "Warnings:\n",
      "[1] Standard Errors assume that the covariance matrix of the errors is correctly specified.\n",
      "                            OLS Regression Results                            \n",
      "==============================================================================\n",
      "Dep. Variable:           RetEarly2020   R-squared:                       0.013\n",
      "Model:                            OLS   Adj. R-squared:                  0.013\n",
      "Method:                 Least Squares   F-statistic:                     53.13\n",
      "Date:                Mon, 05 Jul 2021   Prob (F-statistic):           3.74e-13\n",
      "Time:                        23:02:14   Log-Likelihood:                -1897.7\n",
      "No. Observations:                4085   AIC:                             3799.\n",
      "Df Residuals:                    4083   BIC:                             3812.\n",
      "Df Model:                           1                                         \n",
      "Covariance Type:            nonrobust                                         \n",
      "==============================================================================\n",
      "                 coef    std err          t      P>|t|      [0.025      0.975]\n",
      "------------------------------------------------------------------------------\n",
      "intercept     -0.2492      0.009    -27.372      0.000      -0.267      -0.231\n",
      "lda19         -0.2066      0.028     -7.289      0.000      -0.262      -0.151\n",
      "==============================================================================\n",
      "Omnibus:                     7927.141   Durbin-Watson:                   1.940\n",
      "Prob(Omnibus):                  0.000   Jarque-Bera (JB):         33032401.899\n",
      "Skew:                          14.788   Prob(JB):                         0.00\n",
      "Kurtosis:                     442.540   Cond. No.                         4.99\n",
      "==============================================================================\n",
      "\n",
      "Warnings:\n",
      "[1] Standard Errors assume that the covariance matrix of the errors is correctly specified.\n",
      "                            OLS Regression Results                            \n",
      "==============================================================================\n",
      "Dep. Variable:           RetEarly2020   R-squared:                       0.004\n",
      "Model:                            OLS   Adj. R-squared:                  0.004\n",
      "Method:                 Least Squares   F-statistic:                     16.86\n",
      "Date:                Mon, 05 Jul 2021   Prob (F-statistic):           4.10e-05\n",
      "Time:                        23:02:14   Log-Likelihood:                -1915.7\n",
      "No. Observations:                4085   AIC:                             3835.\n",
      "Df Residuals:                    4083   BIC:                             3848.\n",
      "Df Model:                           1                                         \n",
      "Covariance Type:            nonrobust                                         \n",
      "==============================================================================\n",
      "                 coef    std err          t      P>|t|      [0.025      0.975]\n",
      "------------------------------------------------------------------------------\n",
      "intercept     -0.2913      0.006    -45.986      0.000      -0.304      -0.279\n",
      "se19       -7.564e-06   1.84e-06     -4.107      0.000   -1.12e-05   -3.95e-06\n",
      "==============================================================================\n",
      "Omnibus:                     7901.404   Durbin-Watson:                   1.934\n",
      "Prob(Omnibus):                  0.000   Jarque-Bera (JB):         32675844.240\n",
      "Skew:                          14.678   Prob(JB):                         0.00\n",
      "Kurtosis:                     440.166   Cond. No.                     3.60e+03\n",
      "==============================================================================\n",
      "\n",
      "Warnings:\n",
      "[1] Standard Errors assume that the covariance matrix of the errors is correctly specified.\n",
      "[2] The condition number is large, 3.6e+03. This might indicate that there are\n",
      "strong multicollinearity or other numerical problems.\n",
      "                            OLS Regression Results                            \n",
      "==============================================================================\n",
      "Dep. Variable:           RetEarly2020   R-squared:                       0.011\n",
      "Model:                            OLS   Adj. R-squared:                  0.010\n",
      "Method:                 Least Squares   F-statistic:                     43.53\n",
      "Date:                Mon, 05 Jul 2021   Prob (F-statistic):           4.71e-11\n",
      "Time:                        23:02:14   Log-Likelihood:                -1902.5\n",
      "No. Observations:                4085   AIC:                             3809.\n",
      "Df Residuals:                    4083   BIC:                             3822.\n",
      "Df Model:                           1                                         \n",
      "Covariance Type:            nonrobust                                         \n",
      "==============================================================================\n",
      "                 coef    std err          t      P>|t|      [0.025      0.975]\n",
      "------------------------------------------------------------------------------\n",
      "intercept     -0.3106      0.006    -49.412      0.000      -0.323      -0.298\n",
      "T1             0.1034      0.016      6.598      0.000       0.073       0.134\n",
      "==============================================================================\n",
      "Omnibus:                     7904.426   Durbin-Watson:                   1.936\n",
      "Prob(Omnibus):                  0.000   Jarque-Bera (JB):         32862511.938\n",
      "Skew:                          14.689   Prob(JB):                         0.00\n",
      "Kurtosis:                     441.417   Cond. No.                         2.64\n",
      "==============================================================================\n",
      "\n",
      "Warnings:\n",
      "[1] Standard Errors assume that the covariance matrix of the errors is correctly specified.\n",
      "                            OLS Regression Results                            \n",
      "==============================================================================\n",
      "Dep. Variable:           RetEarly2020   R-squared:                       0.013\n",
      "Model:                            OLS   Adj. R-squared:                  0.013\n",
      "Method:                 Least Squares   F-statistic:                     54.71\n",
      "Date:                Mon, 05 Jul 2021   Prob (F-statistic):           1.68e-13\n",
      "Time:                        23:02:15   Log-Likelihood:                -1897.0\n",
      "No. Observations:                4085   AIC:                             3798.\n",
      "Df Residuals:                    4083   BIC:                             3811.\n",
      "Df Model:                           1                                         \n",
      "Covariance Type:            nonrobust                                         \n",
      "==============================================================================\n",
      "                 coef    std err          t      P>|t|      [0.025      0.975]\n",
      "------------------------------------------------------------------------------\n",
      "intercept     -0.3115      0.006    -49.774      0.000      -0.324      -0.299\n",
      "T2            -0.0262      0.004     -7.397      0.000      -0.033      -0.019\n",
      "==============================================================================\n",
      "Omnibus:                     7876.100   Durbin-Watson:                   1.940\n",
      "Prob(Omnibus):                  0.000   Jarque-Bera (JB):         32996783.456\n",
      "Skew:                          14.560   Prob(JB):                         0.00\n",
      "Kurtosis:                     442.333   Cond. No.                         1.89\n",
      "==============================================================================\n",
      "\n",
      "Warnings:\n",
      "[1] Standard Errors assume that the covariance matrix of the errors is correctly specified.\n",
      "                            OLS Regression Results                            \n",
      "==============================================================================\n",
      "Dep. Variable:           RetEarly2020   R-squared:                       0.016\n",
      "Model:                            OLS   Adj. R-squared:                  0.016\n",
      "Method:                 Least Squares   F-statistic:                     68.25\n",
      "Date:                Mon, 05 Jul 2021   Prob (F-statistic):           1.93e-16\n",
      "Time:                        23:02:15   Log-Likelihood:                -1890.3\n",
      "No. Observations:                4085   AIC:                             3785.\n",
      "Df Residuals:                    4083   BIC:                             3797.\n",
      "Df Model:                           1                                         \n",
      "Covariance Type:            nonrobust                                         \n",
      "==============================================================================\n",
      "                 coef    std err          t      P>|t|      [0.025      0.975]\n",
      "------------------------------------------------------------------------------\n",
      "intercept     -0.3026      0.006    -50.170      0.000      -0.314      -0.291\n",
      "T3            -0.2579      0.031     -8.261      0.000      -0.319      -0.197\n",
      "==============================================================================\n",
      "Omnibus:                     7868.311   Durbin-Watson:                   1.936\n",
      "Prob(Omnibus):                  0.000   Jarque-Bera (JB):         32927612.520\n",
      "Skew:                          14.527   Prob(JB):                         0.00\n",
      "Kurtosis:                     441.874   Cond. No.                         5.19\n",
      "==============================================================================\n",
      "\n",
      "Warnings:\n",
      "[1] Standard Errors assume that the covariance matrix of the errors is correctly specified.\n"
     ]
    }
   ],
   "source": [
    "# regress RetEarly2020 on every ratio\n",
    "Y = df2['RetEarly2020']\n",
    "for i in ratios:\n",
    "    X = df2[['intercept', i]]\n",
    "    print(sm.OLS(Y, X).fit().summary())"
   ]
  },
  {
   "cell_type": "code",
   "execution_count": 110,
   "metadata": {
    "colab": {
     "base_uri": "https://localhost:8080/"
    },
    "id": "n7huEVHXtuhz",
    "outputId": "7bc8f81b-8f33-4301-c96c-e78b6f9b6ab6"
   },
   "outputs": [
    {
     "name": "stdout",
     "output_type": "stream",
     "text": [
      "                            OLS Regression Results                            \n",
      "==============================================================================\n",
      "Dep. Variable:           RetEarly2020   R-squared:                       0.000\n",
      "Model:                            OLS   Adj. R-squared:                 -0.000\n",
      "Method:                 Least Squares   F-statistic:                   0.07133\n",
      "Date:                Mon, 05 Jul 2021   Prob (F-statistic):              0.789\n",
      "Time:                        23:02:15   Log-Likelihood:                -1924.1\n",
      "No. Observations:                4085   AIC:                             3852.\n",
      "Df Residuals:                    4083   BIC:                             3865.\n",
      "Df Model:                           1                                         \n",
      "Covariance Type:            nonrobust                                         \n",
      "==============================================================================\n",
      "                 coef    std err          t      P>|t|      [0.025      0.975]\n",
      "------------------------------------------------------------------------------\n",
      "intercept     -0.2989      0.006    -49.240      0.000      -0.311      -0.287\n",
      "roa19      -2.256e-06   8.45e-06     -0.267      0.789   -1.88e-05    1.43e-05\n",
      "==============================================================================\n",
      "Omnibus:                     7886.287   Durbin-Watson:                   1.935\n",
      "Prob(Omnibus):                  0.000   Jarque-Bera (JB):         32283457.493\n",
      "Skew:                          14.617   Prob(JB):                         0.00\n",
      "Kurtosis:                     437.529   Cond. No.                         719.\n",
      "==============================================================================\n",
      "\n",
      "Warnings:\n",
      "[1] Standard Errors assume that the covariance matrix of the errors is correctly specified.\n",
      "                            OLS Regression Results                            \n",
      "==============================================================================\n",
      "Dep. Variable:           RetEarly2020   R-squared:                       0.001\n",
      "Model:                            OLS   Adj. R-squared:                  0.000\n",
      "Method:                 Least Squares   F-statistic:                     2.082\n",
      "Date:                Mon, 05 Jul 2021   Prob (F-statistic):              0.149\n",
      "Time:                        23:02:15   Log-Likelihood:                -1923.1\n",
      "No. Observations:                4085   AIC:                             3850.\n",
      "Df Residuals:                    4083   BIC:                             3863.\n",
      "Df Model:                           1                                         \n",
      "Covariance Type:            nonrobust                                         \n",
      "==============================================================================\n",
      "                 coef    std err          t      P>|t|      [0.025      0.975]\n",
      "------------------------------------------------------------------------------\n",
      "intercept     -0.3052      0.007    -40.910      0.000      -0.320      -0.291\n",
      "atr19          0.0011      0.001      1.443      0.149      -0.000       0.003\n",
      "==============================================================================\n",
      "Omnibus:                     7888.932   Durbin-Watson:                   1.935\n",
      "Prob(Omnibus):                  0.000   Jarque-Bera (JB):         32410538.591\n",
      "Skew:                          14.627   Prob(JB):                         0.00\n",
      "Kurtosis:                     438.386   Cond. No.                         12.1\n",
      "==============================================================================\n",
      "\n",
      "Warnings:\n",
      "[1] Standard Errors assume that the covariance matrix of the errors is correctly specified.\n",
      "                            OLS Regression Results                            \n",
      "==============================================================================\n",
      "Dep. Variable:           RetEarly2020   R-squared:                       0.000\n",
      "Model:                            OLS   Adj. R-squared:                 -0.000\n",
      "Method:                 Least Squares   F-statistic:                   0.02975\n",
      "Date:                Mon, 05 Jul 2021   Prob (F-statistic):              0.863\n",
      "Time:                        23:02:15   Log-Likelihood:                -1924.1\n",
      "No. Observations:                4085   AIC:                             3852.\n",
      "Df Residuals:                    4083   BIC:                             3865.\n",
      "Df Model:                           1                                         \n",
      "Covariance Type:            nonrobust                                         \n",
      "==============================================================================\n",
      "                 coef    std err          t      P>|t|      [0.025      0.975]\n",
      "------------------------------------------------------------------------------\n",
      "intercept     -0.2989      0.006    -49.265      0.000      -0.311      -0.287\n",
      "ros19      -1.403e-06   8.13e-06     -0.172      0.863   -1.74e-05    1.45e-05\n",
      "==============================================================================\n",
      "Omnibus:                     7886.289   Durbin-Watson:                   1.935\n",
      "Prob(Omnibus):                  0.000   Jarque-Bera (JB):         32282893.703\n",
      "Skew:                          14.617   Prob(JB):                         0.00\n",
      "Kurtosis:                     437.525   Cond. No.                         746.\n",
      "==============================================================================\n",
      "\n",
      "Warnings:\n",
      "[1] Standard Errors assume that the covariance matrix of the errors is correctly specified.\n",
      "                            OLS Regression Results                            \n",
      "==============================================================================\n",
      "Dep. Variable:           RetEarly2020   R-squared:                       0.000\n",
      "Model:                            OLS   Adj. R-squared:                 -0.000\n",
      "Method:                 Least Squares   F-statistic:                   0.06398\n",
      "Date:                Mon, 05 Jul 2021   Prob (F-statistic):              0.800\n",
      "Time:                        23:02:15   Log-Likelihood:                -1924.1\n",
      "No. Observations:                4085   AIC:                             3852.\n",
      "Df Residuals:                    4083   BIC:                             3865.\n",
      "Df Model:                           1                                         \n",
      "Covariance Type:            nonrobust                                         \n",
      "==============================================================================\n",
      "                 coef    std err          t      P>|t|      [0.025      0.975]\n",
      "------------------------------------------------------------------------------\n",
      "intercept     -0.2990      0.006    -49.276      0.000      -0.311      -0.287\n",
      "roe19       5.985e-06   2.37e-05      0.253      0.800   -4.04e-05    5.24e-05\n",
      "==============================================================================\n",
      "Omnibus:                     7886.467   Durbin-Watson:                   1.935\n",
      "Prob(Omnibus):                  0.000   Jarque-Bera (JB):         32286663.064\n",
      "Skew:                          14.618   Prob(JB):                         0.00\n",
      "Kurtosis:                     437.551   Cond. No.                         257.\n",
      "==============================================================================\n",
      "\n",
      "Warnings:\n",
      "[1] Standard Errors assume that the covariance matrix of the errors is correctly specified.\n",
      "                            OLS Regression Results                            \n",
      "==============================================================================\n",
      "Dep. Variable:           RetEarly2020   R-squared:                       0.002\n",
      "Model:                            OLS   Adj. R-squared:                  0.002\n",
      "Method:                 Least Squares   F-statistic:                     9.518\n",
      "Date:                Mon, 05 Jul 2021   Prob (F-statistic):            0.00205\n",
      "Time:                        23:02:15   Log-Likelihood:                -1919.4\n",
      "No. Observations:                4085   AIC:                             3843.\n",
      "Df Residuals:                    4083   BIC:                             3855.\n",
      "Df Model:                           1                                         \n",
      "Covariance Type:            nonrobust                                         \n",
      "==============================================================================\n",
      "                 coef    std err          t      P>|t|      [0.025      0.975]\n",
      "------------------------------------------------------------------------------\n",
      "intercept     -0.3178      0.009    -36.936      0.000      -0.335      -0.301\n",
      "emulti19       0.0486      0.016      3.085      0.002       0.018       0.079\n",
      "==============================================================================\n",
      "Omnibus:                     7891.971   Durbin-Watson:                   1.936\n",
      "Prob(Omnibus):                  0.000   Jarque-Bera (JB):         32308395.918\n",
      "Skew:                          14.642   Prob(JB):                         0.00\n",
      "Kurtosis:                     437.694   Cond. No.                         3.05\n",
      "==============================================================================\n",
      "\n",
      "Warnings:\n",
      "[1] Standard Errors assume that the covariance matrix of the errors is correctly specified.\n",
      "                            OLS Regression Results                            \n",
      "==============================================================================\n",
      "Dep. Variable:           RetEarly2020   R-squared:                       0.000\n",
      "Model:                            OLS   Adj. R-squared:                 -0.000\n",
      "Method:                 Least Squares   F-statistic:                    0.2803\n",
      "Date:                Mon, 05 Jul 2021   Prob (F-statistic):              0.597\n",
      "Time:                        23:02:15   Log-Likelihood:                -1924.0\n",
      "No. Observations:                4085   AIC:                             3852.\n",
      "Df Residuals:                    4083   BIC:                             3865.\n",
      "Df Model:                           1                                         \n",
      "Covariance Type:            nonrobust                                         \n",
      "==============================================================================\n",
      "                 coef    std err          t      P>|t|      [0.025      0.975]\n",
      "------------------------------------------------------------------------------\n",
      "intercept     -0.2953      0.009    -32.238      0.000      -0.313      -0.277\n",
      "ai19          -0.0059      0.011     -0.529      0.597      -0.028       0.016\n",
      "==============================================================================\n",
      "Omnibus:                     7890.541   Durbin-Watson:                   1.935\n",
      "Prob(Omnibus):                  0.000   Jarque-Bera (JB):         32417771.786\n",
      "Skew:                          14.634   Prob(JB):                         0.00\n",
      "Kurtosis:                     438.434   Cond. No.                         2.71\n",
      "==============================================================================\n",
      "\n",
      "Warnings:\n",
      "[1] Standard Errors assume that the covariance matrix of the errors is correctly specified.\n",
      "                            OLS Regression Results                            \n",
      "==============================================================================\n",
      "Dep. Variable:           RetEarly2020   R-squared:                       0.003\n",
      "Model:                            OLS   Adj. R-squared:                  0.002\n",
      "Method:                 Least Squares   F-statistic:                     10.91\n",
      "Date:                Mon, 05 Jul 2021   Prob (F-statistic):           0.000965\n",
      "Time:                        23:02:15   Log-Likelihood:                -1918.7\n",
      "No. Observations:                4085   AIC:                             3841.\n",
      "Df Residuals:                    4083   BIC:                             3854.\n",
      "Df Model:                           1                                         \n",
      "Covariance Type:            nonrobust                                         \n",
      "==============================================================================\n",
      "                 coef    std err          t      P>|t|      [0.025      0.975]\n",
      "------------------------------------------------------------------------------\n",
      "intercept     -0.3000      0.006    -49.463      0.000      -0.312      -0.288\n",
      "gmargin19      0.0082      0.002      3.303      0.001       0.003       0.013\n",
      "==============================================================================\n",
      "Omnibus:                     7875.815   Durbin-Watson:                   1.936\n",
      "Prob(Omnibus):                  0.000   Jarque-Bera (JB):         32304495.972\n",
      "Skew:                          14.570   Prob(JB):                         0.00\n",
      "Kurtosis:                     437.678   Cond. No.                         2.45\n",
      "==============================================================================\n",
      "\n",
      "Warnings:\n",
      "[1] Standard Errors assume that the covariance matrix of the errors is correctly specified.\n",
      "                            OLS Regression Results                            \n",
      "==============================================================================\n",
      "Dep. Variable:           RetEarly2020   R-squared:                       0.006\n",
      "Model:                            OLS   Adj. R-squared:                  0.006\n",
      "Method:                 Least Squares   F-statistic:                     26.13\n",
      "Date:                Mon, 05 Jul 2021   Prob (F-statistic):           3.33e-07\n",
      "Time:                        23:02:15   Log-Likelihood:                -1911.1\n",
      "No. Observations:                4085   AIC:                             3826.\n",
      "Df Residuals:                    4083   BIC:                             3839.\n",
      "Df Model:                           1                                         \n",
      "Covariance Type:            nonrobust                                         \n",
      "==============================================================================\n",
      "                 coef    std err          t      P>|t|      [0.025      0.975]\n",
      "------------------------------------------------------------------------------\n",
      "intercept     -0.2829      0.007    -41.521      0.000      -0.296      -0.270\n",
      "cta19         -0.0003   5.42e-05     -5.112      0.000      -0.000      -0.000\n",
      "==============================================================================\n",
      "Omnibus:                     7916.763   Durbin-Watson:                   1.938\n",
      "Prob(Omnibus):                  0.000   Jarque-Bera (JB):         33139628.682\n",
      "Skew:                          14.740   Prob(JB):                         0.00\n",
      "Kurtosis:                     443.263   Cond. No.                         142.\n",
      "==============================================================================\n",
      "\n",
      "Warnings:\n",
      "[1] Standard Errors assume that the covariance matrix of the errors is correctly specified.\n",
      "                            OLS Regression Results                            \n",
      "==============================================================================\n",
      "Dep. Variable:           RetEarly2020   R-squared:                       0.003\n",
      "Model:                            OLS   Adj. R-squared:                  0.003\n",
      "Method:                 Least Squares   F-statistic:                     13.03\n",
      "Date:                Mon, 05 Jul 2021   Prob (F-statistic):           0.000311\n",
      "Time:                        23:02:15   Log-Likelihood:                -1917.6\n",
      "No. Observations:                4085   AIC:                             3839.\n",
      "Df Residuals:                    4083   BIC:                             3852.\n",
      "Df Model:                           1                                         \n",
      "Covariance Type:            nonrobust                                         \n",
      "==============================================================================\n",
      "                 coef    std err          t      P>|t|      [0.025      0.975]\n",
      "------------------------------------------------------------------------------\n",
      "intercept     -0.2883      0.007    -42.823      0.000      -0.302      -0.275\n",
      "cash19        -0.0007      0.000     -3.609      0.000      -0.001      -0.000\n",
      "==============================================================================\n",
      "Omnibus:                     7899.023   Durbin-Watson:                   1.939\n",
      "Prob(Omnibus):                  0.000   Jarque-Bera (JB):         32677864.052\n",
      "Skew:                          14.668   Prob(JB):                         0.00\n",
      "Kurtosis:                     440.181   Cond. No.                         40.1\n",
      "==============================================================================\n",
      "\n",
      "Warnings:\n",
      "[1] Standard Errors assume that the covariance matrix of the errors is correctly specified.\n",
      "                            OLS Regression Results                            \n",
      "==============================================================================\n",
      "Dep. Variable:           RetEarly2020   R-squared:                       0.003\n",
      "Model:                            OLS   Adj. R-squared:                  0.002\n",
      "Method:                 Least Squares   F-statistic:                     10.44\n",
      "Date:                Mon, 05 Jul 2021   Prob (F-statistic):            0.00124\n",
      "Time:                        23:02:15   Log-Likelihood:                -1918.9\n",
      "No. Observations:                4085   AIC:                             3842.\n",
      "Df Residuals:                    4083   BIC:                             3855.\n",
      "Df Model:                           1                                         \n",
      "Covariance Type:            nonrobust                                         \n",
      "==============================================================================\n",
      "                 coef    std err          t      P>|t|      [0.025      0.975]\n",
      "------------------------------------------------------------------------------\n",
      "intercept     -0.2786      0.009    -31.918      0.000      -0.296      -0.262\n",
      "quick19       -0.0225      0.007     -3.231      0.001      -0.036      -0.009\n",
      "==============================================================================\n",
      "Omnibus:                     7899.487   Durbin-Watson:                   1.937\n",
      "Prob(Omnibus):                  0.000   Jarque-Bera (JB):         32595116.945\n",
      "Skew:                          14.671   Prob(JB):                         0.00\n",
      "Kurtosis:                     439.624   Cond. No.                         2.57\n",
      "==============================================================================\n",
      "\n",
      "Warnings:\n",
      "[1] Standard Errors assume that the covariance matrix of the errors is correctly specified.\n",
      "                            OLS Regression Results                            \n",
      "==============================================================================\n",
      "Dep. Variable:           RetEarly2020   R-squared:                       0.000\n",
      "Model:                            OLS   Adj. R-squared:                  0.000\n",
      "Method:                 Least Squares   F-statistic:                     1.342\n",
      "Date:                Mon, 05 Jul 2021   Prob (F-statistic):              0.247\n",
      "Time:                        23:02:15   Log-Likelihood:                -828.53\n",
      "No. Observations:                3862   AIC:                             1661.\n",
      "Df Residuals:                    3860   BIC:                             1674.\n",
      "Df Model:                           1                                         \n",
      "Covariance Type:            nonrobust                                         \n",
      "==============================================================================\n",
      "                 coef    std err          t      P>|t|      [0.025      0.975]\n",
      "------------------------------------------------------------------------------\n",
      "intercept     -0.3085      0.005    -63.474      0.000      -0.318      -0.299\n",
      "lda19       1.068e-05   9.22e-06      1.159      0.247   -7.39e-06    2.87e-05\n",
      "==============================================================================\n",
      "Omnibus:                     3527.350   Durbin-Watson:                   2.014\n",
      "Prob(Omnibus):                  0.000   Jarque-Bera (JB):           279033.466\n",
      "Skew:                           4.058   Prob(JB):                         0.00\n",
      "Kurtosis:                      43.843   Cond. No.                         531.\n",
      "==============================================================================\n",
      "\n",
      "Warnings:\n",
      "[1] Standard Errors assume that the covariance matrix of the errors is correctly specified.\n",
      "                            OLS Regression Results                            \n",
      "==============================================================================\n",
      "Dep. Variable:           RetEarly2020   R-squared:                       0.012\n",
      "Model:                            OLS   Adj. R-squared:                  0.012\n",
      "Method:                 Least Squares   F-statistic:                     50.00\n",
      "Date:                Mon, 05 Jul 2021   Prob (F-statistic):           1.80e-12\n",
      "Time:                        23:02:15   Log-Likelihood:                -1899.3\n",
      "No. Observations:                4085   AIC:                             3803.\n",
      "Df Residuals:                    4083   BIC:                             3815.\n",
      "Df Model:                           1                                         \n",
      "Covariance Type:            nonrobust                                         \n",
      "==============================================================================\n",
      "                 coef    std err          t      P>|t|      [0.025      0.975]\n",
      "------------------------------------------------------------------------------\n",
      "intercept     -0.3306      0.008    -44.035      0.000      -0.345      -0.316\n",
      "se19           6.5973      0.933      7.071      0.000       4.768       8.427\n",
      "==============================================================================\n",
      "Omnibus:                     7879.399   Durbin-Watson:                   1.935\n",
      "Prob(Omnibus):                  0.000   Jarque-Bera (JB):         33025854.214\n",
      "Skew:                          14.574   Prob(JB):                         0.00\n",
      "Kurtosis:                     442.525   Cond. No.                         155.\n",
      "==============================================================================\n",
      "\n",
      "Warnings:\n",
      "[1] Standard Errors assume that the covariance matrix of the errors is correctly specified.\n",
      "                            OLS Regression Results                            \n",
      "==============================================================================\n",
      "Dep. Variable:           RetEarly2020   R-squared:                       0.000\n",
      "Model:                            OLS   Adj. R-squared:                 -0.000\n",
      "Method:                 Least Squares   F-statistic:                    0.3511\n",
      "Date:                Mon, 05 Jul 2021   Prob (F-statistic):              0.554\n",
      "Time:                        23:02:15   Log-Likelihood:                -1924.0\n",
      "No. Observations:                4084   AIC:                             3852.\n",
      "Df Residuals:                    4082   BIC:                             3865.\n",
      "Df Model:                           1                                         \n",
      "Covariance Type:            nonrobust                                         \n",
      "==============================================================================\n",
      "                 coef    std err          t      P>|t|      [0.025      0.975]\n",
      "------------------------------------------------------------------------------\n",
      "intercept     -0.2989      0.006    -49.271      0.000      -0.311      -0.287\n",
      "T1          1.985e-06   3.35e-06      0.593      0.554   -4.58e-06    8.55e-06\n",
      "==============================================================================\n",
      "Omnibus:                     7884.333   Durbin-Watson:                   1.935\n",
      "Prob(Omnibus):                  0.000   Jarque-Bera (JB):         32269363.202\n",
      "Skew:                          14.617   Prob(JB):                         0.00\n",
      "Kurtosis:                     437.487   Cond. No.                     1.81e+03\n",
      "==============================================================================\n",
      "\n",
      "Warnings:\n",
      "[1] Standard Errors assume that the covariance matrix of the errors is correctly specified.\n",
      "[2] The condition number is large, 1.81e+03. This might indicate that there are\n",
      "strong multicollinearity or other numerical problems.\n",
      "                            OLS Regression Results                            \n",
      "==============================================================================\n",
      "Dep. Variable:           RetEarly2020   R-squared:                       0.000\n",
      "Model:                            OLS   Adj. R-squared:                 -0.000\n",
      "Method:                 Least Squares   F-statistic:                    0.1413\n",
      "Date:                Mon, 05 Jul 2021   Prob (F-statistic):              0.707\n",
      "Time:                        23:02:15   Log-Likelihood:                -1923.6\n",
      "No. Observations:                4082   AIC:                             3851.\n",
      "Df Residuals:                    4080   BIC:                             3864.\n",
      "Df Model:                           1                                         \n",
      "Covariance Type:            nonrobust                                         \n",
      "==============================================================================\n",
      "                 coef    std err          t      P>|t|      [0.025      0.975]\n",
      "------------------------------------------------------------------------------\n",
      "intercept     -0.2989      0.006    -49.240      0.000      -0.311      -0.287\n",
      "T2         -2.047e-06   5.44e-06     -0.376      0.707   -1.27e-05    8.63e-06\n",
      "==============================================================================\n",
      "Omnibus:                     7880.871   Durbin-Watson:                   1.935\n",
      "Prob(Omnibus):                  0.000   Jarque-Bera (JB):         32251351.365\n",
      "Skew:                          14.618   Prob(JB):                         0.00\n",
      "Kurtosis:                     437.472   Cond. No.                     1.12e+03\n",
      "==============================================================================\n",
      "\n",
      "Warnings:\n",
      "[1] Standard Errors assume that the covariance matrix of the errors is correctly specified.\n",
      "[2] The condition number is large, 1.12e+03. This might indicate that there are\n",
      "strong multicollinearity or other numerical problems.\n",
      "                            OLS Regression Results                            \n",
      "==============================================================================\n",
      "Dep. Variable:           RetEarly2020   R-squared:                       0.000\n",
      "Model:                            OLS   Adj. R-squared:                 -0.000\n",
      "Method:                 Least Squares   F-statistic:                    0.3175\n",
      "Date:                Mon, 05 Jul 2021   Prob (F-statistic):              0.573\n",
      "Time:                        23:02:15   Log-Likelihood:                -1924.0\n",
      "No. Observations:                4085   AIC:                             3852.\n",
      "Df Residuals:                    4083   BIC:                             3865.\n",
      "Df Model:                           1                                         \n",
      "Covariance Type:            nonrobust                                         \n",
      "==============================================================================\n",
      "                 coef    std err          t      P>|t|      [0.025      0.975]\n",
      "------------------------------------------------------------------------------\n",
      "intercept     -0.2988      0.006    -49.225      0.000      -0.311      -0.287\n",
      "T3          -7.78e-06   1.38e-05     -0.564      0.573   -3.48e-05    1.93e-05\n",
      "==============================================================================\n",
      "Omnibus:                     7886.487   Durbin-Watson:                   1.935\n",
      "Prob(Omnibus):                  0.000   Jarque-Bera (JB):         32289020.029\n",
      "Skew:                          14.618   Prob(JB):                         0.00\n",
      "Kurtosis:                     437.567   Cond. No.                         440.\n",
      "==============================================================================\n",
      "\n",
      "Warnings:\n",
      "[1] Standard Errors assume that the covariance matrix of the errors is correctly specified.\n"
     ]
    }
   ],
   "source": [
    "# regress RetEarly2020 on every ratio's reciprocal\n",
    "Y = df2['RetEarly2020']\n",
    "for i in ratios:\n",
    "    if (i=='lda19') or (i=='T1') or (i=='T2'):\n",
    "        tmp = df2[df2[i]!=0]\n",
    "        Y2 = tmp['RetEarly2020']\n",
    "        X = 1/tmp[['intercept', i]]\n",
    "        print(sm.OLS(Y2, X).fit().summary())\n",
    "    else:\n",
    "        X = 1/df2[['intercept', i]]\n",
    "        print(sm.OLS(Y, X).fit().summary())"
   ]
  },
  {
   "cell_type": "code",
   "execution_count": 111,
   "metadata": {
    "colab": {
     "base_uri": "https://localhost:8080/"
    },
    "id": "o_4YvxvFvKxm",
    "outputId": "9c00662b-ba03-4285-bf87-8e9ec5a4fc0a"
   },
   "outputs": [
    {
     "name": "stdout",
     "output_type": "stream",
     "text": [
      "                            OLS Regression Results                            \n",
      "==============================================================================\n",
      "Dep. Variable:            RetLate2020   R-squared:                       0.023\n",
      "Model:                            OLS   Adj. R-squared:                  0.023\n",
      "Method:                 Least Squares   F-statistic:                     95.43\n",
      "Date:                Mon, 05 Jul 2021   Prob (F-statistic):           2.69e-22\n",
      "Time:                        23:02:15   Log-Likelihood:                -7443.7\n",
      "No. Observations:                4085   AIC:                         1.489e+04\n",
      "Df Residuals:                    4083   BIC:                         1.490e+04\n",
      "Df Model:                           1                                         \n",
      "Covariance Type:            nonrobust                                         \n",
      "==============================================================================\n",
      "                 coef    std err          t      P>|t|      [0.025      0.975]\n",
      "------------------------------------------------------------------------------\n",
      "intercept      0.8550      0.024     35.685      0.000       0.808       0.902\n",
      "roa19         -1.1152      0.114     -9.769      0.000      -1.339      -0.891\n",
      "==============================================================================\n",
      "Omnibus:                     4881.957   Durbin-Watson:                   1.955\n",
      "Prob(Omnibus):                  0.000   Jarque-Bera (JB):           755385.607\n",
      "Skew:                           6.237   Prob(JB):                         0.00\n",
      "Kurtosis:                      68.440   Cond. No.                         4.88\n",
      "==============================================================================\n",
      "\n",
      "Warnings:\n",
      "[1] Standard Errors assume that the covariance matrix of the errors is correctly specified.\n",
      "                            OLS Regression Results                            \n",
      "==============================================================================\n",
      "Dep. Variable:            RetLate2020   R-squared:                       0.014\n",
      "Model:                            OLS   Adj. R-squared:                  0.014\n",
      "Method:                 Least Squares   F-statistic:                     58.25\n",
      "Date:                Mon, 05 Jul 2021   Prob (F-statistic):           2.85e-14\n",
      "Time:                        23:02:15   Log-Likelihood:                -7461.9\n",
      "No. Observations:                4085   AIC:                         1.493e+04\n",
      "Df Residuals:                    4083   BIC:                         1.494e+04\n",
      "Df Model:                           1                                         \n",
      "Covariance Type:            nonrobust                                         \n",
      "==============================================================================\n",
      "                 coef    std err          t      P>|t|      [0.025      0.975]\n",
      "------------------------------------------------------------------------------\n",
      "intercept      0.7011      0.036     19.739      0.000       0.631       0.771\n",
      "atr19          0.3138      0.041      7.632      0.000       0.233       0.394\n",
      "==============================================================================\n",
      "Omnibus:                     5032.564   Durbin-Watson:                   1.940\n",
      "Prob(Omnibus):                  0.000   Jarque-Bera (JB):           844540.490\n",
      "Skew:                           6.571   Prob(JB):                         0.00\n",
      "Kurtosis:                      72.203   Cond. No.                         2.68\n",
      "==============================================================================\n",
      "\n",
      "Warnings:\n",
      "[1] Standard Errors assume that the covariance matrix of the errors is correctly specified.\n",
      "                            OLS Regression Results                            \n",
      "==============================================================================\n",
      "Dep. Variable:            RetLate2020   R-squared:                       0.002\n",
      "Model:                            OLS   Adj. R-squared:                  0.002\n",
      "Method:                 Least Squares   F-statistic:                     7.999\n",
      "Date:                Mon, 05 Jul 2021   Prob (F-statistic):            0.00470\n",
      "Time:                        23:02:15   Log-Likelihood:                -7486.9\n",
      "No. Observations:                4085   AIC:                         1.498e+04\n",
      "Df Residuals:                    4083   BIC:                         1.499e+04\n",
      "Df Model:                           1                                         \n",
      "Covariance Type:            nonrobust                                         \n",
      "==============================================================================\n",
      "                 coef    std err          t      P>|t|      [0.025      0.975]\n",
      "------------------------------------------------------------------------------\n",
      "intercept      0.8877      0.024     36.413      0.000       0.840       0.936\n",
      "ros19         -0.0279      0.010     -2.828      0.005      -0.047      -0.009\n",
      "==============================================================================\n",
      "Omnibus:                     4980.672   Durbin-Watson:                   1.954\n",
      "Prob(Omnibus):                  0.000   Jarque-Bera (JB):           802587.571\n",
      "Skew:                           6.460   Prob(JB):                         0.00\n",
      "Kurtosis:                      70.442   Cond. No.                         2.57\n",
      "==============================================================================\n",
      "\n",
      "Warnings:\n",
      "[1] Standard Errors assume that the covariance matrix of the errors is correctly specified.\n",
      "                            OLS Regression Results                            \n",
      "==============================================================================\n",
      "Dep. Variable:            RetLate2020   R-squared:                       0.011\n",
      "Model:                            OLS   Adj. R-squared:                  0.011\n",
      "Method:                 Least Squares   F-statistic:                     44.90\n",
      "Date:                Mon, 05 Jul 2021   Prob (F-statistic):           2.36e-11\n",
      "Time:                        23:02:15   Log-Likelihood:                -7468.5\n",
      "No. Observations:                4085   AIC:                         1.494e+04\n",
      "Df Residuals:                    4083   BIC:                         1.495e+04\n",
      "Df Model:                           1                                         \n",
      "Covariance Type:            nonrobust                                         \n",
      "==============================================================================\n",
      "                 coef    std err          t      P>|t|      [0.025      0.975]\n",
      "------------------------------------------------------------------------------\n",
      "intercept      0.8810      0.024     36.988      0.000       0.834       0.928\n",
      "roe19         -0.3049      0.045     -6.701      0.000      -0.394      -0.216\n",
      "==============================================================================\n",
      "Omnibus:                     4931.708   Durbin-Watson:                   1.949\n",
      "Prob(Omnibus):                  0.000   Jarque-Bera (JB):           775141.097\n",
      "Skew:                           6.351   Prob(JB):                         0.00\n",
      "Kurtosis:                      69.278   Cond. No.                         1.95\n",
      "==============================================================================\n",
      "\n",
      "Warnings:\n",
      "[1] Standard Errors assume that the covariance matrix of the errors is correctly specified.\n",
      "                            OLS Regression Results                            \n",
      "==============================================================================\n",
      "Dep. Variable:            RetLate2020   R-squared:                       0.005\n",
      "Model:                            OLS   Adj. R-squared:                  0.005\n",
      "Method:                 Least Squares   F-statistic:                     21.85\n",
      "Date:                Mon, 05 Jul 2021   Prob (F-statistic):           3.04e-06\n",
      "Time:                        23:02:15   Log-Likelihood:                -7480.0\n",
      "No. Observations:                4085   AIC:                         1.496e+04\n",
      "Df Residuals:                    4083   BIC:                         1.498e+04\n",
      "Df Model:                           1                                         \n",
      "Covariance Type:            nonrobust                                         \n",
      "==============================================================================\n",
      "                 coef    std err          t      P>|t|      [0.025      0.975]\n",
      "------------------------------------------------------------------------------\n",
      "intercept      1.0250      0.035     29.280      0.000       0.956       1.094\n",
      "emulti19      -0.0360      0.008     -4.675      0.000      -0.051      -0.021\n",
      "==============================================================================\n",
      "Omnibus:                     4997.350   Durbin-Watson:                   1.958\n",
      "Prob(Omnibus):                  0.000   Jarque-Bera (JB):           814785.886\n",
      "Skew:                           6.496   Prob(JB):                         0.00\n",
      "Kurtosis:                      70.957   Cond. No.                         6.91\n",
      "==============================================================================\n",
      "\n",
      "Warnings:\n",
      "[1] Standard Errors assume that the covariance matrix of the errors is correctly specified.\n",
      "                            OLS Regression Results                            \n",
      "==============================================================================\n",
      "Dep. Variable:            RetLate2020   R-squared:                       0.009\n",
      "Model:                            OLS   Adj. R-squared:                  0.008\n",
      "Method:                 Least Squares   F-statistic:                     35.86\n",
      "Date:                Mon, 05 Jul 2021   Prob (F-statistic):           2.30e-09\n",
      "Time:                        23:02:15   Log-Likelihood:                -7473.0\n",
      "No. Observations:                4085   AIC:                         1.495e+04\n",
      "Df Residuals:                    4083   BIC:                         1.496e+04\n",
      "Df Model:                           1                                         \n",
      "Covariance Type:            nonrobust                                         \n",
      "==============================================================================\n",
      "                 coef    std err          t      P>|t|      [0.025      0.975]\n",
      "------------------------------------------------------------------------------\n",
      "intercept      1.0058      0.029     34.616      0.000       0.949       1.063\n",
      "ai19          -0.0171      0.003     -5.988      0.000      -0.023      -0.012\n",
      "==============================================================================\n",
      "Omnibus:                     5011.823   Durbin-Watson:                   1.945\n",
      "Prob(Omnibus):                  0.000   Jarque-Bera (JB):           822612.562\n",
      "Skew:                           6.529   Prob(JB):                         0.00\n",
      "Kurtosis:                      71.282   Cond. No.                         12.6\n",
      "==============================================================================\n",
      "\n",
      "Warnings:\n",
      "[1] Standard Errors assume that the covariance matrix of the errors is correctly specified.\n",
      "                            OLS Regression Results                            \n",
      "==============================================================================\n",
      "Dep. Variable:            RetLate2020   R-squared:                       0.007\n",
      "Model:                            OLS   Adj. R-squared:                  0.007\n",
      "Method:                 Least Squares   F-statistic:                     28.19\n",
      "Date:                Mon, 05 Jul 2021   Prob (F-statistic):           1.16e-07\n",
      "Time:                        23:02:15   Log-Likelihood:                -7476.8\n",
      "No. Observations:                4085   AIC:                         1.496e+04\n",
      "Df Residuals:                    4083   BIC:                         1.497e+04\n",
      "Df Model:                           1                                         \n",
      "Covariance Type:            nonrobust                                         \n",
      "==============================================================================\n",
      "                 coef    std err          t      P>|t|      [0.025      0.975]\n",
      "------------------------------------------------------------------------------\n",
      "intercept      0.9637      0.026     36.873      0.000       0.912       1.015\n",
      "gmargin19  -4.738e-05   8.92e-06     -5.310      0.000   -6.49e-05   -2.99e-05\n",
      "==============================================================================\n",
      "Omnibus:                     4988.213   Durbin-Watson:                   1.961\n",
      "Prob(Omnibus):                  0.000   Jarque-Bera (JB):           811221.666\n",
      "Skew:                           6.475   Prob(JB):                         0.00\n",
      "Kurtosis:                      70.811   Cond. No.                     3.24e+03\n",
      "==============================================================================\n",
      "\n",
      "Warnings:\n",
      "[1] Standard Errors assume that the covariance matrix of the errors is correctly specified.\n",
      "[2] The condition number is large, 3.24e+03. This might indicate that there are\n",
      "strong multicollinearity or other numerical problems.\n",
      "                            OLS Regression Results                            \n",
      "==============================================================================\n",
      "Dep. Variable:            RetLate2020   R-squared:                       0.002\n",
      "Model:                            OLS   Adj. R-squared:                  0.001\n",
      "Method:                 Least Squares   F-statistic:                     6.703\n",
      "Date:                Mon, 05 Jul 2021   Prob (F-statistic):            0.00966\n",
      "Time:                        23:02:15   Log-Likelihood:                -7487.5\n",
      "No. Observations:                4085   AIC:                         1.498e+04\n",
      "Df Residuals:                    4083   BIC:                         1.499e+04\n",
      "Df Model:                           1                                         \n",
      "Covariance Type:            nonrobust                                         \n",
      "==============================================================================\n",
      "                 coef    std err          t      P>|t|      [0.025      0.975]\n",
      "------------------------------------------------------------------------------\n",
      "intercept      0.8545      0.030     28.022      0.000       0.795       0.914\n",
      "cta19          0.3835      0.148      2.589      0.010       0.093       0.674\n",
      "==============================================================================\n",
      "Omnibus:                     4992.199   Durbin-Watson:                   1.954\n",
      "Prob(Omnibus):                  0.000   Jarque-Bera (JB):           809168.257\n",
      "Skew:                           6.486   Prob(JB):                         0.00\n",
      "Kurtosis:                      70.718   Cond. No.                         6.36\n",
      "==============================================================================\n",
      "\n",
      "Warnings:\n",
      "[1] Standard Errors assume that the covariance matrix of the errors is correctly specified.\n",
      "                            OLS Regression Results                            \n",
      "==============================================================================\n",
      "Dep. Variable:            RetLate2020   R-squared:                       0.001\n",
      "Model:                            OLS   Adj. R-squared:                  0.000\n",
      "Method:                 Least Squares   F-statistic:                     2.070\n",
      "Date:                Mon, 05 Jul 2021   Prob (F-statistic):              0.150\n",
      "Time:                        23:02:15   Log-Likelihood:                -7489.8\n",
      "No. Observations:                4085   AIC:                         1.498e+04\n",
      "Df Residuals:                    4083   BIC:                         1.500e+04\n",
      "Df Model:                           1                                         \n",
      "Covariance Type:            nonrobust                                         \n",
      "==============================================================================\n",
      "                 coef    std err          t      P>|t|      [0.025      0.975]\n",
      "------------------------------------------------------------------------------\n",
      "intercept      0.9268      0.028     32.607      0.000       0.871       0.983\n",
      "cash19        -0.0255      0.018     -1.439      0.150      -0.060       0.009\n",
      "==============================================================================\n",
      "Omnibus:                     4994.539   Durbin-Watson:                   1.948\n",
      "Prob(Omnibus):                  0.000   Jarque-Bera (JB):           808197.141\n",
      "Skew:                           6.493   Prob(JB):                         0.00\n",
      "Kurtosis:                      70.673   Cond. No.                         2.22\n",
      "==============================================================================\n",
      "\n",
      "Warnings:\n",
      "[1] Standard Errors assume that the covariance matrix of the errors is correctly specified.\n",
      "                            OLS Regression Results                            \n",
      "==============================================================================\n",
      "Dep. Variable:            RetLate2020   R-squared:                       0.001\n",
      "Model:                            OLS   Adj. R-squared:                  0.001\n",
      "Method:                 Least Squares   F-statistic:                     3.514\n",
      "Date:                Mon, 05 Jul 2021   Prob (F-statistic):             0.0609\n",
      "Time:                        23:02:15   Log-Likelihood:                -7489.1\n",
      "No. Observations:                4085   AIC:                         1.498e+04\n",
      "Df Residuals:                    4083   BIC:                         1.499e+04\n",
      "Df Model:                           1                                         \n",
      "Covariance Type:            nonrobust                                         \n",
      "==============================================================================\n",
      "                 coef    std err          t      P>|t|      [0.025      0.975]\n",
      "------------------------------------------------------------------------------\n",
      "intercept      0.9172      0.025     37.167      0.000       0.869       0.966\n",
      "quick19       -0.0043      0.002     -1.875      0.061      -0.009       0.000\n",
      "==============================================================================\n",
      "Omnibus:                     4994.938   Durbin-Watson:                   1.949\n",
      "Prob(Omnibus):                  0.000   Jarque-Bera (JB):           808922.487\n",
      "Skew:                           6.494   Prob(JB):                         0.00\n",
      "Kurtosis:                      70.704   Cond. No.                         11.3\n",
      "==============================================================================\n",
      "\n",
      "Warnings:\n",
      "[1] Standard Errors assume that the covariance matrix of the errors is correctly specified.\n",
      "                            OLS Regression Results                            \n",
      "==============================================================================\n",
      "Dep. Variable:            RetLate2020   R-squared:                       0.002\n",
      "Model:                            OLS   Adj. R-squared:                  0.002\n",
      "Method:                 Least Squares   F-statistic:                     7.426\n",
      "Date:                Mon, 05 Jul 2021   Prob (F-statistic):            0.00645\n",
      "Time:                        23:02:15   Log-Likelihood:                -7487.2\n",
      "No. Observations:                4085   AIC:                         1.498e+04\n",
      "Df Residuals:                    4083   BIC:                         1.499e+04\n",
      "Df Model:                           1                                         \n",
      "Covariance Type:            nonrobust                                         \n",
      "==============================================================================\n",
      "                 coef    std err          t      P>|t|      [0.025      0.975]\n",
      "------------------------------------------------------------------------------\n",
      "intercept      0.8312      0.036     23.238      0.000       0.761       0.901\n",
      "lda19          0.3035      0.111      2.725      0.006       0.085       0.522\n",
      "==============================================================================\n",
      "Omnibus:                     5008.556   Durbin-Watson:                   1.948\n",
      "Prob(Omnibus):                  0.000   Jarque-Bera (JB):           818849.352\n",
      "Skew:                           6.523   Prob(JB):                         0.00\n",
      "Kurtosis:                      71.122   Cond. No.                         4.99\n",
      "==============================================================================\n",
      "\n",
      "Warnings:\n",
      "[1] Standard Errors assume that the covariance matrix of the errors is correctly specified.\n",
      "                            OLS Regression Results                            \n",
      "==============================================================================\n",
      "Dep. Variable:            RetLate2020   R-squared:                       0.001\n",
      "Model:                            OLS   Adj. R-squared:                  0.001\n",
      "Method:                 Least Squares   F-statistic:                     5.364\n",
      "Date:                Mon, 05 Jul 2021   Prob (F-statistic):             0.0206\n",
      "Time:                        23:02:15   Log-Likelihood:                -7488.2\n",
      "No. Observations:                4085   AIC:                         1.498e+04\n",
      "Df Residuals:                    4083   BIC:                         1.499e+04\n",
      "Df Model:                           1                                         \n",
      "Covariance Type:            nonrobust                                         \n",
      "==============================================================================\n",
      "                 coef    std err          t      P>|t|      [0.025      0.975]\n",
      "------------------------------------------------------------------------------\n",
      "intercept      0.9212      0.025     37.172      0.000       0.873       0.970\n",
      "se19       -1.669e-05   7.21e-06     -2.316      0.021   -3.08e-05   -2.56e-06\n",
      "==============================================================================\n",
      "Omnibus:                     4995.058   Durbin-Watson:                   1.951\n",
      "Prob(Omnibus):                  0.000   Jarque-Bera (JB):           809058.227\n",
      "Skew:                           6.494   Prob(JB):                         0.00\n",
      "Kurtosis:                      70.710   Cond. No.                     3.60e+03\n",
      "==============================================================================\n",
      "\n",
      "Warnings:\n",
      "[1] Standard Errors assume that the covariance matrix of the errors is correctly specified.\n",
      "[2] The condition number is large, 3.6e+03. This might indicate that there are\n",
      "strong multicollinearity or other numerical problems.\n",
      "                            OLS Regression Results                            \n",
      "==============================================================================\n",
      "Dep. Variable:            RetLate2020   R-squared:                       0.006\n",
      "Model:                            OLS   Adj. R-squared:                  0.006\n",
      "Method:                 Least Squares   F-statistic:                     26.19\n",
      "Date:                Mon, 05 Jul 2021   Prob (F-statistic):           3.24e-07\n",
      "Time:                        23:02:15   Log-Likelihood:                -7477.8\n",
      "No. Observations:                4085   AIC:                         1.496e+04\n",
      "Df Residuals:                    4083   BIC:                         1.497e+04\n",
      "Df Model:                           1                                         \n",
      "Covariance Type:            nonrobust                                         \n",
      "==============================================================================\n",
      "                 coef    std err          t      P>|t|      [0.025      0.975]\n",
      "------------------------------------------------------------------------------\n",
      "intercept      0.8689      0.025     35.308      0.000       0.821       0.917\n",
      "T1             0.3140      0.061      5.118      0.000       0.194       0.434\n",
      "==============================================================================\n",
      "Omnibus:                     5018.665   Durbin-Watson:                   1.953\n",
      "Prob(Omnibus):                  0.000   Jarque-Bera (JB):           831126.450\n",
      "Skew:                           6.542   Prob(JB):                         0.00\n",
      "Kurtosis:                      71.642   Cond. No.                         2.64\n",
      "==============================================================================\n",
      "\n",
      "Warnings:\n",
      "[1] Standard Errors assume that the covariance matrix of the errors is correctly specified.\n",
      "                            OLS Regression Results                            \n",
      "==============================================================================\n",
      "Dep. Variable:            RetLate2020   R-squared:                       0.019\n",
      "Model:                            OLS   Adj. R-squared:                  0.018\n",
      "Method:                 Least Squares   F-statistic:                     77.56\n",
      "Date:                Mon, 05 Jul 2021   Prob (F-statistic):           1.87e-18\n",
      "Time:                        23:02:15   Log-Likelihood:                -7452.4\n",
      "No. Observations:                4085   AIC:                         1.491e+04\n",
      "Df Residuals:                    4083   BIC:                         1.492e+04\n",
      "Df Model:                           1                                         \n",
      "Covariance Type:            nonrobust                                         \n",
      "==============================================================================\n",
      "                 coef    std err          t      P>|t|      [0.025      0.975]\n",
      "------------------------------------------------------------------------------\n",
      "intercept      0.8463      0.024     34.713      0.000       0.798       0.894\n",
      "T2            -0.1217      0.014     -8.807      0.000      -0.149      -0.095\n",
      "==============================================================================\n",
      "Omnibus:                     4890.040   Durbin-Watson:                   1.950\n",
      "Prob(Omnibus):                  0.000   Jarque-Bera (JB):           748736.997\n",
      "Skew:                           6.261   Prob(JB):                         0.00\n",
      "Kurtosis:                      68.132   Cond. No.                         1.89\n",
      "==============================================================================\n",
      "\n",
      "Warnings:\n",
      "[1] Standard Errors assume that the covariance matrix of the errors is correctly specified.\n",
      "                            OLS Regression Results                            \n",
      "==============================================================================\n",
      "Dep. Variable:            RetLate2020   R-squared:                       0.023\n",
      "Model:                            OLS   Adj. R-squared:                  0.023\n",
      "Method:                 Least Squares   F-statistic:                     96.57\n",
      "Date:                Mon, 05 Jul 2021   Prob (F-statistic):           1.53e-22\n",
      "Time:                        23:02:15   Log-Likelihood:                -7443.1\n",
      "No. Observations:                4085   AIC:                         1.489e+04\n",
      "Df Residuals:                    4083   BIC:                         1.490e+04\n",
      "Df Model:                           1                                         \n",
      "Covariance Type:            nonrobust                                         \n",
      "==============================================================================\n",
      "                 coef    std err          t      P>|t|      [0.025      0.975]\n",
      "------------------------------------------------------------------------------\n",
      "intercept      0.8875      0.023     37.793      0.000       0.841       0.933\n",
      "T3            -1.1947      0.122     -9.827      0.000      -1.433      -0.956\n",
      "==============================================================================\n",
      "Omnibus:                     4882.852   Durbin-Watson:                   1.960\n",
      "Prob(Omnibus):                  0.000   Jarque-Bera (JB):           755596.169\n",
      "Skew:                           6.239   Prob(JB):                         0.00\n",
      "Kurtosis:                      68.449   Cond. No.                         5.19\n",
      "==============================================================================\n",
      "\n",
      "Warnings:\n",
      "[1] Standard Errors assume that the covariance matrix of the errors is correctly specified.\n"
     ]
    }
   ],
   "source": [
    "# regress RetLate2020 on every ratio\n",
    "Y = df2['RetLate2020']\n",
    "for i in ratios:\n",
    "    X = df2[['intercept', i]]\n",
    "    print(sm.OLS(Y, X).fit().summary())"
   ]
  },
  {
   "cell_type": "code",
   "execution_count": 112,
   "metadata": {
    "colab": {
     "base_uri": "https://localhost:8080/"
    },
    "id": "O2Bt-9X4vK7-",
    "outputId": "686d4c3f-3683-4176-d8c8-45a7cada51b7"
   },
   "outputs": [
    {
     "name": "stdout",
     "output_type": "stream",
     "text": [
      "                            OLS Regression Results                            \n",
      "==============================================================================\n",
      "Dep. Variable:            RetLate2020   R-squared:                       0.000\n",
      "Model:                            OLS   Adj. R-squared:                 -0.000\n",
      "Method:                 Least Squares   F-statistic:                    0.1085\n",
      "Date:                Mon, 05 Jul 2021   Prob (F-statistic):              0.742\n",
      "Time:                        23:02:15   Log-Likelihood:                -7490.8\n",
      "No. Observations:                4085   AIC:                         1.499e+04\n",
      "Df Residuals:                    4083   BIC:                         1.500e+04\n",
      "Df Model:                           1                                         \n",
      "Covariance Type:            nonrobust                                         \n",
      "==============================================================================\n",
      "                 coef    std err          t      P>|t|      [0.025      0.975]\n",
      "------------------------------------------------------------------------------\n",
      "intercept      0.9046      0.024     38.144      0.000       0.858       0.951\n",
      "roa19      -1.087e-05    3.3e-05     -0.329      0.742   -7.56e-05    5.38e-05\n",
      "==============================================================================\n",
      "Omnibus:                     4995.797   Durbin-Watson:                   1.949\n",
      "Prob(Omnibus):                  0.000   Jarque-Bera (JB):           809104.938\n",
      "Skew:                           6.496   Prob(JB):                         0.00\n",
      "Kurtosis:                      70.711   Cond. No.                         719.\n",
      "==============================================================================\n",
      "\n",
      "Warnings:\n",
      "[1] Standard Errors assume that the covariance matrix of the errors is correctly specified.\n",
      "                            OLS Regression Results                            \n",
      "==============================================================================\n",
      "Dep. Variable:            RetLate2020   R-squared:                       0.008\n",
      "Model:                            OLS   Adj. R-squared:                  0.008\n",
      "Method:                 Least Squares   F-statistic:                     32.33\n",
      "Date:                Mon, 05 Jul 2021   Prob (F-statistic):           1.39e-08\n",
      "Time:                        23:02:15   Log-Likelihood:                -7474.8\n",
      "No. Observations:                4085   AIC:                         1.495e+04\n",
      "Df Residuals:                    4083   BIC:                         1.497e+04\n",
      "Df Model:                           1                                         \n",
      "Covariance Type:            nonrobust                                         \n",
      "==============================================================================\n",
      "                 coef    std err          t      P>|t|      [0.025      0.975]\n",
      "------------------------------------------------------------------------------\n",
      "intercept      1.0005      0.029     34.450      0.000       0.944       1.057\n",
      "atr19         -0.0169      0.003     -5.686      0.000      -0.023      -0.011\n",
      "==============================================================================\n",
      "Omnibus:                     5012.585   Durbin-Watson:                   1.946\n",
      "Prob(Omnibus):                  0.000   Jarque-Bera (JB):           822633.859\n",
      "Skew:                           6.531   Prob(JB):                         0.00\n",
      "Kurtosis:                      71.282   Cond. No.                         12.1\n",
      "==============================================================================\n",
      "\n",
      "Warnings:\n",
      "[1] Standard Errors assume that the covariance matrix of the errors is correctly specified.\n",
      "                            OLS Regression Results                            \n",
      "==============================================================================\n",
      "Dep. Variable:            RetLate2020   R-squared:                       0.000\n",
      "Model:                            OLS   Adj. R-squared:                 -0.000\n",
      "Method:                 Least Squares   F-statistic:                 0.0007015\n",
      "Date:                Mon, 05 Jul 2021   Prob (F-statistic):              0.979\n",
      "Time:                        23:02:15   Log-Likelihood:                -7490.9\n",
      "No. Observations:                4085   AIC:                         1.499e+04\n",
      "Df Residuals:                    4083   BIC:                         1.500e+04\n",
      "Df Model:                           1                                         \n",
      "Covariance Type:            nonrobust                                         \n",
      "==============================================================================\n",
      "                 coef    std err          t      P>|t|      [0.025      0.975]\n",
      "------------------------------------------------------------------------------\n",
      "intercept      0.9042      0.024     38.144      0.000       0.858       0.951\n",
      "ros19       8.417e-07   3.18e-05      0.026      0.979   -6.15e-05    6.31e-05\n",
      "==============================================================================\n",
      "Omnibus:                     4995.840   Durbin-Watson:                   1.949\n",
      "Prob(Omnibus):                  0.000   Jarque-Bera (JB):           809115.351\n",
      "Skew:                           6.496   Prob(JB):                         0.00\n",
      "Kurtosis:                      70.712   Cond. No.                         746.\n",
      "==============================================================================\n",
      "\n",
      "Warnings:\n",
      "[1] Standard Errors assume that the covariance matrix of the errors is correctly specified.\n",
      "                            OLS Regression Results                            \n",
      "==============================================================================\n",
      "Dep. Variable:            RetLate2020   R-squared:                       0.000\n",
      "Model:                            OLS   Adj. R-squared:                 -0.000\n",
      "Method:                 Least Squares   F-statistic:                   0.01572\n",
      "Date:                Mon, 05 Jul 2021   Prob (F-statistic):              0.900\n",
      "Time:                        23:02:15   Log-Likelihood:                -7490.9\n",
      "No. Observations:                4085   AIC:                         1.499e+04\n",
      "Df Residuals:                    4083   BIC:                         1.500e+04\n",
      "Df Model:                           1                                         \n",
      "Covariance Type:            nonrobust                                         \n",
      "==============================================================================\n",
      "                 coef    std err          t      P>|t|      [0.025      0.975]\n",
      "------------------------------------------------------------------------------\n",
      "intercept      0.9041      0.024     38.140      0.000       0.858       0.951\n",
      "roe19       1.159e-05   9.24e-05      0.125      0.900      -0.000       0.000\n",
      "==============================================================================\n",
      "Omnibus:                     4995.902   Durbin-Watson:                   1.949\n",
      "Prob(Omnibus):                  0.000   Jarque-Bera (JB):           809164.527\n",
      "Skew:                           6.496   Prob(JB):                         0.00\n",
      "Kurtosis:                      70.714   Cond. No.                         257.\n",
      "==============================================================================\n",
      "\n",
      "Warnings:\n",
      "[1] Standard Errors assume that the covariance matrix of the errors is correctly specified.\n",
      "                            OLS Regression Results                            \n",
      "==============================================================================\n",
      "Dep. Variable:            RetLate2020   R-squared:                       0.000\n",
      "Model:                            OLS   Adj. R-squared:                 -0.000\n",
      "Method:                 Least Squares   F-statistic:                    0.8873\n",
      "Date:                Mon, 05 Jul 2021   Prob (F-statistic):              0.346\n",
      "Time:                        23:02:15   Log-Likelihood:                -7490.4\n",
      "No. Observations:                4085   AIC:                         1.498e+04\n",
      "Df Residuals:                    4083   BIC:                         1.500e+04\n",
      "Df Model:                           1                                         \n",
      "Covariance Type:            nonrobust                                         \n",
      "==============================================================================\n",
      "                 coef    std err          t      P>|t|      [0.025      0.975]\n",
      "------------------------------------------------------------------------------\n",
      "intercept      0.9267      0.034     27.541      0.000       0.861       0.993\n",
      "emulti19      -0.0580      0.062     -0.942      0.346      -0.179       0.063\n",
      "==============================================================================\n",
      "Omnibus:                     4995.184   Durbin-Watson:                   1.949\n",
      "Prob(Omnibus):                  0.000   Jarque-Bera (JB):           809289.093\n",
      "Skew:                           6.494   Prob(JB):                         0.00\n",
      "Kurtosis:                      70.720   Cond. No.                         3.05\n",
      "==============================================================================\n",
      "\n",
      "Warnings:\n",
      "[1] Standard Errors assume that the covariance matrix of the errors is correctly specified.\n",
      "                            OLS Regression Results                            \n",
      "==============================================================================\n",
      "Dep. Variable:            RetLate2020   R-squared:                       0.014\n",
      "Model:                            OLS   Adj. R-squared:                  0.014\n",
      "Method:                 Least Squares   F-statistic:                     57.43\n",
      "Date:                Mon, 05 Jul 2021   Prob (F-statistic):           4.31e-14\n",
      "Time:                        23:02:15   Log-Likelihood:                -7462.3\n",
      "No. Observations:                4085   AIC:                         1.493e+04\n",
      "Df Residuals:                    4083   BIC:                         1.494e+04\n",
      "Df Model:                           1                                         \n",
      "Covariance Type:            nonrobust                                         \n",
      "==============================================================================\n",
      "                 coef    std err          t      P>|t|      [0.025      0.975]\n",
      "------------------------------------------------------------------------------\n",
      "intercept      0.7024      0.036     19.763      0.000       0.633       0.772\n",
      "ai19           0.3289      0.043      7.578      0.000       0.244       0.414\n",
      "==============================================================================\n",
      "Omnibus:                     5029.578   Durbin-Watson:                   1.940\n",
      "Prob(Omnibus):                  0.000   Jarque-Bera (JB):           842686.835\n",
      "Skew:                           6.564   Prob(JB):                         0.00\n",
      "Kurtosis:                      72.127   Cond. No.                         2.71\n",
      "==============================================================================\n",
      "\n",
      "Warnings:\n",
      "[1] Standard Errors assume that the covariance matrix of the errors is correctly specified.\n",
      "                            OLS Regression Results                            \n",
      "==============================================================================\n",
      "Dep. Variable:            RetLate2020   R-squared:                       0.000\n",
      "Model:                            OLS   Adj. R-squared:                 -0.000\n",
      "Method:                 Least Squares   F-statistic:                    0.9583\n",
      "Date:                Mon, 05 Jul 2021   Prob (F-statistic):              0.328\n",
      "Time:                        23:02:15   Log-Likelihood:                -7490.4\n",
      "No. Observations:                4085   AIC:                         1.498e+04\n",
      "Df Residuals:                    4083   BIC:                         1.500e+04\n",
      "Df Model:                           1                                         \n",
      "Covariance Type:            nonrobust                                         \n",
      "==============================================================================\n",
      "                 coef    std err          t      P>|t|      [0.025      0.975]\n",
      "------------------------------------------------------------------------------\n",
      "intercept      0.9030      0.024     38.058      0.000       0.856       0.950\n",
      "gmargin19      0.0095      0.010      0.979      0.328      -0.010       0.029\n",
      "==============================================================================\n",
      "Omnibus:                     4996.625   Durbin-Watson:                   1.948\n",
      "Prob(Omnibus):                  0.000   Jarque-Bera (JB):           810121.611\n",
      "Skew:                           6.497   Prob(JB):                         0.00\n",
      "Kurtosis:                      70.755   Cond. No.                         2.45\n",
      "==============================================================================\n",
      "\n",
      "Warnings:\n",
      "[1] Standard Errors assume that the covariance matrix of the errors is correctly specified.\n",
      "                            OLS Regression Results                            \n",
      "==============================================================================\n",
      "Dep. Variable:            RetLate2020   R-squared:                       0.001\n",
      "Model:                            OLS   Adj. R-squared:                  0.000\n",
      "Method:                 Least Squares   F-statistic:                     2.825\n",
      "Date:                Mon, 05 Jul 2021   Prob (F-statistic):             0.0929\n",
      "Time:                        23:02:15   Log-Likelihood:                -7489.5\n",
      "No. Observations:                4085   AIC:                         1.498e+04\n",
      "Df Residuals:                    4083   BIC:                         1.500e+04\n",
      "Df Model:                           1                                         \n",
      "Covariance Type:            nonrobust                                         \n",
      "==============================================================================\n",
      "                 coef    std err          t      P>|t|      [0.025      0.975]\n",
      "------------------------------------------------------------------------------\n",
      "intercept      0.9249      0.027     34.650      0.000       0.873       0.977\n",
      "cta19         -0.0004      0.000     -1.681      0.093      -0.001    5.94e-05\n",
      "==============================================================================\n",
      "Omnibus:                     4992.340   Durbin-Watson:                   1.949\n",
      "Prob(Omnibus):                  0.000   Jarque-Bera (JB):           806086.998\n",
      "Skew:                           6.489   Prob(JB):                         0.00\n",
      "Kurtosis:                      70.583   Cond. No.                         142.\n",
      "==============================================================================\n",
      "\n",
      "Warnings:\n",
      "[1] Standard Errors assume that the covariance matrix of the errors is correctly specified.\n",
      "                            OLS Regression Results                            \n",
      "==============================================================================\n",
      "Dep. Variable:            RetLate2020   R-squared:                       0.002\n",
      "Model:                            OLS   Adj. R-squared:                  0.001\n",
      "Method:                 Least Squares   F-statistic:                     6.531\n",
      "Date:                Mon, 05 Jul 2021   Prob (F-statistic):             0.0106\n",
      "Time:                        23:02:15   Log-Likelihood:                -7487.6\n",
      "No. Observations:                4085   AIC:                         1.498e+04\n",
      "Df Residuals:                    4083   BIC:                         1.499e+04\n",
      "Df Model:                           1                                         \n",
      "Covariance Type:            nonrobust                                         \n",
      "==============================================================================\n",
      "                 coef    std err          t      P>|t|      [0.025      0.975]\n",
      "------------------------------------------------------------------------------\n",
      "intercept      0.9337      0.026     35.465      0.000       0.882       0.985\n",
      "cash19        -0.0019      0.001     -2.556      0.011      -0.003      -0.000\n",
      "==============================================================================\n",
      "Omnibus:                     4995.270   Durbin-Watson:                   1.951\n",
      "Prob(Omnibus):                  0.000   Jarque-Bera (JB):           808001.309\n",
      "Skew:                           6.495   Prob(JB):                         0.00\n",
      "Kurtosis:                      70.664   Cond. No.                         40.1\n",
      "==============================================================================\n",
      "\n",
      "Warnings:\n",
      "[1] Standard Errors assume that the covariance matrix of the errors is correctly specified.\n",
      "                            OLS Regression Results                            \n",
      "==============================================================================\n",
      "Dep. Variable:            RetLate2020   R-squared:                       0.006\n",
      "Model:                            OLS   Adj. R-squared:                  0.006\n",
      "Method:                 Least Squares   F-statistic:                     26.35\n",
      "Date:                Mon, 05 Jul 2021   Prob (F-statistic):           2.98e-07\n",
      "Time:                        23:02:15   Log-Likelihood:                -7477.7\n",
      "No. Observations:                4085   AIC:                         1.496e+04\n",
      "Df Residuals:                    4083   BIC:                         1.497e+04\n",
      "Df Model:                           1                                         \n",
      "Covariance Type:            nonrobust                                         \n",
      "==============================================================================\n",
      "                 coef    std err          t      P>|t|      [0.025      0.975]\n",
      "------------------------------------------------------------------------------\n",
      "intercept      0.7784      0.034     22.867      0.000       0.712       0.845\n",
      "quick19        0.1397      0.027      5.133      0.000       0.086       0.193\n",
      "==============================================================================\n",
      "Omnibus:                     4971.973   Durbin-Watson:                   1.947\n",
      "Prob(Omnibus):                  0.000   Jarque-Bera (JB):           795641.870\n",
      "Skew:                           6.442   Prob(JB):                         0.00\n",
      "Kurtosis:                      70.145   Cond. No.                         2.57\n",
      "==============================================================================\n",
      "\n",
      "Warnings:\n",
      "[1] Standard Errors assume that the covariance matrix of the errors is correctly specified.\n",
      "                            OLS Regression Results                            \n",
      "==============================================================================\n",
      "Dep. Variable:           RetEarly2020   R-squared:                       0.000\n",
      "Model:                            OLS   Adj. R-squared:                  0.000\n",
      "Method:                 Least Squares   F-statistic:                     1.342\n",
      "Date:                Mon, 05 Jul 2021   Prob (F-statistic):              0.247\n",
      "Time:                        23:02:15   Log-Likelihood:                -828.53\n",
      "No. Observations:                3862   AIC:                             1661.\n",
      "Df Residuals:                    3860   BIC:                             1674.\n",
      "Df Model:                           1                                         \n",
      "Covariance Type:            nonrobust                                         \n",
      "==============================================================================\n",
      "                 coef    std err          t      P>|t|      [0.025      0.975]\n",
      "------------------------------------------------------------------------------\n",
      "intercept     -0.3085      0.005    -63.474      0.000      -0.318      -0.299\n",
      "lda19       1.068e-05   9.22e-06      1.159      0.247   -7.39e-06    2.87e-05\n",
      "==============================================================================\n",
      "Omnibus:                     3527.350   Durbin-Watson:                   2.014\n",
      "Prob(Omnibus):                  0.000   Jarque-Bera (JB):           279033.466\n",
      "Skew:                           4.058   Prob(JB):                         0.00\n",
      "Kurtosis:                      43.843   Cond. No.                         531.\n",
      "==============================================================================\n",
      "\n",
      "Warnings:\n",
      "[1] Standard Errors assume that the covariance matrix of the errors is correctly specified.\n",
      "                            OLS Regression Results                            \n",
      "==============================================================================\n",
      "Dep. Variable:            RetLate2020   R-squared:                       0.004\n",
      "Model:                            OLS   Adj. R-squared:                  0.003\n",
      "Method:                 Least Squares   F-statistic:                     14.95\n",
      "Date:                Mon, 05 Jul 2021   Prob (F-statistic):           0.000112\n",
      "Time:                        23:02:15   Log-Likelihood:                -7483.4\n",
      "No. Observations:                4085   AIC:                         1.497e+04\n",
      "Df Residuals:                    4083   BIC:                         1.498e+04\n",
      "Df Model:                           1                                         \n",
      "Covariance Type:            nonrobust                                         \n",
      "==============================================================================\n",
      "                 coef    std err          t      P>|t|      [0.025      0.975]\n",
      "------------------------------------------------------------------------------\n",
      "intercept      0.8364      0.029     28.395      0.000       0.779       0.894\n",
      "se19          14.1525      3.661      3.866      0.000       6.975      21.330\n",
      "==============================================================================\n",
      "Omnibus:                     4970.068   Durbin-Watson:                   1.955\n",
      "Prob(Omnibus):                  0.000   Jarque-Bera (JB):           792334.277\n",
      "Skew:                           6.439   Prob(JB):                         0.00\n",
      "Kurtosis:                      70.002   Cond. No.                         155.\n",
      "==============================================================================\n",
      "\n",
      "Warnings:\n",
      "[1] Standard Errors assume that the covariance matrix of the errors is correctly specified.\n",
      "                            OLS Regression Results                            \n",
      "==============================================================================\n",
      "Dep. Variable:           RetEarly2020   R-squared:                       0.000\n",
      "Model:                            OLS   Adj. R-squared:                 -0.000\n",
      "Method:                 Least Squares   F-statistic:                    0.3511\n",
      "Date:                Mon, 05 Jul 2021   Prob (F-statistic):              0.554\n",
      "Time:                        23:02:15   Log-Likelihood:                -1924.0\n",
      "No. Observations:                4084   AIC:                             3852.\n",
      "Df Residuals:                    4082   BIC:                             3865.\n",
      "Df Model:                           1                                         \n",
      "Covariance Type:            nonrobust                                         \n",
      "==============================================================================\n",
      "                 coef    std err          t      P>|t|      [0.025      0.975]\n",
      "------------------------------------------------------------------------------\n",
      "intercept     -0.2989      0.006    -49.271      0.000      -0.311      -0.287\n",
      "T1          1.985e-06   3.35e-06      0.593      0.554   -4.58e-06    8.55e-06\n",
      "==============================================================================\n",
      "Omnibus:                     7884.333   Durbin-Watson:                   1.935\n",
      "Prob(Omnibus):                  0.000   Jarque-Bera (JB):         32269363.202\n",
      "Skew:                          14.617   Prob(JB):                         0.00\n",
      "Kurtosis:                     437.487   Cond. No.                     1.81e+03\n",
      "==============================================================================\n",
      "\n",
      "Warnings:\n",
      "[1] Standard Errors assume that the covariance matrix of the errors is correctly specified.\n",
      "[2] The condition number is large, 1.81e+03. This might indicate that there are\n",
      "strong multicollinearity or other numerical problems.\n",
      "                            OLS Regression Results                            \n",
      "==============================================================================\n",
      "Dep. Variable:           RetEarly2020   R-squared:                       0.000\n",
      "Model:                            OLS   Adj. R-squared:                 -0.000\n",
      "Method:                 Least Squares   F-statistic:                    0.1413\n",
      "Date:                Mon, 05 Jul 2021   Prob (F-statistic):              0.707\n",
      "Time:                        23:02:15   Log-Likelihood:                -1923.6\n",
      "No. Observations:                4082   AIC:                             3851.\n",
      "Df Residuals:                    4080   BIC:                             3864.\n",
      "Df Model:                           1                                         \n",
      "Covariance Type:            nonrobust                                         \n",
      "==============================================================================\n",
      "                 coef    std err          t      P>|t|      [0.025      0.975]\n",
      "------------------------------------------------------------------------------\n",
      "intercept     -0.2989      0.006    -49.240      0.000      -0.311      -0.287\n",
      "T2         -2.047e-06   5.44e-06     -0.376      0.707   -1.27e-05    8.63e-06\n",
      "==============================================================================\n",
      "Omnibus:                     7880.871   Durbin-Watson:                   1.935\n",
      "Prob(Omnibus):                  0.000   Jarque-Bera (JB):         32251351.365\n",
      "Skew:                          14.618   Prob(JB):                         0.00\n",
      "Kurtosis:                     437.472   Cond. No.                     1.12e+03\n",
      "==============================================================================\n",
      "\n",
      "Warnings:\n",
      "[1] Standard Errors assume that the covariance matrix of the errors is correctly specified.\n",
      "[2] The condition number is large, 1.12e+03. This might indicate that there are\n",
      "strong multicollinearity or other numerical problems.\n",
      "                            OLS Regression Results                            \n",
      "==============================================================================\n",
      "Dep. Variable:            RetLate2020   R-squared:                       0.001\n",
      "Model:                            OLS   Adj. R-squared:                  0.000\n",
      "Method:                 Least Squares   F-statistic:                     2.669\n",
      "Date:                Mon, 05 Jul 2021   Prob (F-statistic):              0.102\n",
      "Time:                        23:02:15   Log-Likelihood:                -7489.5\n",
      "No. Observations:                4085   AIC:                         1.498e+04\n",
      "Df Residuals:                    4083   BIC:                         1.500e+04\n",
      "Df Model:                           1                                         \n",
      "Covariance Type:            nonrobust                                         \n",
      "==============================================================================\n",
      "                 coef    std err          t      P>|t|      [0.025      0.975]\n",
      "------------------------------------------------------------------------------\n",
      "intercept      0.9059      0.024     38.209      0.000       0.859       0.952\n",
      "T3         -8.808e-05   5.39e-05     -1.634      0.102      -0.000    1.76e-05\n",
      "==============================================================================\n",
      "Omnibus:                     4996.894   Durbin-Watson:                   1.950\n",
      "Prob(Omnibus):                  0.000   Jarque-Bera (JB):           810399.475\n",
      "Skew:                           6.498   Prob(JB):                         0.00\n",
      "Kurtosis:                      70.767   Cond. No.                         440.\n",
      "==============================================================================\n",
      "\n",
      "Warnings:\n",
      "[1] Standard Errors assume that the covariance matrix of the errors is correctly specified.\n"
     ]
    }
   ],
   "source": [
    "# regress RetLate2020 on every ratio's reciprocal\n",
    "Y = df2['RetLate2020']\n",
    "for i in ratios:\n",
    "    if (i=='lda19') or (i=='T1') or (i=='T2'):\n",
    "        tmp = df2[df2[i]!=0]\n",
    "        Y2 = tmp['RetEarly2020']\n",
    "        X = 1/tmp[['intercept', i]]\n",
    "        print(sm.OLS(Y2, X).fit().summary())\n",
    "    else:\n",
    "        X = 1/df2[['intercept', i]]\n",
    "        print(sm.OLS(Y, X).fit().summary())"
   ]
  },
  {
   "cell_type": "markdown",
   "metadata": {
    "id": "TXF96LIytERp"
   },
   "source": [
    "## Multi-Variable Regressions\n",
    "Then, we try out different combinations of financial ratios to explain the variation in 2020 stock returns using multiple regression."
   ]
  },
  {
   "cell_type": "code",
   "execution_count": 113,
   "metadata": {
    "colab": {
     "base_uri": "https://localhost:8080/"
    },
    "id": "EvOmdVEDCqYx",
    "outputId": "23bbc160-42b7-4f93-bed2-e6a2a96b3c8a"
   },
   "outputs": [
    {
     "name": "stdout",
     "output_type": "stream",
     "text": [
      "                            OLS Regression Results                            \n",
      "==============================================================================\n",
      "Dep. Variable:           RetEarly2020   R-squared:                       0.042\n",
      "Model:                            OLS   Adj. R-squared:                  0.039\n",
      "Method:                 Least Squares   F-statistic:                     11.91\n",
      "Date:                Mon, 05 Jul 2021   Prob (F-statistic):           2.33e-29\n",
      "Time:                        23:02:15   Log-Likelihood:                -1836.4\n",
      "No. Observations:                4085   AIC:                             3705.\n",
      "Df Residuals:                    4069   BIC:                             3806.\n",
      "Df Model:                          15                                         \n",
      "Covariance Type:            nonrobust                                         \n",
      "==============================================================================\n",
      "                 coef    std err          t      P>|t|      [0.025      0.975]\n",
      "------------------------------------------------------------------------------\n",
      "intercept     -0.2663      0.020    -13.335      0.000      -0.305      -0.227\n",
      "roa19          0.0217      0.095      0.230      0.818      -0.164       0.207\n",
      "atr19         -0.0056      0.014     -0.409      0.683      -0.032       0.021\n",
      "ros19         -0.0140      0.005     -2.871      0.004      -0.024      -0.004\n",
      "roe19         -0.0068      0.018     -0.383      0.701      -0.042       0.028\n",
      "emulti19      -0.0018      0.003     -0.712      0.477      -0.007       0.003\n",
      "ai19          -0.0019      0.001     -1.403      0.161      -0.005       0.001\n",
      "gmargin19   6.495e-06   2.36e-06      2.747      0.006    1.86e-06    1.11e-05\n",
      "cta19          0.0557      0.062      0.898      0.369      -0.066       0.177\n",
      "cash19         0.0068      0.007      0.943      0.346      -0.007       0.021\n",
      "quick19     3.726e-05      0.001      0.062      0.951      -0.001       0.001\n",
      "lda19         -0.1889      0.031     -6.084      0.000      -0.250      -0.128\n",
      "se19       -4.442e-06   1.85e-06     -2.399      0.016   -8.07e-06   -8.12e-07\n",
      "T1             0.0391      0.025      1.565      0.118      -0.010       0.088\n",
      "T2            -0.0082      0.006     -1.484      0.138      -0.019       0.003\n",
      "T3            -0.0434      0.094     -0.461      0.645      -0.228       0.141\n",
      "==============================================================================\n",
      "Omnibus:                     7980.886   Durbin-Watson:                   1.944\n",
      "Prob(Omnibus):                  0.000   Jarque-Bera (JB):         35955364.735\n",
      "Skew:                          14.988   Prob(JB):                         0.00\n",
      "Kurtosis:                     461.634   Cond. No.                     7.34e+04\n",
      "==============================================================================\n",
      "\n",
      "Warnings:\n",
      "[1] Standard Errors assume that the covariance matrix of the errors is correctly specified.\n",
      "[2] The condition number is large, 7.34e+04. This might indicate that there are\n",
      "strong multicollinearity or other numerical problems.\n"
     ]
    }
   ],
   "source": [
    "# regress RetEarly2020 on all ratios\n",
    "Y = df2['RetEarly2020']\n",
    "X = pd.concat([df2['intercept'], df2[ratios]], axis=1)\n",
    "print(sm.OLS(Y, X).fit().summary())"
   ]
  },
  {
   "cell_type": "code",
   "execution_count": 114,
   "metadata": {
    "colab": {
     "base_uri": "https://localhost:8080/"
    },
    "id": "Zz_4lR30tRy2",
    "outputId": "51c870ec-9793-47ba-90ed-4c1a79ae40b3"
   },
   "outputs": [
    {
     "name": "stdout",
     "output_type": "stream",
     "text": [
      "                            OLS Regression Results                            \n",
      "==============================================================================\n",
      "Dep. Variable:           RetEarly2020   R-squared:                       0.039\n",
      "Model:                            OLS   Adj. R-squared:                  0.037\n",
      "Method:                 Least Squares   F-statistic:                     16.74\n",
      "Date:                Mon, 05 Jul 2021   Prob (F-statistic):           4.46e-30\n",
      "Time:                        23:02:15   Log-Likelihood:                -1841.9\n",
      "No. Observations:                4085   AIC:                             3706.\n",
      "Df Residuals:                    4074   BIC:                             3775.\n",
      "Df Model:                          10                                         \n",
      "Covariance Type:            nonrobust                                         \n",
      "==============================================================================\n",
      "                 coef    std err          t      P>|t|      [0.025      0.975]\n",
      "------------------------------------------------------------------------------\n",
      "intercept     -0.2864      0.013    -22.550      0.000      -0.311      -0.262\n",
      "roa19         -0.0085      0.085     -0.100      0.920      -0.175       0.158\n",
      "ros19         -0.0079      0.004     -1.809      0.070      -0.016       0.001\n",
      "cta19          0.0679      0.060      1.126      0.260      -0.050       0.186\n",
      "cash19         0.0027      0.007      0.410      0.682      -0.010       0.015\n",
      "lda19         -0.1745      0.030     -5.788      0.000      -0.234      -0.115\n",
      "se19       -4.429e-06   1.87e-06     -2.370      0.018   -8.09e-06   -7.65e-07\n",
      "T1             0.0647      0.019      3.321      0.001       0.027       0.103\n",
      "T2            -0.0086      0.005     -1.573      0.116      -0.019       0.002\n",
      "T3            -0.0138      0.093     -0.150      0.881      -0.195       0.168\n",
      "se19           1.2753      1.258      1.014      0.311      -1.191       3.742\n",
      "==============================================================================\n",
      "Omnibus:                     7963.062   Durbin-Watson:                   1.939\n",
      "Prob(Omnibus):                  0.000   Jarque-Bera (JB):         35427994.037\n",
      "Skew:                          14.915   Prob(JB):                         0.00\n",
      "Kurtosis:                     458.253   Cond. No.                     7.27e+05\n",
      "==============================================================================\n",
      "\n",
      "Warnings:\n",
      "[1] Standard Errors assume that the covariance matrix of the errors is correctly specified.\n",
      "[2] The condition number is large, 7.27e+05. This might indicate that there are\n",
      "strong multicollinearity or other numerical problems.\n"
     ]
    }
   ],
   "source": [
    "# regress RetEarly2020 on significant ratios with higher R2 (>0.01)\n",
    "Y = df2['RetEarly2020']\n",
    "X = pd.concat([df2[['intercept', 'roa19', 'ros19', 'cta19', 'cash19', 'lda19', 'se19', 'T1', 'T2', 'T3']], \n",
    "               1/df2[['se19']]], axis=1)\n",
    "print(sm.OLS(Y, X).fit().summary())"
   ]
  },
  {
   "cell_type": "code",
   "execution_count": 115,
   "metadata": {
    "colab": {
     "base_uri": "https://localhost:8080/"
    },
    "id": "65xVUxaSDi-2",
    "outputId": "a9f7e505-c423-4d50-fe6e-01dfafbfe000"
   },
   "outputs": [
    {
     "name": "stdout",
     "output_type": "stream",
     "text": [
      "                            OLS Regression Results                            \n",
      "==============================================================================\n",
      "Dep. Variable:           RetEarly2020   R-squared:                       0.032\n",
      "Model:                            OLS   Adj. R-squared:                  0.031\n",
      "Method:                 Least Squares   F-statistic:                     26.74\n",
      "Date:                Mon, 05 Jul 2021   Prob (F-statistic):           1.09e-26\n",
      "Time:                        23:02:15   Log-Likelihood:                -1858.3\n",
      "No. Observations:                4085   AIC:                             3729.\n",
      "Df Residuals:                    4079   BIC:                             3766.\n",
      "Df Model:                           5                                         \n",
      "Covariance Type:            nonrobust                                         \n",
      "==============================================================================\n",
      "                 coef    std err          t      P>|t|      [0.025      0.975]\n",
      "------------------------------------------------------------------------------\n",
      "intercept     -0.3170      0.014    -23.211      0.000      -0.344      -0.290\n",
      "cta19          0.2102      0.054      3.902      0.000       0.105       0.316\n",
      "cash19         0.0066      0.006      1.056      0.291      -0.006       0.019\n",
      "lda19         -0.1589      0.029     -5.446      0.000      -0.216      -0.102\n",
      "quick19        0.0032      0.008      0.426      0.670      -0.012       0.018\n",
      "se19           4.2215      0.976      4.323      0.000       2.307       6.136\n",
      "==============================================================================\n",
      "Omnibus:                     7980.394   Durbin-Watson:                   1.936\n",
      "Prob(Omnibus):                  0.000   Jarque-Bera (JB):         35581791.714\n",
      "Skew:                          14.991   Prob(JB):                         0.00\n",
      "Kurtosis:                     459.234   Cond. No.                         300.\n",
      "==============================================================================\n",
      "\n",
      "Warnings:\n",
      "[1] Standard Errors assume that the covariance matrix of the errors is correctly specified.\n"
     ]
    }
   ],
   "source": [
    "# regress RetEarly2020 on suggested ratios\n",
    "Y = df2['RetEarly2020']\n",
    "X = pd.concat([df2[['intercept', 'cta19', 'cash19', 'lda19']], \n",
    "               1/df2[['quick19', 'se19']]], axis=1)\n",
    "print(sm.OLS(Y, X).fit().summary())"
   ]
  },
  {
   "cell_type": "code",
   "execution_count": 116,
   "metadata": {
    "colab": {
     "base_uri": "https://localhost:8080/"
    },
    "id": "PW9yVzQFDzP2",
    "outputId": "1c522880-65dc-45f2-a1c9-d00dab430866"
   },
   "outputs": [
    {
     "name": "stdout",
     "output_type": "stream",
     "text": [
      "                            OLS Regression Results                            \n",
      "==============================================================================\n",
      "Dep. Variable:            RetLate2020   R-squared:                       0.066\n",
      "Model:                            OLS   Adj. R-squared:                  0.062\n",
      "Method:                 Least Squares   F-statistic:                     19.02\n",
      "Date:                Mon, 05 Jul 2021   Prob (F-statistic):           4.85e-50\n",
      "Time:                        23:02:15   Log-Likelihood:                -7352.4\n",
      "No. Observations:                4085   AIC:                         1.474e+04\n",
      "Df Residuals:                    4069   BIC:                         1.484e+04\n",
      "Df Model:                          15                                         \n",
      "Covariance Type:            nonrobust                                         \n",
      "==============================================================================\n",
      "                 coef    std err          t      P>|t|      [0.025      0.975]\n",
      "------------------------------------------------------------------------------\n",
      "intercept      0.7400      0.077      9.605      0.000       0.589       0.891\n",
      "roa19         -0.6043      0.365     -1.655      0.098      -1.320       0.112\n",
      "atr19          0.3406      0.053      6.435      0.000       0.237       0.444\n",
      "ros19          0.0658      0.019      3.504      0.000       0.029       0.103\n",
      "roe19          0.0978      0.068      1.429      0.153      -0.036       0.232\n",
      "emulti19      -0.0052      0.010     -0.539      0.590      -0.024       0.014\n",
      "ai19          -0.0027      0.005     -0.508      0.612      -0.013       0.008\n",
      "gmargin19  -2.767e-05   9.12e-06     -3.032      0.002   -4.56e-05   -9.78e-06\n",
      "cta19         -0.5089      0.239     -2.127      0.033      -0.978      -0.040\n",
      "cash19        -0.0299      0.028     -1.079      0.281      -0.084       0.024\n",
      "quick19       -0.0013      0.002     -0.542      0.588      -0.006       0.003\n",
      "lda19          0.3338      0.120      2.786      0.005       0.099       0.569\n",
      "se19       -7.923e-06   7.14e-06     -1.109      0.268   -2.19e-05    6.08e-06\n",
      "T1             0.1876      0.096      1.948      0.052      -0.001       0.377\n",
      "T2            -0.0253      0.021     -1.190      0.234      -0.067       0.016\n",
      "T3            -1.5962      0.363     -4.393      0.000      -2.309      -0.884\n",
      "==============================================================================\n",
      "Omnibus:                     4883.155   Durbin-Watson:                   1.955\n",
      "Prob(Omnibus):                  0.000   Jarque-Bera (JB):           783813.193\n",
      "Skew:                           6.222   Prob(JB):                         0.00\n",
      "Kurtosis:                      69.709   Cond. No.                     7.34e+04\n",
      "==============================================================================\n",
      "\n",
      "Warnings:\n",
      "[1] Standard Errors assume that the covariance matrix of the errors is correctly specified.\n",
      "[2] The condition number is large, 7.34e+04. This might indicate that there are\n",
      "strong multicollinearity or other numerical problems.\n"
     ]
    }
   ],
   "source": [
    "# regress RetLate2020 on all ratios\n",
    "Y = df2['RetLate2020']\n",
    "X = pd.concat([df2['intercept'], df2[ratios]], axis=1)\n",
    "print(sm.OLS(Y, X).fit().summary())"
   ]
  },
  {
   "cell_type": "code",
   "execution_count": 117,
   "metadata": {
    "colab": {
     "base_uri": "https://localhost:8080/"
    },
    "id": "5TDFvu4-DzP3",
    "outputId": "bb792d47-7cbe-44f4-f747-1933d9669d58"
   },
   "outputs": [
    {
     "name": "stdout",
     "output_type": "stream",
     "text": [
      "                            OLS Regression Results                            \n",
      "==============================================================================\n",
      "Dep. Variable:            RetLate2020   R-squared:                       0.050\n",
      "Model:                            OLS   Adj. R-squared:                  0.048\n",
      "Method:                 Least Squares   F-statistic:                     35.63\n",
      "Date:                Mon, 05 Jul 2021   Prob (F-statistic):           3.03e-42\n",
      "Time:                        23:02:15   Log-Likelihood:                -7386.5\n",
      "No. Observations:                4085   AIC:                         1.479e+04\n",
      "Df Residuals:                    4078   BIC:                         1.483e+04\n",
      "Df Model:                           6                                         \n",
      "Covariance Type:            nonrobust                                         \n",
      "==============================================================================\n",
      "                 coef    std err          t      P>|t|      [0.025      0.975]\n",
      "------------------------------------------------------------------------------\n",
      "intercept      0.5857      0.037     15.826      0.000       0.513       0.658\n",
      "roa19         -0.4941      0.352     -1.405      0.160      -1.184       0.195\n",
      "atr19          0.6778      0.271      2.505      0.012       0.147       1.208\n",
      "roe19          0.0779      0.068      1.146      0.252      -0.055       0.211\n",
      "T2            -0.0207      0.021     -0.984      0.325      -0.062       0.021\n",
      "T3            -1.0307      0.351     -2.939      0.003      -1.718      -0.343\n",
      "ai19          -0.2613      0.285     -0.917      0.359      -0.820       0.297\n",
      "==============================================================================\n",
      "Omnibus:                     4894.204   Durbin-Watson:                   1.951\n",
      "Prob(Omnibus):                  0.000   Jarque-Bera (JB):           782425.371\n",
      "Skew:                           6.251   Prob(JB):                         0.00\n",
      "Kurtosis:                      69.638   Cond. No.                         37.9\n",
      "==============================================================================\n",
      "\n",
      "Warnings:\n",
      "[1] Standard Errors assume that the covariance matrix of the errors is correctly specified.\n"
     ]
    }
   ],
   "source": [
    "# regress RetLate2020 on significant ratios with higher R2 (>0.01)\n",
    "Y = df2['RetLate2020']\n",
    "X = pd.concat([df2[['intercept', 'roa19', 'atr19', 'roe19', 'T2', 'T3']], \n",
    "               1/df2['ai19']], axis=1)\n",
    "print(sm.OLS(Y, X).fit().summary())"
   ]
  },
  {
   "cell_type": "code",
   "execution_count": 118,
   "metadata": {
    "colab": {
     "base_uri": "https://localhost:8080/"
    },
    "id": "eo6MrYT6DzP3",
    "outputId": "dcdb006c-253e-4438-ebaf-e55907424e43"
   },
   "outputs": [
    {
     "name": "stdout",
     "output_type": "stream",
     "text": [
      "                            OLS Regression Results                            \n",
      "==============================================================================\n",
      "Dep. Variable:            RetLate2020   R-squared:                       0.016\n",
      "Model:                            OLS   Adj. R-squared:                  0.014\n",
      "Method:                 Least Squares   F-statistic:                     12.96\n",
      "Date:                Mon, 05 Jul 2021   Prob (F-statistic):           1.55e-12\n",
      "Time:                        23:02:15   Log-Likelihood:                -7458.7\n",
      "No. Observations:                4085   AIC:                         1.493e+04\n",
      "Df Residuals:                    4079   BIC:                         1.497e+04\n",
      "Df Model:                           5                                         \n",
      "Covariance Type:            nonrobust                                         \n",
      "==============================================================================\n",
      "                 coef    std err          t      P>|t|      [0.025      0.975]\n",
      "------------------------------------------------------------------------------\n",
      "intercept      0.5903      0.058     10.164      0.000       0.476       0.704\n",
      "cta19          0.5094      0.174      2.922      0.004       0.168       0.851\n",
      "lda19          0.2496      0.118      2.119      0.034       0.019       0.480\n",
      "cash19        -0.0014      0.001     -1.709      0.088      -0.003       0.000\n",
      "quick19        0.1703      0.029      5.849      0.000       0.113       0.227\n",
      "se19          11.6182      3.844      3.022      0.003       4.082      19.154\n",
      "==============================================================================\n",
      "Omnibus:                     4949.839   Durbin-Watson:                   1.959\n",
      "Prob(Omnibus):                  0.000   Jarque-Bera (JB):           785916.908\n",
      "Skew:                           6.391   Prob(JB):                         0.00\n",
      "Kurtosis:                      69.738   Cond. No.                     5.89e+03\n",
      "==============================================================================\n",
      "\n",
      "Warnings:\n",
      "[1] Standard Errors assume that the covariance matrix of the errors is correctly specified.\n",
      "[2] The condition number is large, 5.89e+03. This might indicate that there are\n",
      "strong multicollinearity or other numerical problems.\n"
     ]
    }
   ],
   "source": [
    "# regress RetLate2020 on suggested ratios\n",
    "Y = df2['RetLate2020']\n",
    "X = pd.concat([df2[['intercept', 'cta19', 'lda19']], \n",
    "               1/df2[['cash19', 'quick19', 'se19']]], axis=1)\n",
    "print(sm.OLS(Y, X).fit().summary())"
   ]
  },
  {
   "cell_type": "markdown",
   "metadata": {
    "id": "OppXy_KutTJ2"
   },
   "source": [
    "## Interpretation"
   ]
  },
  {
   "cell_type": "markdown",
   "metadata": {
    "id": "MvPHN8VabHTq"
   },
   "source": [
    "We will particularly focus on the `Cash/Total Assets`, `Cash/Current Liabilities`, `Quick`, `Long-Term Debt/Total Assets`, and `Net Sales/Number of Employees` ratios as suggested.\n",
    "\n",
    "Looking at each ratio's single regression models, we can conclude that:\n",
    "* `Cash/Total Assets` ratio can explain around 2% of the variation in `RetEarly2020` and 0.1% of the variation in `RetLate2020`. Firms with more cash at the end of 2019 have higher 3-month and 9-month returns in 2020.\n",
    "* `Cash/Current Liabilities` ratio can explain 1% of the variation in `RetEarly2020` and the inverse of `Cash/Current Liabilities` can explain 0.1% of the variation in `RetLate2020`. Firms with more cash to cover current liabilities at the end of 2019 have higher 3-month and 9-month returns in 2020.\n",
    "* The inverse of `Quick` ratio can explain 0.2% of the variation in `RetEarly2020` and 0.6% of the variation in `RetLate2020`. Firms with more liquid assets to cover current liabilities at the end of 2019 have higher 3-month return in early 2020 and lower 9-month return later.\n",
    "* `Long-Term Debt/Total Assets` ratio can explain 1.3% of the variation in `RetEarly2020` and 0.2% of the variation in `RetLate2020`. Firms with lower long-term debt at the end of 2019 have higher 3-month return in early 2020 and lower 9-month return later.\n",
    "* The inverse of `Sales per Employees` ratio can explain 1.2% of the variation in `RetEarly2020` and 0.3% of the variation in `RetLate2020`. Firms that have higher reliance on labor perform better in 2020.\n",
    "\n",
    "When we use all of the suggested ratios to build multi-variable regression models, our models can explain 3.1% of the variation in `RetEarly2020` and 1.4% of the variation in `RetLate2020`. Whether this explanatory power is high or low depends on what we compare these regression models with. Intuitively, models that can only explains 3.1% or 1.4% of the variation seems to have a very low explanatory power. However, if we compare these amounts with the single regression models, it seems that we now have a little higher explanatory power. Additionally, if we add 10 more financial ratios, our models would be able to explain up to around 4% and 6.2% of the variation in `RetEarly2020` and `RetLate2020`. According to these multi-variable regressions, we see that in 2020, firms with more cash (to cover current liabilities), less liquid assets, higher long-term debt, and higher reliance on labor on average have higher 3-month and 9-month returns. This is consistent with our earlier industry-fixed effect regression results."
   ]
  },
  {
   "cell_type": "markdown",
   "metadata": {
    "id": "3uZ_JF6-yJNO"
   },
   "source": [
    "# 3. Explaining Fluctuation Using Market Betas"
   ]
  },
  {
   "cell_type": "markdown",
   "metadata": {
    "id": "-j6WNuYS0UgC"
   },
   "source": [
    "**Do pre-COVID risk measures (i.e., in 2019) explain variation in stock returns for early and late 2020?**"
   ]
  },
  {
   "cell_type": "code",
   "execution_count": 119,
   "metadata": {
    "id": "mrENay3ly5tc"
   },
   "outputs": [],
   "source": [
    "df = pd.read_csv('maindf.csv')"
   ]
  },
  {
   "cell_type": "markdown",
   "metadata": {
    "id": "P3JZkHDX01kQ"
   },
   "source": [
    "`RetEarly2020` and `RetLate2020` are the variables whose variation is what we're trying to explain.\n",
    "\n",
    "The pre-COVID risk measure we chose is the market beta of each stock in 2019 (downloaded from WRDS CRSP)."
   ]
  },
  {
   "cell_type": "code",
   "execution_count": 120,
   "metadata": {
    "colab": {
     "base_uri": "https://localhost:8080/"
    },
    "id": "Yb-1gDNu01kR",
    "outputId": "5dcba2d3-aad4-4c3c-a9f1-80aa6605d42c"
   },
   "outputs": [
    {
     "data": {
      "text/plain": [
       "92"
      ]
     },
     "execution_count": 120,
     "metadata": {
      "tags": []
     },
     "output_type": "execute_result"
    }
   ],
   "source": [
    "# examine missing values\n",
    "df['beta19'].isna().sum()"
   ]
  },
  {
   "cell_type": "markdown",
   "metadata": {
    "id": "JjGEewe-2Pu1"
   },
   "source": [
    "There are 92 stocks with missing market beta. We will replace a stock's missing beta with the average beta of the GICS industry it belongs to."
   ]
  },
  {
   "cell_type": "code",
   "execution_count": 121,
   "metadata": {
    "colab": {
     "base_uri": "https://localhost:8080/"
    },
    "id": "mU0F98cy2Oiu",
    "outputId": "7a7799b3-962a-46e3-b0f0-768bc3e5b0cb"
   },
   "outputs": [
    {
     "data": {
      "text/plain": [
       "gind\n",
       "Transportation Infrastructure                     6\n",
       "Tobacco                                           7\n",
       "Industrial Conglomerates                          8\n",
       "Distributors                                      9\n",
       "Multiline Retail                                 10\n",
       "                                               ... \n",
       "Equity Real Estate Investment Trusts (REITs)    173\n",
       "Software                                        179\n",
       "Oil, Gas & Consumable Fuels                     212\n",
       "Biotechnology                                   261\n",
       "Banks                                           325\n",
       "Name: beta19, Length: 69, dtype: int64"
      ]
     },
     "execution_count": 121,
     "metadata": {
      "tags": []
     },
     "output_type": "execute_result"
    }
   ],
   "source": [
    "# check if there's any industry without any market beta\n",
    "df.groupby('gind').beta19.count().sort_values()"
   ]
  },
  {
   "cell_type": "code",
   "execution_count": 122,
   "metadata": {
    "id": "DwmkkRpk97KV"
   },
   "outputs": [],
   "source": [
    "# replace missing betas with industry average\n",
    "means = df.groupby('sic').beta19.mean()\n",
    "df['beta19'] = np.where(df['beta19'].isna(), means[df['sic']], df['beta19'])"
   ]
  },
  {
   "cell_type": "code",
   "execution_count": 123,
   "metadata": {
    "colab": {
     "base_uri": "https://localhost:8080/"
    },
    "id": "0OEFe7Y830AD",
    "outputId": "78382dc3-5c03-478f-9f48-1ecf038ce550"
   },
   "outputs": [
    {
     "data": {
      "text/plain": [
       "0"
      ]
     },
     "execution_count": 123,
     "metadata": {
      "tags": []
     },
     "output_type": "execute_result"
    }
   ],
   "source": [
    "# double check that there's no missing value anymore\n",
    "df['beta19'].isna().sum()"
   ]
  },
  {
   "cell_type": "code",
   "execution_count": 124,
   "metadata": {
    "id": "mNNDeAO4flnt"
   },
   "outputs": [],
   "source": [
    "# # export into a csv file\n",
    "# df.to_csv('df_beta.csv', index=False)"
   ]
  },
  {
   "cell_type": "markdown",
   "metadata": {
    "id": "Xqi8unMn01kS"
   },
   "source": [
    "Regress `RetEarly2020` and `RetLate2020` on `beta19` respectively."
   ]
  },
  {
   "cell_type": "code",
   "execution_count": 125,
   "metadata": {
    "colab": {
     "base_uri": "https://localhost:8080/"
    },
    "id": "WDNPc8Y801kS",
    "outputId": "b962490f-60ca-4e5e-d3c6-bd9d591198b5"
   },
   "outputs": [
    {
     "name": "stdout",
     "output_type": "stream",
     "text": [
      "                            OLS Regression Results                            \n",
      "==============================================================================\n",
      "Dep. Variable:           RetEarly2020   R-squared:                       0.005\n",
      "Model:                            OLS   Adj. R-squared:                  0.005\n",
      "Method:                 Least Squares   F-statistic:                     22.74\n",
      "Date:                Mon, 05 Jul 2021   Prob (F-statistic):           1.91e-06\n",
      "Time:                        23:02:47   Log-Likelihood:                -1932.7\n",
      "No. Observations:                4130   AIC:                             3869.\n",
      "Df Residuals:                    4128   BIC:                             3882.\n",
      "Df Model:                           1                                         \n",
      "Covariance Type:            nonrobust                                         \n",
      "==============================================================================\n",
      "                 coef    std err          t      P>|t|      [0.025      0.975]\n",
      "------------------------------------------------------------------------------\n",
      "beta19        -0.0398      0.008     -4.769      0.000      -0.056      -0.023\n",
      "intercept     -0.2587      0.010    -25.036      0.000      -0.279      -0.238\n",
      "==============================================================================\n",
      "Omnibus:                     7974.878   Durbin-Watson:                   1.948\n",
      "Prob(Omnibus):                  0.000   Jarque-Bera (JB):         32690420.597\n",
      "Skew:                          14.628   Prob(JB):                         0.00\n",
      "Kurtosis:                     437.871   Cond. No.                         3.20\n",
      "==============================================================================\n",
      "\n",
      "Warnings:\n",
      "[1] Standard Errors assume that the covariance matrix of the errors is correctly specified.\n"
     ]
    }
   ],
   "source": [
    "# regress RetEarly2020 on beta19\n",
    "df2 = df[['ticker', 'RetEarly2020', 'RetLate2020', 'beta19']].copy()\n",
    "df2['intercept'] = 1\n",
    "Y = df2['RetEarly2020']\n",
    "X = df2.drop(columns=['ticker', 'RetEarly2020', 'RetLate2020'])\n",
    "reg1 = sm.OLS(Y, X).fit()\n",
    "print(reg1.summary())"
   ]
  },
  {
   "cell_type": "code",
   "execution_count": 126,
   "metadata": {
    "colab": {
     "base_uri": "https://localhost:8080/"
    },
    "id": "FGCj9rymBzYk",
    "outputId": "1d246b98-904e-49c0-bb43-ae5a44f3e66e"
   },
   "outputs": [
    {
     "name": "stdout",
     "output_type": "stream",
     "text": [
      "                            OLS Regression Results                            \n",
      "==============================================================================\n",
      "Dep. Variable:            RetLate2020   R-squared:                       0.000\n",
      "Model:                            OLS   Adj. R-squared:                 -0.000\n",
      "Method:                 Least Squares   F-statistic:                    0.8684\n",
      "Date:                Mon, 05 Jul 2021   Prob (F-statistic):              0.351\n",
      "Time:                        23:02:47   Log-Likelihood:                -7746.9\n",
      "No. Observations:                4130   AIC:                         1.550e+04\n",
      "Df Residuals:                    4128   BIC:                         1.551e+04\n",
      "Df Model:                           1                                         \n",
      "Covariance Type:            nonrobust                                         \n",
      "==============================================================================\n",
      "                 coef    std err          t      P>|t|      [0.025      0.975]\n",
      "------------------------------------------------------------------------------\n",
      "beta19         0.0318      0.034      0.932      0.351      -0.035       0.099\n",
      "intercept      0.8775      0.042     20.779      0.000       0.795       0.960\n",
      "==============================================================================\n",
      "Omnibus:                     5405.634   Durbin-Watson:                   1.962\n",
      "Prob(Omnibus):                  0.000   Jarque-Bera (JB):          1276127.512\n",
      "Skew:                           7.224   Prob(JB):                         0.00\n",
      "Kurtosis:                      87.894   Cond. No.                         3.20\n",
      "==============================================================================\n",
      "\n",
      "Warnings:\n",
      "[1] Standard Errors assume that the covariance matrix of the errors is correctly specified.\n"
     ]
    }
   ],
   "source": [
    "# regress RetLate2020 on beta19\n",
    "Y = df2['RetLate2020']\n",
    "X = df2.drop(columns=['ticker', 'RetEarly2020', 'RetLate2020'])\n",
    "reg2 = sm.OLS(Y, X).fit()\n",
    "print(reg2.summary())"
   ]
  },
  {
   "cell_type": "markdown",
   "metadata": {
    "id": "1G0v3i6dCL3q"
   },
   "source": [
    "## Interpretation"
   ]
  },
  {
   "cell_type": "markdown",
   "metadata": {
    "id": "UTu815j0CdEF"
   },
   "source": [
    "Market beta represents the sensitivity of the stock to the movement of the market. When we regress `RetEarly2020` on the 2019 market beta, the intercept suggests that for stocks completely free of systematic risk, the average 3-month return is -0.26. The coefficient of the market beta is -0.04. It means that for stocks that are as volatile as the market (β=1), the average 3-month return is -0.3. The more sensitive a stock is to the market's swing (larger β), the lower its 3-month return in early 2020. It's worth noting that the $R^2$ and adjusted $R^2$ of this regression model is 0.005, meaning it has little explanatory power. It can only explain 0.5% of the variation in `RetEarly2020`.\n",
    "\n",
    "\n",
    "When we regress `RetLate2020` on the 2019 market beta, the intercept suggests that for stocks completely free of systematic risk, the average 9-month return is 0.88. The coefficient of the market beta is 0.03. However, its *p*-value is greater than 0.05, meaning this coefficient is not significantly different from 0. Therefore, we would say that the 2019 market beta has no effect on stocks' 9-month return in 2020. Indeed, we also see that the $R^2$ and adjusted $R^2$ of this regression model is 0, meaning it has no explanatory power."
   ]
  },
  {
   "cell_type": "markdown",
   "metadata": {
    "id": "K6vvjxQiCgKQ"
   },
   "source": [
    "# 4. Explaining Fluctuation Using Historical Volatility"
   ]
  },
  {
   "cell_type": "markdown",
   "metadata": {
    "id": "wzZYXrYkCgKR"
   },
   "source": [
    "**Does the volatility in 2019 stock returns explain variation in stock returns for early and late 2020?**"
   ]
  },
  {
   "cell_type": "code",
   "execution_count": 127,
   "metadata": {
    "id": "W6C3fbEfCgKR"
   },
   "outputs": [],
   "source": [
    "df = pd.read_csv('df_beta.csv')"
   ]
  },
  {
   "cell_type": "markdown",
   "metadata": {
    "id": "Yee4f0azoM_e"
   },
   "source": [
    "## Preprocessing Stock Data from 2019"
   ]
  },
  {
   "cell_type": "markdown",
   "metadata": {
    "id": "LFLHG_gRfuyb"
   },
   "source": [
    "`stock19.csv` contains the stock data for all the U.S. companies in WRDS CRSP database.\n",
    "* `date` is the date of the last trading day of each month in 2019.\n",
    "* `ticker` is the ticker for each stock.\n",
    "* `price` is the closing price on the last trading day in each month in 2019.\n",
    "* `ret` is the holding period (monthly) return for each stock."
   ]
  },
  {
   "cell_type": "code",
   "execution_count": 128,
   "metadata": {
    "id": "Vcg2pvvffuyc"
   },
   "outputs": [],
   "source": [
    "stock19 = pd.read_csv('stock19.csv')"
   ]
  },
  {
   "cell_type": "code",
   "execution_count": 129,
   "metadata": {
    "id": "U_nVnpDGfuyc"
   },
   "outputs": [],
   "source": [
    "# clean up the columns\n",
    "stock19.rename(columns={'TICKER': 'ticker', 'PRC': 'price', 'RET': 'ret'}, inplace=True)\n",
    "stock19.date = pd.to_datetime(stock19.date, format=\"%Y%m%d\")\n",
    "stock19['month'] = pd.DatetimeIndex(stock19.date).month"
   ]
  },
  {
   "cell_type": "code",
   "execution_count": 130,
   "metadata": {
    "id": "TCW1l_xxfuye"
   },
   "outputs": [],
   "source": [
    "# drop stocks that are not in the main dataframe\n",
    "stock19 = stock19[stock19.ticker.isin(df.ticker)]\n",
    "stock19.reset_index(drop=True, inplace=True)"
   ]
  },
  {
   "cell_type": "markdown",
   "metadata": {
    "id": "cwnQhrdJfuyf"
   },
   "source": [
    "There are 13 companies that have two sets (24) of monthly returns.\n"
   ]
  },
  {
   "cell_type": "code",
   "execution_count": 131,
   "metadata": {
    "colab": {
     "base_uri": "https://localhost:8080/"
    },
    "id": "BwTU6USTfuyf",
    "outputId": "c7a8d642-a418-4b6d-83c1-2ea90dbfd3b7"
   },
   "outputs": [
    {
     "data": {
      "text/plain": [
       "TAP     24\n",
       "GEF     24\n",
       "HVT     24\n",
       "LEN     24\n",
       "WSO     24\n",
       "MKC     24\n",
       "BIO     24\n",
       "BH      24\n",
       "STZ     24\n",
       "AGM     24\n",
       "CWEN    24\n",
       "HEI     24\n",
       "GTN     23\n",
       "Name: ticker, dtype: int64"
      ]
     },
     "execution_count": 131,
     "metadata": {
      "tags": []
     },
     "output_type": "execute_result"
    }
   ],
   "source": [
    "tmp = stock19.ticker.value_counts()\n",
    "tmp[tmp.index[tmp.gt(12)]]"
   ]
  },
  {
   "cell_type": "markdown",
   "metadata": {
    "id": "c3Q5QMVZfuyf"
   },
   "source": [
    "Cross examine two sets of stock prices from CRSP with those listed on Yahoo Finance and only keep the ones that match."
   ]
  },
  {
   "cell_type": "code",
   "execution_count": 132,
   "metadata": {
    "colab": {
     "base_uri": "https://localhost:8080/"
    },
    "id": "2wRzpND6fuyf",
    "outputId": "57fc2d0f-991e-4dad-cff4-9b4e96504fbd"
   },
   "outputs": [
    {
     "name": "stdout",
     "output_type": "stream",
     "text": [
      "[*********************100%***********************]  13 of 13 completed\n"
     ]
    }
   ],
   "source": [
    "tics = \" \".join(tmp.index[tmp.gt(12)].to_list())\n",
    "df_yahoo = yf.download(tics, start=\"2018-12-31\", end=\"2020-01-01\", group_by='ticker')\n",
    "dates = ['2019-01-31', '2019-02-28', '2019-03-29', '2019-04-30', '2019-05-31', '2019-06-28', \n",
    "         '2019-07-31', '2019-08-30', '2019-09-30', '2019-10-31', '2019-11-29', '2019-12-31']\n",
    "\n",
    "for i in tmp.index[tmp.gt(12)]:\n",
    "    if df_yahoo[i].dropna().empty:\n",
    "        continue\n",
    "    else:\n",
    "        try:\n",
    "            prices = round(df_yahoo[i].loc[dates, 'Close'], 2).to_list()\n",
    "            stock19.loc[stock19.ticker==i, 'price'] = stock19[stock19.ticker==i]['price'].apply(lambda x: x if round(x, 2) in prices else np.nan)\n",
    "            stock19.dropna(subset=['price'], inplace=True)\n",
    "            stock19.reset_index(drop=True, inplace=True)\n",
    "        except:\n",
    "            pass"
   ]
  },
  {
   "cell_type": "code",
   "execution_count": 133,
   "metadata": {
    "colab": {
     "base_uri": "https://localhost:8080/"
    },
    "id": "03_9Kb1vfuyf",
    "outputId": "1eaa5ced-331a-450b-a687-00cef3044c71"
   },
   "outputs": [
    {
     "data": {
      "text/plain": [
       "0"
      ]
     },
     "execution_count": 133,
     "metadata": {
      "tags": []
     },
     "output_type": "execute_result"
    }
   ],
   "source": [
    "# make sure there's no stock with more than 12 monthly returns\n",
    "tmp = stock19.ticker.value_counts()\n",
    "len(tmp.index[tmp.gt(12)])"
   ]
  },
  {
   "cell_type": "markdown",
   "metadata": {
    "id": "C-TePgt6oT-n"
   },
   "source": [
    "## Linear Regression Models"
   ]
  },
  {
   "cell_type": "markdown",
   "metadata": {
    "id": "kPbSKcUtCgKR"
   },
   "source": [
    "Now, we will determine if the standard deviation of a stock's monthly returns in 2019 can help explain the variation in its returns in 2020."
   ]
  },
  {
   "cell_type": "code",
   "execution_count": 134,
   "metadata": {
    "colab": {
     "base_uri": "https://localhost:8080/",
     "height": 110
    },
    "id": "aZai-gH0CgKR",
    "outputId": "aacd3057-9254-443d-b053-11092782dbdb"
   },
   "outputs": [
    {
     "data": {
      "text/html": [
       "<div>\n",
       "<style scoped>\n",
       "    .dataframe tbody tr th:only-of-type {\n",
       "        vertical-align: middle;\n",
       "    }\n",
       "\n",
       "    .dataframe tbody tr th {\n",
       "        vertical-align: top;\n",
       "    }\n",
       "\n",
       "    .dataframe thead th {\n",
       "        text-align: right;\n",
       "    }\n",
       "</style>\n",
       "<table border=\"1\" class=\"dataframe\">\n",
       "  <thead>\n",
       "    <tr style=\"text-align: right;\">\n",
       "      <th></th>\n",
       "      <th>ticker</th>\n",
       "      <th>std</th>\n",
       "    </tr>\n",
       "  </thead>\n",
       "  <tbody>\n",
       "    <tr>\n",
       "      <th>0</th>\n",
       "      <td>A</td>\n",
       "      <td>0.077494</td>\n",
       "    </tr>\n",
       "    <tr>\n",
       "      <th>1</th>\n",
       "      <td>AA</td>\n",
       "      <td>0.109564</td>\n",
       "    </tr>\n",
       "  </tbody>\n",
       "</table>\n",
       "</div>"
      ],
      "text/plain": [
       "  ticker       std\n",
       "0      A  0.077494\n",
       "1     AA  0.109564"
      ]
     },
     "execution_count": 134,
     "metadata": {
      "tags": []
     },
     "output_type": "execute_result"
    }
   ],
   "source": [
    "# calculate standard deviation of each stock's 2019 monthly returns\n",
    "std = pd.DataFrame(stock19.groupby('ticker').ret.std().reset_index())\n",
    "std.rename(columns={'ret': 'std'}, inplace=True)\n",
    "std.head(2)"
   ]
  },
  {
   "cell_type": "code",
   "execution_count": 135,
   "metadata": {
    "id": "032ADCzxpxAW"
   },
   "outputs": [],
   "source": [
    "# drop missing standard deviation\n",
    "std.dropna(subset=['std'], inplace=True)"
   ]
  },
  {
   "cell_type": "code",
   "execution_count": 136,
   "metadata": {
    "id": "LVkRstU9mOSh"
   },
   "outputs": [],
   "source": [
    "# # export into a csv file\n",
    "# std.to_csv('std.csv', index=False)"
   ]
  },
  {
   "cell_type": "code",
   "execution_count": 137,
   "metadata": {
    "colab": {
     "base_uri": "https://localhost:8080/"
    },
    "id": "XJRERn4hhU8H",
    "outputId": "dfe5c040-a9a6-4743-af48-1620e3eab416"
   },
   "outputs": [
    {
     "name": "stdout",
     "output_type": "stream",
     "text": [
      "Number of unique tickers: 4096\n"
     ]
    }
   ],
   "source": [
    "# only keep the stocks that have data from 2019\n",
    "df2 = df[['ticker', 'RetEarly2020', 'RetLate2020']].copy()\n",
    "df2 = df2[df2.ticker.isin(std.ticker)]\n",
    "df2 = df2.merge(std, on='ticker')\n",
    "df2.reset_index(drop=True, inplace=True)\n",
    "print(\"Number of unique tickers:\", df2.ticker.nunique())"
   ]
  },
  {
   "cell_type": "code",
   "execution_count": 138,
   "metadata": {
    "colab": {
     "base_uri": "https://localhost:8080/"
    },
    "id": "9LDjhsM0D9Pa",
    "outputId": "95751ccd-5c81-4745-d573-5177175359bc"
   },
   "outputs": [
    {
     "name": "stdout",
     "output_type": "stream",
     "text": [
      "                            OLS Regression Results                            \n",
      "==============================================================================\n",
      "Dep. Variable:           RetEarly2020   R-squared:                       0.000\n",
      "Model:                            OLS   Adj. R-squared:                 -0.000\n",
      "Method:                 Least Squares   F-statistic:                    0.8766\n",
      "Date:                Mon, 05 Jul 2021   Prob (F-statistic):              0.349\n",
      "Time:                        23:03:16   Log-Likelihood:                -1928.0\n",
      "No. Observations:                4096   AIC:                             3860.\n",
      "Df Residuals:                    4094   BIC:                             3873.\n",
      "Df Model:                           1                                         \n",
      "Covariance Type:            nonrobust                                         \n",
      "==============================================================================\n",
      "                 coef    std err          t      P>|t|      [0.025      0.975]\n",
      "------------------------------------------------------------------------------\n",
      "std            0.0431      0.046      0.936      0.349      -0.047       0.133\n",
      "intercept     -0.3047      0.008    -35.983      0.000      -0.321      -0.288\n",
      "==============================================================================\n",
      "Omnibus:                     7902.667   Durbin-Watson:                   1.935\n",
      "Prob(Omnibus):                  0.000   Jarque-Bera (JB):         32285272.126\n",
      "Skew:                          14.598   Prob(JB):                         0.00\n",
      "Kurtosis:                     436.958   Cond. No.                         7.72\n",
      "==============================================================================\n",
      "\n",
      "Warnings:\n",
      "[1] Standard Errors assume that the covariance matrix of the errors is correctly specified.\n"
     ]
    }
   ],
   "source": [
    "# regress RetEarly2020 on standard deviation\n",
    "df2['intercept'] = 1\n",
    "Y = df2['RetEarly2020']\n",
    "X = df2.drop(columns=['ticker', 'RetEarly2020', 'RetLate2020'])\n",
    "reg1 = sm.OLS(Y, X).fit()\n",
    "print(reg1.summary())"
   ]
  },
  {
   "cell_type": "code",
   "execution_count": 139,
   "metadata": {
    "colab": {
     "base_uri": "https://localhost:8080/"
    },
    "id": "7Sbxg-CXCgKU",
    "outputId": "3ec704a6-1547-425a-d7d0-06de21eddffa"
   },
   "outputs": [
    {
     "name": "stdout",
     "output_type": "stream",
     "text": [
      "                            OLS Regression Results                            \n",
      "==============================================================================\n",
      "Dep. Variable:            RetLate2020   R-squared:                       0.026\n",
      "Model:                            OLS   Adj. R-squared:                  0.026\n",
      "Method:                 Least Squares   F-statistic:                     110.3\n",
      "Date:                Mon, 05 Jul 2021   Prob (F-statistic):           1.73e-25\n",
      "Time:                        23:03:16   Log-Likelihood:                -7612.6\n",
      "No. Observations:                4096   AIC:                         1.523e+04\n",
      "Df Residuals:                    4094   BIC:                         1.524e+04\n",
      "Df Model:                           1                                         \n",
      "Covariance Type:            nonrobust                                         \n",
      "==============================================================================\n",
      "                 coef    std err          t      P>|t|      [0.025      0.975]\n",
      "------------------------------------------------------------------------------\n",
      "std            1.9352      0.184     10.505      0.000       1.574       2.296\n",
      "intercept      0.6569      0.034     19.364      0.000       0.590       0.723\n",
      "==============================================================================\n",
      "Omnibus:                     5331.506   Durbin-Watson:                   1.981\n",
      "Prob(Omnibus):                  0.000   Jarque-Bera (JB):          1343597.714\n",
      "Skew:                           7.112   Prob(JB):                         0.00\n",
      "Kurtosis:                      90.580   Cond. No.                         7.72\n",
      "==============================================================================\n",
      "\n",
      "Warnings:\n",
      "[1] Standard Errors assume that the covariance matrix of the errors is correctly specified.\n"
     ]
    }
   ],
   "source": [
    "# regress RetLate2020 on standard deviation\n",
    "Y = df2['RetLate2020']\n",
    "X = df2.drop(columns=['ticker', 'RetEarly2020', 'RetLate2020'])\n",
    "reg2 = sm.OLS(Y, X).fit()\n",
    "print(reg2.summary())"
   ]
  },
  {
   "cell_type": "markdown",
   "metadata": {
    "id": "Cq38jOZbCgKU"
   },
   "source": [
    "## Interpretation"
   ]
  },
  {
   "cell_type": "markdown",
   "metadata": {
    "id": "tEi1525hHHDc"
   },
   "source": [
    "The standard deviation of stock returns is another measure of risk. When we regress `RetEarly2020` on the standard deviation of 2019 monthly returns, the intercept suggests that for stocks with no variability in returns, the average 3-month return is -0.30. The coefficient of the standard deviation is 0.04. However, its *p*-value is greater than 0.05, meaning this coefficient is not significantly different from 0. Therefore, we would say that the volatility of 2019 returns has no effect on stocks' 3-month return in early 2020. Indeed, we also see that the $R^2$ and adjusted $R^2$ of this regression model is 0, meaning it has no explanatory power.\n",
    "\n",
    "When we regress `RetLate2020` on the standard deviation of 2019 monthly returns, the intercept suggests that stocks with no variability in returns, the average 9-month return is 0.66. The coefficient of the market beta is 1.94. It means that the more volatile a stock in 2019 (large standard deviation), the higher its 9-month return in 2020. The $R^2$ and adjusted $R^2$ of this regression model is 0.03, meaning it does have a little explanatory power and that it can explain around 3% of the variation in `RetLate2020`."
   ]
  },
  {
   "cell_type": "markdown",
   "metadata": {
    "id": "3DwNGHGAufI7"
   },
   "source": [
    "# 5. Predicting Returns Using DistilBERT Model and Business Descriptions\n",
    "\n"
   ]
  },
  {
   "cell_type": "markdown",
   "metadata": {
    "id": "n4GSH9M2uEJv"
   },
   "source": [
    "We are missing the business descriptions for 1565 companies."
   ]
  },
  {
   "cell_type": "code",
   "execution_count": 140,
   "metadata": {
    "id": "PFjxQPhEMpyt"
   },
   "outputs": [],
   "source": [
    "df = pd.read_csv('df_beta.csv')"
   ]
  },
  {
   "cell_type": "code",
   "execution_count": 141,
   "metadata": {
    "colab": {
     "base_uri": "https://localhost:8080/"
    },
    "id": "9NDqr-UPuaLC",
    "outputId": "1b18e216-7e84-4241-9cf4-62507aa76c54"
   },
   "outputs": [
    {
     "data": {
      "text/plain": [
       "1565"
      ]
     },
     "execution_count": 141,
     "metadata": {
      "tags": []
     },
     "output_type": "execute_result"
    }
   ],
   "source": [
    "# a list of companies without business description\n",
    "noDes = df.loc[df.description.isna(), 'ticker'].unique()\n",
    "len(noDes)"
   ]
  },
  {
   "cell_type": "markdown",
   "metadata": {
    "id": "39FldEqQu9f4"
   },
   "source": [
    "Scrape the business descriptions from Yahoo Finance for these companies."
   ]
  },
  {
   "cell_type": "code",
   "execution_count": null,
   "metadata": {
    "id": "RwXHV0rzu8--"
   },
   "outputs": [],
   "source": [
    "# # WARNING!! - Don't run this loop. The results are already saved in \"missing_des.csv\"\n",
    "\n",
    "# DES = []\n",
    "# tickers = noDes\n",
    "# for i in tickers:\n",
    "#   url ='https://finance.yahoo.com/quote/'+i+'/profile' \n",
    "#   page = requests.get(url)\n",
    "#   htmldata = BeautifulSoup(page.content, 'html.parser')\n",
    "#   Business_Description = htmldata.find('p', {'class':'Mt(15px) Lh(1.6)'})\n",
    "#   DES.append(Business_Description)"
   ]
  },
  {
   "cell_type": "code",
   "execution_count": null,
   "metadata": {
    "id": "JiwJRDhDv0xl"
   },
   "outputs": [],
   "source": [
    "# # create new dataframe that stores tickers and their corresponding descriptions\n",
    "# company_des = pd.DataFrame({'ticker':tickers, 'description':DES})\n",
    "\n",
    "# # drop the stocks that do not have Yahoo Finance company profiles\n",
    "# company_des.dropna(inplace=True)\n",
    "# company_des['description'] = company_des['description'].astype(str)"
   ]
  },
  {
   "cell_type": "code",
   "execution_count": null,
   "metadata": {
    "id": "ylvDldrluDIc"
   },
   "outputs": [],
   "source": [
    "# # remove regex text from description\n",
    "# a = np.arange(1,300)\n",
    "# a = a.astype(str)\n",
    "# for i in a:\n",
    "#   company_des['description']=company_des['description'].str.replace('<p class=\"Mt(15px) Lh(1.6)\" data-reactid=\"'+i+'\">','',regex=False)\n",
    "\n",
    "# company_des['description']=company_des['description'].str.replace('</p>','',regex=False)"
   ]
  },
  {
   "cell_type": "code",
   "execution_count": null,
   "metadata": {
    "id": "0v-_vnvCuDFc"
   },
   "outputs": [],
   "source": [
    "# # export company_des into a CSV file\n",
    "# company_des.to_csv('missing_des.csv', index=False)"
   ]
  },
  {
   "cell_type": "markdown",
   "metadata": {
    "id": "Q4CqXeuKxMSI"
   },
   "source": [
    "Insert the missing descriptions into the main dataframe."
   ]
  },
  {
   "cell_type": "code",
   "execution_count": 142,
   "metadata": {
    "colab": {
     "base_uri": "https://localhost:8080/",
     "height": 110
    },
    "id": "dkZgHKeM39SF",
    "outputId": "77ccbe55-ebc0-4db1-940e-02d233c293b4"
   },
   "outputs": [
    {
     "data": {
      "text/html": [
       "<div>\n",
       "<style scoped>\n",
       "    .dataframe tbody tr th:only-of-type {\n",
       "        vertical-align: middle;\n",
       "    }\n",
       "\n",
       "    .dataframe tbody tr th {\n",
       "        vertical-align: top;\n",
       "    }\n",
       "\n",
       "    .dataframe thead th {\n",
       "        text-align: right;\n",
       "    }\n",
       "</style>\n",
       "<table border=\"1\" class=\"dataframe\">\n",
       "  <thead>\n",
       "    <tr style=\"text-align: right;\">\n",
       "      <th></th>\n",
       "      <th>ticker</th>\n",
       "      <th>description</th>\n",
       "    </tr>\n",
       "  </thead>\n",
       "  <tbody>\n",
       "    <tr>\n",
       "      <th>0</th>\n",
       "      <td>AACG</td>\n",
       "      <td>ATA Creativity Global, together with its subsi...</td>\n",
       "    </tr>\n",
       "    <tr>\n",
       "      <th>1</th>\n",
       "      <td>AAMC</td>\n",
       "      <td>Altisource Asset Management Corporation, an as...</td>\n",
       "    </tr>\n",
       "  </tbody>\n",
       "</table>\n",
       "</div>"
      ],
      "text/plain": [
       "  ticker                                        description\n",
       "0   AACG  ATA Creativity Global, together with its subsi...\n",
       "1   AAMC  Altisource Asset Management Corporation, an as..."
      ]
     },
     "execution_count": 142,
     "metadata": {
      "tags": []
     },
     "output_type": "execute_result"
    }
   ],
   "source": [
    "# load the newly scraped business descriptions\n",
    "company_des = pd.read_csv('missing_des.csv')\n",
    "company_des.head(2)"
   ]
  },
  {
   "cell_type": "code",
   "execution_count": 143,
   "metadata": {
    "id": "_OaUY7aa7jW7"
   },
   "outputs": [],
   "source": [
    "# insert the newly scraped business descriptions into the main dataframe\n",
    "tmp = df[['ticker', 'description']]\n",
    "tmp = tmp.merge(company_des, on='ticker', how='outer')\n",
    "tmp.description_x = np.where(tmp['description_x'].isna(), tmp['description_y'], tmp['description_x'])\n",
    "df['description'] = tmp['description_x']"
   ]
  },
  {
   "cell_type": "markdown",
   "metadata": {
    "id": "ereeTZiL7tt-"
   },
   "source": [
    "Drop 86 companies that still do not have without business descriptions."
   ]
  },
  {
   "cell_type": "code",
   "execution_count": 144,
   "metadata": {
    "colab": {
     "base_uri": "https://localhost:8080/"
    },
    "id": "AgYACBYExw3-",
    "outputId": "c65e5040-0053-4062-e62c-e5d4c56758df"
   },
   "outputs": [
    {
     "name": "stdout",
     "output_type": "stream",
     "text": [
      "(4130, 42)\n",
      "(4044, 42)\n"
     ]
    }
   ],
   "source": [
    "# how many companies still don't have their business descriptions?\n",
    "print(df.shape)\n",
    "df = df[~df.description.isna()]\n",
    "print(df.shape)"
   ]
  },
  {
   "cell_type": "code",
   "execution_count": 145,
   "metadata": {
    "id": "pV11uD3qgDzw"
   },
   "outputs": [],
   "source": [
    "# # export into a csv file\n",
    "# df.to_csv('df_des.csv', index=False)"
   ]
  },
  {
   "cell_type": "markdown",
   "metadata": {
    "id": "F6L57WrVUdaH"
   },
   "source": [
    "Load a pre-trained distilBERT model."
   ]
  },
  {
   "cell_type": "code",
   "execution_count": 146,
   "metadata": {
    "colab": {
     "base_uri": "https://localhost:8080/",
     "height": 336,
     "referenced_widgets": [
      "b2b9e12d217c4dada68c130800e67c52",
      "df0485ef92d84f4b9e9cb2a797b18cff",
      "79ca6f877d45407cb42de164de8d27f9",
      "84411983422b4819a3ecc40f2d5363a3",
      "aafac5c9f0b7458c8033ffd19566c48c",
      "f976c84c34e04e48b56b8c37024b6845",
      "bccdc167ffa04d01af0852f872c417f9",
      "bfdefcf2d4284bd8a3e905d6019d31b7",
      "2d8ffb3930984c9c8cd8c6e506fdcf0b",
      "0580444f03da40028b6cad0bf4b47cdf",
      "8b22fc6a980d47d1bdba67fbd78f0914",
      "f2aa6da300b54832bc9a31f6e86dbf42",
      "d9743ccc64bb4e088b616f59ff6fb338",
      "0c55bf04372e4cb5afeea84250fae947",
      "558f19b06a4e4a35a630d84879b5ce3c",
      "f9aa525aa84a49cabf16ead17581d760",
      "353affc214d24d50817690fa10b6fd0d",
      "3099c815840846568ad31ac0ab5f386d",
      "ad290afd4fe3422c9469e0ede81ea478",
      "3c6b891095bf43e7ac500b8ca14ceb55",
      "fc129877b4934ce6b2d2d31d4437187e",
      "ad89de3c951044debc452c2d18bb7ba7",
      "f87a05880279450b9583e02fe7caf157",
      "bac4c58f7d674c2db6c99f2fcf72cc59",
      "bf671592837f4cc3993a4a5ef8fbe0f2",
      "49b462c9fd0042e286e8a9a2ac760fc9",
      "237a909d790846e6833483b07d6e86a6",
      "228b5c582a27470db2b2dfdafcf765d5",
      "07fcf762570d40069eb2eb397b2b59c4",
      "129f01b78a0640fb8295a21c55f0737f",
      "8f2fddfb639d49d393b64c084929c37f",
      "05a3142b797546739f64d3d3c0370d93",
      "801d9721d96a4d168ce5f84075391216",
      "db880834a2ee47a69f0f67892a9b4be0",
      "b3ad6791d79f42b29d6691364204dba4",
      "ea17b11ac0e14a2baa26199e9c3bd347",
      "59c0be486b404496b291a63c2ad56be0",
      "bf1382ef66454e38b4c722ab4abd0417",
      "cef1db8e187843b49613939a318fbfcc",
      "090a2bccbe4a4aa893096090dc3278fb"
     ]
    },
    "id": "K6nQvGTBHYnI",
    "outputId": "340833d0-844f-41b9-d54b-ab531900b5ae"
   },
   "outputs": [
    {
     "data": {
      "application/vnd.jupyter.widget-view+json": {
       "model_id": "b2b9e12d217c4dada68c130800e67c52",
       "version_major": 2,
       "version_minor": 0
      },
      "text/plain": [
       "HBox(children=(FloatProgress(value=0.0, description='Downloading', max=231508.0, style=ProgressStyle(descripti…"
      ]
     },
     "metadata": {
      "tags": []
     },
     "output_type": "display_data"
    },
    {
     "name": "stdout",
     "output_type": "stream",
     "text": [
      "\n"
     ]
    },
    {
     "data": {
      "application/vnd.jupyter.widget-view+json": {
       "model_id": "2d8ffb3930984c9c8cd8c6e506fdcf0b",
       "version_major": 2,
       "version_minor": 0
      },
      "text/plain": [
       "HBox(children=(FloatProgress(value=0.0, description='Downloading', max=28.0, style=ProgressStyle(description_w…"
      ]
     },
     "metadata": {
      "tags": []
     },
     "output_type": "display_data"
    },
    {
     "name": "stdout",
     "output_type": "stream",
     "text": [
      "\n"
     ]
    },
    {
     "data": {
      "application/vnd.jupyter.widget-view+json": {
       "model_id": "353affc214d24d50817690fa10b6fd0d",
       "version_major": 2,
       "version_minor": 0
      },
      "text/plain": [
       "HBox(children=(FloatProgress(value=0.0, description='Downloading', max=466062.0, style=ProgressStyle(descripti…"
      ]
     },
     "metadata": {
      "tags": []
     },
     "output_type": "display_data"
    },
    {
     "name": "stdout",
     "output_type": "stream",
     "text": [
      "\n"
     ]
    },
    {
     "data": {
      "application/vnd.jupyter.widget-view+json": {
       "model_id": "bf671592837f4cc3993a4a5ef8fbe0f2",
       "version_major": 2,
       "version_minor": 0
      },
      "text/plain": [
       "HBox(children=(FloatProgress(value=0.0, description='Downloading', max=442.0, style=ProgressStyle(description_…"
      ]
     },
     "metadata": {
      "tags": []
     },
     "output_type": "display_data"
    },
    {
     "name": "stdout",
     "output_type": "stream",
     "text": [
      "\n"
     ]
    },
    {
     "data": {
      "application/vnd.jupyter.widget-view+json": {
       "model_id": "801d9721d96a4d168ce5f84075391216",
       "version_major": 2,
       "version_minor": 0
      },
      "text/plain": [
       "HBox(children=(FloatProgress(value=0.0, description='Downloading', max=267967963.0, style=ProgressStyle(descri…"
      ]
     },
     "metadata": {
      "tags": []
     },
     "output_type": "display_data"
    },
    {
     "name": "stdout",
     "output_type": "stream",
     "text": [
      "\n"
     ]
    },
    {
     "name": "stderr",
     "output_type": "stream",
     "text": [
      "Some weights of the model checkpoint at distilbert-base-uncased were not used when initializing DistilBertModel: ['vocab_layer_norm.bias', 'vocab_transform.bias', 'vocab_projector.bias', 'vocab_layer_norm.weight', 'vocab_transform.weight', 'vocab_projector.weight']\n",
      "- This IS expected if you are initializing DistilBertModel from the checkpoint of a model trained on another task or with another architecture (e.g. initializing a BertForSequenceClassification model from a BertForPreTraining model).\n",
      "- This IS NOT expected if you are initializing DistilBertModel from the checkpoint of a model that you expect to be exactly identical (initializing a BertForSequenceClassification model from a BertForSequenceClassification model).\n"
     ]
    }
   ],
   "source": [
    "model_class, tokenizer_class, pretrained_weights = (ppb.DistilBertModel, ppb.DistilBertTokenizer, 'distilbert-base-uncased')\n",
    "\n",
    "# load pretrained model/tokenizer\n",
    "tokenizer = tokenizer_class.from_pretrained(pretrained_weights)\n",
    "model = model_class.from_pretrained(pretrained_weights)"
   ]
  },
  {
   "cell_type": "markdown",
   "metadata": {
    "id": "ZZNjPX04Tcvh"
   },
   "source": [
    "Due to Colab's RAM limitations, limit the description size to 350 characters."
   ]
  },
  {
   "cell_type": "code",
   "execution_count": 147,
   "metadata": {
    "id": "HxLj5nuvJ-O1"
   },
   "outputs": [],
   "source": [
    "df['description'] = df['description'].str.slice(0, 350)"
   ]
  },
  {
   "cell_type": "markdown",
   "metadata": {
    "id": "WH42D3srUplB"
   },
   "source": [
    "Tokenize the business descriptions for BERT and pad all lists of tokenized values to the same size. "
   ]
  },
  {
   "cell_type": "code",
   "execution_count": 148,
   "metadata": {
    "colab": {
     "base_uri": "https://localhost:8080/"
    },
    "id": "_MViVEVpHgc5",
    "outputId": "f8692eb4-2ae2-4345-ef6e-f51cde5b6992"
   },
   "outputs": [
    {
     "data": {
      "text/plain": [
       "(4044, 113)"
      ]
     },
     "execution_count": 148,
     "metadata": {
      "tags": []
     },
     "output_type": "execute_result"
    }
   ],
   "source": [
    "tokenized = df['description'].apply((lambda x: tokenizer.encode(x, add_special_tokens=True)))\n",
    "\n",
    "max_len = max(map(len, tokenized.values))\n",
    "padded = np.array([i + [0]*(max_len-len(i)) for i in tokenized.values])\n",
    "padded.shape"
   ]
  },
  {
   "cell_type": "markdown",
   "metadata": {
    "id": "wB4v0BX5VmHH"
   },
   "source": [
    "Create attention mask variable for DistilBERT to ignore the padding when it's processing its input."
   ]
  },
  {
   "cell_type": "code",
   "execution_count": 149,
   "metadata": {
    "colab": {
     "base_uri": "https://localhost:8080/"
    },
    "id": "FN-YEkmAIX7M",
    "outputId": "c5895fb2-b8ad-4d89-91cc-01fde1b20fca"
   },
   "outputs": [
    {
     "data": {
      "text/plain": [
       "(4044, 113)"
      ]
     },
     "execution_count": 149,
     "metadata": {
      "tags": []
     },
     "output_type": "execute_result"
    }
   ],
   "source": [
    "attention_mask = np.where(padded != 0, 1, 0)\n",
    "attention_mask.shape"
   ]
  },
  {
   "cell_type": "markdown",
   "metadata": {
    "id": "FcwKErnPXdJW"
   },
   "source": [
    "Run the pretrained DistilBERT model on the prepared predictor, save the result in `last_hidden_states`, and keep the first layer of the hidden states in `features`."
   ]
  },
  {
   "cell_type": "code",
   "execution_count": null,
   "metadata": {
    "id": "E7q78fWpIZmE"
   },
   "outputs": [],
   "source": [
    "# # WARNING!! - Don't run the DistilBERT model. The results are already saved in \"features.npy\"\n",
    "# input_ids = torch.tensor(padded)\n",
    "# attention_mask = torch.tensor(attention_mask)\n",
    "\n",
    "# with torch.no_grad():\n",
    "#     last_hidden_states = model(input_ids, attention_mask=attention_mask)\n",
    "\n",
    "# features = last_hidden_states[0][:,0,:].numpy()"
   ]
  },
  {
   "cell_type": "code",
   "execution_count": null,
   "metadata": {
    "id": "9r8Wb9XYil8M"
   },
   "outputs": [],
   "source": [
    "# # save features into a npy file\n",
    "# np.save('features', features)"
   ]
  },
  {
   "cell_type": "markdown",
   "metadata": {
    "id": "53XKx15GrRis"
   },
   "source": [
    "## Predicting Stock Returns Using Business Descriptions"
   ]
  },
  {
   "cell_type": "code",
   "execution_count": 150,
   "metadata": {
    "id": "otU6kPqUkS8U"
   },
   "outputs": [],
   "source": [
    "features = np.load('features.npy')"
   ]
  },
  {
   "cell_type": "markdown",
   "metadata": {
    "id": "HNQo4Hhmrw_d"
   },
   "source": [
    "Create binary labels for `RetEarly2020` and `RetLate2020`.\n",
    "* `BetterEarly2020` is 1, if a stock's `RetEarly2020` is in the top 35% (i.e., higher than 65% of the companies); otherwise, 0.\n",
    "* `BetterLate2020` is 1, if a stock's `RetLate2020` is in the top 35% (i.e., higher than 65% of the companies); otherwise, 0."
   ]
  },
  {
   "cell_type": "code",
   "execution_count": 151,
   "metadata": {
    "id": "HsjV6UGGlGCP"
   },
   "outputs": [],
   "source": [
    "df['BetterEarly2020'] = 0\n",
    "df['BetterLate2020'] = 0\n",
    "df['BetterEarly2020'] = np.where(df.RetEarly2020>=df.RetEarly2020.quantile(0.65), 1, 0)\n",
    "df['BetterLate2020'] = np.where(df.RetLate2020>=df.RetLate2020.quantile(0.65), 1, 0)"
   ]
  },
  {
   "cell_type": "markdown",
   "metadata": {
    "id": "Blh-iVpxts5n"
   },
   "source": [
    "1416 stocks are labeled as performing better than most in early 2020 and late 2020 respectively."
   ]
  },
  {
   "cell_type": "code",
   "execution_count": 152,
   "metadata": {
    "colab": {
     "base_uri": "https://localhost:8080/"
    },
    "id": "3vOAXRFDtbY6",
    "outputId": "964a781e-c4a0-46fb-a275-1fd0775f4ca6"
   },
   "outputs": [
    {
     "name": "stdout",
     "output_type": "stream",
     "text": [
      "0    2628\n",
      "1    1416\n",
      "Name: BetterEarly2020, dtype: int64\n",
      "0    2628\n",
      "1    1416\n",
      "Name: BetterLate2020, dtype: int64\n"
     ]
    }
   ],
   "source": [
    "print(df.BetterEarly2020.value_counts())\n",
    "print(df.BetterLate2020.value_counts())"
   ]
  },
  {
   "cell_type": "markdown",
   "metadata": {
    "id": "pXK_Hi-3uahX"
   },
   "source": [
    "### Logistic Regression Model for `BetterEarly2020`\n",
    "\n",
    "Split the data into training and test sets (`random_state=870`).\n",
    "\n",
    "Train the logistic regression models on the training set (75%) and evaluate its accuracy on the test set (25%)."
   ]
  },
  {
   "cell_type": "code",
   "execution_count": 153,
   "metadata": {
    "colab": {
     "base_uri": "https://localhost:8080/"
    },
    "id": "WT_Xb5cttoqq",
    "outputId": "be5e9f54-7b33-4f42-b2a6-8a26a5a7c970"
   },
   "outputs": [
    {
     "name": "stdout",
     "output_type": "stream",
     "text": [
      "0.712166172106825\n"
     ]
    }
   ],
   "source": [
    "from sklearn.model_selection import train_test_split\n",
    "from sklearn.linear_model import LogisticRegression\n",
    "\n",
    "# logistic regression for BetterEarly2020\n",
    "X_train, X_test, Y_train, Y_test = train_test_split(features, df['BetterEarly2020'], test_size=0.25, random_state=870)\n",
    "log = LogisticRegression(max_iter=5000)\n",
    "log.fit(X_train, Y_train) \n",
    "print(log.score(X_test, Y_test))"
   ]
  },
  {
   "cell_type": "markdown",
   "metadata": {
    "id": "QM4-cghIv76K"
   },
   "source": [
    "In predicting `BetterEarly2020` for the test set, our model has an accuracy score of **0.71**. \n",
    "\n",
    "Check if this approach works better than a random guess."
   ]
  },
  {
   "cell_type": "code",
   "execution_count": 154,
   "metadata": {
    "colab": {
     "base_uri": "https://localhost:8080/"
    },
    "id": "hNesUGYWv8cF",
    "outputId": "20647d4c-6380-43c0-fd92-8b131702dc16"
   },
   "outputs": [
    {
     "name": "stdout",
     "output_type": "stream",
     "text": [
      "Dummy classifier score: 0.526 (+/- 0.03)\n"
     ]
    },
    {
     "name": "stderr",
     "output_type": "stream",
     "text": [
      "/usr/local/lib/python3.7/dist-packages/sklearn/dummy.py:132: FutureWarning: The default value of strategy will change from stratified to prior in 0.24.\n",
      "  \"stratified to prior in 0.24.\", FutureWarning)\n"
     ]
    }
   ],
   "source": [
    "from sklearn.dummy import DummyClassifier\n",
    "from sklearn.model_selection import cross_val_score\n",
    "\n",
    "# accuracy of a random guess\n",
    "clf = DummyClassifier()\n",
    "scores = cross_val_score(clf, X_train, Y_train)\n",
    "print(\"Dummy classifier score: %0.3f (+/- %0.2f)\" % (scores.mean(), scores.std()*2))"
   ]
  },
  {
   "cell_type": "markdown",
   "metadata": {
    "id": "vXWepGkTz7g4"
   },
   "source": [
    "Create a confusion matrix."
   ]
  },
  {
   "cell_type": "code",
   "execution_count": 155,
   "metadata": {
    "colab": {
     "base_uri": "https://localhost:8080/",
     "height": 289
    },
    "id": "xq9lL6Zdz94-",
    "outputId": "3c25f582-4d95-48e8-c84c-be4664ff55cb"
   },
   "outputs": [
    {
     "data": {
      "image/png": "[encoded data removed]",
      "text/plain": [
       "<Figure size 432x288 with 2 Axes>"
      ]
     },
     "metadata": {
      "tags": []
     },
     "output_type": "display_data"
    }
   ],
   "source": [
    "predictions = log.predict(X_test)\n",
    "matrix = confusion_matrix(Y_test, predictions)\n",
    "\n",
    "sns.set(font_scale=1.2)\n",
    "group_names = ['True Negative', 'False Positive', 'False Negative', 'True Positive']\n",
    "group_counts = ['{0:0.0f}'.format(value) for value in matrix.flatten()]\n",
    "group_percentages = ['{0:.2%}'.format(value) for value in np.array([row/np.sum(row) for row in matrix]).flatten()]\n",
    "labels = [f'{v1}\\n{v2}\\n{v3}' for v1, v2, v3 in zip(group_names, group_counts, group_percentages)]\n",
    "labels = np.asarray(labels).reshape(2,2)\n",
    "sns.heatmap(matrix, annot=labels, fmt='', cmap='Blues')\n",
    "plt.xlabel(\"Predicted Labels\")\n",
    "plt.ylabel(\"True Labels\")\n",
    "plt.show();"
   ]
  },
  {
   "cell_type": "markdown",
   "metadata": {
    "id": "mzuOoLOJxSdK"
   },
   "source": [
    "### Logistic Regression Model for `BetterLate2020`"
   ]
  },
  {
   "cell_type": "code",
   "execution_count": 156,
   "metadata": {
    "colab": {
     "base_uri": "https://localhost:8080/"
    },
    "id": "_nWxPo2EvA0L",
    "outputId": "da044c79-1691-401a-93bf-4f1c969f5ca6"
   },
   "outputs": [
    {
     "name": "stdout",
     "output_type": "stream",
     "text": [
      "0.6805143422354105\n"
     ]
    }
   ],
   "source": [
    "# logistic regression for BetterLate2020\n",
    "X_train, X_test, Y_train, Y_test = train_test_split(features, df['BetterLate2020'], test_size=0.25, random_state=870)\n",
    "log2 = LogisticRegression(max_iter=5000)\n",
    "log2.fit(X_train, Y_train)\n",
    "print(log2.score(X_test, Y_test))"
   ]
  },
  {
   "cell_type": "markdown",
   "metadata": {
    "id": "WoiH4r9nxNHe"
   },
   "source": [
    "In predicting `BetterLate2020` for the test set, our model has an accuracy score of **0.68**. "
   ]
  },
  {
   "cell_type": "code",
   "execution_count": 157,
   "metadata": {
    "colab": {
     "base_uri": "https://localhost:8080/"
    },
    "id": "M_sPrPhWv1o_",
    "outputId": "23aacac0-7949-4ee1-8d86-b2a80774abd2"
   },
   "outputs": [
    {
     "name": "stdout",
     "output_type": "stream",
     "text": [
      "Dummy classifier score: 0.553 (+/- 0.04)\n"
     ]
    },
    {
     "name": "stderr",
     "output_type": "stream",
     "text": [
      "/usr/local/lib/python3.7/dist-packages/sklearn/dummy.py:132: FutureWarning: The default value of strategy will change from stratified to prior in 0.24.\n",
      "  \"stratified to prior in 0.24.\", FutureWarning)\n"
     ]
    }
   ],
   "source": [
    "# accuracy of a random guess\n",
    "clf = DummyClassifier()\n",
    "scores = cross_val_score(clf, X_train, Y_train)\n",
    "print(\"Dummy classifier score: %0.3f (+/- %0.2f)\" % (scores.mean(), scores.std()*2))"
   ]
  },
  {
   "cell_type": "markdown",
   "metadata": {
    "id": "whyDQQa70lty"
   },
   "source": [
    "Create a confusion matrix."
   ]
  },
  {
   "cell_type": "code",
   "execution_count": 158,
   "metadata": {
    "colab": {
     "base_uri": "https://localhost:8080/",
     "height": 289
    },
    "id": "b1RgL7x10nLe",
    "outputId": "dda1f60d-6824-49f9-e465-f22277c8ba6b"
   },
   "outputs": [
    {
     "data": {
      "image/png": "[encoded data removed]",
      "text/plain": [
       "<Figure size 432x288 with 2 Axes>"
      ]
     },
     "metadata": {
      "tags": []
     },
     "output_type": "display_data"
    }
   ],
   "source": [
    "predictions = log2.predict(X_test)\n",
    "matrix = confusion_matrix(Y_test, predictions)\n",
    "\n",
    "sns.set(font_scale=1.2)\n",
    "group_names = ['True Negative', 'False Positive', 'False Negative', 'True Positive']\n",
    "group_counts = ['{0:0.0f}'.format(value) for value in matrix.flatten()]\n",
    "group_percentages = ['{0:.2%}'.format(value) for value in np.array([row/np.sum(row) for row in matrix]).flatten()]\n",
    "labels = [f'{v1}\\n{v2}\\n{v3}' for v1, v2, v3 in zip(group_names, group_counts, group_percentages)]\n",
    "labels = np.asarray(labels).reshape(2,2)\n",
    "sns.heatmap(matrix, annot=labels, fmt='', cmap='Blues')\n",
    "plt.xlabel(\"Predicted Labels\")\n",
    "plt.ylabel(\"True Labels\")\n",
    "plt.show();"
   ]
  },
  {
   "cell_type": "markdown",
   "metadata": {
    "id": "qlm6sTBixjjF"
   },
   "source": [
    "## Interpretation"
   ]
  },
  {
   "cell_type": "markdown",
   "metadata": {
    "id": "fcYRA1pIxzNf"
   },
   "source": [
    "The logistic regressions built on the output of DistilBERT model have a decent amount of power (better than random guesses) in predicting whether a stock performed better than most in 2020. Given the business description of a company, our models are able to predict whether its 3-month and 9-month returns in 2020 are higher than 65% of the stocks. The models have an accuracy of 0.71 in predicting stock performance in early 2020 and an accuracy of 0.68 in predicting stock performance in late 2020. However, one limitation is that we could not easily tell which types of business description lead to better stock performance and which types do not."
   ]
  },
  {
   "cell_type": "markdown",
   "metadata": {
    "id": "LEFVGu2nKa6g"
   },
   "source": [
    "# 6. Putting Everything Together"
   ]
  },
  {
   "cell_type": "code",
   "execution_count": 159,
   "metadata": {
    "id": "zSNGVEvISNE1"
   },
   "outputs": [],
   "source": [
    "df_cleaned = pd.read_csv('df_beta.csv')\n",
    "df_ratios = pd.read_csv('df_ratios_cleaned.csv')\n",
    "std = pd.read_csv('std.csv')\n",
    "df_des = pd.read_csv('df_des.csv')\n",
    "features = pd.DataFrame(np.load('features.npy'))"
   ]
  },
  {
   "cell_type": "code",
   "execution_count": 160,
   "metadata": {
    "colab": {
     "base_uri": "https://localhost:8080/"
    },
    "id": "ibs6pOCKSrMT",
    "outputId": "a4f79c11-96b6-4926-e06a-86c141bed977"
   },
   "outputs": [
    {
     "name": "stdout",
     "output_type": "stream",
     "text": [
      "(4130, 42)\n",
      "(3967, 823)\n"
     ]
    }
   ],
   "source": [
    "# merge dataframes into one\n",
    "print(df_cleaned.shape)\n",
    "cols = ['ticker']\n",
    "cols.extend(list(df_ratios.columns[42:]))\n",
    "df = df_cleaned.merge(df_ratios[cols], on='ticker')\n",
    "df = df.merge(std, on='ticker')\n",
    "df_des = pd.concat([df_des['ticker'], features], axis=1)\n",
    "df = df.merge(df_des, on='ticker')\n",
    "print(df.shape)"
   ]
  },
  {
   "cell_type": "code",
   "execution_count": 161,
   "metadata": {
    "colab": {
     "base_uri": "https://localhost:8080/",
     "height": 198
    },
    "id": "nsO1hkWHXlTc",
    "outputId": "662b31cc-ae90-43ba-f068-5b9af094a8e6"
   },
   "outputs": [
    {
     "data": {
      "text/html": [
       "<div>\n",
       "<style scoped>\n",
       "    .dataframe tbody tr th:only-of-type {\n",
       "        vertical-align: middle;\n",
       "    }\n",
       "\n",
       "    .dataframe tbody tr th {\n",
       "        vertical-align: top;\n",
       "    }\n",
       "\n",
       "    .dataframe thead th {\n",
       "        text-align: right;\n",
       "    }\n",
       "</style>\n",
       "<table border=\"1\" class=\"dataframe\">\n",
       "  <thead>\n",
       "    <tr style=\"text-align: right;\">\n",
       "      <th></th>\n",
       "      <th>ticker</th>\n",
       "      <th>RetEarly2020</th>\n",
       "      <th>RetLate2020</th>\n",
       "      <th>SPEarly2020</th>\n",
       "      <th>SPLate2020</th>\n",
       "      <th>beta19</th>\n",
       "      <th>gsector</th>\n",
       "      <th>ggroup</th>\n",
       "      <th>gind</th>\n",
       "      <th>gsubind</th>\n",
       "      <th>naics</th>\n",
       "      <th>nsector</th>\n",
       "      <th>sic</th>\n",
       "      <th>sgroup</th>\n",
       "      <th>spcsrc</th>\n",
       "      <th>description</th>\n",
       "      <th>at18</th>\n",
       "      <th>at19</th>\n",
       "      <th>act19</th>\n",
       "      <th>invt19</th>\n",
       "      <th>lt19</th>\n",
       "      <th>lct19</th>\n",
       "      <th>ap19</th>\n",
       "      <th>teq18</th>\n",
       "      <th>teq19</th>\n",
       "      <th>re19</th>\n",
       "      <th>sale19</th>\n",
       "      <th>cogs19</th>\n",
       "      <th>xopr19</th>\n",
       "      <th>ni19</th>\n",
       "      <th>oancf19</th>\n",
       "      <th>ivncf19</th>\n",
       "      <th>fincf19</th>\n",
       "      <th>avgat19</th>\n",
       "      <th>avgteq19</th>\n",
       "      <th>roa19</th>\n",
       "      <th>atr19</th>\n",
       "      <th>ros19</th>\n",
       "      <th>roe19</th>\n",
       "      <th>emulti19</th>\n",
       "      <th>...</th>\n",
       "      <th>728</th>\n",
       "      <th>729</th>\n",
       "      <th>730</th>\n",
       "      <th>731</th>\n",
       "      <th>732</th>\n",
       "      <th>733</th>\n",
       "      <th>734</th>\n",
       "      <th>735</th>\n",
       "      <th>736</th>\n",
       "      <th>737</th>\n",
       "      <th>738</th>\n",
       "      <th>739</th>\n",
       "      <th>740</th>\n",
       "      <th>741</th>\n",
       "      <th>742</th>\n",
       "      <th>743</th>\n",
       "      <th>744</th>\n",
       "      <th>745</th>\n",
       "      <th>746</th>\n",
       "      <th>747</th>\n",
       "      <th>748</th>\n",
       "      <th>749</th>\n",
       "      <th>750</th>\n",
       "      <th>751</th>\n",
       "      <th>752</th>\n",
       "      <th>753</th>\n",
       "      <th>754</th>\n",
       "      <th>755</th>\n",
       "      <th>756</th>\n",
       "      <th>757</th>\n",
       "      <th>758</th>\n",
       "      <th>759</th>\n",
       "      <th>760</th>\n",
       "      <th>761</th>\n",
       "      <th>762</th>\n",
       "      <th>763</th>\n",
       "      <th>764</th>\n",
       "      <th>765</th>\n",
       "      <th>766</th>\n",
       "      <th>767</th>\n",
       "    </tr>\n",
       "  </thead>\n",
       "  <tbody>\n",
       "    <tr>\n",
       "      <th>0</th>\n",
       "      <td>JJSF</td>\n",
       "      <td>-0.340234</td>\n",
       "      <td>0.30034</td>\n",
       "      <td>-0.20001</td>\n",
       "      <td>0.453255</td>\n",
       "      <td>0.01282</td>\n",
       "      <td>Consumer Staples</td>\n",
       "      <td>Food, Beverage &amp; Tobacco</td>\n",
       "      <td>Food Products</td>\n",
       "      <td>30202030</td>\n",
       "      <td>311812.0</td>\n",
       "      <td>Manufacturing</td>\n",
       "      <td>2050.0</td>\n",
       "      <td>Manufacturing</td>\n",
       "      <td>A-</td>\n",
       "      <td>J &amp;amp; J Snack Foods Corp. manufactures, mark...</td>\n",
       "      <td>932.013</td>\n",
       "      <td>1019.339</td>\n",
       "      <td>506.357</td>\n",
       "      <td>116.165</td>\n",
       "      <td>185.588</td>\n",
       "      <td>121.234</td>\n",
       "      <td>72.029</td>\n",
       "      <td>759.091</td>\n",
       "      <td>833.751</td>\n",
       "      <td>788.007</td>\n",
       "      <td>1186.487</td>\n",
       "      <td>787.541</td>\n",
       "      <td>1020.986</td>\n",
       "      <td>94.819</td>\n",
       "      <td>147.499</td>\n",
       "      <td>-43.363</td>\n",
       "      <td>-22.826</td>\n",
       "      <td>975.676</td>\n",
       "      <td>796.421</td>\n",
       "      <td>0.097183</td>\n",
       "      <td>1.216067</td>\n",
       "      <td>0.079916</td>\n",
       "      <td>0.119056</td>\n",
       "      <td>1.225076</td>\n",
       "      <td>...</td>\n",
       "      <td>0.30228</td>\n",
       "      <td>-0.060534</td>\n",
       "      <td>-0.039758</td>\n",
       "      <td>0.098368</td>\n",
       "      <td>-0.177747</td>\n",
       "      <td>-0.102328</td>\n",
       "      <td>0.358698</td>\n",
       "      <td>-0.226192</td>\n",
       "      <td>-0.390968</td>\n",
       "      <td>0.187713</td>\n",
       "      <td>-0.216292</td>\n",
       "      <td>-0.029709</td>\n",
       "      <td>0.047325</td>\n",
       "      <td>0.172805</td>\n",
       "      <td>-0.155044</td>\n",
       "      <td>-0.202284</td>\n",
       "      <td>0.288933</td>\n",
       "      <td>0.352452</td>\n",
       "      <td>0.292123</td>\n",
       "      <td>-0.008322</td>\n",
       "      <td>-0.188712</td>\n",
       "      <td>-0.030823</td>\n",
       "      <td>-0.129796</td>\n",
       "      <td>0.094278</td>\n",
       "      <td>-4.908693</td>\n",
       "      <td>-0.339355</td>\n",
       "      <td>-0.286043</td>\n",
       "      <td>-0.098626</td>\n",
       "      <td>-0.235689</td>\n",
       "      <td>-0.236586</td>\n",
       "      <td>-0.073754</td>\n",
       "      <td>-0.342572</td>\n",
       "      <td>0.080311</td>\n",
       "      <td>-0.012324</td>\n",
       "      <td>0.336364</td>\n",
       "      <td>-0.012803</td>\n",
       "      <td>0.202466</td>\n",
       "      <td>0.168136</td>\n",
       "      <td>0.368592</td>\n",
       "      <td>0.300237</td>\n",
       "    </tr>\n",
       "  </tbody>\n",
       "</table>\n",
       "<p>1 rows × 823 columns</p>\n",
       "</div>"
      ],
      "text/plain": [
       "  ticker  RetEarly2020  RetLate2020  ...       765       766       767\n",
       "0   JJSF     -0.340234      0.30034  ...  0.168136  0.368592  0.300237\n",
       "\n",
       "[1 rows x 823 columns]"
      ]
     },
     "execution_count": 161,
     "metadata": {
      "tags": []
     },
     "output_type": "execute_result"
    }
   ],
   "source": [
    "df.head(1)"
   ]
  },
  {
   "cell_type": "markdown",
   "metadata": {
    "id": "kT9g03XXtUK-"
   },
   "source": [
    "## Linear Regression Models"
   ]
  },
  {
   "cell_type": "markdown",
   "metadata": {
    "id": "z0BodXZYoAMa"
   },
   "source": [
    "`df` is our final dataframe that has 3967 stocks with all kinds of data."
   ]
  },
  {
   "cell_type": "code",
   "execution_count": 162,
   "metadata": {
    "colab": {
     "base_uri": "https://localhost:8080/",
     "height": 169
    },
    "id": "b1byO0-1rBbr",
    "outputId": "b602eef2-70ae-4f11-ab29-aa284ae9d70f"
   },
   "outputs": [
    {
     "data": {
      "text/html": [
       "<div>\n",
       "<style scoped>\n",
       "    .dataframe tbody tr th:only-of-type {\n",
       "        vertical-align: middle;\n",
       "    }\n",
       "\n",
       "    .dataframe tbody tr th {\n",
       "        vertical-align: top;\n",
       "    }\n",
       "\n",
       "    .dataframe thead th {\n",
       "        text-align: right;\n",
       "    }\n",
       "</style>\n",
       "<table border=\"1\" class=\"dataframe\">\n",
       "  <thead>\n",
       "    <tr style=\"text-align: right;\">\n",
       "      <th></th>\n",
       "      <th>Automobiles &amp; Components</th>\n",
       "      <th>Banks</th>\n",
       "      <th>Capital Goods</th>\n",
       "      <th>Commercial &amp; Professional Services</th>\n",
       "      <th>Communication Services</th>\n",
       "      <th>Consumer Durables &amp; Apparel</th>\n",
       "      <th>Consumer Services</th>\n",
       "      <th>Diversified Financials</th>\n",
       "      <th>Energy</th>\n",
       "      <th>Food &amp; Staples Retailing</th>\n",
       "      <th>Food, Beverage &amp; Tobacco</th>\n",
       "      <th>Health Care Equipment &amp; Services</th>\n",
       "      <th>Household &amp; Personal Products</th>\n",
       "      <th>Insurance</th>\n",
       "      <th>Materials</th>\n",
       "      <th>Media &amp; Entertainment</th>\n",
       "      <th>Pharmaceuticals, Biotechnology &amp; Life Sciences</th>\n",
       "      <th>Real Estate</th>\n",
       "      <th>Retailing</th>\n",
       "      <th>Semiconductors &amp; Semiconductor Equipment</th>\n",
       "      <th>Software &amp; Services</th>\n",
       "      <th>Technology Hardware &amp; Equipment</th>\n",
       "      <th>Transportation</th>\n",
       "      <th>Utilities</th>\n",
       "    </tr>\n",
       "  </thead>\n",
       "  <tbody>\n",
       "    <tr>\n",
       "      <th>0</th>\n",
       "      <td>0</td>\n",
       "      <td>0</td>\n",
       "      <td>0</td>\n",
       "      <td>0</td>\n",
       "      <td>0</td>\n",
       "      <td>0</td>\n",
       "      <td>0</td>\n",
       "      <td>0</td>\n",
       "      <td>0</td>\n",
       "      <td>0</td>\n",
       "      <td>1</td>\n",
       "      <td>0</td>\n",
       "      <td>0</td>\n",
       "      <td>0</td>\n",
       "      <td>0</td>\n",
       "      <td>0</td>\n",
       "      <td>0</td>\n",
       "      <td>0</td>\n",
       "      <td>0</td>\n",
       "      <td>0</td>\n",
       "      <td>0</td>\n",
       "      <td>0</td>\n",
       "      <td>0</td>\n",
       "      <td>0</td>\n",
       "    </tr>\n",
       "  </tbody>\n",
       "</table>\n",
       "</div>"
      ],
      "text/plain": [
       "   Automobiles & Components  Banks  ...  Transportation  Utilities\n",
       "0                         0      0  ...               0          0\n",
       "\n",
       "[1 rows x 24 columns]"
      ]
     },
     "execution_count": 162,
     "metadata": {
      "tags": []
     },
     "output_type": "execute_result"
    }
   ],
   "source": [
    "# create industry indicators\n",
    "df2 = df['ggroup'].copy()\n",
    "df2 = pd.get_dummies(df2, columns=['ggroup'], prefix='', prefix_sep='')\n",
    "df2.head(1)"
   ]
  },
  {
   "cell_type": "code",
   "execution_count": 163,
   "metadata": {
    "colab": {
     "base_uri": "https://localhost:8080/"
    },
    "id": "WAhHjlEx7w_p",
    "outputId": "191ecada-39d0-44e5-e2a3-fb5c0ee8741d"
   },
   "outputs": [
    {
     "name": "stdout",
     "output_type": "stream",
     "text": [
      "['roa19', 'atr19', 'ros19', 'roe19', 'emulti19', 'ai19', 'gmargin19', 'cta19', 'cash19', 'quick19', 'lda19', 'se19', 'T1', 'T2', 'T3']\n"
     ]
    }
   ],
   "source": [
    "# a list of 15 financial ratios\n",
    "print(ratios)"
   ]
  },
  {
   "cell_type": "code",
   "execution_count": 164,
   "metadata": {
    "id": "aEyCDqOdSXDA"
   },
   "outputs": [],
   "source": [
    "# add a constant\n",
    "df['intercept'] = 1"
   ]
  },
  {
   "cell_type": "markdown",
   "metadata": {
    "id": "aJnDgruMfdLt"
   },
   "source": [
    "Now that we have a well-set-up dataframe, we can put all the explanatory variables we've inspected together and see if we can better explain the variation in `RetEarly2020` and `RetLate2020`."
   ]
  },
  {
   "cell_type": "code",
   "execution_count": 165,
   "metadata": {
    "colab": {
     "base_uri": "https://localhost:8080/"
    },
    "id": "-diwFwNZgHC_",
    "outputId": "9c32e397-1431-4371-8255-968995b59a41"
   },
   "outputs": [
    {
     "name": "stdout",
     "output_type": "stream",
     "text": [
      "R-squared: 0.552\n",
      "Adj. R-squared: 0.44\n"
     ]
    }
   ],
   "source": [
    "# explain variation in RetEarly2020\n",
    "Y = df['RetEarly2020']\n",
    "X = pd.concat([\n",
    "               df2, # industry indicators\n",
    "            #    df['intercept'],\n",
    "            #    df[ratios],\n",
    "            #    df[['roa19', 'lda19', 'roe19']],\n",
    "            #    df.se19,\n",
    "            #    df['beta19'],\n",
    "            #    df['std'],\n",
    "               df[df.columns[-769:-1]] # business descriptions\n",
    "               ], axis=1)\n",
    "reg = sm.OLS(Y, X).fit()\n",
    "print('R-squared:', round(reg.rsquared, 3))\n",
    "print('Adj. R-squared:', round(reg.rsquared_adj, 3))"
   ]
  },
  {
   "cell_type": "code",
   "execution_count": 166,
   "metadata": {
    "colab": {
     "base_uri": "https://localhost:8080/"
    },
    "id": "ItvyrneLrmVm",
    "outputId": "e6edc284-e22b-4e74-d36d-01fee89d1044"
   },
   "outputs": [
    {
     "name": "stdout",
     "output_type": "stream",
     "text": [
      "R-squared: 0.519\n",
      "Adj. R-squared: 0.399\n"
     ]
    }
   ],
   "source": [
    "# explain variation in RetLate2020\n",
    "Y = df['RetLate2020']\n",
    "X = pd.concat([\n",
    "               df2, # industry indicators\n",
    "            #    df['intercept'],\n",
    "            #    df[ratios],\n",
    "            #    df[['roa19', 'lda19', 'roe19']],\n",
    "            #    df.se19,\n",
    "            #    df['beta19'],\n",
    "            #    df['std'],\n",
    "               df[df.columns[-769:-1]] # business descriptions\n",
    "               ], axis=1)\n",
    "reg = sm.OLS(Y, X).fit()\n",
    "print('R-squared:', round(reg.rsquared, 3))\n",
    "print('Adj. R-squared:', round(reg.rsquared_adj, 3))\n",
    "# print(pd.DataFrame(reg.params[:-769])], columns=['coefficient']))"
   ]
  },
  {
   "cell_type": "markdown",
   "metadata": {
    "id": "LjDbjA_JPHad"
   },
   "source": [
    "As it turns out, the models with the highest explanatory power ($R^2$ and adjusted $R^2$) are the ones built with GICS industry group indicators and business descriptions. 44% of the variation in `RetEarly2020` and about 40% of the variation in `RetLate2020` can be explained by these models. Including financial ratios and risk measures in the models does not significantly improve their explanatory power."
   ]
  },
  {
   "cell_type": "markdown",
   "metadata": {
    "id": "6R14qdn5tRYG"
   },
   "source": [
    "## Logistic Regression Models"
   ]
  },
  {
   "cell_type": "markdown",
   "metadata": {
    "id": "xxsBn01ntz0q"
   },
   "source": [
    "We can again try to predict whether a stock performed better than others in 2020, using all the explanatory variables at hand.\n",
    "* `BetterEarly2020` is 1, if a stock's `RetEarly2020` is in the top 35% (i.e., higher than 65% of the companies); otherwise, 0.\n",
    "* `BetterLate2020` is 1, if a stock's `RetLate2020` is in the top 35% (i.e., higher than 65% of the companies); otherwise, 0."
   ]
  },
  {
   "cell_type": "code",
   "execution_count": 167,
   "metadata": {
    "id": "IiWbICuQtfsC"
   },
   "outputs": [],
   "source": [
    "df['BetterEarly2020'] = 0\n",
    "df['BetterLate2020'] = 0\n",
    "df['BetterEarly2020'] = np.where(df.RetEarly2020>=df.RetEarly2020.quantile(0.65), 1, 0)\n",
    "df['BetterLate2020'] = np.where(df.RetLate2020>=df.RetLate2020.quantile(0.65), 1, 0)"
   ]
  },
  {
   "cell_type": "code",
   "execution_count": 168,
   "metadata": {
    "colab": {
     "base_uri": "https://localhost:8080/"
    },
    "id": "8fALNTdGuEND",
    "outputId": "5df02138-dfe3-4802-a965-248e65101d91"
   },
   "outputs": [
    {
     "name": "stdout",
     "output_type": "stream",
     "text": [
      "0    2578\n",
      "1    1389\n",
      "Name: BetterEarly2020, dtype: int64\n",
      "0    2578\n",
      "1    1389\n",
      "Name: BetterLate2020, dtype: int64\n"
     ]
    }
   ],
   "source": [
    "print(df.BetterEarly2020.value_counts())\n",
    "print(df.BetterLate2020.value_counts())"
   ]
  },
  {
   "cell_type": "code",
   "execution_count": 169,
   "metadata": {
    "colab": {
     "base_uri": "https://localhost:8080/",
     "height": 307
    },
    "id": "WLxCBAIzuF1S",
    "outputId": "5caa58a3-b677-45a8-eb63-7e949711246c"
   },
   "outputs": [
    {
     "name": "stdout",
     "output_type": "stream",
     "text": [
      "Accuracy: 0.6975806451612904\n"
     ]
    },
    {
     "data": {
      "image/png": "[encoded data removed]",
      "text/plain": [
       "<Figure size 432x288 with 2 Axes>"
      ]
     },
     "metadata": {
      "tags": []
     },
     "output_type": "display_data"
    }
   ],
   "source": [
    "# predicting BetterEarly2020\n",
    "Y = df['BetterEarly2020']\n",
    "X = pd.concat([\n",
    "               df2, # industry indicators\n",
    "               df[ratios],\n",
    "               df['beta19'],\n",
    "               df['std'],\n",
    "               df[df.columns[-771:-3]] # business descriptions\n",
    "               ], axis=1)\n",
    "\n",
    "X_train, X_test, Y_train, Y_test = train_test_split(X, Y, test_size=0.25, random_state=870)\n",
    "log = LogisticRegression(max_iter=100000)\n",
    "log.fit(X_train, Y_train) \n",
    "print('Accuracy:', log.score(X_test, Y_test))\n",
    "\n",
    "predictions = log.predict(X_test)\n",
    "matrix = confusion_matrix(Y_test, predictions)\n",
    "sns.set(font_scale=1.2)\n",
    "group_names = ['True Negative', 'False Positive', 'False Negative', 'True Positive']\n",
    "group_counts = ['{0:0.0f}'.format(value) for value in matrix.flatten()]\n",
    "group_percentages = ['{0:.2%}'.format(value) for value in np.array([row/np.sum(row) for row in matrix]).flatten()]\n",
    "labels = [f'{v1}\\n{v2}\\n{v3}' for v1, v2, v3 in zip(group_names, group_counts, group_percentages)]\n",
    "labels = np.asarray(labels).reshape(2,2)\n",
    "sns.heatmap(matrix, annot=labels, fmt='', cmap='Blues')\n",
    "plt.xlabel(\"Predicted Labels\")\n",
    "plt.ylabel(\"True Labels\")\n",
    "plt.show();"
   ]
  },
  {
   "cell_type": "code",
   "execution_count": 170,
   "metadata": {
    "colab": {
     "base_uri": "https://localhost:8080/"
    },
    "id": "eTEtAI-LQcDK",
    "outputId": "06006a9c-6bd2-4bd1-f86b-f28b56f44b05"
   },
   "outputs": [
    {
     "name": "stdout",
     "output_type": "stream",
     "text": [
      "Dummy classifier score: 0.566 (+/- 0.03)\n"
     ]
    },
    {
     "name": "stderr",
     "output_type": "stream",
     "text": [
      "/usr/local/lib/python3.7/dist-packages/sklearn/dummy.py:132: FutureWarning: The default value of strategy will change from stratified to prior in 0.24.\n",
      "  \"stratified to prior in 0.24.\", FutureWarning)\n"
     ]
    }
   ],
   "source": [
    "# accuracy of a random guess\n",
    "clf = DummyClassifier()\n",
    "scores = cross_val_score(clf, X_train, Y_train)\n",
    "print(\"Dummy classifier score: %0.3f (+/- %0.2f)\" % (scores.mean(), scores.std()*2))"
   ]
  },
  {
   "cell_type": "code",
   "execution_count": 172,
   "metadata": {
    "colab": {
     "base_uri": "https://localhost:8080/",
     "height": 307
    },
    "id": "VM-Hts9buZ_r",
    "outputId": "38d00595-8b40-4bd7-e644-c34e58f99244"
   },
   "outputs": [
    {
     "name": "stdout",
     "output_type": "stream",
     "text": [
      "Accuracy: 0.7066532258064516\n"
     ]
    },
    {
     "data": {
      "image/png": "[encoded data removed]",
      "text/plain": [
       "<Figure size 432x288 with 2 Axes>"
      ]
     },
     "metadata": {
      "tags": []
     },
     "output_type": "display_data"
    }
   ],
   "source": [
    "# logistic regression for BetterLate2020\n",
    "Y = df['BetterLate2020']\n",
    "X = pd.concat([\n",
    "               df2, # industry indicators\n",
    "               df[ratios],\n",
    "               df['beta19'],\n",
    "               df['std'],\n",
    "               df[df.columns[-771:-3]] # business descriptions\n",
    "               ], axis=1)\n",
    "\n",
    "X_train, X_test, Y_train, Y_test = train_test_split(X, Y, test_size=0.25, random_state=870)\n",
    "log2 = LogisticRegression(max_iter=20000)\n",
    "log2.fit(X_train, Y_train)\n",
    "print('Accuracy:', log2.score(X_test, Y_test))\n",
    "\n",
    "predictions = log2.predict(X_test)\n",
    "matrix = confusion_matrix(Y_test, predictions)\n",
    "sns.set(font_scale=1.2)\n",
    "group_names = ['True Negative', 'False Positive', 'False Negative', 'True Positive']\n",
    "group_counts = ['{0:0.0f}'.format(value) for value in matrix.flatten()]\n",
    "group_percentages = ['{0:.2%}'.format(value) for value in np.array([row/np.sum(row) for row in matrix]).flatten()]\n",
    "labels = [f'{v1}\\n{v2}\\n{v3}' for v1, v2, v3 in zip(group_names, group_counts, group_percentages)]\n",
    "labels = np.asarray(labels).reshape(2,2)\n",
    "sns.heatmap(matrix, annot=labels, fmt='', cmap='Blues')\n",
    "plt.xlabel(\"Predicted Labels\")\n",
    "plt.ylabel(\"True Labels\")\n",
    "plt.show();"
   ]
  },
  {
   "cell_type": "code",
   "execution_count": 173,
   "metadata": {
    "colab": {
     "base_uri": "https://localhost:8080/"
    },
    "id": "MTvoXq7gQh0q",
    "outputId": "628fd697-e361-4a44-d38d-f8a2ca658a1b"
   },
   "outputs": [
    {
     "name": "stdout",
     "output_type": "stream",
     "text": [
      "Dummy classifier score: 0.552 (+/- 0.03)\n"
     ]
    },
    {
     "name": "stderr",
     "output_type": "stream",
     "text": [
      "/usr/local/lib/python3.7/dist-packages/sklearn/dummy.py:132: FutureWarning: The default value of strategy will change from stratified to prior in 0.24.\n",
      "  \"stratified to prior in 0.24.\", FutureWarning)\n"
     ]
    }
   ],
   "source": [
    "# accuracy of a random guess\n",
    "clf = DummyClassifier()\n",
    "scores = cross_val_score(clf, X_train, Y_train)\n",
    "print(\"Dummy classifier score: %0.3f (+/- %0.2f)\" % (scores.mean(), scores.std()*2))"
   ]
  },
  {
   "cell_type": "markdown",
   "metadata": {
    "id": "K9Ymvp4UeGpJ"
   },
   "source": [
    "This time, we used all variables availabe in the logistic regression models - 24 GICS industry group indicators, 15 financial ratios, 2019 market betas, 2019 return standard deviations, and business descriptions. Similar as before, including more variables does not significantly improve our prediction accuracy. Our models do a good job predicting whether a stock' 3-month and 9month returns in 2020 are higher than 65% of the stocks. The accuracy for predicting performance in early 2020 is 0.704 and the accuracy for predicting performance in late 2020 is 0.708."
   ]
  },
  {
   "cell_type": "markdown",
   "metadata": {
    "id": "ftQ-r3zytoHR"
   },
   "source": [
    "# Conclusions"
   ]
  },
  {
   "cell_type": "markdown",
   "metadata": {
    "id": "0xEM94HDtpaY"
   },
   "source": [
    "In industry-fixed regressions, we see that GICS codes have higher explanatory power than NAICS and SIC. To sum up, these are the industries that did the best and worst during the initial COVID shock and during market recovery.\n",
    "* Least impacted by COVID shock: **Service** industry (especially **Health Care**)\n",
    "* Most impacted by COVID shock: **Energy** industry (due to decline in transporation demand)\n",
    "* Strongest rebound: **Automobiles & Retail** industries\n",
    "* Slowest recovery: **Utilities** industry (historically relatively stable market)\n",
    "\n",
    "Standing at the end of 2019, we observe that companies with the following characteristics tend to perform better in 2020.\n",
    "* Have more cash (to cover current liabilities) at the end of 2019\n",
    "* Have higher long-term debt to assets ratio at the end of 2019\n",
    "* Have Higher reliance on labor at the end of 2019\n",
    "\n",
    "In particular, stocks that have higher 3-month return are on average less sensitive to market swings. (They have lower 2019 market betas.) Stocks that have higher 9-month return are on average more volatile. (The standard deviations of their 2019 returns are higher.)\n",
    "\n",
    "Last but not least, it turns out that business descriptions and industry indicators alone provide a decent amount of explanatory power in explaining the market fluctuation and are useful for predicting stock performance level.\n"
   ]
  }
 ],
 "metadata": {
  "colab": {
   "collapsed_sections": [
    "WQv_bWQvNnVF",
    "q8oejdJixr1T",
    "QFfzIUj_nLPe",
    "zCE9q-5Mnna5",
    "TBJmGhY6x02F",
    "UzhHw6fr7au7",
    "ApxupdRgfCFE",
    "IeW9wMEvVFvx",
    "WT8vQBTEv8QQ"
   ],
   "name": "Individual Project.ipynb",
   "provenance": []
  },
  "kernelspec": {
   "display_name": "Python 3",
   "language": "python",
   "name": "python3"
  },
  "language_info": {
   "codemirror_mode": {
    "name": "ipython",
    "version": 3
   },
   "file_extension": ".py",
   "mimetype": "text/x-python",
   "name": "python",
   "nbconvert_exporter": "python",
   "pygments_lexer": "ipython3",
   "version": "3.8.3"
  },
  "widgets": {
   "application/vnd.jupyter.widget-state+json": {
    "0580444f03da40028b6cad0bf4b47cdf": {
     "model_module": "@jupyter-widgets/base",
     "model_name": "LayoutModel",
     "state": {
      "_model_module": "@jupyter-widgets/base",
      "_model_module_version": "1.2.0",
      "_model_name": "LayoutModel",
      "_view_count": null,
      "_view_module": "@jupyter-widgets/base",
      "_view_module_version": "1.2.0",
      "_view_name": "LayoutView",
      "align_content": null,
      "align_items": null,
      "align_self": null,
      "border": null,
      "bottom": null,
      "display": null,
      "flex": null,
      "flex_flow": null,
      "grid_area": null,
      "grid_auto_columns": null,
      "grid_auto_flow": null,
      "grid_auto_rows": null,
      "grid_column": null,
      "grid_gap": null,
      "grid_row": null,
      "grid_template_areas": null,
      "grid_template_columns": null,
      "grid_template_rows": null,
      "height": null,
      "justify_content": null,
      "justify_items": null,
      "left": null,
      "margin": null,
      "max_height": null,
      "max_width": null,
      "min_height": null,
      "min_width": null,
      "object_fit": null,
      "object_position": null,
      "order": null,
      "overflow": null,
      "overflow_x": null,
      "overflow_y": null,
      "padding": null,
      "right": null,
      "top": null,
      "visibility": null,
      "width": null
     }
    },
    "05a3142b797546739f64d3d3c0370d93": {
     "model_module": "@jupyter-widgets/base",
     "model_name": "LayoutModel",
     "state": {
      "_model_module": "@jupyter-widgets/base",
      "_model_module_version": "1.2.0",
      "_model_name": "LayoutModel",
      "_view_count": null,
      "_view_module": "@jupyter-widgets/base",
      "_view_module_version": "1.2.0",
      "_view_name": "LayoutView",
      "align_content": null,
      "align_items": null,
      "align_self": null,
      "border": null,
      "bottom": null,
      "display": null,
      "flex": null,
      "flex_flow": null,
      "grid_area": null,
      "grid_auto_columns": null,
      "grid_auto_flow": null,
      "grid_auto_rows": null,
      "grid_column": null,
      "grid_gap": null,
      "grid_row": null,
      "grid_template_areas": null,
      "grid_template_columns": null,
      "grid_template_rows": null,
      "height": null,
      "justify_content": null,
      "justify_items": null,
      "left": null,
      "margin": null,
      "max_height": null,
      "max_width": null,
      "min_height": null,
      "min_width": null,
      "object_fit": null,
      "object_position": null,
      "order": null,
      "overflow": null,
      "overflow_x": null,
      "overflow_y": null,
      "padding": null,
      "right": null,
      "top": null,
      "visibility": null,
      "width": null
     }
    },
    "07fcf762570d40069eb2eb397b2b59c4": {
     "model_module": "@jupyter-widgets/controls",
     "model_name": "ProgressStyleModel",
     "state": {
      "_model_module": "@jupyter-widgets/controls",
      "_model_module_version": "1.5.0",
      "_model_name": "ProgressStyleModel",
      "_view_count": null,
      "_view_module": "@jupyter-widgets/base",
      "_view_module_version": "1.2.0",
      "_view_name": "StyleView",
      "bar_color": null,
      "description_width": "initial"
     }
    },
    "090a2bccbe4a4aa893096090dc3278fb": {
     "model_module": "@jupyter-widgets/base",
     "model_name": "LayoutModel",
     "state": {
      "_model_module": "@jupyter-widgets/base",
      "_model_module_version": "1.2.0",
      "_model_name": "LayoutModel",
      "_view_count": null,
      "_view_module": "@jupyter-widgets/base",
      "_view_module_version": "1.2.0",
      "_view_name": "LayoutView",
      "align_content": null,
      "align_items": null,
      "align_self": null,
      "border": null,
      "bottom": null,
      "display": null,
      "flex": null,
      "flex_flow": null,
      "grid_area": null,
      "grid_auto_columns": null,
      "grid_auto_flow": null,
      "grid_auto_rows": null,
      "grid_column": null,
      "grid_gap": null,
      "grid_row": null,
      "grid_template_areas": null,
      "grid_template_columns": null,
      "grid_template_rows": null,
      "height": null,
      "justify_content": null,
      "justify_items": null,
      "left": null,
      "margin": null,
      "max_height": null,
      "max_width": null,
      "min_height": null,
      "min_width": null,
      "object_fit": null,
      "object_position": null,
      "order": null,
      "overflow": null,
      "overflow_x": null,
      "overflow_y": null,
      "padding": null,
      "right": null,
      "top": null,
      "visibility": null,
      "width": null
     }
    },
    "0c55bf04372e4cb5afeea84250fae947": {
     "model_module": "@jupyter-widgets/base",
     "model_name": "LayoutModel",
     "state": {
      "_model_module": "@jupyter-widgets/base",
      "_model_module_version": "1.2.0",
      "_model_name": "LayoutModel",
      "_view_count": null,
      "_view_module": "@jupyter-widgets/base",
      "_view_module_version": "1.2.0",
      "_view_name": "LayoutView",
      "align_content": null,
      "align_items": null,
      "align_self": null,
      "border": null,
      "bottom": null,
      "display": null,
      "flex": null,
      "flex_flow": null,
      "grid_area": null,
      "grid_auto_columns": null,
      "grid_auto_flow": null,
      "grid_auto_rows": null,
      "grid_column": null,
      "grid_gap": null,
      "grid_row": null,
      "grid_template_areas": null,
      "grid_template_columns": null,
      "grid_template_rows": null,
      "height": null,
      "justify_content": null,
      "justify_items": null,
      "left": null,
      "margin": null,
      "max_height": null,
      "max_width": null,
      "min_height": null,
      "min_width": null,
      "object_fit": null,
      "object_position": null,
      "order": null,
      "overflow": null,
      "overflow_x": null,
      "overflow_y": null,
      "padding": null,
      "right": null,
      "top": null,
      "visibility": null,
      "width": null
     }
    },
    "129f01b78a0640fb8295a21c55f0737f": {
     "model_module": "@jupyter-widgets/base",
     "model_name": "LayoutModel",
     "state": {
      "_model_module": "@jupyter-widgets/base",
      "_model_module_version": "1.2.0",
      "_model_name": "LayoutModel",
      "_view_count": null,
      "_view_module": "@jupyter-widgets/base",
      "_view_module_version": "1.2.0",
      "_view_name": "LayoutView",
      "align_content": null,
      "align_items": null,
      "align_self": null,
      "border": null,
      "bottom": null,
      "display": null,
      "flex": null,
      "flex_flow": null,
      "grid_area": null,
      "grid_auto_columns": null,
      "grid_auto_flow": null,
      "grid_auto_rows": null,
      "grid_column": null,
      "grid_gap": null,
      "grid_row": null,
      "grid_template_areas": null,
      "grid_template_columns": null,
      "grid_template_rows": null,
      "height": null,
      "justify_content": null,
      "justify_items": null,
      "left": null,
      "margin": null,
      "max_height": null,
      "max_width": null,
      "min_height": null,
      "min_width": null,
      "object_fit": null,
      "object_position": null,
      "order": null,
      "overflow": null,
      "overflow_x": null,
      "overflow_y": null,
      "padding": null,
      "right": null,
      "top": null,
      "visibility": null,
      "width": null
     }
    },
    "228b5c582a27470db2b2dfdafcf765d5": {
     "model_module": "@jupyter-widgets/controls",
     "model_name": "HTMLModel",
     "state": {
      "_dom_classes": [],
      "_model_module": "@jupyter-widgets/controls",
      "_model_module_version": "1.5.0",
      "_model_name": "HTMLModel",
      "_view_count": null,
      "_view_module": "@jupyter-widgets/controls",
      "_view_module_version": "1.5.0",
      "_view_name": "HTMLView",
      "description": "",
      "description_tooltip": null,
      "layout": "IPY_MODEL_05a3142b797546739f64d3d3c0370d93",
      "placeholder": "​",
      "style": "IPY_MODEL_8f2fddfb639d49d393b64c084929c37f",
      "value": " 442/442 [00:00&lt;00:00, 1.72kB/s]"
     }
    },
    "237a909d790846e6833483b07d6e86a6": {
     "model_module": "@jupyter-widgets/controls",
     "model_name": "FloatProgressModel",
     "state": {
      "_dom_classes": [],
      "_model_module": "@jupyter-widgets/controls",
      "_model_module_version": "1.5.0",
      "_model_name": "FloatProgressModel",
      "_view_count": null,
      "_view_module": "@jupyter-widgets/controls",
      "_view_module_version": "1.5.0",
      "_view_name": "ProgressView",
      "bar_style": "success",
      "description": "Downloading: 100%",
      "description_tooltip": null,
      "layout": "IPY_MODEL_129f01b78a0640fb8295a21c55f0737f",
      "max": 442,
      "min": 0,
      "orientation": "horizontal",
      "style": "IPY_MODEL_07fcf762570d40069eb2eb397b2b59c4",
      "value": 442
     }
    },
    "2d8ffb3930984c9c8cd8c6e506fdcf0b": {
     "model_module": "@jupyter-widgets/controls",
     "model_name": "HBoxModel",
     "state": {
      "_dom_classes": [],
      "_model_module": "@jupyter-widgets/controls",
      "_model_module_version": "1.5.0",
      "_model_name": "HBoxModel",
      "_view_count": null,
      "_view_module": "@jupyter-widgets/controls",
      "_view_module_version": "1.5.0",
      "_view_name": "HBoxView",
      "box_style": "",
      "children": [
       "IPY_MODEL_8b22fc6a980d47d1bdba67fbd78f0914",
       "IPY_MODEL_f2aa6da300b54832bc9a31f6e86dbf42"
      ],
      "layout": "IPY_MODEL_0580444f03da40028b6cad0bf4b47cdf"
     }
    },
    "3099c815840846568ad31ac0ab5f386d": {
     "model_module": "@jupyter-widgets/base",
     "model_name": "LayoutModel",
     "state": {
      "_model_module": "@jupyter-widgets/base",
      "_model_module_version": "1.2.0",
      "_model_name": "LayoutModel",
      "_view_count": null,
      "_view_module": "@jupyter-widgets/base",
      "_view_module_version": "1.2.0",
      "_view_name": "LayoutView",
      "align_content": null,
      "align_items": null,
      "align_self": null,
      "border": null,
      "bottom": null,
      "display": null,
      "flex": null,
      "flex_flow": null,
      "grid_area": null,
      "grid_auto_columns": null,
      "grid_auto_flow": null,
      "grid_auto_rows": null,
      "grid_column": null,
      "grid_gap": null,
      "grid_row": null,
      "grid_template_areas": null,
      "grid_template_columns": null,
      "grid_template_rows": null,
      "height": null,
      "justify_content": null,
      "justify_items": null,
      "left": null,
      "margin": null,
      "max_height": null,
      "max_width": null,
      "min_height": null,
      "min_width": null,
      "object_fit": null,
      "object_position": null,
      "order": null,
      "overflow": null,
      "overflow_x": null,
      "overflow_y": null,
      "padding": null,
      "right": null,
      "top": null,
      "visibility": null,
      "width": null
     }
    },
    "353affc214d24d50817690fa10b6fd0d": {
     "model_module": "@jupyter-widgets/controls",
     "model_name": "HBoxModel",
     "state": {
      "_dom_classes": [],
      "_model_module": "@jupyter-widgets/controls",
      "_model_module_version": "1.5.0",
      "_model_name": "HBoxModel",
      "_view_count": null,
      "_view_module": "@jupyter-widgets/controls",
      "_view_module_version": "1.5.0",
      "_view_name": "HBoxView",
      "box_style": "",
      "children": [
       "IPY_MODEL_ad290afd4fe3422c9469e0ede81ea478",
       "IPY_MODEL_3c6b891095bf43e7ac500b8ca14ceb55"
      ],
      "layout": "IPY_MODEL_3099c815840846568ad31ac0ab5f386d"
     }
    },
    "3c6b891095bf43e7ac500b8ca14ceb55": {
     "model_module": "@jupyter-widgets/controls",
     "model_name": "HTMLModel",
     "state": {
      "_dom_classes": [],
      "_model_module": "@jupyter-widgets/controls",
      "_model_module_version": "1.5.0",
      "_model_name": "HTMLModel",
      "_view_count": null,
      "_view_module": "@jupyter-widgets/controls",
      "_view_module_version": "1.5.0",
      "_view_name": "HTMLView",
      "description": "",
      "description_tooltip": null,
      "layout": "IPY_MODEL_bac4c58f7d674c2db6c99f2fcf72cc59",
      "placeholder": "​",
      "style": "IPY_MODEL_f87a05880279450b9583e02fe7caf157",
      "value": " 466k/466k [00:00&lt;00:00, 3.52MB/s]"
     }
    },
    "49b462c9fd0042e286e8a9a2ac760fc9": {
     "model_module": "@jupyter-widgets/base",
     "model_name": "LayoutModel",
     "state": {
      "_model_module": "@jupyter-widgets/base",
      "_model_module_version": "1.2.0",
      "_model_name": "LayoutModel",
      "_view_count": null,
      "_view_module": "@jupyter-widgets/base",
      "_view_module_version": "1.2.0",
      "_view_name": "LayoutView",
      "align_content": null,
      "align_items": null,
      "align_self": null,
      "border": null,
      "bottom": null,
      "display": null,
      "flex": null,
      "flex_flow": null,
      "grid_area": null,
      "grid_auto_columns": null,
      "grid_auto_flow": null,
      "grid_auto_rows": null,
      "grid_column": null,
      "grid_gap": null,
      "grid_row": null,
      "grid_template_areas": null,
      "grid_template_columns": null,
      "grid_template_rows": null,
      "height": null,
      "justify_content": null,
      "justify_items": null,
      "left": null,
      "margin": null,
      "max_height": null,
      "max_width": null,
      "min_height": null,
      "min_width": null,
      "object_fit": null,
      "object_position": null,
      "order": null,
      "overflow": null,
      "overflow_x": null,
      "overflow_y": null,
      "padding": null,
      "right": null,
      "top": null,
      "visibility": null,
      "width": null
     }
    },
    "558f19b06a4e4a35a630d84879b5ce3c": {
     "model_module": "@jupyter-widgets/controls",
     "model_name": "DescriptionStyleModel",
     "state": {
      "_model_module": "@jupyter-widgets/controls",
      "_model_module_version": "1.5.0",
      "_model_name": "DescriptionStyleModel",
      "_view_count": null,
      "_view_module": "@jupyter-widgets/base",
      "_view_module_version": "1.2.0",
      "_view_name": "StyleView",
      "description_width": ""
     }
    },
    "59c0be486b404496b291a63c2ad56be0": {
     "model_module": "@jupyter-widgets/controls",
     "model_name": "ProgressStyleModel",
     "state": {
      "_model_module": "@jupyter-widgets/controls",
      "_model_module_version": "1.5.0",
      "_model_name": "ProgressStyleModel",
      "_view_count": null,
      "_view_module": "@jupyter-widgets/base",
      "_view_module_version": "1.2.0",
      "_view_name": "StyleView",
      "bar_color": null,
      "description_width": "initial"
     }
    },
    "79ca6f877d45407cb42de164de8d27f9": {
     "model_module": "@jupyter-widgets/controls",
     "model_name": "FloatProgressModel",
     "state": {
      "_dom_classes": [],
      "_model_module": "@jupyter-widgets/controls",
      "_model_module_version": "1.5.0",
      "_model_name": "FloatProgressModel",
      "_view_count": null,
      "_view_module": "@jupyter-widgets/controls",
      "_view_module_version": "1.5.0",
      "_view_name": "ProgressView",
      "bar_style": "success",
      "description": "Downloading: 100%",
      "description_tooltip": null,
      "layout": "IPY_MODEL_f976c84c34e04e48b56b8c37024b6845",
      "max": 231508,
      "min": 0,
      "orientation": "horizontal",
      "style": "IPY_MODEL_aafac5c9f0b7458c8033ffd19566c48c",
      "value": 231508
     }
    },
    "801d9721d96a4d168ce5f84075391216": {
     "model_module": "@jupyter-widgets/controls",
     "model_name": "HBoxModel",
     "state": {
      "_dom_classes": [],
      "_model_module": "@jupyter-widgets/controls",
      "_model_module_version": "1.5.0",
      "_model_name": "HBoxModel",
      "_view_count": null,
      "_view_module": "@jupyter-widgets/controls",
      "_view_module_version": "1.5.0",
      "_view_name": "HBoxView",
      "box_style": "",
      "children": [
       "IPY_MODEL_b3ad6791d79f42b29d6691364204dba4",
       "IPY_MODEL_ea17b11ac0e14a2baa26199e9c3bd347"
      ],
      "layout": "IPY_MODEL_db880834a2ee47a69f0f67892a9b4be0"
     }
    },
    "84411983422b4819a3ecc40f2d5363a3": {
     "model_module": "@jupyter-widgets/controls",
     "model_name": "HTMLModel",
     "state": {
      "_dom_classes": [],
      "_model_module": "@jupyter-widgets/controls",
      "_model_module_version": "1.5.0",
      "_model_name": "HTMLModel",
      "_view_count": null,
      "_view_module": "@jupyter-widgets/controls",
      "_view_module_version": "1.5.0",
      "_view_name": "HTMLView",
      "description": "",
      "description_tooltip": null,
      "layout": "IPY_MODEL_bfdefcf2d4284bd8a3e905d6019d31b7",
      "placeholder": "​",
      "style": "IPY_MODEL_bccdc167ffa04d01af0852f872c417f9",
      "value": " 232k/232k [00:00&lt;00:00, 490kB/s]"
     }
    },
    "8b22fc6a980d47d1bdba67fbd78f0914": {
     "model_module": "@jupyter-widgets/controls",
     "model_name": "FloatProgressModel",
     "state": {
      "_dom_classes": [],
      "_model_module": "@jupyter-widgets/controls",
      "_model_module_version": "1.5.0",
      "_model_name": "FloatProgressModel",
      "_view_count": null,
      "_view_module": "@jupyter-widgets/controls",
      "_view_module_version": "1.5.0",
      "_view_name": "ProgressView",
      "bar_style": "success",
      "description": "Downloading: 100%",
      "description_tooltip": null,
      "layout": "IPY_MODEL_0c55bf04372e4cb5afeea84250fae947",
      "max": 28,
      "min": 0,
      "orientation": "horizontal",
      "style": "IPY_MODEL_d9743ccc64bb4e088b616f59ff6fb338",
      "value": 28
     }
    },
    "8f2fddfb639d49d393b64c084929c37f": {
     "model_module": "@jupyter-widgets/controls",
     "model_name": "DescriptionStyleModel",
     "state": {
      "_model_module": "@jupyter-widgets/controls",
      "_model_module_version": "1.5.0",
      "_model_name": "DescriptionStyleModel",
      "_view_count": null,
      "_view_module": "@jupyter-widgets/base",
      "_view_module_version": "1.2.0",
      "_view_name": "StyleView",
      "description_width": ""
     }
    },
    "aafac5c9f0b7458c8033ffd19566c48c": {
     "model_module": "@jupyter-widgets/controls",
     "model_name": "ProgressStyleModel",
     "state": {
      "_model_module": "@jupyter-widgets/controls",
      "_model_module_version": "1.5.0",
      "_model_name": "ProgressStyleModel",
      "_view_count": null,
      "_view_module": "@jupyter-widgets/base",
      "_view_module_version": "1.2.0",
      "_view_name": "StyleView",
      "bar_color": null,
      "description_width": "initial"
     }
    },
    "ad290afd4fe3422c9469e0ede81ea478": {
     "model_module": "@jupyter-widgets/controls",
     "model_name": "FloatProgressModel",
     "state": {
      "_dom_classes": [],
      "_model_module": "@jupyter-widgets/controls",
      "_model_module_version": "1.5.0",
      "_model_name": "FloatProgressModel",
      "_view_count": null,
      "_view_module": "@jupyter-widgets/controls",
      "_view_module_version": "1.5.0",
      "_view_name": "ProgressView",
      "bar_style": "success",
      "description": "Downloading: 100%",
      "description_tooltip": null,
      "layout": "IPY_MODEL_ad89de3c951044debc452c2d18bb7ba7",
      "max": 466062,
      "min": 0,
      "orientation": "horizontal",
      "style": "IPY_MODEL_fc129877b4934ce6b2d2d31d4437187e",
      "value": 466062
     }
    },
    "ad89de3c951044debc452c2d18bb7ba7": {
     "model_module": "@jupyter-widgets/base",
     "model_name": "LayoutModel",
     "state": {
      "_model_module": "@jupyter-widgets/base",
      "_model_module_version": "1.2.0",
      "_model_name": "LayoutModel",
      "_view_count": null,
      "_view_module": "@jupyter-widgets/base",
      "_view_module_version": "1.2.0",
      "_view_name": "LayoutView",
      "align_content": null,
      "align_items": null,
      "align_self": null,
      "border": null,
      "bottom": null,
      "display": null,
      "flex": null,
      "flex_flow": null,
      "grid_area": null,
      "grid_auto_columns": null,
      "grid_auto_flow": null,
      "grid_auto_rows": null,
      "grid_column": null,
      "grid_gap": null,
      "grid_row": null,
      "grid_template_areas": null,
      "grid_template_columns": null,
      "grid_template_rows": null,
      "height": null,
      "justify_content": null,
      "justify_items": null,
      "left": null,
      "margin": null,
      "max_height": null,
      "max_width": null,
      "min_height": null,
      "min_width": null,
      "object_fit": null,
      "object_position": null,
      "order": null,
      "overflow": null,
      "overflow_x": null,
      "overflow_y": null,
      "padding": null,
      "right": null,
      "top": null,
      "visibility": null,
      "width": null
     }
    },
    "b2b9e12d217c4dada68c130800e67c52": {
     "model_module": "@jupyter-widgets/controls",
     "model_name": "HBoxModel",
     "state": {
      "_dom_classes": [],
      "_model_module": "@jupyter-widgets/controls",
      "_model_module_version": "1.5.0",
      "_model_name": "HBoxModel",
      "_view_count": null,
      "_view_module": "@jupyter-widgets/controls",
      "_view_module_version": "1.5.0",
      "_view_name": "HBoxView",
      "box_style": "",
      "children": [
       "IPY_MODEL_79ca6f877d45407cb42de164de8d27f9",
       "IPY_MODEL_84411983422b4819a3ecc40f2d5363a3"
      ],
      "layout": "IPY_MODEL_df0485ef92d84f4b9e9cb2a797b18cff"
     }
    },
    "b3ad6791d79f42b29d6691364204dba4": {
     "model_module": "@jupyter-widgets/controls",
     "model_name": "FloatProgressModel",
     "state": {
      "_dom_classes": [],
      "_model_module": "@jupyter-widgets/controls",
      "_model_module_version": "1.5.0",
      "_model_name": "FloatProgressModel",
      "_view_count": null,
      "_view_module": "@jupyter-widgets/controls",
      "_view_module_version": "1.5.0",
      "_view_name": "ProgressView",
      "bar_style": "success",
      "description": "Downloading: 100%",
      "description_tooltip": null,
      "layout": "IPY_MODEL_bf1382ef66454e38b4c722ab4abd0417",
      "max": 267967963,
      "min": 0,
      "orientation": "horizontal",
      "style": "IPY_MODEL_59c0be486b404496b291a63c2ad56be0",
      "value": 267967963
     }
    },
    "bac4c58f7d674c2db6c99f2fcf72cc59": {
     "model_module": "@jupyter-widgets/base",
     "model_name": "LayoutModel",
     "state": {
      "_model_module": "@jupyter-widgets/base",
      "_model_module_version": "1.2.0",
      "_model_name": "LayoutModel",
      "_view_count": null,
      "_view_module": "@jupyter-widgets/base",
      "_view_module_version": "1.2.0",
      "_view_name": "LayoutView",
      "align_content": null,
      "align_items": null,
      "align_self": null,
      "border": null,
      "bottom": null,
      "display": null,
      "flex": null,
      "flex_flow": null,
      "grid_area": null,
      "grid_auto_columns": null,
      "grid_auto_flow": null,
      "grid_auto_rows": null,
      "grid_column": null,
      "grid_gap": null,
      "grid_row": null,
      "grid_template_areas": null,
      "grid_template_columns": null,
      "grid_template_rows": null,
      "height": null,
      "justify_content": null,
      "justify_items": null,
      "left": null,
      "margin": null,
      "max_height": null,
      "max_width": null,
      "min_height": null,
      "min_width": null,
      "object_fit": null,
      "object_position": null,
      "order": null,
      "overflow": null,
      "overflow_x": null,
      "overflow_y": null,
      "padding": null,
      "right": null,
      "top": null,
      "visibility": null,
      "width": null
     }
    },
    "bccdc167ffa04d01af0852f872c417f9": {
     "model_module": "@jupyter-widgets/controls",
     "model_name": "DescriptionStyleModel",
     "state": {
      "_model_module": "@jupyter-widgets/controls",
      "_model_module_version": "1.5.0",
      "_model_name": "DescriptionStyleModel",
      "_view_count": null,
      "_view_module": "@jupyter-widgets/base",
      "_view_module_version": "1.2.0",
      "_view_name": "StyleView",
      "description_width": ""
     }
    },
    "bf1382ef66454e38b4c722ab4abd0417": {
     "model_module": "@jupyter-widgets/base",
     "model_name": "LayoutModel",
     "state": {
      "_model_module": "@jupyter-widgets/base",
      "_model_module_version": "1.2.0",
      "_model_name": "LayoutModel",
      "_view_count": null,
      "_view_module": "@jupyter-widgets/base",
      "_view_module_version": "1.2.0",
      "_view_name": "LayoutView",
      "align_content": null,
      "align_items": null,
      "align_self": null,
      "border": null,
      "bottom": null,
      "display": null,
      "flex": null,
      "flex_flow": null,
      "grid_area": null,
      "grid_auto_columns": null,
      "grid_auto_flow": null,
      "grid_auto_rows": null,
      "grid_column": null,
      "grid_gap": null,
      "grid_row": null,
      "grid_template_areas": null,
      "grid_template_columns": null,
      "grid_template_rows": null,
      "height": null,
      "justify_content": null,
      "justify_items": null,
      "left": null,
      "margin": null,
      "max_height": null,
      "max_width": null,
      "min_height": null,
      "min_width": null,
      "object_fit": null,
      "object_position": null,
      "order": null,
      "overflow": null,
      "overflow_x": null,
      "overflow_y": null,
      "padding": null,
      "right": null,
      "top": null,
      "visibility": null,
      "width": null
     }
    },
    "bf671592837f4cc3993a4a5ef8fbe0f2": {
     "model_module": "@jupyter-widgets/controls",
     "model_name": "HBoxModel",
     "state": {
      "_dom_classes": [],
      "_model_module": "@jupyter-widgets/controls",
      "_model_module_version": "1.5.0",
      "_model_name": "HBoxModel",
      "_view_count": null,
      "_view_module": "@jupyter-widgets/controls",
      "_view_module_version": "1.5.0",
      "_view_name": "HBoxView",
      "box_style": "",
      "children": [
       "IPY_MODEL_237a909d790846e6833483b07d6e86a6",
       "IPY_MODEL_228b5c582a27470db2b2dfdafcf765d5"
      ],
      "layout": "IPY_MODEL_49b462c9fd0042e286e8a9a2ac760fc9"
     }
    },
    "bfdefcf2d4284bd8a3e905d6019d31b7": {
     "model_module": "@jupyter-widgets/base",
     "model_name": "LayoutModel",
     "state": {
      "_model_module": "@jupyter-widgets/base",
      "_model_module_version": "1.2.0",
      "_model_name": "LayoutModel",
      "_view_count": null,
      "_view_module": "@jupyter-widgets/base",
      "_view_module_version": "1.2.0",
      "_view_name": "LayoutView",
      "align_content": null,
      "align_items": null,
      "align_self": null,
      "border": null,
      "bottom": null,
      "display": null,
      "flex": null,
      "flex_flow": null,
      "grid_area": null,
      "grid_auto_columns": null,
      "grid_auto_flow": null,
      "grid_auto_rows": null,
      "grid_column": null,
      "grid_gap": null,
      "grid_row": null,
      "grid_template_areas": null,
      "grid_template_columns": null,
      "grid_template_rows": null,
      "height": null,
      "justify_content": null,
      "justify_items": null,
      "left": null,
      "margin": null,
      "max_height": null,
      "max_width": null,
      "min_height": null,
      "min_width": null,
      "object_fit": null,
      "object_position": null,
      "order": null,
      "overflow": null,
      "overflow_x": null,
      "overflow_y": null,
      "padding": null,
      "right": null,
      "top": null,
      "visibility": null,
      "width": null
     }
    },
    "cef1db8e187843b49613939a318fbfcc": {
     "model_module": "@jupyter-widgets/controls",
     "model_name": "DescriptionStyleModel",
     "state": {
      "_model_module": "@jupyter-widgets/controls",
      "_model_module_version": "1.5.0",
      "_model_name": "DescriptionStyleModel",
      "_view_count": null,
      "_view_module": "@jupyter-widgets/base",
      "_view_module_version": "1.2.0",
      "_view_name": "StyleView",
      "description_width": ""
     }
    },
    "d9743ccc64bb4e088b616f59ff6fb338": {
     "model_module": "@jupyter-widgets/controls",
     "model_name": "ProgressStyleModel",
     "state": {
      "_model_module": "@jupyter-widgets/controls",
      "_model_module_version": "1.5.0",
      "_model_name": "ProgressStyleModel",
      "_view_count": null,
      "_view_module": "@jupyter-widgets/base",
      "_view_module_version": "1.2.0",
      "_view_name": "StyleView",
      "bar_color": null,
      "description_width": "initial"
     }
    },
    "db880834a2ee47a69f0f67892a9b4be0": {
     "model_module": "@jupyter-widgets/base",
     "model_name": "LayoutModel",
     "state": {
      "_model_module": "@jupyter-widgets/base",
      "_model_module_version": "1.2.0",
      "_model_name": "LayoutModel",
      "_view_count": null,
      "_view_module": "@jupyter-widgets/base",
      "_view_module_version": "1.2.0",
      "_view_name": "LayoutView",
      "align_content": null,
      "align_items": null,
      "align_self": null,
      "border": null,
      "bottom": null,
      "display": null,
      "flex": null,
      "flex_flow": null,
      "grid_area": null,
      "grid_auto_columns": null,
      "grid_auto_flow": null,
      "grid_auto_rows": null,
      "grid_column": null,
      "grid_gap": null,
      "grid_row": null,
      "grid_template_areas": null,
      "grid_template_columns": null,
      "grid_template_rows": null,
      "height": null,
      "justify_content": null,
      "justify_items": null,
      "left": null,
      "margin": null,
      "max_height": null,
      "max_width": null,
      "min_height": null,
      "min_width": null,
      "object_fit": null,
      "object_position": null,
      "order": null,
      "overflow": null,
      "overflow_x": null,
      "overflow_y": null,
      "padding": null,
      "right": null,
      "top": null,
      "visibility": null,
      "width": null
     }
    },
    "df0485ef92d84f4b9e9cb2a797b18cff": {
     "model_module": "@jupyter-widgets/base",
     "model_name": "LayoutModel",
     "state": {
      "_model_module": "@jupyter-widgets/base",
      "_model_module_version": "1.2.0",
      "_model_name": "LayoutModel",
      "_view_count": null,
      "_view_module": "@jupyter-widgets/base",
      "_view_module_version": "1.2.0",
      "_view_name": "LayoutView",
      "align_content": null,
      "align_items": null,
      "align_self": null,
      "border": null,
      "bottom": null,
      "display": null,
      "flex": null,
      "flex_flow": null,
      "grid_area": null,
      "grid_auto_columns": null,
      "grid_auto_flow": null,
      "grid_auto_rows": null,
      "grid_column": null,
      "grid_gap": null,
      "grid_row": null,
      "grid_template_areas": null,
      "grid_template_columns": null,
      "grid_template_rows": null,
      "height": null,
      "justify_content": null,
      "justify_items": null,
      "left": null,
      "margin": null,
      "max_height": null,
      "max_width": null,
      "min_height": null,
      "min_width": null,
      "object_fit": null,
      "object_position": null,
      "order": null,
      "overflow": null,
      "overflow_x": null,
      "overflow_y": null,
      "padding": null,
      "right": null,
      "top": null,
      "visibility": null,
      "width": null
     }
    },
    "ea17b11ac0e14a2baa26199e9c3bd347": {
     "model_module": "@jupyter-widgets/controls",
     "model_name": "HTMLModel",
     "state": {
      "_dom_classes": [],
      "_model_module": "@jupyter-widgets/controls",
      "_model_module_version": "1.5.0",
      "_model_name": "HTMLModel",
      "_view_count": null,
      "_view_module": "@jupyter-widgets/controls",
      "_view_module_version": "1.5.0",
      "_view_name": "HTMLView",
      "description": "",
      "description_tooltip": null,
      "layout": "IPY_MODEL_090a2bccbe4a4aa893096090dc3278fb",
      "placeholder": "​",
      "style": "IPY_MODEL_cef1db8e187843b49613939a318fbfcc",
      "value": " 268M/268M [00:12&lt;00:00, 21.0MB/s]"
     }
    },
    "f2aa6da300b54832bc9a31f6e86dbf42": {
     "model_module": "@jupyter-widgets/controls",
     "model_name": "HTMLModel",
     "state": {
      "_dom_classes": [],
      "_model_module": "@jupyter-widgets/controls",
      "_model_module_version": "1.5.0",
      "_model_name": "HTMLModel",
      "_view_count": null,
      "_view_module": "@jupyter-widgets/controls",
      "_view_module_version": "1.5.0",
      "_view_name": "HTMLView",
      "description": "",
      "description_tooltip": null,
      "layout": "IPY_MODEL_f9aa525aa84a49cabf16ead17581d760",
      "placeholder": "​",
      "style": "IPY_MODEL_558f19b06a4e4a35a630d84879b5ce3c",
      "value": " 28.0/28.0 [00:00&lt;00:00, 103B/s]"
     }
    },
    "f87a05880279450b9583e02fe7caf157": {
     "model_module": "@jupyter-widgets/controls",
     "model_name": "DescriptionStyleModel",
     "state": {
      "_model_module": "@jupyter-widgets/controls",
      "_model_module_version": "1.5.0",
      "_model_name": "DescriptionStyleModel",
      "_view_count": null,
      "_view_module": "@jupyter-widgets/base",
      "_view_module_version": "1.2.0",
      "_view_name": "StyleView",
      "description_width": ""
     }
    },
    "f976c84c34e04e48b56b8c37024b6845": {
     "model_module": "@jupyter-widgets/base",
     "model_name": "LayoutModel",
     "state": {
      "_model_module": "@jupyter-widgets/base",
      "_model_module_version": "1.2.0",
      "_model_name": "LayoutModel",
      "_view_count": null,
      "_view_module": "@jupyter-widgets/base",
      "_view_module_version": "1.2.0",
      "_view_name": "LayoutView",
      "align_content": null,
      "align_items": null,
      "align_self": null,
      "border": null,
      "bottom": null,
      "display": null,
      "flex": null,
      "flex_flow": null,
      "grid_area": null,
      "grid_auto_columns": null,
      "grid_auto_flow": null,
      "grid_auto_rows": null,
      "grid_column": null,
      "grid_gap": null,
      "grid_row": null,
      "grid_template_areas": null,
      "grid_template_columns": null,
      "grid_template_rows": null,
      "height": null,
      "justify_content": null,
      "justify_items": null,
      "left": null,
      "margin": null,
      "max_height": null,
      "max_width": null,
      "min_height": null,
      "min_width": null,
      "object_fit": null,
      "object_position": null,
      "order": null,
      "overflow": null,
      "overflow_x": null,
      "overflow_y": null,
      "padding": null,
      "right": null,
      "top": null,
      "visibility": null,
      "width": null
     }
    },
    "f9aa525aa84a49cabf16ead17581d760": {
     "model_module": "@jupyter-widgets/base",
     "model_name": "LayoutModel",
     "state": {
      "_model_module": "@jupyter-widgets/base",
      "_model_module_version": "1.2.0",
      "_model_name": "LayoutModel",
      "_view_count": null,
      "_view_module": "@jupyter-widgets/base",
      "_view_module_version": "1.2.0",
      "_view_name": "LayoutView",
      "align_content": null,
      "align_items": null,
      "align_self": null,
      "border": null,
      "bottom": null,
      "display": null,
      "flex": null,
      "flex_flow": null,
      "grid_area": null,
      "grid_auto_columns": null,
      "grid_auto_flow": null,
      "grid_auto_rows": null,
      "grid_column": null,
      "grid_gap": null,
      "grid_row": null,
      "grid_template_areas": null,
      "grid_template_columns": null,
      "grid_template_rows": null,
      "height": null,
      "justify_content": null,
      "justify_items": null,
      "left": null,
      "margin": null,
      "max_height": null,
      "max_width": null,
      "min_height": null,
      "min_width": null,
      "object_fit": null,
      "object_position": null,
      "order": null,
      "overflow": null,
      "overflow_x": null,
      "overflow_y": null,
      "padding": null,
      "right": null,
      "top": null,
      "visibility": null,
      "width": null
     }
    },
    "fc129877b4934ce6b2d2d31d4437187e": {
     "model_module": "@jupyter-widgets/controls",
     "model_name": "ProgressStyleModel",
     "state": {
      "_model_module": "@jupyter-widgets/controls",
      "_model_module_version": "1.5.0",
      "_model_name": "ProgressStyleModel",
      "_view_count": null,
      "_view_module": "@jupyter-widgets/base",
      "_view_module_version": "1.2.0",
      "_view_name": "StyleView",
      "bar_color": null,
      "description_width": "initial"
     }
    }
   }
  }
 },
 "nbformat": 4,
 "nbformat_minor": 1
}
